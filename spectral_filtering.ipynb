{
 "cells": [
  {
   "cell_type": "code",
   "execution_count": 2,
   "metadata": {},
   "outputs": [],
   "source": [
    "import matplotlib.pyplot as plt"
   ]
  },
  {
   "cell_type": "code",
   "execution_count": 3,
   "metadata": {},
   "outputs": [],
   "source": [
    "import sndata"
   ]
  },
  {
   "cell_type": "code",
   "execution_count": 4,
   "metadata": {},
   "outputs": [],
   "source": [
    "from sndata.sdss import sako18spec"
   ]
  },
  {
   "cell_type": "code",
   "execution_count": 5,
   "metadata": {},
   "outputs": [],
   "source": [
    "from sndata.csp import dr3"
   ]
  },
  {
   "cell_type": "code",
   "execution_count": 6,
   "metadata": {},
   "outputs": [
    {
     "name": "stdout",
     "output_type": "stream",
     "text": [
      "Downloading data tables...\n",
      "Fetching http://cdsarc.u-strasbg.fr/viz-bin/nph-Cat/tar.gz?J/AJ/154/211\n",
      "Downloading photometry...\n",
      "Fetching https://csp.obs.carnegiescience.edu/data/CSP_Photometry_DR3.tgz\n",
      "Downloading filters...\n",
      "Fetching https://csp.obs.carnegiescience.edu/data/u_tel_ccd_atm_ext_1.2.dat\n",
      "Fetching https://csp.obs.carnegiescience.edu/data/g_tel_ccd_atm_ext_1.2.dat\n",
      "Fetching https://csp.obs.carnegiescience.edu/data/r_tel_ccd_atm_ext_1.2_new.dat\n",
      "Fetching https://csp.obs.carnegiescience.edu/data/i_tel_ccd_atm_ext_1.2_new.dat\n",
      "Fetching https://csp.obs.carnegiescience.edu/data/B_tel_ccd_atm_ext_1.2.dat\n",
      "Fetching https://csp.obs.carnegiescience.edu/data/V_LC3014_tel_ccd_atm_ext_1.2.dat\n",
      "Fetching https://csp.obs.carnegiescience.edu/data/V_LC3009_tel_ccd_atm_ext_1.2.dat\n",
      "Fetching https://csp.obs.carnegiescience.edu/data/V_tel_ccd_atm_ext_1.2.dat\n",
      "Fetching https://csp.obs.carnegiescience.edu/data/Y_SWO_TAM_scan_atm.dat\n",
      "Fetching https://csp.obs.carnegiescience.edu/data/J_old_retrocam_swope_atm.dat\n",
      "Fetching https://csp.obs.carnegiescience.edu/data/J_SWO_TAM_atm.dat\n",
      "Fetching https://csp.obs.carnegiescience.edu/data/H_SWO_TAM_scan_atm.dat\n",
      "Fetching https://csp.obs.carnegiescience.edu/data/Y_texas_DUP_atm.dat\n",
      "Fetching https://csp.obs.carnegiescience.edu/data/J_texas_DUP_atm.dat\n",
      "Fetching https://csp.obs.carnegiescience.edu/data/H_texas_DUP_atm.dat\n"
     ]
    }
   ],
   "source": [
    "dr3.download_module_data()"
   ]
  },
  {
   "cell_type": "code",
   "execution_count": 7,
   "metadata": {},
   "outputs": [
    {
     "name": "stdout",
     "output_type": "stream",
     "text": [
      "Downloading SMP data...\n",
      "Fetching https://portal.nersc.gov/project/dessn/SDSS/dataRelease/SMP_Data.tar.gz\n",
      "Downloading SNANA data...\n",
      "Fetching https://portal.nersc.gov/project/dessn/SDSS/dataRelease/SDSS_dataRelease-snana.tar.gz\n",
      "Downloading tables...\n",
      "Fetching https://portal.nersc.gov/project/dessn/SDSS/dataRelease/master_data.txt\n",
      "Fetching https://portal.nersc.gov/project/dessn/SDSS/dataRelease/Table2.txt\n",
      "Fetching https://portal.nersc.gov/project/dessn/SDSS/dataRelease/Table9.txt\n",
      "Fetching https://portal.nersc.gov/project/dessn/SDSS/dataRelease/Table11.txt\n",
      "Fetching https://portal.nersc.gov/project/dessn/SDSS/dataRelease/Table12.txt\n",
      "Downloading filters...\n",
      "Fetching http://www.ioa.s.u-tokyo.ac.jp/~doi/sdss/u1.dat\n",
      "Fetching http://www.ioa.s.u-tokyo.ac.jp/~doi/sdss/u2.dat\n",
      "Fetching http://www.ioa.s.u-tokyo.ac.jp/~doi/sdss/u3.dat\n",
      "Fetching http://www.ioa.s.u-tokyo.ac.jp/~doi/sdss/u4.dat\n",
      "Fetching http://www.ioa.s.u-tokyo.ac.jp/~doi/sdss/u5.dat\n",
      "Fetching http://www.ioa.s.u-tokyo.ac.jp/~doi/sdss/u6.dat\n",
      "Fetching http://www.ioa.s.u-tokyo.ac.jp/~doi/sdss/g1.dat\n",
      "Fetching http://www.ioa.s.u-tokyo.ac.jp/~doi/sdss/g2.dat\n",
      "Fetching http://www.ioa.s.u-tokyo.ac.jp/~doi/sdss/g3.dat\n",
      "Fetching http://www.ioa.s.u-tokyo.ac.jp/~doi/sdss/g4.dat\n",
      "Fetching http://www.ioa.s.u-tokyo.ac.jp/~doi/sdss/g5.dat\n",
      "Fetching http://www.ioa.s.u-tokyo.ac.jp/~doi/sdss/g6.dat\n",
      "Fetching http://www.ioa.s.u-tokyo.ac.jp/~doi/sdss/r1.dat\n",
      "Fetching http://www.ioa.s.u-tokyo.ac.jp/~doi/sdss/r2.dat\n",
      "Fetching http://www.ioa.s.u-tokyo.ac.jp/~doi/sdss/r3.dat\n",
      "Fetching http://www.ioa.s.u-tokyo.ac.jp/~doi/sdss/r4.dat\n",
      "Fetching http://www.ioa.s.u-tokyo.ac.jp/~doi/sdss/r5.dat\n",
      "Fetching http://www.ioa.s.u-tokyo.ac.jp/~doi/sdss/r6.dat\n",
      "Fetching http://www.ioa.s.u-tokyo.ac.jp/~doi/sdss/i1.dat\n",
      "Fetching http://www.ioa.s.u-tokyo.ac.jp/~doi/sdss/i2.dat\n",
      "Fetching http://www.ioa.s.u-tokyo.ac.jp/~doi/sdss/i3.dat\n",
      "Fetching http://www.ioa.s.u-tokyo.ac.jp/~doi/sdss/i4.dat\n",
      "Fetching http://www.ioa.s.u-tokyo.ac.jp/~doi/sdss/i5.dat\n",
      "Fetching http://www.ioa.s.u-tokyo.ac.jp/~doi/sdss/i6.dat\n",
      "Fetching http://www.ioa.s.u-tokyo.ac.jp/~doi/sdss/z1.dat\n",
      "Fetching http://www.ioa.s.u-tokyo.ac.jp/~doi/sdss/z2.dat\n",
      "Fetching http://www.ioa.s.u-tokyo.ac.jp/~doi/sdss/z3.dat\n",
      "Fetching http://www.ioa.s.u-tokyo.ac.jp/~doi/sdss/z4.dat\n",
      "Fetching http://www.ioa.s.u-tokyo.ac.jp/~doi/sdss/z5.dat\n",
      "Fetching http://www.ioa.s.u-tokyo.ac.jp/~doi/sdss/z6.dat\n",
      "Unzipping spectra...\n"
     ]
    }
   ],
   "source": [
    "sako18spec.download_module_data()"
   ]
  },
  {
   "cell_type": "code",
   "execution_count": null,
   "metadata": {},
   "outputs": [],
   "source": []
  }
 ],
 "metadata": {
  "kernelspec": {
   "display_name": "Python 3",
   "language": "python",
   "name": "python3"
  },
  "language_info": {
   "codemirror_mode": {
    "name": "ipython",
    "version": 3
   },
   "file_extension": ".py",
   "mimetype": "text/x-python",
   "name": "python",
   "nbconvert_exporter": "python",
   "pygments_lexer": "ipython3",
   "version": "3.7.4"
  }
 },
 "nbformat": 4,
 "nbformat_minor": 2
}
