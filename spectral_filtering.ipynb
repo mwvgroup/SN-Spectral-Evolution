{
 "cells": [
  {
   "cell_type": "code",
   "execution_count": 2,
   "metadata": {},
   "outputs": [],
   "source": [
    "import matplotlib.pyplot as plt"
   ]
  },
  {
   "cell_type": "code",
   "execution_count": 3,
   "metadata": {},
   "outputs": [],
   "source": [
    "import sndata"
   ]
  },
  {
   "cell_type": "code",
   "execution_count": 4,
   "metadata": {},
   "outputs": [],
   "source": [
    "from sndata.sdss import sako18spec"
   ]
  },
  {
   "cell_type": "code",
   "execution_count": 5,
   "metadata": {},
   "outputs": [],
   "source": [
    "from sndata.csp import dr3"
   ]
  },
  {
   "cell_type": "code",
   "execution_count": 6,
   "metadata": {},
   "outputs": [
    {
     "name": "stdout",
     "output_type": "stream",
     "text": [
      "Downloading data tables...\n",
      "Fetching http://cdsarc.u-strasbg.fr/viz-bin/nph-Cat/tar.gz?J/AJ/154/211\n",
      "Downloading photometry...\n",
      "Fetching https://csp.obs.carnegiescience.edu/data/CSP_Photometry_DR3.tgz\n",
      "Downloading filters...\n",
      "Fetching https://csp.obs.carnegiescience.edu/data/u_tel_ccd_atm_ext_1.2.dat\n",
      "Fetching https://csp.obs.carnegiescience.edu/data/g_tel_ccd_atm_ext_1.2.dat\n",
      "Fetching https://csp.obs.carnegiescience.edu/data/r_tel_ccd_atm_ext_1.2_new.dat\n",
      "Fetching https://csp.obs.carnegiescience.edu/data/i_tel_ccd_atm_ext_1.2_new.dat\n",
      "Fetching https://csp.obs.carnegiescience.edu/data/B_tel_ccd_atm_ext_1.2.dat\n",
      "Fetching https://csp.obs.carnegiescience.edu/data/V_LC3014_tel_ccd_atm_ext_1.2.dat\n",
      "Fetching https://csp.obs.carnegiescience.edu/data/V_LC3009_tel_ccd_atm_ext_1.2.dat\n",
      "Fetching https://csp.obs.carnegiescience.edu/data/V_tel_ccd_atm_ext_1.2.dat\n",
      "Fetching https://csp.obs.carnegiescience.edu/data/Y_SWO_TAM_scan_atm.dat\n",
      "Fetching https://csp.obs.carnegiescience.edu/data/J_old_retrocam_swope_atm.dat\n",
      "Fetching https://csp.obs.carnegiescience.edu/data/J_SWO_TAM_atm.dat\n",
      "Fetching https://csp.obs.carnegiescience.edu/data/H_SWO_TAM_scan_atm.dat\n",
      "Fetching https://csp.obs.carnegiescience.edu/data/Y_texas_DUP_atm.dat\n",
      "Fetching https://csp.obs.carnegiescience.edu/data/J_texas_DUP_atm.dat\n",
      "Fetching https://csp.obs.carnegiescience.edu/data/H_texas_DUP_atm.dat\n"
     ]
    }
   ],
   "source": [
    "dr3.download_module_data()"
   ]
  },
  {
   "cell_type": "code",
   "execution_count": 7,
   "metadata": {},
   "outputs": [
    {
     "name": "stdout",
     "output_type": "stream",
     "text": [
      "Downloading SMP data...\n",
      "Fetching https://portal.nersc.gov/project/dessn/SDSS/dataRelease/SMP_Data.tar.gz\n",
      "Downloading SNANA data...\n",
      "Fetching https://portal.nersc.gov/project/dessn/SDSS/dataRelease/SDSS_dataRelease-snana.tar.gz\n",
      "Downloading tables...\n",
      "Fetching https://portal.nersc.gov/project/dessn/SDSS/dataRelease/master_data.txt\n",
      "Fetching https://portal.nersc.gov/project/dessn/SDSS/dataRelease/Table2.txt\n",
      "Fetching https://portal.nersc.gov/project/dessn/SDSS/dataRelease/Table9.txt\n",
      "Fetching https://portal.nersc.gov/project/dessn/SDSS/dataRelease/Table11.txt\n",
      "Fetching https://portal.nersc.gov/project/dessn/SDSS/dataRelease/Table12.txt\n",
      "Downloading filters...\n",
      "Fetching http://www.ioa.s.u-tokyo.ac.jp/~doi/sdss/u1.dat\n",
      "Fetching http://www.ioa.s.u-tokyo.ac.jp/~doi/sdss/u2.dat\n",
      "Fetching http://www.ioa.s.u-tokyo.ac.jp/~doi/sdss/u3.dat\n",
      "Fetching http://www.ioa.s.u-tokyo.ac.jp/~doi/sdss/u4.dat\n",
      "Fetching http://www.ioa.s.u-tokyo.ac.jp/~doi/sdss/u5.dat\n",
      "Fetching http://www.ioa.s.u-tokyo.ac.jp/~doi/sdss/u6.dat\n",
      "Fetching http://www.ioa.s.u-tokyo.ac.jp/~doi/sdss/g1.dat\n",
      "Fetching http://www.ioa.s.u-tokyo.ac.jp/~doi/sdss/g2.dat\n",
      "Fetching http://www.ioa.s.u-tokyo.ac.jp/~doi/sdss/g3.dat\n",
      "Fetching http://www.ioa.s.u-tokyo.ac.jp/~doi/sdss/g4.dat\n",
      "Fetching http://www.ioa.s.u-tokyo.ac.jp/~doi/sdss/g5.dat\n",
      "Fetching http://www.ioa.s.u-tokyo.ac.jp/~doi/sdss/g6.dat\n",
      "Fetching http://www.ioa.s.u-tokyo.ac.jp/~doi/sdss/r1.dat\n",
      "Fetching http://www.ioa.s.u-tokyo.ac.jp/~doi/sdss/r2.dat\n",
      "Fetching http://www.ioa.s.u-tokyo.ac.jp/~doi/sdss/r3.dat\n",
      "Fetching http://www.ioa.s.u-tokyo.ac.jp/~doi/sdss/r4.dat\n",
      "Fetching http://www.ioa.s.u-tokyo.ac.jp/~doi/sdss/r5.dat\n",
      "Fetching http://www.ioa.s.u-tokyo.ac.jp/~doi/sdss/r6.dat\n",
      "Fetching http://www.ioa.s.u-tokyo.ac.jp/~doi/sdss/i1.dat\n",
      "Fetching http://www.ioa.s.u-tokyo.ac.jp/~doi/sdss/i2.dat\n",
      "Fetching http://www.ioa.s.u-tokyo.ac.jp/~doi/sdss/i3.dat\n",
      "Fetching http://www.ioa.s.u-tokyo.ac.jp/~doi/sdss/i4.dat\n",
      "Fetching http://www.ioa.s.u-tokyo.ac.jp/~doi/sdss/i5.dat\n",
      "Fetching http://www.ioa.s.u-tokyo.ac.jp/~doi/sdss/i6.dat\n",
      "Fetching http://www.ioa.s.u-tokyo.ac.jp/~doi/sdss/z1.dat\n",
      "Fetching http://www.ioa.s.u-tokyo.ac.jp/~doi/sdss/z2.dat\n",
      "Fetching http://www.ioa.s.u-tokyo.ac.jp/~doi/sdss/z3.dat\n",
      "Fetching http://www.ioa.s.u-tokyo.ac.jp/~doi/sdss/z4.dat\n",
      "Fetching http://www.ioa.s.u-tokyo.ac.jp/~doi/sdss/z5.dat\n",
      "Fetching http://www.ioa.s.u-tokyo.ac.jp/~doi/sdss/z6.dat\n",
      "Unzipping spectra...\n"
     ]
    }
   ],
   "source": [
    "sako18spec.download_module_data()"
   ]
  },
  {
   "cell_type": "code",
   "execution_count": 8,
   "metadata": {},
   "outputs": [
    {
     "data": {
      "text/plain": [
       "134"
      ]
     },
     "execution_count": 8,
     "metadata": {},
     "output_type": "execute_result"
    }
   ],
   "source": [
    "dr3.get_available_ids()\n",
    "len(dr3.get_available_ids())"
   ]
  },
  {
   "cell_type": "code",
   "execution_count": 9,
   "metadata": {},
   "outputs": [
    {
     "data": {
      "text/plain": [
       "938"
      ]
     },
     "execution_count": 9,
     "metadata": {},
     "output_type": "execute_result"
    }
   ],
   "source": [
    "sako18spec.get_available_ids()\n",
    "len(sako18spec.get_available_ids())"
   ]
  },
  {
   "cell_type": "code",
   "execution_count": 12,
   "metadata": {},
   "outputs": [],
   "source": [
    "from sndata.csp import dr1\n",
    "data=dr1.get_data_for_id('2005kc')\n",
    "#assign variable to specific supernova"
   ]
  },
  {
   "cell_type": "code",
   "execution_count": 13,
   "metadata": {},
   "outputs": [
    {
     "data": {
      "text/plain": [
       "{2453698.58, 2453699.59, 2453712.53, 2453726.53}"
      ]
     },
     "execution_count": 13,
     "metadata": {},
     "output_type": "execute_result"
    }
   ],
   "source": [
    "set(data['date'])\n",
    "#list available dates/times from the supernova"
   ]
  },
  {
   "cell_type": "code",
   "execution_count": 14,
   "metadata": {},
   "outputs": [
    {
     "data": {
      "text/html": [
       "<i>Table length=1427</i>\n",
       "<table id=\"table103666415440\" class=\"table-striped table-bordered table-condensed\">\n",
       "<thead><tr><th>date</th><th>wavelength</th><th>flux</th><th>epoch</th><th>wavelength_range</th><th>telescope</th><th>instrument</th></tr></thead>\n",
       "<thead><tr><th>float64</th><th>float64</th><th>float64</th><th>float64</th><th>str3</th><th>str3</th><th>str2</th></tr></thead>\n",
       "<tr><td>2453698.58</td><td>3723.6959</td><td>-2.00274e-15</td><td>0.9</td><td>b01</td><td>DUP</td><td>MS</td></tr>\n",
       "<tr><td>2453698.58</td><td>3726.1209</td><td>-1.47627e-15</td><td>0.9</td><td>b01</td><td>DUP</td><td>MS</td></tr>\n",
       "<tr><td>2453698.58</td><td>3728.5458</td><td>-1.4788e-15</td><td>0.9</td><td>b01</td><td>DUP</td><td>MS</td></tr>\n",
       "<tr><td>2453698.58</td><td>3730.9708</td><td>1.00928e-15</td><td>0.9</td><td>b01</td><td>DUP</td><td>MS</td></tr>\n",
       "<tr><td>2453698.58</td><td>3733.3957</td><td>8.40903e-16</td><td>0.9</td><td>b01</td><td>DUP</td><td>MS</td></tr>\n",
       "<tr><td>2453698.58</td><td>3735.8207</td><td>-1.59565e-15</td><td>0.9</td><td>b01</td><td>DUP</td><td>MS</td></tr>\n",
       "<tr><td>2453698.58</td><td>3738.2456</td><td>-2.03421e-15</td><td>0.9</td><td>b01</td><td>DUP</td><td>MS</td></tr>\n",
       "<tr><td>2453698.58</td><td>3740.6706</td><td>-2.12635e-15</td><td>0.9</td><td>b01</td><td>DUP</td><td>MS</td></tr>\n",
       "<tr><td>2453698.58</td><td>3743.0955</td><td>3.42124e-16</td><td>0.9</td><td>b01</td><td>DUP</td><td>MS</td></tr>\n",
       "<tr><td>2453698.58</td><td>3745.5204</td><td>-5.71592e-16</td><td>0.9</td><td>b01</td><td>DUP</td><td>MS</td></tr>\n",
       "<tr><td>...</td><td>...</td><td>...</td><td>...</td><td>...</td><td>...</td><td>...</td></tr>\n",
       "<tr><td>2453698.58</td><td>7159.8478</td><td>1.6907e-15</td><td>0.9</td><td>b01</td><td>DUP</td><td>MS</td></tr>\n",
       "<tr><td>2453698.58</td><td>7162.2728</td><td>1.7857e-15</td><td>0.9</td><td>b01</td><td>DUP</td><td>MS</td></tr>\n",
       "<tr><td>2453698.58</td><td>7164.6977</td><td>2.14401e-15</td><td>0.9</td><td>b01</td><td>DUP</td><td>MS</td></tr>\n",
       "<tr><td>2453698.58</td><td>7167.1226</td><td>1.98148e-15</td><td>0.9</td><td>b01</td><td>DUP</td><td>MS</td></tr>\n",
       "<tr><td>2453698.58</td><td>7169.5476</td><td>1.56042e-15</td><td>0.9</td><td>b01</td><td>DUP</td><td>MS</td></tr>\n",
       "<tr><td>2453698.58</td><td>7171.9725</td><td>1.53122e-15</td><td>0.9</td><td>b01</td><td>DUP</td><td>MS</td></tr>\n",
       "<tr><td>2453698.58</td><td>7174.3975</td><td>1.59342e-15</td><td>0.9</td><td>b01</td><td>DUP</td><td>MS</td></tr>\n",
       "<tr><td>2453698.58</td><td>7176.8224</td><td>1.6694e-15</td><td>0.9</td><td>b01</td><td>DUP</td><td>MS</td></tr>\n",
       "<tr><td>2453698.58</td><td>7179.2474</td><td>1.94452e-15</td><td>0.9</td><td>b01</td><td>DUP</td><td>MS</td></tr>\n",
       "<tr><td>2453698.58</td><td>7181.6723</td><td>2.10391e-15</td><td>0.9</td><td>b01</td><td>DUP</td><td>MS</td></tr>\n",
       "</table>"
      ],
      "text/plain": [
       "<Table length=1427>\n",
       "   date    wavelength     flux      epoch  wavelength_range telescope instrument\n",
       " float64    float64     float64    float64       str3          str3      str2   \n",
       "---------- ---------- ------------ ------- ---------------- --------- ----------\n",
       "2453698.58  3723.6959 -2.00274e-15     0.9              b01       DUP         MS\n",
       "2453698.58  3726.1209 -1.47627e-15     0.9              b01       DUP         MS\n",
       "2453698.58  3728.5458  -1.4788e-15     0.9              b01       DUP         MS\n",
       "2453698.58  3730.9708  1.00928e-15     0.9              b01       DUP         MS\n",
       "2453698.58  3733.3957  8.40903e-16     0.9              b01       DUP         MS\n",
       "2453698.58  3735.8207 -1.59565e-15     0.9              b01       DUP         MS\n",
       "2453698.58  3738.2456 -2.03421e-15     0.9              b01       DUP         MS\n",
       "2453698.58  3740.6706 -2.12635e-15     0.9              b01       DUP         MS\n",
       "2453698.58  3743.0955  3.42124e-16     0.9              b01       DUP         MS\n",
       "2453698.58  3745.5204 -5.71592e-16     0.9              b01       DUP         MS\n",
       "       ...        ...          ...     ...              ...       ...        ...\n",
       "2453698.58  7159.8478   1.6907e-15     0.9              b01       DUP         MS\n",
       "2453698.58  7162.2728   1.7857e-15     0.9              b01       DUP         MS\n",
       "2453698.58  7164.6977  2.14401e-15     0.9              b01       DUP         MS\n",
       "2453698.58  7167.1226  1.98148e-15     0.9              b01       DUP         MS\n",
       "2453698.58  7169.5476  1.56042e-15     0.9              b01       DUP         MS\n",
       "2453698.58  7171.9725  1.53122e-15     0.9              b01       DUP         MS\n",
       "2453698.58  7174.3975  1.59342e-15     0.9              b01       DUP         MS\n",
       "2453698.58  7176.8224   1.6694e-15     0.9              b01       DUP         MS\n",
       "2453698.58  7179.2474  1.94452e-15     0.9              b01       DUP         MS\n",
       "2453698.58  7181.6723  2.10391e-15     0.9              b01       DUP         MS"
      ]
     },
     "execution_count": 14,
     "metadata": {},
     "output_type": "execute_result"
    }
   ],
   "source": [
    "data[data['date']==2453698.58] \n",
    "#calling up the data table for a specific date/time"
   ]
  },
  {
   "cell_type": "code",
   "execution_count": 15,
   "metadata": {},
   "outputs": [],
   "source": [
    "spectrum=data[data['date']==2453698.58] \n",
    "#assigning a variable to this data table"
   ]
  },
  {
   "cell_type": "code",
   "execution_count": 16,
   "metadata": {},
   "outputs": [],
   "source": [
    "from scipy.ndimage import median_filter"
   ]
  },
  {
   "cell_type": "code",
   "execution_count": 46,
   "metadata": {},
   "outputs": [],
   "source": [
    "median_filter(spectrum['flux'],size=10)\n",
    "#filters flux column, and setting a \"size\" for the window\n",
    "#the window is the \"slider\" that moves along the graph and takes the median of each part.\n",
    "#lower size, closer fit to the graph\n",
    "filtered_flux=median_filter(spectrum['flux'],size=10)\n",
    "#assign variable to new filtered flux column"
   ]
  },
  {
   "cell_type": "code",
   "execution_count": 47,
   "metadata": {},
   "outputs": [
    {
     "data": {
      "text/plain": [
       "[<matplotlib.lines.Line2D at 0x182016e9d0>]"
      ]
     },
     "execution_count": 47,
     "metadata": {},
     "output_type": "execute_result"
    },
    {
     "data": {
      "image/png": "[encoded data removed]",
      "text/plain": [
       "<Figure size 432x288 with 1 Axes>"
      ]
     },
     "metadata": {
      "needs_background": "light"
     },
     "output_type": "display_data"
    }
   ],
   "source": [
    "plt.plot(spectrum['wavelength'],spectrum['flux'])\n",
    "plt.plot(spectrum['wavelength'],filtered_flux)\n",
    "#plot the unfiltered flux UNDER/BEFORE the filtered flux"
   ]
  },
  {
   "cell_type": "code",
   "execution_count": 45,
   "metadata": {},
   "outputs": [
    {
     "data": {
      "text/plain": [
       "[<matplotlib.lines.Line2D at 0x18227d3cd0>]"
      ]
     },
     "execution_count": 45,
     "metadata": {},
     "output_type": "execute_result"
    },
    {
     "data": {
      "image/png": "[encoded data removed]",
      "text/plain": [
       "<Figure size 432x288 with 1 Axes>"
      ]
     },
     "metadata": {
      "needs_background": "light"
     },
     "output_type": "display_data"
    }
   ],
   "source": [
    "median_filter(spectrum['flux'],size=70)\n",
    "filtered_flux=median_filter(spectrum['flux'],size=70)\n",
    "plt.plot(spectrum['wavelength'],spectrum['flux'])\n",
    "plt.plot(spectrum['wavelength'],filtered_flux)"
   ]
  },
  {
   "cell_type": "code",
   "execution_count": 48,
   "metadata": {},
   "outputs": [
    {
     "data": {
      "text/plain": [
       "[<matplotlib.lines.Line2D at 0x1822b3f850>]"
      ]
     },
     "execution_count": 48,
     "metadata": {},
     "output_type": "execute_result"
    },
    {
     "data": {
      "image/png": "[encoded data removed]",
      "text/plain": [
       "<Figure size 432x288 with 1 Axes>"
      ]
     },
     "metadata": {
      "needs_background": "light"
     },
     "output_type": "display_data"
    }
   ],
   "source": [
    "median_filter(spectrum['flux'],size=1)\n",
    "filtered_flux=median_filter(spectrum['flux'],size=1)\n",
    "plt.plot(spectrum['wavelength'],spectrum['flux'])\n",
    "plt.plot(spectrum['wavelength'],filtered_flux)"
   ]
  },
  {
   "cell_type": "code",
   "execution_count": 25,
   "metadata": {},
   "outputs": [
    {
     "name": "stdout",
     "output_type": "stream",
     "text": [
      "['2004dt', '2004ef', '2004eo', '2004ey', '2004gc', '2004gs', '2004gu', '2005A', '2005M', '2005W', '2005ag', '2005al', '2005am', '2005be', '2005bg', '2005bl', '2005bo', '2005el', '2005eq', '2005gj', '2005hc', '2005hj', '2005hk', '2005iq', '2005ir', '2005kc', '2005ke', '2005ki', '2005ku', '2005lu', '2005mc', '2005na', '2006D', '2006X', '2006ax', '2006bd', '2006bh', '2006br', '2006bt', '2006dd', '2006ef', '2006ej', '2006eq', '2006et', '2006ev', '2006fw', '2006gj', '2006gt', '2006hb', '2006hx', '2006is', '2006kf', '2006lu', '2006mr', '2006ob', '2006os', '2006ot', '2006py', '2007A', '2007N', '2007S', '2007af', '2007ai', '2007al', '2007as', '2007ax', '2007ba', '2007bc', '2007bd', '2007bm', '2007ca', '2007cg', '2007hj', '2007hx', '2007if', '2007jd', '2007jg', '2007jh', '2007le', '2007mm', '2007nq', '2007ol', '2007on', '2007so', '2007sr', '2007st', '2007ux', '2008C', '2008J', '2008O', '2008R', '2008ae', '2008ar', '2008bc', '2008bd', '2008bf', '2008bi', '2008bq', '2008bt', '2008bz', '2008cc', '2008cd', '2008cf', '2008ff', '2008fl', '2008fp', '2008fr', '2008fu', '2008fw', '2008gg', '2008gl', '2008go', '2008gp', '2008ha', '2008hj', '2008hu', '2008hv', '2008ia', '2009D', '2009F', '2009I', '2009J', '2009P', '2009Y', '2009aa', '2009ab', '2009ad', '2009ag', '2009al', '2009cz', '2009dc', '2009ds', '2009le', '2010ae']\n"
     ]
    }
   ],
   "source": [
    "object_ids_dr3 = dr3.get_available_ids()\n",
    "print(object_ids_dr3)"
   ]
  },
  {
   "cell_type": "code",
   "execution_count": 29,
   "metadata": {},
   "outputs": [],
   "source": [
    "dt_data=dr3.get_data_for_id('2004dt')"
   ]
  },
  {
   "cell_type": "code",
   "execution_count": 31,
   "metadata": {},
   "outputs": [
    {
     "data": {
      "text/plain": [
       "{2453249.79,\n",
       " 2453250.81,\n",
       " 2453251.83,\n",
       " 2453252.86,\n",
       " 2453253.78,\n",
       " 2453256.75,\n",
       " 2453257.73,\n",
       " 2453258.76,\n",
       " 2453259.78,\n",
       " 2453260.8,\n",
       " 2453261.71,\n",
       " 2453262.7,\n",
       " 2453263.76,\n",
       " 2453264.75,\n",
       " 2453265.79,\n",
       " 2453266.73,\n",
       " 2453267.74,\n",
       " 2453268.74,\n",
       " 2453269.68,\n",
       " 2453270.68,\n",
       " 2453271.79,\n",
       " 2453272.78,\n",
       " 2453273.79,\n",
       " 2453274.71,\n",
       " 2453275.74,\n",
       " 2453276.74,\n",
       " 2453277.69,\n",
       " 2453278.77,\n",
       " 2453279.7,\n",
       " 2453280.71,\n",
       " 2453281.72,\n",
       " 2453282.69,\n",
       " 2453284.83,\n",
       " 2453287.69,\n",
       " 2453289.77,\n",
       " 2453291.69,\n",
       " 2453293.73,\n",
       " 2453294.79,\n",
       " 2453295.75,\n",
       " 2453299.69,\n",
       " 2453305.75,\n",
       " 2453323.72,\n",
       " 2453324.69,\n",
       " 2453329.7,\n",
       " 2453331.62,\n",
       " 2453341.61,\n",
       " 2453345.63,\n",
       " 2453349.61,\n",
       " 2453365.62}"
      ]
     },
     "execution_count": 31,
     "metadata": {},
     "output_type": "execute_result"
    }
   ],
   "source": [
    "set(dt_data['time'])"
   ]
  },
  {
   "cell_type": "code",
   "execution_count": 32,
   "metadata": {},
   "outputs": [
    {
     "data": {
      "text/html": [
       "<i>Table length=6</i>\n",
       "<table id=\"table103664915664\" class=\"table-striped table-bordered table-condensed\">\n",
       "<thead><tr><th>time</th><th>band</th><th>mag</th><th>mag_err</th><th>zp</th><th>zpsys</th><th>flux</th><th>fluxerr</th></tr></thead>\n",
       "<thead><tr><th>float64</th><th>object</th><th>float64</th><th>float64</th><th>float64</th><th>str2</th><th>float64</th><th>float64</th></tr></thead>\n",
       "<tr><td>2453249.79</td><td>csp_dr3_u</td><td>16.605</td><td>0.017</td><td>12.986</td><td>ab</td><td>0.03567795882885623</td><td>0.0005586304458049017</td></tr>\n",
       "<tr><td>2453249.79</td><td>csp_dr3_g</td><td>15.573</td><td>0.006</td><td>15.111</td><td>ab</td><td>0.6534313996495988</td><td>0.003610995360305763</td></tr>\n",
       "<tr><td>2453249.79</td><td>csp_dr3_r</td><td>15.649000000000001</td><td>0.006</td><td>14.902</td><td>ab</td><td>0.5025739801095906</td><td>0.002777326451344871</td></tr>\n",
       "<tr><td>2453249.79</td><td>csp_dr3_i</td><td>16.079</td><td>0.008</td><td>14.545</td><td>ab</td><td>0.24344451836921996</td><td>0.0017937655006978596</td></tr>\n",
       "<tr><td>2453249.79</td><td>csp_dr3_B</td><td>15.639</td><td>0.006</td><td>14.328</td><td>ab</td><td>0.2989509927814587</td><td>0.0016520642388344578</td></tr>\n",
       "<tr><td>2453249.79</td><td>csp_dr3_V0</td><td>15.555</td><td>0.006</td><td>14.437</td><td>ab</td><td>0.3571083458083456</td><td>0.0019734536487409425</td></tr>\n",
       "</table>"
      ],
      "text/plain": [
       "<Table length=6>\n",
       "   time       band    ...         flux               fluxerr       \n",
       " float64     object   ...       float64              float64       \n",
       "---------- ---------- ... ------------------- ---------------------\n",
       "2453249.79  csp_dr3_u ... 0.03567795882885623 0.0005586304458049017\n",
       "2453249.79  csp_dr3_g ...  0.6534313996495988  0.003610995360305763\n",
       "2453249.79  csp_dr3_r ...  0.5025739801095906  0.002777326451344871\n",
       "2453249.79  csp_dr3_i ... 0.24344451836921996 0.0017937655006978596\n",
       "2453249.79  csp_dr3_B ...  0.2989509927814587 0.0016520642388344578\n",
       "2453249.79 csp_dr3_V0 ...  0.3571083458083456 0.0019734536487409425"
      ]
     },
     "execution_count": 32,
     "metadata": {},
     "output_type": "execute_result"
    }
   ],
   "source": [
    "dt_data[dt_data['time']==2453249.79] "
   ]
  },
  {
   "cell_type": "code",
   "execution_count": 42,
   "metadata": {},
   "outputs": [
    {
     "data": {
      "text/plain": [
       "{2453255.69,\n",
       " 2453256.65,\n",
       " 2453257.66,\n",
       " 2453258.63,\n",
       " 2453259.63,\n",
       " 2453260.66,\n",
       " 2453261.6,\n",
       " 2453262.57,\n",
       " 2453263.6,\n",
       " 2453264.6,\n",
       " 2453265.65,\n",
       " 2453266.63,\n",
       " 2453267.62,\n",
       " 2453268.64,\n",
       " 2453269.59,\n",
       " 2453269.68,\n",
       " 2453269.7,\n",
       " 2453270.59,\n",
       " 2453271.6,\n",
       " 2453272.65,\n",
       " 2453273.69,\n",
       " 2453274.64,\n",
       " 2453275.68,\n",
       " 2453276.65,\n",
       " 2453277.6,\n",
       " 2453277.63,\n",
       " 2453277.64,\n",
       " 2453278.61,\n",
       " 2453279.62,\n",
       " 2453280.61,\n",
       " 2453281.59,\n",
       " 2453281.6,\n",
       " 2453281.61,\n",
       " 2453282.58,\n",
       " 2453287.62,\n",
       " 2453289.63,\n",
       " 2453290.61,\n",
       " 2453291.6,\n",
       " 2453292.6,\n",
       " 2453294.61,\n",
       " 2453295.64,\n",
       " 2453298.58,\n",
       " 2453300.6,\n",
       " 2453301.59,\n",
       " 2453302.61,\n",
       " 2453303.6,\n",
       " 2453305.61,\n",
       " 2453307.63,\n",
       " 2453308.61,\n",
       " 2453309.61,\n",
       " 2453310.6,\n",
       " 2453311.61,\n",
       " 2453312.56,\n",
       " 2453321.59,\n",
       " 2453328.58,\n",
       " 2453328.59,\n",
       " 2453329.57}"
      ]
     },
     "execution_count": 42,
     "metadata": {},
     "output_type": "execute_result"
    }
   ],
   "source": [
    "ef_data=dr3.get_data_for_id('2004ef')\n",
    "set(ef_data['time'])"
   ]
  },
  {
   "cell_type": "code",
   "execution_count": 43,
   "metadata": {},
   "outputs": [
    {
     "data": {
      "text/html": [
       "<i>Table length=5</i>\n",
       "<table id=\"table103655114832\" class=\"table-striped table-bordered table-condensed\">\n",
       "<thead><tr><th>time</th><th>band</th><th>mag</th><th>mag_err</th><th>zp</th><th>zpsys</th><th>flux</th><th>fluxerr</th></tr></thead>\n",
       "<thead><tr><th>float64</th><th>object</th><th>float64</th><th>float64</th><th>float64</th><th>str2</th><th>float64</th><th>float64</th></tr></thead>\n",
       "<tr><td>2453255.69</td><td>csp_dr3_g</td><td>17.841</td><td>0.005</td><td>15.111</td><td>ab</td><td>0.08090958991783821</td><td>0.00037260243125015124</td></tr>\n",
       "<tr><td>2453255.69</td><td>csp_dr3_r</td><td>17.79</td><td>0.005</td><td>14.902</td><td>ab</td><td>0.06995197810512131</td><td>0.00032214076402059647</td></tr>\n",
       "<tr><td>2453255.69</td><td>csp_dr3_i</td><td>18.015</td><td>0.009</td><td>14.545</td><td>ab</td><td>0.04092606597300105</td><td>0.0003392486979275631</td></tr>\n",
       "<tr><td>2453255.69</td><td>csp_dr3_B</td><td>17.84</td><td>0.005</td><td>14.328</td><td>ab</td><td>0.03937313537008502</td><td>0.00018131998913518876</td></tr>\n",
       "<tr><td>2453255.69</td><td>csp_dr3_V0</td><td>17.855</td><td>0.006</td><td>14.437</td><td>ab</td><td>0.04293386634704299</td><td>0.00023726131352471983</td></tr>\n",
       "</table>"
      ],
      "text/plain": [
       "<Table length=5>\n",
       "   time       band      mag   ...         flux               fluxerr        \n",
       " float64     object   float64 ...       float64              float64        \n",
       "---------- ---------- ------- ... ------------------- ----------------------\n",
       "2453255.69  csp_dr3_g  17.841 ... 0.08090958991783821 0.00037260243125015124\n",
       "2453255.69  csp_dr3_r   17.79 ... 0.06995197810512131 0.00032214076402059647\n",
       "2453255.69  csp_dr3_i  18.015 ... 0.04092606597300105  0.0003392486979275631\n",
       "2453255.69  csp_dr3_B   17.84 ... 0.03937313537008502 0.00018131998913518876\n",
       "2453255.69 csp_dr3_V0  17.855 ... 0.04293386634704299 0.00023726131352471983"
      ]
     },
     "execution_count": 43,
     "metadata": {},
     "output_type": "execute_result"
    }
   ],
   "source": [
    "ef_data[ef_data['time']==2453255.69] "
   ]
  },
  {
   "cell_type": "code",
   "execution_count": 27,
   "metadata": {},
   "outputs": [
    {
     "name": "stdout",
     "output_type": "stream",
     "text": [
      "['1000', '10028', '10037', '10045', '1008', '10096', '10106', '10297', '1032', '10367', '10434', '10449', '10550', '10805', '10907', '10915', '10928', '10976', '11067', '11083', '11097', '1112', '1114', '1119', '11206', '11217', '11300', '11320', '11332', '11360', '11452', '11543', '11557', '11650', '1166', '11732', '11771', '11864', '1209', '12136', '12199', '1241', '12510', '1253', '12778', '12779', '12781', '12782', '12819', '12820', '12841', '12842', '12843', '12844', '12851', '12852', '12853', '12855', '12856', '12860', '12869', '12874', '12881', '12883', '12895', '12896', '12897', '12898', '12903', '12907', '12927', '12928', '12930', '12947', '12950', '12964', '12969', '12971', '12972', '12977', '12979', '12983', '12991', '13000', '13005', '13025', '13038', '13044', '13045', '13046', '13070', '13072', '13099', '13120', '13135', '13136', '13152', '1316', '13174', '13180', '13195', '13254', '13305', '13315', '13323', '13327', '13344', '13346', '13354', '13355', '13357', '13370', '13376', '13411', '13424', '13425', '13432', '13440', '13449', '13467', '13506', '13511', '13577', '13578', '13586', '13610', '13633', '1364', '13641', '13655', '13677', '13689', '13703', '1371', '13727', '13736', '13757', '13796', '13830', '13835', '13840', '13894', '13903', '13905', '13907', '13908', '13933', '13934', '13936', '1395', '13956', '13958', '14019', '14024', '14030', '14108', '14137', '14157', '14186', '14212', '14260', '14261', '14279', '14284', '14298', '14299', '14317', '14318', '14331', '14333', '14372', '14375', '14377', '14389', '14397', '14421', '14437', '14445', '14450', '14451', '14456', '14472', '14475', '14478', '14481', '14492', '14524', '14545', '14589', '14593', '14598', '14599', '1461', '1464', '14654', '1472', '14735', '14750', '1478', '14782', '14784', '14815', '14816', '14846', '14871', '14979', '14984', '15002', '15009', '15031', '15129', '15132', '15136', '15153', '15161', '15170', '15171', '15201', '15203', '15207', '15210', '15213', '15217', '15219', '15222', '15229', '15233', '15234', '1525', '15254', '15259', '15272', '15287', '15320', '15325', '15339', '15340', '15343', '15345', '15354', '15356', '15362', '15365', '15369', '15381', '15383', '15386', '15391', '15421', '15425', '15433', '15440', '15443', '1545', '15453', '15456', '15459', '15461', '15466', '15467', '15475', '15486', '15498', '15500', '15504', '15508', '15557', '15580', '15583', '15584', '15640', '15648', '15674', '15692', '15704', '15722', '15734', '15748', '15749', '15755', '15756', '15776', '1580', '15802', '15822', '15823', '1583', '15833', '15850', '15865', '15866', '15868', '15872', '15892', '15897', '15901', '15909', '15929', '1595', '16000', '16021', '16032', '16069', '16072', '16073', '16087', '16091', '16093', '16099', '16100', '16103', '16105', '16106', '16108', '16116', '16152', '16163', '16165', '16179', '16185', '16192', '16204', '16206', '16211', '16213', '16215', '16232', '16241', '16259', '16276', '16280', '16281', '16287', '16290', '16314', '1632', '16333', '16350', '16352', '16357', '16362', '16391', '16392', '16402', '16405', '16408', '16414', '16421', '16441', '16442', '16452', '16454', '16467', '16472', '16473', '16482', '16541', '16567', '16578', '16618', '16619', '16631', '16637', '16641', '16644', '16657', '16668', '16692', '16722', '16735', '16737', '16748', '16758', '16774', '16776', '16778', '16779', '16781', '16789', '16793', '16836', '16838', '16840', '16847', '16857', '1686', '16867', '16872', '1688', '16894', '16899', '16938', '16941', '16953', '16956', '16979', '16988', '17048', '17081', '17106', '17117', '17134', '17135', '17167', '17168', '17170', '17171', '17176', '17186', '17200', '17204', '17206', '17208', '17215', '17218', '17220', '17223', '17236', '17237', '17244', '17245', '17247', '17253', '17254', '17258', '17274', '17280', '17332', '17340', '17351', '17366', '17386', '17389', '17391', '1740', '17422', '17435', '17436', '17460', '17464', '17486', '17497', '17500', '17528', '17531', '17540', '17548', '17552', '17564', '17568', '17605', '17627', '17629', '17745', '17746', '17748', '1775', '17784', '17789', '17790', '17791', '17800', '17801', '17809', '17811', '17814', '17825', '17854', '17862', '17875', '17880', '17884', '17886', '17924', '17928', '1794', '17952', '17973', '17987', '18030', '18091', '18092', '18109', '18241', '18297', '18298', '18299', '18321', '18323', '18325', '1835', '18375', '18408', '18415', '18441', '18451', '18456', '18457', '18463', '18466', '18485', '18486', '18590', '18596', '18602', '18604', '18610', '18612', '18617', '18643', '18647', '18650', '18697', '18700', '18709', '18711', '18713', '18721', '18734', '18740', '18749', '18751', '18768', '18771', '18782', '18787', '18793', '18804', '18807', '18809', '18834', '18835', '18836', '18839', '18855', '18890', '18892', '18898', '18903', '18909', '18927', '18940', '18945', '18952', '18959', '18965', '18984', '19002', '19003', '19008', '1902', '19023', '19025', '19027', '19029', '19033', '19051', '19067', '19070', '19101', '19128', '19149', '19155', '19174', '19207', '19211', '19220', '19221', '19222', '19230', '19282', '19323', '19341', '19344', '19353', '19364', '19365', '19381', '19389', '19402', '19425', '19434', '19504', '19525', '19543', '19596', '19604', '19616', '19625', '19626', '19632', '19658', '19702', '19746', '19757', '19772', '19775', '19794', '19818', '19819', '19833', '19849', '19899', '19908', '19913', '19940', '19953', '19968', '19969', '19990', '19992', '2000', '20038', '20039', '20040', '20048', '20051', '20052', '20064', '20084', '20088', '20097', '20106', '20111', '20142', '20144', '2017', '20171', '20184', '20186', '20208', '20227', '20232', '20245', '2030', '2031', '20345', '20350', '20364', '20376', '20388', '20420', '20428', '20430', '20432', '20470', '20474', '20528', '2053', '20530', '20533', '20545', '2057', '20575', '20581', '20625', '2063', '20677', '20678', '20687', '20718', '20764', '20768', '20821', '20829', '20834', '20838', '20858', '20862', '20889', '20896', '20909', '20934', '20978', '21006', '2102', '21024', '21033', '21034', '21042', '21058', '21062', '21064', '2116', '21362', '21365', '21395', '21422', '21442', '21455', '21502', '21510', '21596', '2162', '2165', '21669', '21683', '21766', '21810', '21814', '21839', '21858', '21861', '21898', '22073', '22075', '22182', '22284', '2246', '2290', '2308', '2309', '2319', '2330', '2366', '2371', '2372', '2422', '2440', '2532', '2533', '2538', '2561', '2629', '2635', '2639', '2661', '2689', '2734', '2744', '2746', '2789', '2806', '2864', '2871', '2906', '2913', '2916', '2928', '2929', '2943', '2992', '3049', '3077', '3080', '3087', '3195', '3199', '3241', '3256', '3317', '3331', '3377', '3426', '3451', '3452', '3508', '3535', '3592', '3818', '3881', '3901', '3959', '4000', '4012', '4046', '4048', '4059', '4064', '4181', '4236', '4241', '4268', '4281', '4307', '4311', '4524', '4530', '4577', '4676', '4679', '4690', '5103', '5183', '5339', '5340', '5350', '5378', '5391', '5395', '5473', '5486', '5524', '5533', '5542', '5549', '5550', '5588', '5635', '5673', '5689', '5717', '5736', '5737', '5751', '5757', '5776', '5821', '5844', '5890', '5916', '5944', '5957', '5959', '5963', '5966', '5993', '5994', '6057', '6100', '6108', '6127', '6137', '6192', '6196', '6249', '6295', '6304', '6315', '6326', '6406', '6422', '6431', '6471', '6479', '6496', '6502', '6520', '6530', '6535', '6556', '6558', '6614', '6649', '6687', '6696', '6699', '6714', '6773', '6777', '6780', '6807', '6813', '6831', '6852', '6861', '6895', '6903', '6924', '6933', '6936', '6939', '6962', '6968', '701', '7017', '703', '7051', '7092', '7099', '7102', '7121', '7143', '7147', '722', '7243', '7258', '7335', '7363', '7373', '739', '7402', '7426', '744', '7444', '7457', '7460', '7473', '7475', '7512', '7527', '7600', '762', '7644', '7647', '7721', '774', '7779', '779', '7824', '7847', '7876', '7922', '7947', '7954', '8030', '8046', '8061', '8114', '8151', '8213', '8236', '8254', '8276', '841', '8495', '8598', '8607', '8679', '8707', '8719', '8742', '8750', '8921', '9032', '9045', '911', '9118', '9155', '9207', '9273', '9326', '9457', '9467', '9594', '9740', '9817', '9954']\n"
     ]
    }
   ],
   "source": [
    "object_ids_sako18spec = sako18spec.get_available_ids()\n",
    "print(object_ids_sako18spec)"
   ]
  },
  {
   "cell_type": "code",
   "execution_count": null,
   "metadata": {},
   "outputs": [],
   "source": []
  }
 ],
 "metadata": {
  "kernelspec": {
   "display_name": "Python 3",
   "language": "python",
   "name": "python3"
  },
  "language_info": {
   "codemirror_mode": {
    "name": "ipython",
    "version": 3
   },
   "file_extension": ".py",
   "mimetype": "text/x-python",
   "name": "python",
   "nbconvert_exporter": "python",
   "pygments_lexer": "ipython3",
   "version": "3.7.4"
  }
 },
 "nbformat": 4,
 "nbformat_minor": 2
}
