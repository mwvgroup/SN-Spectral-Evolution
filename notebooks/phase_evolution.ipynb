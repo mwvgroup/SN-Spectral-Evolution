{
 "cells": [
  {
   "cell_type": "markdown",
   "metadata": {},
   "source": [
    "# Feature Evolution with Phase\n",
    "\n",
    "This notebook explore the evolution of feature pEW and velocities as a function of phase.\n"
   ]
  },
  {
   "cell_type": "code",
   "execution_count": null,
   "metadata": {},
   "outputs": [],
   "source": [
    "from pathlib import Path\n",
    "from collections import OrderedDict\n",
    "\n",
    "import sncosmo\n",
    "import matplotlib.pyplot as plt\n",
    "import numpy as np\n",
    "import pandas as pd\n",
    "from sndata.csp import DR1, DR3\n",
    "from sndata.utils import convert_to_jd\n",
    "import yaml\n"
   ]
  },
  {
   "cell_type": "code",
   "execution_count": null,
   "metadata": {},
   "outputs": [],
   "source": [
    "dr3 = DR3()\n",
    "dr3.download_module_data()\n",
    "project_dir = Path('.').resolve().parent \n"
   ]
  },
  {
   "cell_type": "markdown",
   "metadata": {},
   "source": [
    "## Reading in data"
   ]
  },
  {
   "cell_type": "code",
   "execution_count": null,
   "metadata": {},
   "outputs": [],
   "source": [
    "@np.vectorize\n",
    "def get_csp_t0(obj_id):\n",
    "    \"\"\"Get the t0 value for CSP targets\n",
    "\n",
    "    Args:\n",
    "        obj_id (str): The object identifier\n",
    "\n",
    "    Returns:\n",
    "        The time of B-band maximum in units of\n",
    "    \"\"\"\n",
    "\n",
    "    csp_table_3 = dr3.load_table(3).to_pandas(index='SN')\n",
    "    \n",
    "    # Unknown object ID\n",
    "    if obj_id not in csp_table_3.index:\n",
    "        return np.nan\n",
    "\n",
    "    t0_mjd = csp_table_3.loc[obj_id]['T(Bmax)']\n",
    "\n",
    "    # Known object Id with unknown peak time\n",
    "    if np.isnan(t0_mjd):\n",
    "        return np.nan\n",
    "\n",
    "    return convert_to_jd(t0_mjd)\n",
    "\n",
    "\n",
    "def read_in_pipeline_result(path, drop_flagged=False):\n",
    "    \"\"\"Read pEW values from analysis pipline file\n",
    "    \n",
    "    Adds columns for Branch classifications determined by the\n",
    "    measured pEW values and spectral subtypes determined from \n",
    "    CSP DR1.\n",
    "    \n",
    "    Args:\n",
    "        path (str): Path of the file to read\n",
    "        \n",
    "    Returns:\n",
    "        A pandas Dataframe indexed by feat_name and obj_id\n",
    "    \"\"\"\n",
    "    \n",
    "    df = pd.read_csv(path, index_col=['feat_name', 'obj_id'])\n",
    "\n",
    "    # Add phases using CSP DR3 t0 values\n",
    "    obj_id = df.index.get_level_values(1)\n",
    "    df['phase'] = df.time - get_csp_t0(obj_id)\n",
    "\n",
    "    csp_table_2 = dr3.load_table(2)\n",
    "    subtypes = pd.DataFrame({'spec_type': csp_table_2['Subtype1']}, index=csp_table_2['SN'])\n",
    "    df = df.join(subtypes, on='obj_id')\n",
    "    \n",
    "    if drop_flagged:\n",
    "        df = df[(df.spec_flag != 1) & (df.feat_flag != 1)]\n",
    "    \n",
    "    return df\n",
    "\n"
   ]
  },
  {
   "cell_type": "code",
   "execution_count": null,
   "metadata": {},
   "outputs": [],
   "source": [
    "results_dir = project_dir / 'results'\n",
    "config_path = project_dir / 'app_config.yml'\n",
    "\n",
    "with config_path.open() as infile:\n",
    "    features = yaml.safe_load(infile)['features']\n",
    "\n",
    "# Load CSP measurements and drop any flagged values\n",
    "csp_final = read_in_pipeline_result(results_dir / 'final_csp.csv', drop_flagged=True)\n",
    "csp_final = csp_final[~csp_final.spec_type.isin(('---', '06gz-like'))]\n",
    "csp_final.head()\n"
   ]
  },
  {
   "cell_type": "markdown",
   "metadata": {},
   "source": [
    "## Pew Vs. Phase"
   ]
  },
  {
   "cell_type": "code",
   "execution_count": null,
   "metadata": {
    "scrolled": false
   },
   "outputs": [],
   "source": [
    "def plot_feat_evolution(feature_data, plot_col='pew', color_by='spec_type', kwargs=dict(), axis=None):\n",
    "    \"\"\"Plot the strength of a feature vs phase\n",
    "    \n",
    "    Args:\n",
    "        feature_data (DataFrame): Dataframe to plot data from\n",
    "        plot_col           (str): Column to plot on the y axis \n",
    "        color_by           (str): Name of the column to color code points by\n",
    "        kwargs      (dict[dict]): Plotting kwargs for each unique value in the `color_by` column\n",
    "        axis              (Axis): Optionally plot on a given axis\n",
    "    \"\"\"\n",
    "    \n",
    "    if axis is None:\n",
    "        fig, axis = plt.subplots(figsize=(6, 4))\n",
    "    \n",
    "    feature_data = feature_data.sort_values('phase')\n",
    "    for i, (class_name, class_data) in enumerate(feature_data.groupby(color_by)):\n",
    "        x = class_data.phase\n",
    "        y = class_data[plot_col]\n",
    "        y_err = class_data[plot_col + '_samperr']\n",
    "        \n",
    "        plot_kw = kwargs.get(class_name, dict())\n",
    "        axis.errorbar(x, y, yerr=y_err, linestyle='', **plot_kw)\n",
    "        axis.scatter(x, y, s=10, label=class_name,  **plot_kw)\n",
    "    \n",
    "    if axis is None:\n",
    "        axis.set_xlabel('Phase', fontsize=12)\n",
    "        axis.set_ylabel(r'pEW ($\\AA$)', fontsize=12)\n",
    "        \n",
    "    axis.set_xlim(-15, 15)\n",
    "    "
   ]
  },
  {
   "cell_type": "code",
   "execution_count": null,
   "metadata": {
    "scrolled": false
   },
   "outputs": [],
   "source": [
    "def plot_all_features(df,  plot_col='pew', color_by='spec_type', kwargs=dict()):\n",
    "    \"\"\"Plot pEW measurments vs. phase for all 8 features\n",
    "    \n",
    "    Args:\n",
    "        df      (DataFrame): Dataframe to plot data from\n",
    "        plot_col           (str): Column to plot on the y axis \n",
    "        color_by      (str): Name of the column to color code points by\n",
    "        kwargs (dict[dict]): Plotting kwargs for each unique value in the `color_by` column\n",
    "    \"\"\"\n",
    "    \n",
    "    plot_features = [f'pW{i}' for i in range(1, 9)]\n",
    "    fig, axes = plt.subplots(4, 2, sharex=True, figsize=(7.5, 10))\n",
    "\n",
    "    for axis, feature in zip(axes.flatten(), plot_features):\n",
    "        feature_id = features[feature]['feature_id']\n",
    "        axis.set_title(f'{feature_id} ({feature})')\n",
    "\n",
    "        feature_data = df.loc[feature]\n",
    "        plot_feat_evolution(\n",
    "            feature_data, plot_col=plot_col,\n",
    "            color_by=color_by, axis=axis, kwargs=kwargs)\n",
    "        \n",
    "    for axis in axes[:, 0]:\n",
    "        axis.set_ylabel(plot_col, fontsize=12)\n",
    "    \n",
    "    for axis in axes[-1, :]:\n",
    "        axis.set_xlabel('Phase', fontsize=12)\n",
    "        \n",
    "    handles, labels = plt.gca().get_legend_handles_labels()\n",
    "    by_label = OrderedDict(zip(labels, handles))\n",
    "    fig.legend(by_label.values(), by_label.keys(), framealpha=1, bbox_to_anchor=(1.15, 1))\n",
    "    \n",
    "    plt.tight_layout()\n"
   ]
  },
  {
   "cell_type": "code",
   "execution_count": null,
   "metadata": {
    "scrolled": false
   },
   "outputs": [],
   "source": [
    "kwargs = {\n",
    "    'normal': {'color': 'grey', 'alpha': .3},\n",
    "    '91bg-like': {'color': 'C3'},\n",
    "    '91T-like': {'color': 'C0'},\n",
    "    '06gz-like': {'color': 'C1'}\n",
    "}\n",
    "\n",
    "plot_all_features(csp_final, kwargs=kwargs)\n",
    "plt.show()\n"
   ]
  },
  {
   "cell_type": "code",
   "execution_count": null,
   "metadata": {},
   "outputs": [],
   "source": [
    "kwargs = {\n",
    "    'normal': {'color': 'grey', 'alpha': .3},\n",
    "    '91bg-like': {'color': 'C3'},\n",
    "    '91T-like': {'color': 'C0'},\n",
    "    '06gz-like': {'color': 'C1'}\n",
    "}\n",
    "\n",
    "plot_all_features(csp_final,'vel',  kwargs=kwargs)\n",
    "plt.show()\n"
   ]
  },
  {
   "cell_type": "code",
   "execution_count": null,
   "metadata": {},
   "outputs": [],
   "source": []
  }
 ],
 "metadata": {
  "kernelspec": {
   "display_name": "Python 3",
   "language": "python",
   "name": "python3"
  },
  "language_info": {
   "codemirror_mode": {
    "name": "ipython",
    "version": 3
   },
   "file_extension": ".py",
   "mimetype": "text/x-python",
   "name": "python",
   "nbconvert_exporter": "python",
   "pygments_lexer": "ipython3",
   "version": "3.7.4"
  }
 },
 "nbformat": 4,
 "nbformat_minor": 4
}
