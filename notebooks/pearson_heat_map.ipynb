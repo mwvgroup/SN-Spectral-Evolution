{
 "cells": [
  {
   "cell_type": "markdown",
   "metadata": {},
   "source": [
    "# Pearson heat maps"
   ]
  },
  {
   "cell_type": "markdown",
   "metadata": {},
   "source": [
    "Creates pearson heat maps for host gal properties and pew or velocity.\n",
    "\n",
    "Creates a dataframe of pearson values which are significant."
   ]
  },
  {
   "cell_type": "markdown",
   "metadata": {},
   "source": [
    "## imports"
   ]
  },
  {
   "cell_type": "code",
   "execution_count": 4,
   "metadata": {},
   "outputs": [],
   "source": [
    "import matplotlib\n",
    "import matplotlib.pyplot as plt\n",
    "import numpy as np\n",
    "import pandas as pd\n",
    "from matplotlib.ticker import MultipleLocator\n",
    "from scipy.stats.stats import pearsonr\n",
    "from pandas import DataFrame"
   ]
  },
  {
   "cell_type": "code",
   "execution_count": 5,
   "metadata": {},
   "outputs": [],
   "source": [
    "    feature_alias = {\n",
    "        'pW1': 'Ca ii H&K',\n",
    "        'pW2': 'Si ii λ4130',\n",
    "        'pW3': 'Mg ii, Fe ii',\n",
    "        'pW4': 'Fe ii, Si ii',\n",
    "        'pW5': 'S ii λ5449, λ5622',\n",
    "        'pW6': 'Si ii λ5972',\n",
    "        'pW7': 'Si ii λ6355',\n",
    "        'pW8': 'Ca ii IR triplet'}"
   ]
  },
  {
   "cell_type": "code",
   "execution_count": 1,
   "metadata": {},
   "outputs": [
    {
     "ename": "NameError",
     "evalue": "name 'pd' is not defined",
     "output_type": "error",
     "traceback": [
      "\u001b[0;31m---------------------------------------------------------------------------\u001b[0m",
      "\u001b[0;31mNameError\u001b[0m                                 Traceback (most recent call last)",
      "\u001b[0;32m<ipython-input-1-e9b1875f2579>\u001b[0m in \u001b[0;36m<module>\u001b[0;34m\u001b[0m\n\u001b[0;32m----> 1\u001b[0;31m \u001b[0msdss_combined\u001b[0m \u001b[0;34m=\u001b[0m \u001b[0mpd\u001b[0m\u001b[0;34m.\u001b[0m\u001b[0mread_csv\u001b[0m\u001b[0;34m(\u001b[0m\u001b[0;34m'/Users/emilysf098/Desktop/Research/SN-Spectral-Evolution/results/residual_df.csv'\u001b[0m\u001b[0;34m,\u001b[0m \u001b[0mindex_col\u001b[0m\u001b[0;34m=\u001b[0m\u001b[0;34m[\u001b[0m\u001b[0;34m'feat_name'\u001b[0m\u001b[0;34m,\u001b[0m \u001b[0;34m'obj_id'\u001b[0m\u001b[0;34m]\u001b[0m\u001b[0;34m)\u001b[0m\u001b[0;34m\u001b[0m\u001b[0;34m\u001b[0m\u001b[0m\n\u001b[0m\u001b[1;32m      2\u001b[0m \u001b[0msdss_combined\u001b[0m \u001b[0;34m=\u001b[0m \u001b[0msdss_combined\u001b[0m\u001b[0;34m.\u001b[0m\u001b[0miloc\u001b[0m\u001b[0;34m[\u001b[0m\u001b[0;34m:\u001b[0m \u001b[0;34m,\u001b[0m \u001b[0;36m1\u001b[0m\u001b[0;34m:\u001b[0m\u001b[0;34m]\u001b[0m\u001b[0;34m\u001b[0m\u001b[0;34m\u001b[0m\u001b[0m\n\u001b[1;32m      3\u001b[0m \u001b[0msdss_combined\u001b[0m\u001b[0;34m\u001b[0m\u001b[0;34m\u001b[0m\u001b[0m\n",
      "\u001b[0;31mNameError\u001b[0m: name 'pd' is not defined"
     ]
    }
   ],
   "source": [
    "sdss_combined = pd.read_csv('/Users/emilysf098/Desktop/Research/SN-Spectral-Evolution/results/residual_df.csv', index_col=['feat_name', 'obj_id'])\n",
    "sdss_combined = sdss_combined.iloc[: , 1:]\n",
    "sdss_combined"
   ]
  },
  {
   "cell_type": "code",
   "execution_count": null,
   "metadata": {},
   "outputs": [],
   "source": [
    "def pearson_list(df, features, xcol, ycol):\n",
    "    \"\"\"Creates lists of pearson statistic p and c values for each feature for any two given columns\n",
    "        used in pearson_table_make function\n",
    "    \n",
    "    Args:\n",
    "        df     (DataFrame): The dataframe in which the columns we want to compare are\n",
    "        features (List[str]): The feature ids to add to table\n",
    "        xcol           (str): Name of one column to compare\n",
    "        ycol           (str): Name of second column to compare\n",
    "    \n",
    "    Returns:\n",
    "        p_list   (List[float]): List of P values\n",
    "        c_list   (List[float]): List of c values\n",
    "    \"\"\"\n",
    "    \n",
    "    p_list = []\n",
    "    c_list = []\n",
    "    \n",
    "    for feat in zip(features):\n",
    "        feat_data = df.loc[feat]\n",
    "        x = feat_data[xcol]\n",
    "        y = feat_data[ycol]\n",
    "        \n",
    "        no_nan = (np.isfinite(x) & np.isfinite(y))\n",
    "        \n",
    "        if len(x[no_nan]) >= 3:\n",
    "            corr, p = pearsonr(x[no_nan], y[no_nan])\n",
    "            p_list.append(p)\n",
    "            c_list.append(corr)\n",
    "            \n",
    "        else:\n",
    "            p_list.append(np.nan)\n",
    "            c_list.append(np.nan)\n",
    "        \n",
    "    return p_list, c_list\n",
    "        "
   ]
  },
  {
   "cell_type": "code",
   "execution_count": null,
   "metadata": {},
   "outputs": [],
   "source": [
    "def pearson_table_make(df, features):\n",
    "    \"\"\"Creates data frame of p and c pearson stat values for specific columns vs. pew and vel\n",
    "    \n",
    "    Args:\n",
    "        df     (DataFrame): The dataframe in which the columns we want to compare are\n",
    "        features (List[str]): The feature ids to add to table \n",
    "        \n",
    "    Returns:\n",
    "        data    (DataFrame): Table of p and c values for different qualities vs pew and vel.\n",
    "    \"\"\"\n",
    "        \n",
    "    data = pd.DataFrame()\n",
    "    data['features'] = features\n",
    "    \n",
    "    df = df_col = df[['zCMB','zspecHelio','logMassFSPS','logSSFRFSPS',\n",
    "                      'ageFSPS','kpc', 'residuals', 'pew','vel']]\n",
    "    df_col = df[['zCMB','zspecHelio','logMassFSPS','logSSFRFSPS'\n",
    "                 ,'ageFSPS','kpc', 'residuals']]\n",
    "    \n",
    "    for column in df_col:\n",
    "        p_pew, c_pew = pearson_list(df, features, column , 'pew')\n",
    "        data[f'{column}_c_pew'] = c_pew\n",
    "        data[f'{column}_p_pew'] = p_pew\n",
    "        p_vel, c_vel = pearson_list(df, features, column, 'vel')\n",
    "        data[f'{column}_c_vel'] = c_vel\n",
    "        data[f'{column}_p_vel'] = p_vel\n",
    "    \n",
    "    data = data.set_index('features')\n",
    "    return data"
   ]
  },
  {
   "cell_type": "code",
   "execution_count": null,
   "metadata": {},
   "outputs": [],
   "source": [
    "features = [f'pW{i}' for i in range(1, 9)]\n",
    "pearson_table = pearson_table_make(sdss_combined, features)\n",
    "pearson_table.to_csv('/Users/emilysf098/Desktop/Research/SN-Spectral-Evolution/results/pearson_table.csv')\n",
    "\n",
    "pd.set_option(\"display.max_rows\", None, \"display.max_columns\", None)\n",
    "\n",
    "#test\n",
    "pearson_table.iloc[:,8:]\n",
    "itable = pearson_table.iloc[:,8:]\n",
    "ptable = itable[itable.columns[1::2]]\n",
    "ptable_pew = ptable[ptable.columns[::2]]\n",
    "ptable_pew"
   ]
  },
  {
   "cell_type": "markdown",
   "metadata": {},
   "source": [
    "## creating entries for heatmap"
   ]
  },
  {
   "cell_type": "code",
   "execution_count": null,
   "metadata": {},
   "outputs": [],
   "source": [
    "def heat_map_entry(table):\n",
    "    \"\"\"Create arrays to enter into the plot_heat_map function\n",
    "    Args:\n",
    "        table     (DataFrame): The data to use\n",
    "    Returns:\n",
    "        carray_pew    (array): array of c values against pew\n",
    "        parray_pew    (array): array of p values against pew\n",
    "        carray_vel    (array): array of c values against vel\n",
    "        parray_vel    (array): array of p values against vel\n",
    "    \"\"\"\n",
    " \n",
    "    # keeps only features 1-7\n",
    "    table = table.iloc[:7,:]\n",
    "    # creates indexed table\n",
    "    itable = table.set_index('features')\n",
    "    # keeps properties we want to plot\n",
    "    itable = itable.iloc[:,8:]\n",
    "\n",
    "    # creates dfs of just c and p values and just pew and vel\n",
    "    ctable = itable[itable.columns[::2]]\n",
    "    ptable = itable[itable.columns[1::2]]\n",
    "    ctable_pew = ctable[ctable.columns[::2]]\n",
    "    ctable_vel = ctable[ctable.columns[1::2]]\n",
    "    ptable_pew = ptable[ptable.columns[::2]]\n",
    "    ptable_vel = ptable[ptable.columns[1::2]]\n",
    "    \n",
    "    #makes dfs into arrays\n",
    "    carray_pew = ctable_pew.to_numpy()\n",
    "    carray_vel = ctable_vel.to_numpy()\n",
    "    parray_pew = ptable_pew.to_numpy()\n",
    "    parray_vel = ptable_vel.to_numpy()\n",
    "\n",
    "    return carray_pew, parray_pew, carray_vel, parray_vel"
   ]
  },
  {
   "cell_type": "code",
   "execution_count": null,
   "metadata": {},
   "outputs": [],
   "source": [
    "features = [f'pW{i}' for i in range(1, 8)]\n",
    "properties = ['logMassFSPS', 'logSSFRFSPS',\n",
    "              'ageFSPS','kpc', 'residuals']"
   ]
  },
  {
   "cell_type": "markdown",
   "metadata": {},
   "source": [
    "# heatmap plotting functions"
   ]
  },
  {
   "cell_type": "code",
   "execution_count": null,
   "metadata": {},
   "outputs": [],
   "source": [
    "def heatmap(data, row_labels, col_labels, ax=None,\n",
    "            cbar_kw={}, cbarlabel=\"\", **kwargs):\n",
    "    \"\"\"\n",
    "    Create a heatmap from a numpy array and two lists of labels.\n",
    "\n",
    "    Parameters\n",
    "    ----------\n",
    "    data\n",
    "        A 2D numpy array of shape (N, M).\n",
    "    row_labels\n",
    "        A list or array of length N with the labels for the rows.\n",
    "    col_labels\n",
    "        A list or array of length M with the labels for the columns.\n",
    "    ax\n",
    "        A `matplotlib.axes.Axes` instance to which the heatmap is plotted.  If\n",
    "        not provided, use current axes or create a new one.  Optional.\n",
    "    cbar_kw\n",
    "        A dictionary with arguments to `matplotlib.Figure.colorbar`.  Optional.\n",
    "    cbarlabel\n",
    "        The label for the colorbar.  Optional.\n",
    "    **kwargs\n",
    "        All other arguments are forwarded to `imshow`.\n",
    "    \"\"\"\n",
    "\n",
    "    if not ax:\n",
    "        ax = plt.gca()\n",
    "\n",
    "    # Plot the heatmap\n",
    "    im = ax.imshow(data, **kwargs)\n",
    "\n",
    "    # Create colorbar\n",
    "    cbar = ax.figure.colorbar(im, ax=ax, **cbar_kw)\n",
    "    cbar.ax.set_ylabel(cbarlabel, rotation=-90, va=\"bottom\")\n",
    "\n",
    "    # We want to show all ticks...\n",
    "    ax.set_xticks(np.arange(data.shape[1]))\n",
    "    ax.set_yticks(np.arange(data.shape[0]))\n",
    "    # ... and label them with the respective list entries.\n",
    "    ax.set_xticklabels(col_labels)\n",
    "    ax.set_yticklabels(row_labels)\n",
    "\n",
    "    # Let the horizontal axes labeling appear on top.\n",
    "    ax.tick_params(top=True, bottom=False,\n",
    "                   labeltop=True, labelbottom=False)\n",
    "\n",
    "    # Rotate the tick labels and set their alignment.\n",
    "    plt.setp(ax.get_xticklabels(), rotation=-30, ha=\"right\",\n",
    "             rotation_mode=\"anchor\")\n",
    "\n",
    "    # Turn spines off and create white grid.\n",
    "    #ax.spines[:].set_visible(False)\n",
    "\n",
    "    ax.set_xticks(np.arange(data.shape[1]+1)-.5, minor=True)\n",
    "    ax.set_yticks(np.arange(data.shape[0]+1)-.5, minor=True)\n",
    "    ax.grid(which=\"minor\", color=\"w\", linestyle='-', linewidth=3)\n",
    "    ax.tick_params(which=\"minor\", bottom=False, left=False)\n",
    "\n",
    "    return im, cbar\n",
    "\n",
    "\n",
    "def annotate_heatmap(im, data=None, valfmt=\"{x:.2f}\",\n",
    "                     textcolors=(\"black\", \"white\"),\n",
    "                     threshold=None, **textkw):\n",
    "    \"\"\"\n",
    "    A function to annotate a heatmap.\n",
    "\n",
    "    Parameters\n",
    "    ----------\n",
    "    im\n",
    "        The AxesImage to be labeled.\n",
    "    data\n",
    "        Data used to annotate.  If None, the image's data is used.  Optional.\n",
    "    valfmt\n",
    "        The format of the annotations inside the heatmap.  This should either\n",
    "        use the string format method, e.g. \"$ {x:.2f}\", or be a\n",
    "        `matplotlib.ticker.Formatter`.  Optional.\n",
    "    textcolors\n",
    "        A pair of colors.  The first is used for values below a threshold,\n",
    "        the second for those above.  Optional.\n",
    "    threshold\n",
    "        Value in data units according to which the colors from textcolors are\n",
    "        applied.  If None (the default) uses the middle of the colormap as\n",
    "        separation.  Optional.\n",
    "    **kwargs\n",
    "        All other arguments are forwarded to each call to `text` used to create\n",
    "        the text labels.\n",
    "    \"\"\"\n",
    "\n",
    "    if not isinstance(data, (list, np.ndarray)):\n",
    "        data = im.get_array()\n",
    "\n",
    "    # Normalize the threshold to the images color range.\n",
    "    if threshold is not None:\n",
    "        threshold = im.norm(threshold)\n",
    "    else:\n",
    "        threshold = im.norm(data.max())/2.\n",
    "\n",
    "    # Set default alignment to center, but allow it to be\n",
    "    # overwritten by textkw.\n",
    "    kw = dict(horizontalalignment=\"center\",\n",
    "              verticalalignment=\"center\")\n",
    "    kw.update(textkw)\n",
    "\n",
    "    # Get the formatter in case a string is supplied\n",
    "    if isinstance(valfmt, str):\n",
    "        valfmt = matplotlib.ticker.StrMethodFormatter(valfmt)\n",
    "\n",
    "    # Loop over the data and create a `Text` for each \"pixel\".\n",
    "    # Change the text's color depending on the data.\n",
    "    texts = []\n",
    "    for i in range(data.shape[0]):\n",
    "        for j in range(data.shape[1]):\n",
    "            kw.update(color=textcolors[int(im.norm(data[i, j]) > threshold)])\n",
    "            text = im.axes.text(j, i, valfmt(data[i, j], None), **kw)\n",
    "            texts.append(text)\n",
    "\n",
    "    return texts"
   ]
  },
  {
   "cell_type": "code",
   "execution_count": null,
   "metadata": {},
   "outputs": [],
   "source": [
    "def plot_heat_map(carray, parray, against):\n",
    "    \"\"\"plots 2 heat maps for c and p value respectively\n",
    "       host gal properties on vertical axis and features on horizontal\n",
    "    Args:\n",
    "        carray     (array): array of c values\n",
    "        parray     (array): array of p values\n",
    "        against    (string): pew or vel\n",
    "    \"\"\"\n",
    "    fig, (ax1, ax2) = plt.subplots(1, 2, figsize=(14, 5))\n",
    "    # 1st plot\n",
    "\n",
    "\n",
    "    im, _ = heatmap(carray, features, properties, ax=ax1,\n",
    "                cmap=\"coolwarm\", cbarlabel=f\"pearson correlation values for property vs. {against}\")\n",
    "    annotate_heatmap(im, valfmt=\"{x:.3f}\", size=10, color=('black'))\n",
    "\n",
    "    # 2nd plot\n",
    "\n",
    "    im, _ = heatmap(parray, features, properties, ax=ax2, vmin=0,\n",
    "                cmap=\"Blues_r\", cbarlabel=f\"p values for property vs. {against}\")\n",
    "    annotate_heatmap(im, valfmt=\"{x:.3f}\", size=10, threshold=0.6,\n",
    "                 textcolors=(\"white\",\"black\"))\n",
    "\n",
    "    plt.tight_layout()\n",
    "    plt.show()"
   ]
  },
  {
   "cell_type": "code",
   "execution_count": null,
   "metadata": {},
   "outputs": [],
   "source": [
    "sdss_cl = sdss_combined[sdss_combined['branch_type'] == 'CL']\n",
    "sdss_bl = sdss_combined[sdss_combined['branch_type'] == 'BL']\n",
    "sdss_cn = sdss_combined[sdss_combined['branch_type'] == 'CN']\n",
    "sdss_ss = sdss_combined[sdss_combined['branch_type'] == 'SS']"
   ]
  },
  {
   "cell_type": "code",
   "execution_count": null,
   "metadata": {},
   "outputs": [],
   "source": [
    "features = [f'pW{i}' for i in range(1, 9)]\n",
    "bl_pearson_table = pearson_table_make(sdss_bl, features)\n",
    "bl_pearson_table.to_csv('/Users/emilysf098/Desktop/Research/SN-Spectral-Evolution/results/bl_pearson_table.csv')"
   ]
  },
  {
   "cell_type": "code",
   "execution_count": null,
   "metadata": {},
   "outputs": [],
   "source": [
    "features = [f'pW{i}' for i in range(1, 9)]\n",
    "cn_pearson_table = pearson_table_make(sdss_cn, features)\n",
    "cn_pearson_table.to_csv('/Users/emilysf098/Desktop/Research/SN-Spectral-Evolution/results/cn_pearson_table.csv')"
   ]
  },
  {
   "cell_type": "code",
   "execution_count": null,
   "metadata": {},
   "outputs": [],
   "source": [
    "features = [f'pW{i}' for i in range(1, 8)]\n",
    "cl_pearson_table = pearson_table_make(sdss_cl, features)\n",
    "cl_pearson_table.to_csv('/Users/emilysf098/Desktop/Research/SN-Spectral-Evolution/results/cl_pearson_table.csv')"
   ]
  },
  {
   "cell_type": "code",
   "execution_count": null,
   "metadata": {},
   "outputs": [],
   "source": [
    "features = [f'pW{i}' for i in range(1, 8)]\n",
    "ss_pearson_table = pearson_table_make(sdss_ss, features)\n",
    "ss_pearson_table.to_csv('/Users/emilysf098/Desktop/Research/SN-Spectral-Evolution/results/ss_pearson_table.csv')"
   ]
  },
  {
   "cell_type": "markdown",
   "metadata": {},
   "source": [
    "# heat maps for all SNe"
   ]
  },
  {
   "cell_type": "code",
   "execution_count": null,
   "metadata": {},
   "outputs": [],
   "source": [
    "#table = pd.read_csv(\"/Users/emilysf098/Desktop/Research/SN-Spectral-Evolution/results/pearson_table.csv\")\n",
    "#table = pd.read_csv(\"/Users/ellakane/Desktop/research/SN-Spectral-Evolution/results/pearson_table.csv\")\n",
    "table = pearson_table.reset_index()\n",
    "carray_pew, parray_pew, carray_vel, parray_vel = heat_map_entry(table)"
   ]
  },
  {
   "cell_type": "code",
   "execution_count": null,
   "metadata": {},
   "outputs": [],
   "source": [
    "plot_heat_map(carray_pew, parray_pew, 'pew')"
   ]
  },
  {
   "cell_type": "code",
   "execution_count": null,
   "metadata": {},
   "outputs": [],
   "source": [
    "plot_heat_map(carray_vel, parray_vel, 'vel')"
   ]
  },
  {
   "cell_type": "markdown",
   "metadata": {},
   "source": [
    "# for broad line"
   ]
  },
  {
   "cell_type": "code",
   "execution_count": null,
   "metadata": {},
   "outputs": [],
   "source": [
    "bl_table = pd.read_csv(\"/Users/emilysf098/Desktop/Research/SN-Spectral-Evolution/results/bl_pearson_table.csv\")\n",
    "bl_carray_pew, bl_parray_pew, bl_carray_vel, bl_parray_vel = heat_map_entry(bl_table)"
   ]
  },
  {
   "cell_type": "code",
   "execution_count": null,
   "metadata": {},
   "outputs": [],
   "source": [
    "plot_heat_map(bl_carray_pew, bl_parray_pew, 'pew BL')"
   ]
  },
  {
   "cell_type": "code",
   "execution_count": null,
   "metadata": {},
   "outputs": [],
   "source": [
    "plot_heat_map(bl_carray_vel, bl_parray_vel, 'vel BL')"
   ]
  },
  {
   "cell_type": "markdown",
   "metadata": {},
   "source": [
    "# for shallow silicon"
   ]
  },
  {
   "cell_type": "code",
   "execution_count": null,
   "metadata": {},
   "outputs": [],
   "source": [
    "ss_table = pd.read_csv(\"/Users/emilysf098/Desktop/Research/SN-Spectral-Evolution/results/ss_pearson_table.csv\")\n",
    "ss_carray_pew, ss_parray_pew, ss_carray_vel, ss_parray_vel = heat_map_entry(ss_table)"
   ]
  },
  {
   "cell_type": "code",
   "execution_count": null,
   "metadata": {},
   "outputs": [],
   "source": [
    "plot_heat_map(ss_carray_pew, ss_parray_pew, 'pew SS')"
   ]
  },
  {
   "cell_type": "code",
   "execution_count": null,
   "metadata": {},
   "outputs": [],
   "source": [
    "plot_heat_map(ss_carray_vel, ss_parray_vel, 'vel SS')"
   ]
  },
  {
   "cell_type": "markdown",
   "metadata": {},
   "source": [
    "# for cool"
   ]
  },
  {
   "cell_type": "code",
   "execution_count": null,
   "metadata": {},
   "outputs": [],
   "source": [
    "cl_table = pd.read_csv(\"/Users/emilysf098/Desktop/Research/SN-Spectral-Evolution/results/cl_pearson_table.csv\")\n",
    "cl_carray_pew, cl_parray_pew, cl_carray_vel, cl_parray_vel = heat_map_entry(cl_table)"
   ]
  },
  {
   "cell_type": "code",
   "execution_count": null,
   "metadata": {},
   "outputs": [],
   "source": [
    "plot_heat_map(cl_carray_pew, cl_parray_pew, 'pew CL')"
   ]
  },
  {
   "cell_type": "code",
   "execution_count": null,
   "metadata": {},
   "outputs": [],
   "source": [
    "plot_heat_map(cl_carray_vel, cl_parray_vel, 'vel CL')"
   ]
  },
  {
   "cell_type": "markdown",
   "metadata": {},
   "source": [
    "# for core normal"
   ]
  },
  {
   "cell_type": "code",
   "execution_count": null,
   "metadata": {},
   "outputs": [],
   "source": [
    "cn_table = pd.read_csv(\"/Users/emilysf098/Desktop/Research/SN-Spectral-Evolution/results/cn_pearson_table.csv\")\n",
    "cn_carray_pew, cn_parray_pew, cn_carray_vel, cn_parray_vel = heat_map_entry(cn_table)"
   ]
  },
  {
   "cell_type": "code",
   "execution_count": null,
   "metadata": {},
   "outputs": [],
   "source": [
    "plot_heat_map(cn_carray_pew, cn_parray_pew, 'pew CN')"
   ]
  },
  {
   "cell_type": "code",
   "execution_count": null,
   "metadata": {},
   "outputs": [],
   "source": [
    "plot_heat_map(cn_carray_vel, cn_parray_vel, 'vel CN')"
   ]
  },
  {
   "cell_type": "code",
   "execution_count": null,
   "metadata": {},
   "outputs": [],
   "source": [
    "def significant_list(table):\n",
    "    \"\"\"Create significant pearson values dataframe by both c and p cutoffs\n",
    "    Args:\n",
    "        table     (DataFrame): The data to use\n",
    "    Returns:\n",
    "        df        (DataFrame): dataframe of significant pearson values  \n",
    "    \"\"\"\n",
    " \n",
    "    # keeps only features 1-7\n",
    "    table = table.iloc[:7,:]\n",
    "    # creates indexed table\n",
    "    itable = table.set_index('features')\n",
    "    #im not sure if we need to set index or not!!\n",
    "    #itable = table\n",
    "    # keeps properties we want to plot\n",
    "    itable = itable.iloc[:,8:]\n",
    "    # creates dfs of just c and p values and just pew and vel\n",
    "    ctable = itable[itable.columns[::2]].reset_index()\n",
    "    ictable = itable[itable.columns[::2]]\n",
    "    cprops = ctable.columns.values.tolist()\n",
    "    ptable = itable[itable.columns[1::2]].reset_index()\n",
    "    iptable = itable[itable.columns[1::2]]\n",
    "    pprops = ptable.columns.values.tolist()\n",
    "    \n",
    "    name_list = []\n",
    "    feat_list = []\n",
    "    c_list = []\n",
    "    p_list = []\n",
    "    \n",
    "    #breakpoint()\n",
    "    for i, j in zip(cprops[1:], pprops[1:]):\n",
    "        ccolumn = ictable[i]\n",
    "        pcolumn = iptable[j]\n",
    "        cname = i\n",
    "        pname = j\n",
    "   \n",
    "        for c, p in zip(ccolumn, pcolumn):\n",
    "            cindex = ictable[ictable[cname]==c].index.values\n",
    "            if ((np.abs(c) >= 0.4) and (p <= 0.05)):\n",
    "                name_list.append(cname)\n",
    "                feat_list.append(cindex)\n",
    "                c_list.append(c)\n",
    "                p_list.append(p)\n",
    "                #print(cname, cindex, c, p)\n",
    "            else:\n",
    "                continue\n",
    "    data = {'property_comparison':name_list, 'feature':feat_list, 'c':c_list, 'p':p_list}\n",
    "    df = pd.DataFrame(data, columns=['property_comparison','feature','c','p'])\n",
    "    return df"
   ]
  },
  {
   "cell_type": "code",
   "execution_count": null,
   "metadata": {},
   "outputs": [],
   "source": [
    "def significant_p_list(table):\n",
    "    \"\"\"Create significant pearson values dataframe by just p cutoffs\n",
    "    Args:\n",
    "        table     (DataFrame): The data to use\n",
    "    Returns:\n",
    "        df        (DataFrame): dataframe of significant pearson values\n",
    "    \"\"\"\n",
    " \n",
    "    # keeps only features 1-7\n",
    "    table = table.iloc[:7,:]\n",
    "    # creates indexed table\n",
    "    itable = table.set_index('features')\n",
    "    #im not sure if we need to set index or not!!\n",
    "    #itable = table\n",
    "    # keeps properties we want to plot\n",
    "    itable = itable.iloc[:,8:]\n",
    "    # creates dfs of just c and p values and just pew and vel\n",
    "    ctable = itable[itable.columns[::2]].reset_index()\n",
    "    ictable = itable[itable.columns[::2]]\n",
    "    cprops = ctable.columns.values.tolist()\n",
    "    ptable = itable[itable.columns[1::2]].reset_index()\n",
    "    iptable = itable[itable.columns[1::2]]\n",
    "    pprops = ptable.columns.values.tolist()\n",
    "    \n",
    "    name_list = []\n",
    "    feat_list = []\n",
    "    c_list = []\n",
    "    p_list = []\n",
    "    \n",
    "    #breakpoint()\n",
    "    for i, j in zip(cprops[1:], pprops[1:]):\n",
    "        ccolumn = ictable[i]\n",
    "        pcolumn = iptable[j]\n",
    "        cname = i\n",
    "        pname = j\n",
    "   \n",
    "        for c, p in zip(ccolumn, pcolumn):\n",
    "            cindex = ictable[ictable[cname]==c].index.values\n",
    "            if np.abs(p) <= 0.05:\n",
    "                name_list.append(cname)\n",
    "                feat_list.append(cindex)\n",
    "                c_list.append(c)\n",
    "                p_list.append(p)\n",
    "                #print(cname, cindex, c, p)\n",
    "            else:\n",
    "                continue\n",
    "    data = {'property_comparison':name_list, 'feature':feat_list, 'c':c_list, 'p':p_list}\n",
    "    df = pd.DataFrame(data, columns=['property_comparison','feature','c','p'])\n",
    "    return df"
   ]
  },
  {
   "cell_type": "markdown",
   "metadata": {},
   "source": [
    "### All data"
   ]
  },
  {
   "cell_type": "code",
   "execution_count": null,
   "metadata": {},
   "outputs": [],
   "source": [
    "#df of significant trends for all data\n",
    "sig_all = significant_list(table)\n",
    "all_list = ['ALL']*len(sig_all['c'])\n",
    "sig_all['data_used'] = all_list"
   ]
  },
  {
   "cell_type": "code",
   "execution_count": null,
   "metadata": {},
   "outputs": [],
   "source": [
    "#df of only p significant trends for all data\n",
    "sig_p_all = significant_p_list(table)\n",
    "all_p_list = ['ALL']*len(sig_p_all['c'])\n",
    "sig_p_all['data_used'] = all_p_list"
   ]
  },
  {
   "cell_type": "code",
   "execution_count": null,
   "metadata": {},
   "outputs": [],
   "source": [
    "#df of significant trends for cl data only\n",
    "sig_cl = significant_list(cl_table)\n",
    "cl_list = ['CL only']*len(sig_cl['c'])\n",
    "sig_cl['data_used'] = cl_list"
   ]
  },
  {
   "cell_type": "code",
   "execution_count": null,
   "metadata": {},
   "outputs": [],
   "source": [
    "#df of only p significant trends for cl data only\n",
    "sig_p_cl = significant_p_list(cl_table)\n",
    "cl_p_list = ['CL only']*len(sig_p_cl['c'])\n",
    "sig_p_cl['data_used'] = cl_p_list"
   ]
  },
  {
   "cell_type": "code",
   "execution_count": null,
   "metadata": {},
   "outputs": [],
   "source": [
    "#df of significant trends for bl data only\n",
    "sig_bl = significant_list(bl_table)\n",
    "bl_list = ['BL only']*len(sig_bl['c'])\n",
    "sig_bl['data_used'] = bl_list"
   ]
  },
  {
   "cell_type": "code",
   "execution_count": null,
   "metadata": {},
   "outputs": [],
   "source": [
    "#df of only p significant trends for bl data only\n",
    "sig_p_bl = significant_p_list(bl_table)\n",
    "bl_p_list = ['BL only']*len(sig_p_bl['c'])\n",
    "sig_p_bl['data_used'] = bl_p_list"
   ]
  },
  {
   "cell_type": "code",
   "execution_count": null,
   "metadata": {},
   "outputs": [],
   "source": [
    "#df of significant trends for cn data only\n",
    "sig_cn = significant_list(cn_table)\n",
    "cn_list = ['CN only']*len(sig_cn['c'])\n",
    "sig_cn['data_used'] = cn_list"
   ]
  },
  {
   "cell_type": "code",
   "execution_count": null,
   "metadata": {},
   "outputs": [],
   "source": [
    "#df of only p significant trends for cn data only\n",
    "sig_p_cn = significant_p_list(cn_table)\n",
    "cn_p_list = ['CN only']*len(sig_p_cn['c'])\n",
    "sig_p_cn['data_used'] = cn_p_list"
   ]
  },
  {
   "cell_type": "code",
   "execution_count": 7,
   "metadata": {},
   "outputs": [
    {
     "ename": "NameError",
     "evalue": "name 'significant_list' is not defined",
     "output_type": "error",
     "traceback": [
      "\u001b[0;31m---------------------------------------------------------------------------\u001b[0m",
      "\u001b[0;31mNameError\u001b[0m                                 Traceback (most recent call last)",
      "\u001b[0;32m/tmp/ipykernel_19934/4281262067.py\u001b[0m in \u001b[0;36m<module>\u001b[0;34m\u001b[0m\n\u001b[1;32m      1\u001b[0m \u001b[0;31m#df of significant trends for ss data only\u001b[0m\u001b[0;34m\u001b[0m\u001b[0;34m\u001b[0m\u001b[0;34m\u001b[0m\u001b[0m\n\u001b[0;32m----> 2\u001b[0;31m \u001b[0msig_ss\u001b[0m \u001b[0;34m=\u001b[0m \u001b[0msignificant_list\u001b[0m\u001b[0;34m(\u001b[0m\u001b[0mss_table\u001b[0m\u001b[0;34m)\u001b[0m\u001b[0;34m\u001b[0m\u001b[0;34m\u001b[0m\u001b[0m\n\u001b[0m\u001b[1;32m      3\u001b[0m \u001b[0mss_list\u001b[0m \u001b[0;34m=\u001b[0m \u001b[0;34m[\u001b[0m\u001b[0;34m'SS only'\u001b[0m\u001b[0;34m]\u001b[0m\u001b[0;34m*\u001b[0m\u001b[0mlen\u001b[0m\u001b[0;34m(\u001b[0m\u001b[0msig_ss\u001b[0m\u001b[0;34m[\u001b[0m\u001b[0;34m'c'\u001b[0m\u001b[0;34m]\u001b[0m\u001b[0;34m)\u001b[0m\u001b[0;34m\u001b[0m\u001b[0;34m\u001b[0m\u001b[0m\n\u001b[1;32m      4\u001b[0m \u001b[0msig_ss\u001b[0m\u001b[0;34m[\u001b[0m\u001b[0;34m'data_used'\u001b[0m\u001b[0;34m]\u001b[0m \u001b[0;34m=\u001b[0m \u001b[0mss_list\u001b[0m\u001b[0;34m\u001b[0m\u001b[0;34m\u001b[0m\u001b[0m\n",
      "\u001b[0;31mNameError\u001b[0m: name 'significant_list' is not defined"
     ]
    }
   ],
   "source": [
    "#df of significant trends for ss data only\n",
    "sig_ss = significant_list(ss_table)\n",
    "ss_list = ['SS only']*len(sig_ss['c'])\n",
    "sig_ss['data_used'] = ss_list"
   ]
  },
  {
   "cell_type": "code",
   "execution_count": null,
   "metadata": {},
   "outputs": [],
   "source": [
    "#df of only p significant trends for ss data only\n",
    "sig_p_ss = significant_p_list(ss_table)\n",
    "ss_p_list = ['SS only']*len(sig_p_ss['c'])\n",
    "sig_p_ss['data_used'] = ss_p_list"
   ]
  },
  {
   "cell_type": "markdown",
   "metadata": {},
   "source": [
    "### df of all significant trends where c >= 0.4 and p <= 0.05"
   ]
  },
  {
   "cell_type": "code",
   "execution_count": null,
   "metadata": {},
   "outputs": [],
   "source": [
    "#sort lists by data used first, property second, feature third"
   ]
  },
  {
   "cell_type": "code",
   "execution_count": null,
   "metadata": {
    "scrolled": true
   },
   "outputs": [],
   "source": [
    "sig_df = sig_all.append(sig_cl, ignore_index = True)\n",
    "sig_df = sig_df.append(sig_bl, ignore_index = True)\n",
    "sig_df = sig_df.append(sig_cn, ignore_index = True)\n",
    "sig_df = sig_df.append(sig_ss, ignore_index = True)\n",
    "sig_df = sig_df.rename(columns = ({'c':'pearson correlation', 'p':'p value'}))\n",
    "sig_df = sig_df.sort_values(by=['data_used', 'property_comparison'], ascending = True)\n",
    "sig_df"
   ]
  },
  {
   "cell_type": "markdown",
   "metadata": {},
   "source": [
    "### df of all significant trends where p<=0.05"
   ]
  },
  {
   "cell_type": "code",
   "execution_count": null,
   "metadata": {
    "scrolled": true
   },
   "outputs": [],
   "source": [
    "sig_p_df = sig_p_all.append(sig_p_cl, ignore_index = True)\n",
    "sig_p_df = sig_p_df.append(sig_p_bl, ignore_index = True)\n",
    "sig_p_df = sig_p_df.append(sig_p_cn, ignore_index = True)\n",
    "sig_p_df = sig_p_df.append(sig_p_ss, ignore_index = True)\n",
    "sig_p_df = sig_p_df.rename(columns = ({'c':'pearson correlation', 'p':'p value'}))\n",
    "sig_p_df = sig_p_df.sort_values(by=['data_used', 'property_comparison'], ascending = True)\n",
    "sig_p_df"
   ]
  },
  {
   "cell_type": "code",
   "execution_count": null,
   "metadata": {},
   "outputs": [],
   "source": [
    "sdss_combined = sdss_combined.reset_index()"
   ]
  },
  {
   "cell_type": "code",
   "execution_count": null,
   "metadata": {},
   "outputs": [],
   "source": [
    "def pearson_list_prop(df, xcol):\n",
    "    \"\"\"Creates lists of pearson statistic p and c values for each feature for any two given columns\n",
    "        used in pearson_table_make function\n",
    "    \n",
    "    Args:\n",
    "        df     (DataFrame): The dataframe in which the columns we want to compare are\n",
    "        xcol           (str): Name of one column to compare\n",
    "    \n",
    "    Returns:\n",
    "        p_list   (List[float]): List of P values\n",
    "        c_list   (List[float]): List of c values\n",
    "    \"\"\"\n",
    "    \n",
    "    p_list = []\n",
    "    c_list = []\n",
    "    \n",
    "    df = df.drop_duplicates('obj_id')\n",
    "\n",
    "    x = df[xcol]\n",
    "    y = df['residuals']\n",
    "        \n",
    "    no_nan = (np.isfinite(x) & np.isfinite(y))\n",
    "        \n",
    "    corr, p = pearsonr(x[no_nan], y[no_nan])\n",
    "    p_list.append(p)\n",
    "    c_list.append(corr)\n",
    "        \n",
    "    return p_list, c_list\n",
    "        "
   ]
  },
  {
   "cell_type": "code",
   "execution_count": null,
   "metadata": {},
   "outputs": [],
   "source": [
    "def pearson_table_make_prop(df):\n",
    "    \"\"\"Creates data frame of p and c pearson stat values for specific columns vs. residuals\n",
    "    \n",
    "    Args:\n",
    "        df     (DataFrame): The dataframe in which the columns we want to compare are\n",
    "        \n",
    "    Returns:\n",
    "        data    (DataFrame): Table of p and c values for different qualities vs residuals\n",
    "    \"\"\"\n",
    "        \n",
    "    data = pd.DataFrame()\n",
    "    \n",
    "    #df = df_col = df[['zCMB','zspecHelio','logMassFSPS','logSSFRFSPS',\n",
    "                      #'ageFSPS','kpc', 'residuals']]\n",
    "    df_col = df[['zCMB','zspecHelio','logMassFSPS','logSSFRFSPS'\n",
    "                 ,'ageFSPS','kpc']]\n",
    "    \n",
    "    for column in df_col:\n",
    "        p, c = pearson_list_prop(df, column)\n",
    "        data[f'{column}_c'] = c\n",
    "        data[f'{column}_p'] = p\n",
    "    \n",
    "    return data"
   ]
  },
  {
   "cell_type": "code",
   "execution_count": null,
   "metadata": {},
   "outputs": [],
   "source": [
    "pearson_prop_table = pearson_table_make_prop(sdss_combined)\n",
    "pearson_prop_table.to_csv('/Users/emilysf098/Desktop/Research/SN-Spectral-Evolution/results/pearson_prop_table.csv')\n",
    "pearson_prop_table"
   ]
  },
  {
   "cell_type": "code",
   "execution_count": null,
   "metadata": {},
   "outputs": [],
   "source": [
    "sdss_bl = sdss_bl.reset_index()\n",
    "bl_pearson_prop_table = pearson_table_make_prop(sdss_bl)\n",
    "bl_pearson_prop_table.to_csv('/Users/emilysf098/Desktop/Research/SN-Spectral-Evolution/results/bl_pearson_prop_table.csv')\n",
    "bl_pearson_prop_table"
   ]
  },
  {
   "cell_type": "code",
   "execution_count": null,
   "metadata": {},
   "outputs": [],
   "source": [
    "sdss_cl = sdss_cl.reset_index()\n",
    "cl_pearson_prop_table = pearson_table_make_prop(sdss_cl)\n",
    "cl_pearson_prop_table.to_csv('/Users/emilysf098/Desktop/Research/SN-Spectral-Evolution/results/cl_pearson_prop_table.csv')\n",
    "cl_pearson_prop_table"
   ]
  },
  {
   "cell_type": "code",
   "execution_count": null,
   "metadata": {},
   "outputs": [],
   "source": [
    "sdss_ss = sdss_ss.reset_index()\n",
    "ss_pearson_prop_table = pearson_table_make_prop(sdss_ss)\n",
    "ss_pearson_prop_table.to_csv('/Users/emilysf098/Desktop/Research/SN-Spectral-Evolution/results/ss_pearson_prop_table.csv')\n",
    "ss_pearson_prop_table"
   ]
  },
  {
   "cell_type": "code",
   "execution_count": null,
   "metadata": {},
   "outputs": [],
   "source": [
    "sdss_cn = sdss_cn.reset_index()\n",
    "cn_pearson_prop_table = pearson_table_make_prop(sdss_cn)\n",
    "cn_pearson_prop_table.to_csv('/Users/emilysf098/Desktop/Research/SN-Spectral-Evolution/results/cn_pearson_prop_table.csv')\n",
    "cn_pearson_prop_table"
   ]
  },
  {
   "cell_type": "code",
   "execution_count": null,
   "metadata": {},
   "outputs": [],
   "source": [
    "def heat_map_entry_prop(table):\n",
    "    \"\"\"Create arrays to enter into the plot_heat_map function\n",
    "    Args:\n",
    "        table     (DataFrame): The data to use\n",
    "\n",
    "    \"\"\"\n",
    "\n",
    "\n",
    "    # creates dfs of just c and p values\n",
    "    ctable = table[table.columns[::2]]\n",
    "    ptable = table[table.columns[1::2]]\n",
    "    \n",
    "    #makes dfs into arrays\n",
    "    carray = ctable.to_numpy()\n",
    "    parray = ptable.to_numpy()\n",
    "\n",
    "    return carray, parray"
   ]
  },
  {
   "cell_type": "code",
   "execution_count": null,
   "metadata": {},
   "outputs": [],
   "source": [
    "c_array, p_array = heat_map_entry_prop(pearson_prop_table)"
   ]
  },
  {
   "cell_type": "code",
   "execution_count": null,
   "metadata": {},
   "outputs": [],
   "source": [
    "c_array_bl, p_array_bl = heat_map_entry_prop(bl_pearson_prop_table)\n",
    "c_array_cl, p_array_cl = heat_map_entry_prop(cl_pearson_prop_table)\n",
    "c_array_cn, p_array_cn = heat_map_entry_prop(cn_pearson_prop_table)\n",
    "c_array_ss, p_array_ss = heat_map_entry_prop(ss_pearson_prop_table)"
   ]
  },
  {
   "cell_type": "code",
   "execution_count": null,
   "metadata": {},
   "outputs": [],
   "source": [
    "properties = ['zCMB', 'zspecHelio', 'logMassFSPS', 'logSSFRFSPS',\n",
    "              'ageFSPS','kpc']"
   ]
  },
  {
   "cell_type": "code",
   "execution_count": null,
   "metadata": {},
   "outputs": [],
   "source": [
    "def plot_heat_map_prop(carray, parray, against):\n",
    "    \"\"\"plots 2 heat maps for c and p value respectively\n",
    "       host gal properties on vertical axis and features on horizontal\n",
    "    Args:\n",
    "        carray     (array): array of c values\n",
    "        parray     (array): array of p values\n",
    "        against    (string): pew or vel\n",
    "    \"\"\"\n",
    "    fig, (ax1, ax2) = plt.subplots(1, 2, figsize=(14, 5))\n",
    "    # 1st plot\n",
    "\n",
    "\n",
    "    im, _ = heatmap(carray.transpose(), properties, 'residuals', ax=ax1,\n",
    "                cmap=\"coolwarm\", cbarlabel=f\"pearson correlation values for property vs. {against}\")\n",
    "    annotate_heatmap(im, valfmt=\"{x:.3f}\", size=10, color=('white'))\n",
    "\n",
    "    # 2nd plot\n",
    "\n",
    "    im, _ = heatmap(parray.transpose(), properties, 'residuals', ax=ax2, vmin=0,\n",
    "                cmap=\"Blues_r\", cbarlabel=f\"p values for property vs. {against}\")\n",
    "    annotate_heatmap(im, valfmt=\"{x:.3f}\", size=10, threshold=0.1,\n",
    "                 textcolors=(\"white\",\"black\"))\n",
    "\n",
    "    plt.tight_layout()\n",
    "    plt.show()"
   ]
  },
  {
   "cell_type": "markdown",
   "metadata": {},
   "source": [
    "# All"
   ]
  },
  {
   "cell_type": "code",
   "execution_count": null,
   "metadata": {},
   "outputs": [],
   "source": [
    "plot_heat_map_prop(c_array, p_array, 'residual')"
   ]
  },
  {
   "cell_type": "markdown",
   "metadata": {},
   "source": [
    "# Broad Line"
   ]
  },
  {
   "cell_type": "code",
   "execution_count": null,
   "metadata": {},
   "outputs": [],
   "source": [
    "plot_heat_map_prop(c_array_bl, p_array_bl, 'residual BL')"
   ]
  },
  {
   "cell_type": "markdown",
   "metadata": {},
   "source": [
    "# Cool"
   ]
  },
  {
   "cell_type": "code",
   "execution_count": null,
   "metadata": {},
   "outputs": [],
   "source": [
    "plot_heat_map_prop(c_array_cl, p_array_cl, 'residual CL')"
   ]
  },
  {
   "cell_type": "markdown",
   "metadata": {},
   "source": [
    "# Core Normal"
   ]
  },
  {
   "cell_type": "code",
   "execution_count": null,
   "metadata": {},
   "outputs": [],
   "source": [
    "plot_heat_map_prop(c_array_cn, p_array_cn, 'residual CN')"
   ]
  },
  {
   "cell_type": "markdown",
   "metadata": {},
   "source": [
    "# Shallow Silicon"
   ]
  },
  {
   "cell_type": "code",
   "execution_count": null,
   "metadata": {},
   "outputs": [],
   "source": [
    "plot_heat_map_prop(c_array_ss, p_array_ss, 'residual SS')"
   ]
  }
 ],
 "metadata": {
  "kernelspec": {
   "display_name": "Python 3",
   "language": "python",
   "name": "python3"
  },
  "language_info": {
   "codemirror_mode": {
    "name": "ipython",
    "version": 3
   },
   "file_extension": ".py",
   "mimetype": "text/x-python",
   "name": "python",
   "nbconvert_exporter": "python",
   "pygments_lexer": "ipython3",
   "version": "3.7.4"
  }
 },
 "nbformat": 4,
 "nbformat_minor": 4
}
