{
 "cells": [
  {
   "cell_type": "markdown",
   "metadata": {},
   "source": [
    "# Plotting feature measurements by 3 people"
   ]
  },
  {
   "cell_type": "markdown",
   "metadata": {},
   "source": [
    "This notebook plots the measurements by Ella, Emily, and Anish against each other to compare their respective results.\n",
    "The two most important functions are comparison_plots() and total_plot().\n",
    "* comparison_plots() creates 8 individual figures (one for each feature) with three comparison plots per figure.\n",
    "* total_plot() creates one plot of a single comparison, including all feature measurements."
   ]
  },
  {
   "cell_type": "code",
   "execution_count": null,
   "metadata": {},
   "outputs": [],
   "source": [
    "import numpy as np\n",
    "import matplotlib.pyplot as plt\n",
    "import pandas as pd"
   ]
  },
  {
   "cell_type": "code",
   "execution_count": null,
   "metadata": {},
   "outputs": [],
   "source": [
    "# import tables as dataframes\n",
    "ella1 = pd.read_csv('../results/ella_csp.csv')\n",
    "emily = pd.read_csv('../results/emily_csp.csv')\n",
    "anish = pd.read_csv('../results/anish_csp.csv')\n",
    "inter = ella1[ella1.obj_id != '2007le']\n",
    "ella = inter[inter.obj_id != '2008ia']"
   ]
  },
  {
   "cell_type": "code",
   "execution_count": null,
   "metadata": {},
   "outputs": [],
   "source": [
    "def data_to_plot(set1, set2, feat):\n",
    "    \"\"\"return pew values for 2 people for a given feature\n",
    "    \n",
    "    Parameters:\n",
    "        set1: first person to compare\n",
    "        set2: second person to compare\n",
    "        feat: feature name (ex. pW1)\n",
    "    \n",
    "    Returns:\n",
    "        set1_data: list of measurements\n",
    "        set2_data: list of measurements\n",
    "    \"\"\"\n",
    "    \n",
    "    if feat == 'all':\n",
    "        set1_feat = set1\n",
    "        set2_feat = set2\n",
    "    else:\n",
    "        \n",
    "        # identifying only rows with a specific feature measurement\n",
    "        set1_feat = set1[set1['feat_name'] == feat]\n",
    "        set2_feat = set2[set2['feat_name'] == feat]\n",
    "    \n",
    "    # setting indices to shared values\n",
    "    set1_feat2 = set1_feat.set_index(['obj_id', 'time', 'feat_name'])\n",
    "    set2_feat2 = set2_feat.set_index(['obj_id', 'time', 'feat_name'])\n",
    "    \n",
    "    # combining the two tables\n",
    "    combined_table = set1_feat2.join(set2_feat2, lsuffix=f'{set1}', rsuffix=f'{set2}')\n",
    "    \n",
    "    # dropping NaNs, i.e. rows without shared measurements\n",
    "    final_table = combined_table.dropna(subset=[f'pew{set1}', f'pew{set2}'])\n",
    "    \n",
    "    # data to be plotted\n",
    "    set1_data = final_table[f'pew{set1}']\n",
    "    set2_data = final_table[f'pew{set2}']\n",
    "    \n",
    "    return set1_data, set2_data\n",
    "    "
   ]
  },
  {
   "cell_type": "code",
   "execution_count": null,
   "metadata": {},
   "outputs": [],
   "source": [
    "def bounds_finder(set1, set2, feat):\n",
    "    \"\"\"find mininum and maximum for data to be plotted\n",
    "    \n",
    "    Parameters:\n",
    "        set1: first person data\n",
    "        set2: second person data\n",
    "    \n",
    "    Returns:\n",
    "        min_bound: lower bound of data\n",
    "        max_bound: upper bound of data\n",
    "    \"\"\"\n",
    "    \n",
    "    data1, data2 = data_to_plot(set1, set2, feat)\n",
    "    \n",
    "    min1 = np.min(data1)\n",
    "    min2 = np.min(data2)\n",
    "    \n",
    "    max1 = np.max(data1)\n",
    "    max2 = np.max(data2)\n",
    "    \n",
    "    if min1 <= min2:\n",
    "        min_bound = min1\n",
    "    else:\n",
    "        min_bound = min2\n",
    "        \n",
    "    if max1 >= max2:\n",
    "        max_bound = max1\n",
    "    else:\n",
    "        max_bound = max2\n",
    "        \n",
    "    return min_bound, max_bound"
   ]
  },
  {
   "cell_type": "markdown",
   "metadata": {},
   "source": [
    "## Final comparison plotting function"
   ]
  },
  {
   "cell_type": "code",
   "execution_count": null,
   "metadata": {},
   "outputs": [],
   "source": [
    "def comparison_plots():\n",
    "    \"\"\"plot the 3 sets of comparisons for all 8 features\"\"\"\n",
    "    \n",
    "    for feat_name in ['pW1', 'pW2', 'pW3', 'pW4', 'pW5', 'pW6', 'pW7', 'pW8']:\n",
    "    \n",
    "        # getting the data to be plotted in each figure\n",
    "        ella_fig1, emily_fig1 = data_to_plot(ella, emily, feat_name)\n",
    "\n",
    "        emily_fig2, anish_fig2 = data_to_plot(emily, anish, feat_name)\n",
    "\n",
    "        anish_fig3, ella_fig3 = data_to_plot(anish, ella, feat_name)\n",
    "\n",
    "        # data to plot the line y=x, goes from the minimum measurement in all three sets to the maximum (roughly)\n",
    "        x = np.arange(-60, 450)\n",
    "\n",
    "        # creating the figure\n",
    "        fig, (ax1, ax2, ax3) = plt.subplots(1, 3, figsize=(16, 5), sharex=False)\n",
    "        fig.suptitle(f'{feat_name} Comparison')\n",
    "    \n",
    "        # plotting the leftmost figure\n",
    "        min1, max1 = bounds_finder(ella, emily, feat_name)\n",
    "    \n",
    "        ax1.scatter(ella_fig1, emily_fig1)\n",
    "        ax1.plot(x, x, color='black', linestyle='--')\n",
    "        ax1.set_xlim(min1, max1)\n",
    "        ax1.set_ylim(min1, max1)\n",
    "        ax1.set_xlabel(\"Ella's Measurements\")\n",
    "        ax1.set_ylabel(\"Emily's Measurements\")\n",
    "    \n",
    "        # plotting the middle figure\n",
    "        min2, max2 = bounds_finder(emily, anish, feat_name)\n",
    "    \n",
    "        ax2.scatter(emily_fig2, anish_fig2, c='green')\n",
    "        ax2.plot(x, x, color='black', linestyle='--')\n",
    "        ax2.set_ylim(min2, max2)\n",
    "        ax2.set_xlim(min2, max2)\n",
    "        ax2.set_xlabel(\"Emily's Measurements\")\n",
    "        ax2.set_ylabel(\"Anish's Measurements\")\n",
    "    \n",
    "        # plotting the rightmost figure\n",
    "        min3, max3 = bounds_finder(anish, ella, feat_name)\n",
    "    \n",
    "        ax3.scatter(anish_fig3, ella_fig3, c='red')\n",
    "        ax3.plot(x, x, color='black', linestyle='--')\n",
    "        ax3.set_ylim(min3, max3)\n",
    "        ax3.set_xlim(min3, max3)\n",
    "        ax3.set_xlabel(\"Anish's Measurements\")\n",
    "        ax3.set_ylabel(\"Ella's Measurements\")\n",
    "    \n",
    "        #plt.savefig(f\"{feat_name}comparison.png\")\n",
    "        \n",
    "comparison_plots()"
   ]
  },
  {
   "cell_type": "markdown",
   "metadata": {},
   "source": [
    "## All features plotted against each other function"
   ]
  },
  {
   "cell_type": "code",
   "execution_count": null,
   "metadata": {},
   "outputs": [],
   "source": [
    "def total_plot(set1, set2):\n",
    "    \"\"\"create plot for all measurements for 2 people\n",
    "    \n",
    "    Parameters:\n",
    "        set1: first data set to be plotted\n",
    "        set2: second data set to be plotted\n",
    "    \n",
    "    Returns:\n",
    "        none\n",
    "    \"\"\"\n",
    "    \n",
    "    x, y = data_to_plot(set1, set2, 'all')\n",
    "    min_bound, max_bound = bounds_finder(set1, set2, 'all')\n",
    "    x_fit = np.arange(0,500)\n",
    "    y_fit = np.arange(0,500)\n",
    "    plt.scatter(x, y, alpha = .4)\n",
    "    plt.xlabel(\"Set 1 Measurements\")\n",
    "    plt.ylabel(\"Set 2 Measurements\")\n",
    "    plt.title(\"Set 2 vs. Set 1 PEW Measurements\")\n",
    "    plt.axis('square')\n",
    "    plt.plot(x_fit, y_fit, 'black', linestyle = '--')\n",
    "    plt.xlim(0, max_bound)\n",
    "    plt.ylim(0, max_bound)\n",
    "    "
   ]
  },
  {
   "cell_type": "code",
   "execution_count": null,
   "metadata": {},
   "outputs": [],
   "source": []
  }
 ],
 "metadata": {
  "kernelspec": {
   "display_name": "Python 3",
   "language": "python",
   "name": "python3"
  },
  "language_info": {
   "codemirror_mode": {
    "name": "ipython",
    "version": 3
   },
   "file_extension": ".py",
   "mimetype": "text/x-python",
   "name": "python",
   "nbconvert_exporter": "python",
   "pygments_lexer": "ipython3",
   "version": "3.7.4"
  }
 },
 "nbformat": 4,
 "nbformat_minor": 4
}
