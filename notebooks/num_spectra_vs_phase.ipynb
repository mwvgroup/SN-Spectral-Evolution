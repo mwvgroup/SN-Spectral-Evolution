{
 "cells": [
  {
   "cell_type": "markdown",
   "metadata": {},
   "source": [
    "# Number of spectra as a function of phase\n",
    "\n",
    "This notebook plots the number of observed spectra as a function of phase"
   ]
  },
  {
   "cell_type": "code",
   "execution_count": null,
   "metadata": {},
   "outputs": [],
   "source": [
    "import numpy as np\n",
    "import matplotlib.pyplot as plt\n",
    "from sndata.csp import DR1, DR3\n",
    "from sndata.sdss import Sako18Spec\n"
   ]
  },
  {
   "cell_type": "code",
   "execution_count": null,
   "metadata": {},
   "outputs": [],
   "source": [
    "dr1 = DR1()\n",
    "dr1.download_module_data()\n",
    "\n",
    "dr3 = DR3()\n",
    "dr3.download_module_data()\n",
    "\n",
    "sako18spec = Sako18Spec()\n",
    "sako18spec.download_module_data()\n"
   ]
  },
  {
   "cell_type": "code",
   "execution_count": null,
   "metadata": {},
   "outputs": [],
   "source": [
    "table1 = dr3.load_table(1)\n",
    "table2 = dr3.load_table(2)\n",
    "table3 = dr3.load_table(3)\n"
   ]
  },
  {
   "cell_type": "code",
   "execution_count": null,
   "metadata": {},
   "outputs": [],
   "source": [
    "def get_csp_t0(obj_id):\n",
    "    \"\"\"Return t0 for a given CSP target\"\"\"\n",
    "    \n",
    "    table_3 = dr3.load_table(3)\n",
    "    if not obj_id in table_3['SN']:\n",
    "        raise ValueError(f't0 not available for {obj_id}')\n",
    "        \n",
    "    obj_data = table_3[table_3['SN']==obj_id]\n",
    "    return obj_data['T(Bmax)']\n"
   ]
  },
  {
   "cell_type": "code",
   "execution_count": null,
   "metadata": {},
   "outputs": [],
   "source": [
    "def object_phases(obj_id):\n",
    "    \"\"\"Return list of phases for all observed spectra of a given object\"\"\"\n",
    "    \n",
    "    data = dr1.get_data_for_id(obj_id)\n",
    "    time_unique = np.unique(data['time'])\n",
    "    t_max = get_csp_t0(obj_id) + 2400000.5\n",
    "    phase = -(t_max - time_unique)\n",
    "    return phase\n"
   ]
  },
  {
   "cell_type": "code",
   "execution_count": null,
   "metadata": {},
   "outputs": [],
   "source": [
    "def phase_for_dr1():\n",
    "    \"\"\"Return list phases of phases for all CSP spectra\"\"\"\n",
    "    \n",
    "    all_phases = []\n",
    "    for obj_id in dr1.get_available_ids():\n",
    "        phase = object_phases(obj_id)\n",
    "        all_phases.extend(phase)\n",
    "        \n",
    "    return all_phases\n"
   ]
  },
  {
   "cell_type": "code",
   "execution_count": null,
   "metadata": {},
   "outputs": [],
   "source": [
    "all_phases = phase_for_dr1()\n"
   ]
  },
  {
   "cell_type": "code",
   "execution_count": null,
   "metadata": {},
   "outputs": [],
   "source": [
    "bins = np.arange(-18,100,6)\n",
    "plt.hist(x = all_phases, bins = bins)\n",
    "plt.xlabel('Phase (days since peak)')\n",
    "plt.ylabel('Number of Observations')\n",
    "plt.title('Number of Observations at Each Phase for CSP Data')\n",
    "plt.rcParams['figure.figsize'] = [10, 5]\n"
   ]
  },
  {
   "cell_type": "code",
   "execution_count": null,
   "metadata": {},
   "outputs": [],
   "source": []
  }
 ],
 "metadata": {
  "kernelspec": {
   "display_name": "Python 3",
   "language": "python",
   "name": "python3"
  },
  "language_info": {
   "codemirror_mode": {
    "name": "ipython",
    "version": 3
   },
   "file_extension": ".py",
   "mimetype": "text/x-python",
   "name": "python",
   "nbconvert_exporter": "python",
   "pygments_lexer": "ipython3",
   "version": "3.7.4"
  }
 },
 "nbformat": 4,
 "nbformat_minor": 4
}
