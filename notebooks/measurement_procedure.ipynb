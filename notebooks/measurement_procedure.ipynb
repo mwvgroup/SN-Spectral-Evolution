{
 "cells": [
  {
   "cell_type": "code",
   "execution_count": null,
   "id": "optional-video",
   "metadata": {},
   "outputs": [],
   "source": [
    "from pathlib import Path\n",
    "\n",
    "import extinction\n",
    "import numpy as np\n",
    "import pandas as pd\n",
    "import sfdmap\n",
    "from matplotlib import pyplot as plt\n",
    "from scipy.ndimage.filters import median_filter\n",
    "from sndata.sdss import Sako18Spec\n"
   ]
  },
  {
   "cell_type": "code",
   "execution_count": null,
   "id": "peaceful-lexington",
   "metadata": {},
   "outputs": [],
   "source": [
    "s18 = Sako18Spec()\n",
    "s18.download_module_data()\n",
    "\n",
    "dust_dir = Path('.').resolve().parent / 'spec_analysis' / 'schlegel98_dust_map'\n",
    "results_dir = Path('.').resolve().parent / 'results'\n",
    "\n",
    "pipeline_data = pd.read_csv(results_dir / 'final_sdss.csv', index_col=['obj_id', 'time'])\n",
    "pd.concat([d[1] for d in pipeline_data.groupby('obj_id') if len(d[1]) >= 7])\n",
    "\n",
    "feature_alias = {\n",
    "    'pW1': 'Ca ii H&K',\n",
    "    'pW2': 'Si ii λ4130',\n",
    "    'pW3': 'Mg ii, Fe ii',\n",
    "    'pW4': 'Fe ii, Si ii',\n",
    "    'pW5': 'S ii λ5449, λ5622',\n",
    "    'pW6': 'Si ii λ5972',\n",
    "    'pW7': 'Si ii λ6355',\n",
    "    'pW8': 'Ca ii IR triplet'}\n"
   ]
  },
  {
   "cell_type": "code",
   "execution_count": null,
   "id": "accredited-excellence",
   "metadata": {},
   "outputs": [],
   "source": [
    "def plot_sdss_spectrum_measurements(obj_id, time, rv=3.1, bin_size=10, figsize=(10, 6)):\n",
    "    sdss_data = s18.get_data_for_id(str(obj_id))\n",
    "    sdss_data = sdss_data[sdss_data['time'] == time]\n",
    "    wave = sdss_data['wavelength']\n",
    "    flux = sdss_data['flux']\n",
    "\n",
    "    # Determine extinction\n",
    "    dust_map = sfdmap.SFDMap(dust_dir)\n",
    "    mwebv = dust_map.ebv(sdss_data.meta['ra'], sdss_data.meta['dec'], frame='fk5j2000', unit='degree')\n",
    "    mag_ext = extinction.fitzpatrick99(wave, rv * mwebv, rv)\n",
    "\n",
    "    # Correct flux to rest-frame\n",
    "    rest_wave = wave / (1 + sdss_data.meta['z'])\n",
    "    rest_flux = flux * 10 ** (0.4 * mag_ext)\n",
    "    bin_flux = median_filter(rest_flux, bin_size)\n",
    "    \n",
    "    fig, axis = plt.subplots(figsize=figsize)\n",
    "\n",
    "    \n",
    "    feature_measurements = pipeline_data.loc[int(obj_id), time]\n",
    "    for feat, feat_data in feature_measurements.groupby('feat_name'):\n",
    "        feat_start = feat_data.feat_start.iloc[0]\n",
    "        flux_start = np.interp(feat_start, rest_wave, bin_flux)\n",
    "        \n",
    "        feat_end = feat_data.feat_end.iloc[0]\n",
    "        flux_end = np.interp(feat_end, rest_wave, bin_flux)\n",
    "        \n",
    "        i = np.where((feat_start <= rest_wave) & (rest_wave <= feat_end))[0]\n",
    "        x = rest_wave[i]\n",
    "        y2 = rest_flux[i]\n",
    "        \n",
    "        fit_params = np.polyfit([feat_start, feat_end], [flux_start, flux_end], 1)\n",
    "        fit_func = np.poly1d(fit_params)\n",
    "        y = fit_func(x)\n",
    " \n",
    "        axis.fill_between(x, y2, y, alpha=.4, label=f'{feature_alias[feat]} ({feat})')\n",
    "    \n",
    "    axis.plot(rest_wave, rest_flux, color='#AAAAAA', linewidth=.5)\n",
    "    axis.plot(rest_wave, bin_flux, color='k', linewidth=1)\n",
    "    \n",
    "    axis.legend()\n",
    "    axis.set_xlabel('Wavelength')\n",
    "    axis.set_ylabel('Flux')\n",
    "    "
   ]
  },
  {
   "cell_type": "code",
   "execution_count": null,
   "id": "accessible-bracket",
   "metadata": {},
   "outputs": [],
   "source": [
    "plot_sdss_spectrum_measurements(1241, 2453636.5)\n",
    "plt.xlim(3500, 6500)\n",
    "plt.ylim(0)"
   ]
  },
  {
   "cell_type": "code",
   "execution_count": null,
   "id": "alive-gateway",
   "metadata": {},
   "outputs": [],
   "source": []
  }
 ],
 "metadata": {
  "kernelspec": {
   "display_name": "Python [conda env:SN-Spectral-Evolution] *",
   "language": "python",
   "name": "conda-env-SN-Spectral-Evolution-py"
  },
  "language_info": {
   "codemirror_mode": {
    "name": "ipython",
    "version": 3
   },
   "file_extension": ".py",
   "mimetype": "text/x-python",
   "name": "python",
   "nbconvert_exporter": "python",
   "pygments_lexer": "ipython3",
   "version": "3.7.9"
  }
 },
 "nbformat": 4,
 "nbformat_minor": 5
}
