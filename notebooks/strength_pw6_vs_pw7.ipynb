{
 "cells": [
  {
   "cell_type": "markdown",
   "metadata": {},
   "source": [
    "# strength of pw6 feature vs pw7 feature"
   ]
  },
  {
   "cell_type": "markdown",
   "metadata": {},
   "source": [
    "this notebook compares the strength of pw6 against the strength of pw7 based on handmade measurements of PEWs.\n",
    "it classifies each object as its respective Branch subtype based on these measurements.\n",
    "it compares these classifications to those made by CSP"
   ]
  },
  {
   "cell_type": "code",
   "execution_count": null,
   "metadata": {},
   "outputs": [],
   "source": [
    "import pandas as pd\n",
    "import matplotlib.pyplot as plt\n",
    "import numpy as np\n",
    "import sndata\n",
    "from sndata.csp import DR1\n",
    "dr1 = DR1()"
   ]
  },
  {
   "cell_type": "markdown",
   "metadata": {},
   "source": [
    "# preliminary imports/reading data"
   ]
  },
  {
   "cell_type": "code",
   "execution_count": null,
   "metadata": {},
   "outputs": [],
   "source": [
    "dr1.download_module_data()"
   ]
  },
  {
   "cell_type": "code",
   "execution_count": null,
   "metadata": {
    "scrolled": true
   },
   "outputs": [],
   "source": [
    "emdata = pd.read_csv('~/Desktop/Research/SN-Spectral-Evolution/results/emily_csp.csv')\n",
    "\n",
    "eldata = pd.read_csv('~/Desktop/Research/SN-Spectral-Evolution/results/ella_csp.csv')\n",
    "\n",
    "andata = pd.read_csv('~/Desktop/Research/SN-Spectral-Evolution/results/anish_csp.csv')\n",
    "\n",
    "andata.head()\n",
    "#reading csv file with our measurements in as a pandas dataframe"
   ]
  },
  {
   "cell_type": "markdown",
   "metadata": {},
   "source": [
    "# compiling our feature 6 data and feature 7 data and indexing"
   ]
  },
  {
   "cell_type": "code",
   "execution_count": null,
   "metadata": {
    "scrolled": true
   },
   "outputs": [],
   "source": [
    "emseven_data = emdata[emdata['feat_name'] == 'pW7']\n",
    "\n",
    "elseven_data = eldata[eldata['feat_name'] == 'pW7']\n",
    "\n",
    "anseven_data = andata[andata['feat_name'] == 'pW7']\n",
    "\n",
    "emseven_data.head()\n",
    "#making a dataframe of only the pW7 measurements"
   ]
  },
  {
   "cell_type": "code",
   "execution_count": null,
   "metadata": {
    "scrolled": false
   },
   "outputs": [],
   "source": [
    "emsix_data = emdata[emdata['feat_name'] == 'pW6']\n",
    "\n",
    "elsix_data = eldata[eldata['feat_name'] == 'pW6']\n",
    "\n",
    "ansix_data = andata[andata['feat_name'] == 'pW6']\n",
    "\n",
    "emsix_data.head()\n",
    "#making a dataframe of only the pW6 measurements"
   ]
  },
  {
   "cell_type": "code",
   "execution_count": null,
   "metadata": {
    "scrolled": true
   },
   "outputs": [],
   "source": [
    "emsix_data2 = emsix_data.set_index(['obj_id' , 'time'])\n",
    "emseven_data2 = emseven_data.set_index(['obj_id' , 'time'])\n",
    "\n",
    "elsix_data2 = elsix_data.set_index(['obj_id' , 'time'])\n",
    "elseven_data2 = elseven_data.set_index(['obj_id' , 'time'])\n",
    "\n",
    "ansix_data2 = ansix_data.set_index(['obj_id' , 'time'])\n",
    "anseven_data2 = anseven_data.set_index(['obj_id' , 'time'])\n",
    "\n",
    "#indexing the two dataframes by object id and time so we can later join them on that parameter"
   ]
  },
  {
   "cell_type": "markdown",
   "metadata": {},
   "source": [
    "# joining our data"
   ]
  },
  {
   "cell_type": "code",
   "execution_count": null,
   "metadata": {
    "scrolled": false
   },
   "outputs": [],
   "source": [
    "emjoined_data = emsix_data2.join(emseven_data2 , lsuffix = 'six' , rsuffix = 'seven')\n",
    "emjoined_data.dropna(subset = ['pewsix' , 'pewseven'])\n",
    "\n",
    "eljoined_data = elsix_data2.join(elseven_data2 , lsuffix = 'six' , rsuffix = 'seven')\n",
    "eljoined_data.dropna(subset = ['pewsix' , 'pewseven'])\n",
    "\n",
    "anjoined_data = ansix_data2.join(anseven_data2 , lsuffix = 'six' , rsuffix = 'seven')\n",
    "anjoined_data.dropna(subset = ['pewsix' , 'pewseven'])\n",
    "\n",
    "emjoined_data.head()\n",
    "#joining the pw6 and pw7 dataframes and suffixing measurements to reflect feature number"
   ]
  },
  {
   "cell_type": "markdown",
   "metadata": {},
   "source": [
    "# basic graph without identifying subtypes of our pw6 vs pw7 measurements"
   ]
  },
  {
   "cell_type": "code",
   "execution_count": null,
   "metadata": {
    "scrolled": false
   },
   "outputs": [],
   "source": [
    "plt.scatter(emjoined_data['pewseven'] , emjoined_data['pewsix'] , s=50 , color = 'black')\n",
    "plt.errorbar(emjoined_data['pewseven'] , emjoined_data['pewsix'] , xerr = emjoined_data['pew_samperrseven'] , yerr = emjoined_data['pew_samperrsix'] , fmt='o')\n",
    "plt.scatter(eljoined_data['pewseven'] , eljoined_data['pewsix'] , s=50 , color = 'black')\n",
    "plt.errorbar(eljoined_data['pewseven'] , eljoined_data['pewsix'] , xerr = eljoined_data['pew_samperrseven'] , yerr = eljoined_data['pew_samperrsix'] , fmt='o')\n",
    "plt.scatter(anjoined_data['pewseven'] , anjoined_data['pewsix'] , s=50 , color = 'black')\n",
    "plt.title('All Strength of pW6 vs pW7')\n",
    "plt.xlabel('pew of pW7')\n",
    "plt.ylabel('pew of pW6')\n",
    "plt.errorbar(anjoined_data['pewseven'] , anjoined_data['pewsix'] , xerr = anjoined_data['pew_samperrseven'] , yerr = anjoined_data['pew_samperrsix'] , fmt='o')\n",
    "figure = plt.gcf()\n",
    "figure.set_size_inches(11 , 9)\n",
    "\n",
    "plt.savefig('feature_comparison_all.png')\n",
    "#plotting the strength/pew of pw6 against pw7 and their sample error bars. "
   ]
  },
  {
   "cell_type": "markdown",
   "metadata": {},
   "source": [
    "# classifying subtypes"
   ]
  },
  {
   "cell_type": "markdown",
   "metadata": {},
   "source": [
    "Boundaries pulled from https://iopscience.iop.org/article/10.1088/0004-637X/773/1/53/pdf"
   ]
  },
  {
   "cell_type": "markdown",
   "metadata": {},
   "source": [
    "CL SNe: pW6 (Si ii 5972) > 30 Å,"
   ]
  },
  {
   "cell_type": "markdown",
   "metadata": {},
   "source": [
    "BL SNe: pW7 (Si ii 6355) > 105 Å and pW6 (Si ii 5972) < 30 Å,"
   ]
  },
  {
   "cell_type": "markdown",
   "metadata": {},
   "source": [
    "SS SNe: pW7 (Si ii 6355) < 70 Å,"
   ]
  },
  {
   "cell_type": "markdown",
   "metadata": {},
   "source": [
    "CN SNe: 70 <= pW7 (Si ii 6355) <= 105 Å \n",
    "           and pW6 (Si ii 5972) <= 30 Å."
   ]
  },
  {
   "cell_type": "code",
   "execution_count": null,
   "metadata": {
    "scrolled": true
   },
   "outputs": [],
   "source": [
    "em_cl_six_data = emsix_data2[emsix_data2['pew'] > 30.0 ]\n",
    "em_cl_data = em_cl_six_data.join(emseven_data2 , lsuffix = 'six' , rsuffix = 'seven')\n",
    "em_cl_data.dropna(subset = ['pewsix' , 'pewseven'] , inplace = True)\n",
    "\n",
    "el_cl_six_data = elsix_data2[elsix_data2['pew'] > 30.0 ]\n",
    "el_cl_data = el_cl_six_data.join(elseven_data2 , lsuffix = 'six' , rsuffix = 'seven')\n",
    "el_cl_data.dropna(subset = ['pewsix' , 'pewseven'] , inplace = True)\n",
    "\n",
    "an_cl_six_data = ansix_data2[ansix_data2['pew'] > 30.0 ]\n",
    "an_cl_data = an_cl_six_data.join(anseven_data2 , lsuffix = 'six' , rsuffix = 'seven')\n",
    "an_cl_data.dropna(subset = ['pewsix' , 'pewseven'] , inplace = True)\n",
    "\n",
    "#Making a dataframe of cool subtypes based on feature boundaries above. \n",
    "#Taking only indexed pw6 data and manipulating it, then joining the pw6 data that fit the \n",
    "#parameters with the pw7 data to generate a dataframe with only object ids with features that follow the \n",
    "#parameters for the cool subtype above\n",
    "em_cl_data.head()"
   ]
  },
  {
   "cell_type": "code",
   "execution_count": null,
   "metadata": {
    "scrolled": true
   },
   "outputs": [],
   "source": [
    "em_bl_six_data = emsix_data2[emsix_data2['pew'] < 30.0]\n",
    "em_bl_seven_data = emseven_data2[emseven_data2['pew'] > 105.0]\n",
    "em_bl_data = em_bl_six_data.join(em_bl_seven_data , lsuffix = 'six' , rsuffix = 'seven')\n",
    "em_bl_data.dropna(subset = ['pewsix' , 'pewseven'] , inplace = True)\n",
    "\n",
    "el_bl_six_data = elsix_data2[elsix_data2['pew'] < 30.0]\n",
    "el_bl_seven_data = elseven_data2[elseven_data2['pew'] > 105.0]\n",
    "el_bl_data = el_bl_six_data.join(el_bl_seven_data , lsuffix = 'six' , rsuffix = 'seven')\n",
    "el_bl_data.dropna(subset = ['pewsix' , 'pewseven'] , inplace = True)\n",
    "\n",
    "an_bl_six_data = ansix_data2[ansix_data2['pew'] < 30.0]\n",
    "an_bl_seven_data = anseven_data2[anseven_data2['pew'] > 105.0]\n",
    "an_bl_data = an_bl_six_data.join(an_bl_seven_data , lsuffix = 'six' , rsuffix = 'seven')\n",
    "an_bl_data.dropna(subset = ['pewsix' , 'pewseven'] , inplace = True)\n",
    "\n",
    "#Making a dataframe of broad line subtypes based on feature boundaries above. \n",
    "em_bl_data.head()"
   ]
  },
  {
   "cell_type": "code",
   "execution_count": null,
   "metadata": {},
   "outputs": [],
   "source": [
    "em_ss_seven_data = emseven_data2[emseven_data2['pew'] < 70.0]\n",
    "em_ss_data = emsix_data2.join(em_ss_seven_data , lsuffix = 'six' , rsuffix = 'seven')\n",
    "em_ss_data.dropna(subset = ['pewsix' , 'pewseven'] , inplace = True)\n",
    "\n",
    "el_ss_seven_data = elseven_data2[elseven_data2['pew'] < 70.0]\n",
    "el_ss_data = elsix_data2.join(el_ss_seven_data , lsuffix = 'six' , rsuffix = 'seven')\n",
    "el_ss_data.dropna(subset = ['pewsix' , 'pewseven'] , inplace = True)\n",
    "\n",
    "an_ss_seven_data = anseven_data2[anseven_data2['pew'] < 70.0]\n",
    "an_ss_data = ansix_data2.join(an_ss_seven_data , lsuffix = 'six' , rsuffix = 'seven')\n",
    "an_ss_data.dropna(subset = ['pewsix' , 'pewseven'] , inplace = True)\n",
    "\n",
    "#Making a dataframe of shallow silicon subtypes based on feature boundaries above. \n",
    "em_ss_data"
   ]
  },
  {
   "cell_type": "code",
   "execution_count": null,
   "metadata": {},
   "outputs": [],
   "source": [
    "em_cn_seven_data = emseven_data2[(emseven_data2['pew'] <= 105.0) & (emseven_data2['pew'] >= 70.0)]\n",
    "em_cn_six_data = emsix_data2[emsix_data2['pew'] <= 30.0]\n",
    "em_cn_data = em_cn_six_data.join(em_cn_seven_data , lsuffix = 'six' , rsuffix = 'seven')\n",
    "em_cn_data.dropna(subset = ['pewsix' , 'pewseven'] , inplace = True)\n",
    "\n",
    "el_cn_seven_data = elseven_data2[(elseven_data2['pew'] <= 105.0) & (elseven_data2['pew'] >= 70.0)]\n",
    "el_cn_six_data = elsix_data2[elsix_data2['pew'] <= 30.0]\n",
    "el_cn_data = el_cn_six_data.join(el_cn_seven_data , lsuffix = 'six' , rsuffix = 'seven')\n",
    "el_cn_data.dropna(subset = ['pewsix' , 'pewseven'] , inplace = True)\n",
    "\n",
    "an_cn_seven_data = anseven_data2[(anseven_data2['pew'] <= 105.0) & (anseven_data2['pew'] >= 70.0)]\n",
    "an_cn_six_data = ansix_data2[ansix_data2['pew'] <= 30.0]\n",
    "an_cn_data = an_cn_six_data.join(an_cn_seven_data , lsuffix = 'six' , rsuffix = 'seven')\n",
    "an_cn_data.dropna(subset = ['pewsix' , 'pewseven'] , inplace = True)\n",
    "\n",
    "em_cn_data.head()\n",
    "#Making a dataframe of core normal subtypes based on feature boundaries above. "
   ]
  },
  {
   "cell_type": "markdown",
   "metadata": {},
   "source": [
    "# plotting classifications"
   ]
  },
  {
   "cell_type": "code",
   "execution_count": null,
   "metadata": {},
   "outputs": [],
   "source": [
    "#Cool \n",
    "plt.scatter(em_cl_data['pewseven'] , em_cl_data['pewsix'] , label = 'Cool' , s = 50 , color = 'blue' , marker = 's')\n",
    "plt.errorbar(em_cl_data['pewseven'] , em_cl_data['pewsix'] , xerr = em_cl_data['pew_samperrseven'] , yerr = em_cl_data['pew_samperrsix'] , fmt = 'none' , color = 'blue' , alpha = 0.3)\n",
    "#Broad Line\n",
    "plt.scatter(em_bl_data['pewseven'] , em_bl_data['pewsix'] , label = 'Broad Line' , s = 90 , color = 'red' , marker = '^')\n",
    "plt.errorbar(em_bl_data['pewseven'] , em_bl_data['pewsix'] , xerr = em_bl_data['pew_samperrseven'] , yerr = em_bl_data['pew_samperrsix'] , fmt = 'none' , color = 'red' , alpha = 0.3)\n",
    "#Shallow Silicon\n",
    "plt.scatter(em_ss_data['pewseven'] , em_ss_data['pewsix'] , label = 'Shallow Silicon' , s = 110 , color = 'green' , marker = '*')\n",
    "plt.errorbar(em_ss_data['pewseven'] , em_ss_data['pewsix'] , xerr = em_ss_data['pew_samperrseven'] , yerr = em_ss_data['pew_samperrsix'] , fmt = 'none' , color = 'green' , alpha = 0.3)\n",
    "#Core Normal\n",
    "plt.scatter(em_cn_data['pewseven'] , em_cn_data['pewsix'] , label = 'Core Normal' , s = 150 , color = 'black' , marker = '.')\n",
    "plt.errorbar(em_cn_data['pewseven'] , em_cn_data['pewsix'] , xerr = em_cn_data['pew_samperrseven'] , yerr = em_cn_data['pew_samperrsix'] , fmt = 'none' , color = 'black' , alpha = 0.3)\n",
    "\n",
    "plt.title('Emily Strength of pW6 vs pW7')\n",
    "plt.legend(loc = ('upper left'))\n",
    "plt.xlabel('pew of pW7')\n",
    "plt.ylabel('pew of pW6')\n",
    "figure = plt.gcf()\n",
    "figure.set_size_inches(11, 9)\n",
    "\n",
    "plt.savefig('feature_comparison_emily.png')"
   ]
  },
  {
   "cell_type": "code",
   "execution_count": null,
   "metadata": {
    "scrolled": true
   },
   "outputs": [],
   "source": [
    "emjoined_data2 = emjoined_data[['pewsix' , 'pewseven']]\n",
    "emjoined_data2"
   ]
  },
  {
   "cell_type": "code",
   "execution_count": null,
   "metadata": {},
   "outputs": [],
   "source": [
    "#Cool \n",
    "plt.scatter(el_cl_data['pewseven'] , el_cl_data['pewsix'] , label = 'Cool' , s = 50 , color = 'blue' , marker = 's')\n",
    "plt.errorbar(el_cl_data['pewseven'] , el_cl_data['pewsix'] , xerr = el_cl_data['pew_samperrseven'] , yerr = el_cl_data['pew_samperrsix'] , fmt = 'none' , color = 'blue' , alpha = 0.3)\n",
    "#Broad Line\n",
    "plt.scatter(el_bl_data['pewseven'] , el_bl_data['pewsix'] , label = 'Broad Line' , s = 90 , color = 'red' , marker = '^')\n",
    "plt.errorbar(el_bl_data['pewseven'] , el_bl_data['pewsix'] , xerr = el_bl_data['pew_samperrseven'] , yerr = el_bl_data['pew_samperrsix'] , fmt = 'none' , color = 'red' , alpha = 0.3)\n",
    "#Shallow Silicon\n",
    "plt.scatter(el_ss_data['pewseven'] , el_ss_data['pewsix'] , label = 'Shallow Silicon' , s = 110 , color = 'green' , marker = '*')\n",
    "plt.errorbar(el_ss_data['pewseven'] , el_ss_data['pewsix'] , xerr = el_ss_data['pew_samperrseven'] , yerr = el_ss_data['pew_samperrsix'] , fmt = 'none' , color = 'green' , alpha = 0.3)\n",
    "#Core Normal\n",
    "plt.scatter(el_cn_data['pewseven'] , el_cn_data['pewsix'] , label = 'Core Normal' , s = 150 , color = 'black' , marker = '.')\n",
    "plt.errorbar(el_cn_data['pewseven'] , el_cn_data['pewsix'] , xerr = el_cn_data['pew_samperrseven'] , yerr = el_cn_data['pew_samperrsix'] , fmt = 'none' , color = 'black' , alpha = 0.3)\n",
    "\n",
    "plt.title('Ella Strength of pW6 vs pW7')\n",
    "plt.legend(loc = ('upper left'))\n",
    "plt.xlabel('pew of pW7')\n",
    "plt.ylabel('pew of pW6')\n",
    "figure = plt.gcf()\n",
    "figure.set_size_inches(11 , 9)\n",
    "\n",
    "plt.savefig('feature_comparison_ella.png')"
   ]
  },
  {
   "cell_type": "code",
   "execution_count": null,
   "metadata": {
    "scrolled": true
   },
   "outputs": [],
   "source": [
    "eljoined_data2 = eljoined_data[['pewsix' , 'pewseven']]\n",
    "eljoined_data2"
   ]
  },
  {
   "cell_type": "code",
   "execution_count": null,
   "metadata": {},
   "outputs": [],
   "source": [
    "#Cool \n",
    "plt.scatter(an_cl_data['pewseven'] , an_cl_data['pewsix'] , label = 'Cool' , s = 50 , color = 'blue' , marker = 's')\n",
    "plt.errorbar(an_cl_data['pewseven'] , an_cl_data['pewsix'] , xerr = an_cl_data['pew_samperrseven'], yerr = an_cl_data['pew_samperrsix'] , fmt = 'none' , color = 'blue' , alpha = 0.3)\n",
    "#Broad Line\n",
    "plt.scatter(an_bl_data['pewseven'] , an_bl_data['pewsix'] , label = 'Broad Line' , s = 90 , color = 'red' , marker = '^')\n",
    "plt.errorbar(an_bl_data['pewseven'] , an_bl_data['pewsix'] , xerr = an_bl_data['pew_samperrseven'] , yerr = an_bl_data['pew_samperrsix'] , fmt = 'none' , color = 'red' , alpha = 0.3)\n",
    "#Shallow Silicon\n",
    "plt.scatter(an_ss_data['pewseven'] , an_ss_data['pewsix'] , label = 'Shallow Silicon' , s = 110 , color = 'green' , marker = '*')\n",
    "plt.errorbar(an_ss_data['pewseven'] , an_ss_data['pewsix'] , xerr = an_ss_data['pew_samperrseven'] , yerr = an_ss_data['pew_samperrsix'] , fmt = 'none' , color = 'green' , alpha = 0.3)\n",
    "#Core Normal\n",
    "plt.scatter(an_cn_data['pewseven'] , an_cn_data['pewsix'] , label = 'Core Normal' , s = 150 , color = 'black' , marker = '.')\n",
    "plt.errorbar(an_cn_data['pewseven'] , an_cn_data['pewsix'] , xerr = an_cn_data['pew_samperrseven'] , yerr = an_cn_data['pew_samperrsix'] , fmt = 'none' , color = 'black' , alpha = 0.3)\n",
    "\n",
    "plt.title('Anish Strength of pW6 vs pW7')\n",
    "plt.legend(loc = ('upper left'))\n",
    "plt.xlabel('pew of pW7')\n",
    "plt.ylabel('pew of pW6')\n",
    "figure = plt.gcf()\n",
    "figure.set_size_inches(11 , 9)\n",
    "\n",
    "plt.savefig('feature_comparison_anish.png')"
   ]
  },
  {
   "cell_type": "code",
   "execution_count": null,
   "metadata": {
    "scrolled": true
   },
   "outputs": [],
   "source": [
    "anjoined_data2 = anjoined_data[['pewsix' , 'pewseven']]\n",
    "anjoined_data2"
   ]
  },
  {
   "cell_type": "markdown",
   "metadata": {},
   "source": [
    "# comparing csp classifications to our classifications"
   ]
  },
  {
   "cell_type": "code",
   "execution_count": null,
   "metadata": {
    "scrolled": false
   },
   "outputs": [],
   "source": [
    "csp_table = dr1.load_table(1)\n",
    "csp_df = csp_table.to_pandas()\n",
    "csp_df = csp_df.rename(columns = {'SN' : 'obj_id'})\n",
    "csp_df = csp_df.set_index(['obj_id'])\n",
    "csp_df\n",
    "\n",
    "#loading in and indexing/renaming the csp data "
   ]
  },
  {
   "cell_type": "code",
   "execution_count": null,
   "metadata": {
    "scrolled": true
   },
   "outputs": [],
   "source": [
    "pd.set_option('display.max_rows', 500)\n",
    "csp_obj_df = csp_df['Bst']\n",
    "csp_obj_df.head(93)\n",
    "#creating a dataframe of just the object id and subtype from csp data"
   ]
  },
  {
   "cell_type": "code",
   "execution_count": null,
   "metadata": {},
   "outputs": [],
   "source": [
    "em_bl_data_unindexed = em_bl_data.reset_index()\n",
    "em_bl_obj_list = em_bl_data_unindexed['obj_id'].values.tolist()\n",
    "em_bl_obj_list = [[obj_id , 'BL'] for obj_id in em_bl_obj_list]\n",
    "em_bl_obj_df = pd.DataFrame(em_bl_obj_list , columns = ['obj_id' , 'Bst']) \n",
    "\n",
    "em_cl_data_unindexed = em_cl_data.reset_index()\n",
    "em_cl_obj_list = em_cl_data_unindexed['obj_id'].values.tolist()\n",
    "em_cl_obj_list = [[obj_id , 'CL'] for obj_id in em_cl_obj_list]\n",
    "em_cl_obj_df = pd.DataFrame(em_cl_obj_list , columns = ['obj_id' , 'Bst']) \n",
    "\n",
    "em_ss_data_unindexed = em_ss_data.reset_index()\n",
    "em_ss_obj_list = em_ss_data_unindexed['obj_id'].values.tolist()\n",
    "em_ss_obj_list = [[obj_id , 'SS'] for obj_id in em_ss_obj_list]\n",
    "em_ss_obj_df = pd.DataFrame(em_ss_obj_list , columns = ['obj_id' , 'Bst']) \n",
    "\n",
    "em_cn_data_unindexed = em_cn_data.reset_index()\n",
    "em_cn_obj_list = em_cn_data_unindexed['obj_id'].values.tolist()\n",
    "em_cn_obj_list = [[obj_id , 'CN'] for obj_id in em_cn_obj_list]\n",
    "em_cn_obj_df = pd.DataFrame(em_cn_obj_list , columns = ['obj_id' , 'Bst']) \n",
    "\n",
    "#resetting the index for the dataframes that include only object ids for each subtype. \n",
    "#making the dataframes into lists of object ids\n",
    "#making the lists multidimensional by adding the classification as the second dimension\n",
    "#making the lists into new dataframes with two columns, object id and classification"
   ]
  },
  {
   "cell_type": "code",
   "execution_count": null,
   "metadata": {},
   "outputs": [],
   "source": [
    "el_bl_data_unindexed = el_bl_data.reset_index()\n",
    "el_bl_obj_list = el_bl_data_unindexed['obj_id'].values.tolist()\n",
    "el_bl_obj_list = [[obj_id , 'BL'] for obj_id in el_bl_obj_list]\n",
    "el_bl_obj_df = pd.DataFrame(el_bl_obj_list , columns = ['obj_id' , 'Bst']) \n",
    "\n",
    "el_cl_data_unindexed = el_cl_data.reset_index()\n",
    "el_cl_obj_list = el_cl_data_unindexed['obj_id'].values.tolist()\n",
    "el_cl_obj_list = [[obj_id , 'CL'] for obj_id in el_cl_obj_list]\n",
    "el_cl_obj_df = pd.DataFrame(el_cl_obj_list , columns = ['obj_id' , 'Bst']) \n",
    "\n",
    "el_ss_data_unindexed = el_ss_data.reset_index()\n",
    "el_ss_obj_list = el_ss_data_unindexed['obj_id'].values.tolist()\n",
    "el_ss_obj_list = [[obj_id , 'SS'] for obj_id in el_ss_obj_list]\n",
    "el_ss_obj_df = pd.DataFrame(el_ss_obj_list , columns = ['obj_id' , 'Bst']) \n",
    "\n",
    "el_cn_data_unindexed = el_cn_data.reset_index()\n",
    "el_cn_obj_list = el_cn_data_unindexed['obj_id'].values.tolist()\n",
    "el_cn_obj_list = [[obj_id , 'CN'] for obj_id in el_cn_obj_list]\n",
    "el_cn_obj_df = pd.DataFrame(el_cn_obj_list , columns = ['obj_id' , 'Bst']) "
   ]
  },
  {
   "cell_type": "code",
   "execution_count": null,
   "metadata": {},
   "outputs": [],
   "source": [
    "an_bl_data_unindexed = an_bl_data.reset_index()\n",
    "an_bl_obj_list = an_bl_data_unindexed['obj_id'].values.tolist()\n",
    "an_bl_obj_list = [[obj_id , 'BL'] for obj_id in an_bl_obj_list]\n",
    "an_bl_obj_df = pd.DataFrame(an_bl_obj_list , columns = ['obj_id' , 'Bst']) \n",
    "\n",
    "an_cl_data_unindexed = an_cl_data.reset_index()\n",
    "an_cl_obj_list = an_cl_data_unindexed['obj_id'].values.tolist()\n",
    "an_cl_obj_list = [[obj_id , 'CL'] for obj_id in an_cl_obj_list]\n",
    "an_cl_obj_df = pd.DataFrame(an_cl_obj_list , columns = ['obj_id' , 'Bst']) \n",
    "\n",
    "an_ss_data_unindexed = an_ss_data.reset_index()\n",
    "an_ss_obj_list = an_ss_data_unindexed['obj_id'].values.tolist()\n",
    "an_ss_obj_list = [[obj_id , 'SS'] for obj_id in an_ss_obj_list]\n",
    "an_ss_obj_df = pd.DataFrame(an_ss_obj_list , columns = ['obj_id' , 'Bst']) \n",
    "\n",
    "an_cn_data_unindexed = an_cn_data.reset_index()\n",
    "an_cn_obj_list = an_cn_data_unindexed['obj_id'].values.tolist()\n",
    "an_cn_obj_list = [[obj_id , 'CN'] for obj_id in an_cn_obj_list]\n",
    "an_cn_obj_df = pd.DataFrame(an_cn_obj_list , columns = ['obj_id' , 'Bst']) "
   ]
  },
  {
   "cell_type": "code",
   "execution_count": null,
   "metadata": {
    "scrolled": true
   },
   "outputs": [],
   "source": [
    "em_obj_df = em_bl_obj_df.append(em_cl_obj_df)\n",
    "em_obj_df = em_obj_df.append(em_ss_obj_df)\n",
    "em_obj_df = em_obj_df.append(em_cn_obj_df)\n",
    "em_obj_df = em_obj_df.set_index(['obj_id'])\n",
    "em_obj_df\n",
    "#appending all 4 of the dataframes with the subtypes into one"
   ]
  },
  {
   "cell_type": "code",
   "execution_count": null,
   "metadata": {
    "scrolled": true
   },
   "outputs": [],
   "source": [
    "el_obj_df = el_bl_obj_df.append(el_cl_obj_df)\n",
    "el_obj_df = el_obj_df.append(el_ss_obj_df)\n",
    "el_obj_df = el_obj_df.append(el_cn_obj_df)\n",
    "el_obj_df = el_obj_df.set_index(['obj_id'])\n",
    "el_obj_df"
   ]
  },
  {
   "cell_type": "code",
   "execution_count": null,
   "metadata": {
    "scrolled": true
   },
   "outputs": [],
   "source": [
    "an_obj_df = an_bl_obj_df.append(an_cl_obj_df)\n",
    "an_obj_df = an_obj_df.append(an_ss_obj_df)\n",
    "an_obj_df = an_obj_df.append(an_cn_obj_df)\n",
    "an_obj_df = an_obj_df.set_index(['obj_id'])\n",
    "an_obj_df"
   ]
  },
  {
   "cell_type": "code",
   "execution_count": null,
   "metadata": {},
   "outputs": [],
   "source": [
    "comparison = pd.concat([em_obj_df , el_obj_df , an_obj_df , csp_obj_df], axis=1, sort=False)\n",
    "comparison.columns = ['anish_type' , 'ella_type' , 'emily_type' , 'csp_type']\n",
    "comparison\n",
    "#joining the dataframe of our classifications with that of CSP's "
   ]
  },
  {
   "cell_type": "code",
   "execution_count": null,
   "metadata": {},
   "outputs": [],
   "source": [
    "comparison.to_csv('branch_subtype_comparison.csv')"
   ]
  },
  {
   "cell_type": "code",
   "execution_count": null,
   "metadata": {},
   "outputs": [],
   "source": [
    "#not_equal = comparison[(comparison['emily_type'] != comparison['csp_type']) \n",
    "                       #or (comparison['ella_type'] != comparison['csp_type']) \n",
    "                       #or (comparison['anish_type'] != comparison['csp_type'])]\n",
    "#not_equal\n",
    "#WIP. Creating a dataframe of only the object ids where CSP classified differently than us "
   ]
  },
  {
   "cell_type": "markdown",
   "metadata": {},
   "source": [
    "# bokeh plots"
   ]
  },
  {
   "cell_type": "markdown",
   "metadata": {},
   "source": [
    "http://docs.bokeh.org/en/0.11.1/docs/user_guide/tools.html"
   ]
  },
  {
   "cell_type": "code",
   "execution_count": null,
   "metadata": {},
   "outputs": [],
   "source": [
    "em_cl_data2 = em_cl_data.reset_index()\n",
    "em_bl_data2 = em_bl_data.reset_index()\n",
    "em_ss_data2 = em_ss_data.reset_index()\n",
    "em_cn_data2 = em_cn_data.reset_index()"
   ]
  },
  {
   "cell_type": "markdown",
   "metadata": {},
   "source": [
    "emily's pw6 vs pw7"
   ]
  },
  {
   "cell_type": "code",
   "execution_count": null,
   "metadata": {},
   "outputs": [],
   "source": [
    "from bokeh.plotting import figure, output_file, show, ColumnDataSource\n",
    "from bokeh.models import HoverTool\n",
    "\n",
    "output_file('toolbar.html')\n",
    "\n",
    "source_cl = ColumnDataSource(\n",
    "        data = dict(\n",
    "            x = em_cl_data2['pewseven'] ,\n",
    "            y = em_cl_data2['pewsix'] ,\n",
    "            desc = em_cl_data2['obj_id'] ,\n",
    "        )\n",
    "    )\n",
    "source_bl = ColumnDataSource(\n",
    "        data = dict(\n",
    "            x = em_bl_data2['pewseven'] ,\n",
    "            y = em_bl_data2['pewsix'] ,\n",
    "            desc = em_bl_data2['obj_id'] ,\n",
    "        )\n",
    "    )\n",
    "source_ss = ColumnDataSource(\n",
    "        data = dict(\n",
    "            x = em_ss_data2['pewseven'] ,\n",
    "            y = em_ss_data2['pewsix'] ,\n",
    "            desc = em_ss_data2['obj_id'] ,\n",
    "        )\n",
    "    )\n",
    "source_cn = ColumnDataSource(\n",
    "        data = dict(\n",
    "            x = em_cn_data2['pewseven'] ,\n",
    "            y = em_cn_data2['pewsix'] ,\n",
    "            desc = em_cn_data2['obj_id'] ,\n",
    "        )\n",
    "    )\n",
    "\n",
    "\n",
    "hover = HoverTool(\n",
    "        tooltips = [\n",
    "            ('index' , '$index') ,\n",
    "            ('(x,y)' , '($x, $y)') ,\n",
    "            ('desc' , '@desc') ,\n",
    "        ]\n",
    "    )\n",
    "\n",
    "p = figure(plot_width = 600 , plot_height = 600 , tools = [hover] ,\n",
    "           title = 'emily strength of pw6 vs pw7')\n",
    "\n",
    "p.yaxis.axis_label = 'pw6'\n",
    "p.xaxis.axis_label = 'pw7'\n",
    "\n",
    "p.square('x' , 'y' , size = 10 , source = source_cl , color = 'blue')\n",
    "p.triangle('x' , 'y' , size = 10 , source = source_bl , color = 'red')\n",
    "p.diamond('x' , 'y' , size = 10 , source = source_ss , color = 'green')\n",
    "p.circle('x' , 'y' , size = 10 , source = source_cn , color = 'black')\n",
    "\n",
    "show(p)"
   ]
  },
  {
   "cell_type": "code",
   "execution_count": null,
   "metadata": {},
   "outputs": [],
   "source": [
    "el_cl_data2 = el_cl_data.reset_index()\n",
    "el_bl_data2 = el_bl_data.reset_index()\n",
    "el_ss_data2 = el_ss_data.reset_index()\n",
    "el_cn_data2 = el_cn_data.reset_index()"
   ]
  },
  {
   "cell_type": "markdown",
   "metadata": {},
   "source": [
    "ella's pw6 vs pw7"
   ]
  },
  {
   "cell_type": "code",
   "execution_count": null,
   "metadata": {},
   "outputs": [],
   "source": [
    "from bokeh.plotting import figure, output_file, show, ColumnDataSource\n",
    "from bokeh.models import HoverTool\n",
    "\n",
    "output_file('toolbar.html')\n",
    "\n",
    "source_cl = ColumnDataSource(\n",
    "        data = dict(\n",
    "            x = el_cl_data2['pewseven'] ,\n",
    "            y = el_cl_data2['pewsix'] ,\n",
    "            desc = el_cl_data2['obj_id'] ,\n",
    "        )\n",
    "    )\n",
    "source_bl = ColumnDataSource(\n",
    "        data = dict(\n",
    "            x = el_bl_data2['pewseven'] ,\n",
    "            y = el_bl_data2['pewsix'] ,\n",
    "            desc = el_bl_data2['obj_id'] ,\n",
    "        )\n",
    "    )\n",
    "source_ss = ColumnDataSource(\n",
    "        data = dict(\n",
    "            x = el_ss_data2['pewseven'] ,\n",
    "            y = el_ss_data2['pewsix'] ,\n",
    "            desc = el_ss_data2['obj_id'] ,\n",
    "        )\n",
    "    )\n",
    "source_cn = ColumnDataSource(\n",
    "        data = dict(\n",
    "            x = el_cn_data2['pewseven'] ,\n",
    "            y = el_cn_data2['pewsix'] ,\n",
    "            desc = el_cn_data2['obj_id'] ,\n",
    "        )\n",
    "    )\n",
    "\n",
    "\n",
    "hover = HoverTool(\n",
    "        tooltips = [\n",
    "            ('index' , '$index') ,\n",
    "            ('(x,y)' , '($x, $y)') ,\n",
    "            ('desc' , '@desc') ,\n",
    "        ]\n",
    "    )\n",
    "\n",
    "p = figure(plot_width = 600 , plot_height = 600 , tools = [hover] ,\n",
    "           title = 'ella strength of pw6 vs pw7')\n",
    "\n",
    "p.yaxis.axis_label = 'pw6'\n",
    "p.xaxis.axis_label = 'pw7'\n",
    "\n",
    "p.square('x' , 'y' , size = 10 , source = source_cl , color = 'blue')\n",
    "p.triangle('x' , 'y' , size = 10 , source = source_bl , color = 'red')\n",
    "p.diamond('x' , 'y' , size = 10 , source = source_ss , color = 'green')\n",
    "p.circle('x' , 'y' , size = 10 , source = source_cn , color = 'black')\n",
    "\n",
    "show(p)"
   ]
  },
  {
   "cell_type": "code",
   "execution_count": null,
   "metadata": {},
   "outputs": [],
   "source": [
    "an_cl_data2 = an_cl_data.reset_index()\n",
    "an_bl_data2 = an_bl_data.reset_index()\n",
    "an_ss_data2 = an_ss_data.reset_index()\n",
    "an_cn_data2 = an_cn_data.reset_index()"
   ]
  },
  {
   "cell_type": "markdown",
   "metadata": {},
   "source": [
    "anish's pw6 vs pw7"
   ]
  },
  {
   "cell_type": "code",
   "execution_count": null,
   "metadata": {},
   "outputs": [],
   "source": [
    "from bokeh.plotting import figure, output_file, show, ColumnDataSource\n",
    "from bokeh.models import HoverTool\n",
    "\n",
    "output_file('toolbar.html')\n",
    "\n",
    "source_cl = ColumnDataSource(\n",
    "        data = dict(\n",
    "            x = an_cl_data2['pewseven'] ,\n",
    "            y = an_cl_data2['pewsix'] ,\n",
    "            desc = an_cl_data2['obj_id'] ,\n",
    "        )\n",
    "    )\n",
    "source_bl = ColumnDataSource(\n",
    "        data = dict(\n",
    "            x = an_bl_data2['pewseven'] ,\n",
    "            y = an_bl_data2['pewsix'] ,\n",
    "            desc = an_bl_data2['obj_id'] ,\n",
    "        )\n",
    "    )\n",
    "source_ss = ColumnDataSource(\n",
    "        data = dict(\n",
    "            x = an_ss_data2['pewseven'] ,\n",
    "            y = an_ss_data2['pewsix'] ,\n",
    "            desc = an_ss_data2['obj_id'] ,\n",
    "        )\n",
    "    )\n",
    "source_cn = ColumnDataSource(\n",
    "        data = dict(\n",
    "            x = an_cn_data2['pewseven'] ,\n",
    "            y = an_cn_data2['pewsix'] ,\n",
    "            desc = an_cn_data2['obj_id'] ,\n",
    "        )\n",
    "    )\n",
    "\n",
    "\n",
    "hover = HoverTool(\n",
    "        tooltips = [\n",
    "            ('index' , '$index') ,\n",
    "            ('(x,y)' , '($x, $y)') ,\n",
    "            ('desc' , '@desc') ,\n",
    "        ]\n",
    "    )\n",
    "\n",
    "p = figure(plot_width = 600 , plot_height = 600 , tools = [hover] ,\n",
    "           title = 'anish strength of pw6 vs pw7')\n",
    "\n",
    "p.yaxis.axis_label = 'pw6'\n",
    "p.xaxis.axis_label = 'pw7'\n",
    "\n",
    "p.square('x' , 'y' , size = 10 , source = source_cl , color = 'blue')\n",
    "p.triangle('x' , 'y' , size = 10 , source = source_bl , color = 'red')\n",
    "p.diamond('x' , 'y' , size = 10 , source = source_ss , color = 'green')\n",
    "p.circle('x' , 'y' , size = 10 , source = source_cn , color = 'black')\n",
    "\n",
    "show(p)"
   ]
  },
  {
   "cell_type": "code",
   "execution_count": null,
   "metadata": {},
   "outputs": [],
   "source": [
    "emjoined_data2 = emjoined_data.reset_index()\n",
    "eljoined_data2 = eljoined_data.reset_index()\n",
    "anjoined_data2 = anjoined_data.reset_index()"
   ]
  },
  {
   "cell_type": "markdown",
   "metadata": {},
   "source": [
    "all of our points plotted together (emily=blue, ella=red, anish=black)"
   ]
  },
  {
   "cell_type": "code",
   "execution_count": null,
   "metadata": {},
   "outputs": [],
   "source": [
    "from bokeh.plotting import figure, output_file, show, ColumnDataSource\n",
    "from bokeh.models import HoverTool\n",
    "\n",
    "output_file('toolbar.html')\n",
    "\n",
    "source_em = ColumnDataSource(\n",
    "        data = dict(\n",
    "            x = emjoined_data2['pewseven'] ,\n",
    "            y = emjoined_data2['pewsix'] ,\n",
    "            desc = emjoined_data2['obj_id'] ,\n",
    "        )\n",
    "    )\n",
    "source_el = ColumnDataSource(\n",
    "        data = dict(\n",
    "            x = eljoined_data2['pewseven'] ,\n",
    "            y = eljoined_data2['pewsix'] ,\n",
    "            desc = eljoined_data2['obj_id'] ,\n",
    "        )\n",
    "    )\n",
    "source_an = ColumnDataSource(\n",
    "        data = dict(\n",
    "            x = anjoined_data2['pewseven'] ,\n",
    "            y = anjoined_data2['pewsix'] ,\n",
    "            desc = anjoined_data2['obj_id'] ,\n",
    "        )\n",
    "    )\n",
    "\n",
    "hover = HoverTool(\n",
    "        tooltips = [\n",
    "            ('index' , '$index') ,\n",
    "            ('(x,y)' , '($x, $y)') ,\n",
    "            ('desc' , '@desc') ,\n",
    "        ]\n",
    "    )\n",
    "\n",
    "p = figure(plot_width = 900 , plot_height = 800 , tools = [hover] ,\n",
    "           title = 'combined strength of pw6 vs pw7')\n",
    "\n",
    "p.yaxis.axis_label = 'pw6'\n",
    "p.xaxis.axis_label = 'pw7'\n",
    "\n",
    "p.circle('x' , 'y' , size = 5 , source = source_em , color = 'blue')\n",
    "p.circle('x' , 'y' , size = 5 , source = source_el , color = 'red')\n",
    "p.circle('x' , 'y' , size = 5 , source = source_an , color = 'black')\n",
    "\n",
    "show(p)"
   ]
  },
  {
   "cell_type": "code",
   "execution_count": null,
   "metadata": {},
   "outputs": [],
   "source": []
  }
 ],
 "metadata": {
  "kernelspec": {
   "display_name": "Python 3",
   "language": "python",
   "name": "python3"
  },
  "language_info": {
   "codemirror_mode": {
    "name": "ipython",
    "version": 3
   },
   "file_extension": ".py",
   "mimetype": "text/x-python",
   "name": "python",
   "nbconvert_exporter": "python",
   "pygments_lexer": "ipython3",
   "version": "3.7.6"
  }
 },
 "nbformat": 4,
 "nbformat_minor": 2
}
