{
 "cells": [
  {
   "cell_type": "markdown",
   "metadata": {},
   "source": [
    "# Plotting Hubble Residuals\n",
    "## creates Hubble diagram and plots residuals"
   ]
  },
  {
   "cell_type": "markdown",
   "metadata": {},
   "source": [
    "### imports"
   ]
  },
  {
   "cell_type": "code",
   "execution_count": 1,
   "metadata": {},
   "outputs": [],
   "source": [
    "import numpy as np\n",
    "import scipy\n",
    "import matplotlib.pyplot as plt\n",
    "import pandas as pd\n",
    "from sndata.csp import DR3\n",
    "from sndata.sdss import Sako18Spec\n",
    "from astropy.cosmology import FlatLambdaCDM\n",
    "from scipy import stats\n",
    "import astropy.units as u"
   ]
  },
  {
   "cell_type": "code",
   "execution_count": 39,
   "metadata": {},
   "outputs": [
    {
     "data": {
      "text/plain": [
       "0      0.285433\n",
       "1      0.261621\n",
       "2      0.261621\n",
       "3      0.285433\n",
       "4      0.160352\n",
       "         ...   \n",
       "796    0.286619\n",
       "797    0.054896\n",
       "798    0.116277\n",
       "799    0.116277\n",
       "800    0.116277\n",
       "Name: zCMB, Length: 801, dtype: float64"
      ]
     },
     "execution_count": 39,
     "metadata": {},
     "output_type": "execute_result"
    }
   ],
   "source": [
    "sdss_combined = pd.read_csv('~/Desktop/Research/SN-Spectral-Evolution/results/sdss_combined.csv')\n",
    "sdss_combined['zCMB']"
   ]
  },
  {
   "cell_type": "code",
   "execution_count": 35,
   "metadata": {},
   "outputs": [
    {
     "name": "stdout",
     "output_type": "stream",
     "text": [
      "['feat_name', 'obj_id', 'time', 'feat_start', 'feat_end', 'vel', 'vel_err', 'vel_samperr', 'pew', 'pew_err', 'pew_samperr', 'area', 'area_err', 'area_samperr', 'spec_flag', 'feat_flag', 'notes', 'phase', 'spec_type', 'RA', 'DEC', 'Nsearchepoch', 'IAUName', 'Classification', 'Peakrmag', 'MJDatPeakrmag', 'NepochSNR5', 'nSNspec', 'nGALspec', 'zspecHelio', 'zspecerrHelio', 'zCMB', 'zerrCMB', 'x0SALT2zspec', 'x0errSALT2zspec', 'x1SALT2zspec', 'x1errSALT2zspec', 'cSALT2zspec', 'cerrSALT2zspec', 'PeakMJDSALT2zspec', 'PeakMJDderrSALT2zspec', 'muSALT2zspec', 'muerrSALT2zspec', 'fitprobSALT2zspec', 'chi2SALT2zspec', 'ndofSALT2zspec', 'deltaMLCS2k2zspec', 'deltaerrMLCS2k2zspec', 'avMLCS2k2zspec', 'averrMLCS2k2zspec', 'PeakMJDMLCS2k2zspec', 'PeakMJDerrMLCS2k2zspec', 'muMLCS2k2zspec', 'muerrMLCS2k2zspec', 'fitprobMLCS2k2zspec', 'chi2MLCS2k2zspec', 'ndofMLCS2k2zspec', 'PIaPSNIDzspec', 'logprobIaPSNIDzspec', 'lcqualityIaPSNIDzspec', 'PIbcPSNIDzspec', 'logprobIbcPSNIDzspec', 'lcqualityIbcPSNIDzspec', 'PIIPSNIDzspec', 'logprobIIPSNIDzspec', 'lcqualityIIPSNIDzspec', 'NnnPSNIDzspec', 'PnnIaPSNIDzspec', 'PnnIbcPSNIDzspec', 'PnnIIPSNIDzspec', 'zPSNIDzspec', 'zerrPSNIDzspec', 'dm15PSNIDzspec', 'dm15errPSNIDzspec', 'avPSNIDzspec', 'averrPSNIDzspec', 'PeakMJDPSNIDzspec', 'PeakMJDerrPSNIDzspec', 'SNIbctypePSNIDzspec', 'SNIItypePSNIDzspec', 'x0SALT2flat', 'x0errSALT2flat', 'x1SALT2flat', 'x1errSALT2flat', 'cSALT2flat', 'cerrSALT2flat', 'PeakMJDSALT2flat', 'PeakMJDerrSALT2flat', 'zphotSALT2flat', 'zphoterrSALT2flat', 'fitprobSALT2flat', 'chi2SALT2flat', 'ndofSALT2flat', 'PIaPSNIDflat', 'logprobIaPSNIDflat', 'lcqualityIaPSNIDflat', 'PIbcPSNIDflat', 'logprobIbcPSNIDflat', 'lcqualityIbcPSNIDflat', 'PIIPSNIDflat', 'logprobIIPSNIDflat', 'lcqualityIIPSNIDflat', 'NnnPSNIDflat', 'PnnIaPSNIDflat', 'PnnIbcPSNIDflat', 'PnnIIPSNIDflat', 'zPSNIDflat', 'zerrPSNIDflat', 'dm15PSNIDflat', 'dm15errPSNIDflat', 'avPSNIDflat', 'averrPSNIDflat', 'PeakMJDPSNIDflat', 'PeakMJDerrPSNIDflat', 'SNIbctypePSNIDflat', 'SNIItypePSNIDflat', 'objIDHost', 'RAhost', 'DEChost', 'separationhost', 'DLRhost', 'zphothost', 'zphoterrhost', 'zphotRFhost', 'zphotRFerrhost', 'dereduhost', 'erruhost', 'deredghost', 'errghost', 'deredrhost', 'errrhost', 'deredihost', 'errihost', 'deredzhost', 'errzhost', 'logMassFSPS', 'logMassloFSPS', 'logMasshiFSPS', 'logSSFRFSPS', 'logSSFRloFSPS', 'logSSFRhiFSPS', 'ageFSPS', 'ageloFSPS', 'agehiFSPS', 'minredchi2FSPS', 'logMassPEGASE', 'logMassloPEGASE', 'logMasshiPEGASE', 'logSFRPEGASE', 'logSFRloPEGASE', 'logSFRhiPEGASE', 'agePEGASE', 'ageloPEGASE', 'agehiPEGASE', 'minchi2PEGASE', 'Notes', 'delta_t', 'is_peak', 'branch_type', 'arcmin', 'kpc']\n"
     ]
    }
   ],
   "source": [
    "names = list(sdss_combined.columns)\n",
    "print(names)"
   ]
  },
  {
   "cell_type": "code",
   "execution_count": 36,
   "metadata": {},
   "outputs": [
    {
     "name": "stdout",
     "output_type": "stream",
     "text": [
      "['muSALT2zspec', 'muerrSALT2zspec', 'muMLCS2k2zspec', 'muerrMLCS2k2zspec']\n"
     ]
    }
   ],
   "source": [
    "print([n for n in names if 'mu' in n])"
   ]
  },
  {
   "cell_type": "code",
   "execution_count": 38,
   "metadata": {},
   "outputs": [
    {
     "name": "stdout",
     "output_type": "stream",
     "text": [
      "801\n",
      "801\n"
     ]
    }
   ],
   "source": [
    "print(len(sdss_combined['zCMB']))\n",
    "print(len(sdss_combined['muSALT2zspec']))"
   ]
  },
  {
   "cell_type": "code",
   "execution_count": 6,
   "metadata": {},
   "outputs": [],
   "source": [
    "dr3 = DR3()\n",
    "dr3.download_module_data()\n",
    "\n",
    "sako_18_spec = Sako18Spec()\n",
    "sako_18_spec.download_module_data()"
   ]
  },
  {
   "cell_type": "code",
   "execution_count": 7,
   "metadata": {
    "collapsed": true,
    "jupyter": {
     "outputs_hidden": true
    }
   },
   "outputs": [
    {
     "name": "stderr",
     "output_type": "stream",
     "text": [
      "/opt/anaconda3/lib/python3.7/site-packages/IPython/core/interactiveshell.py:3326: TableReplaceWarning: converted column 'ndofSALT2zspec' from integer to float\n",
      "  exec(code_obj, self.user_global_ns, self.user_ns)\n",
      "/opt/anaconda3/lib/python3.7/site-packages/IPython/core/interactiveshell.py:3326: TableReplaceWarning: converted column 'ndofMLCS2k2zspec' from integer to float\n",
      "  exec(code_obj, self.user_global_ns, self.user_ns)\n",
      "/opt/anaconda3/lib/python3.7/site-packages/IPython/core/interactiveshell.py:3326: TableReplaceWarning: converted column 'lcqualityIaPSNIDzspec' from integer to float\n",
      "  exec(code_obj, self.user_global_ns, self.user_ns)\n",
      "/opt/anaconda3/lib/python3.7/site-packages/IPython/core/interactiveshell.py:3326: TableReplaceWarning: converted column 'lcqualityIbcPSNIDzspec' from integer to float\n",
      "  exec(code_obj, self.user_global_ns, self.user_ns)\n",
      "/opt/anaconda3/lib/python3.7/site-packages/IPython/core/interactiveshell.py:3326: TableReplaceWarning: converted column 'lcqualityIIPSNIDzspec' from integer to float\n",
      "  exec(code_obj, self.user_global_ns, self.user_ns)\n",
      "/opt/anaconda3/lib/python3.7/site-packages/IPython/core/interactiveshell.py:3326: TableReplaceWarning: converted column 'NnnPSNIDzspec' from integer to float\n",
      "  exec(code_obj, self.user_global_ns, self.user_ns)\n",
      "/opt/anaconda3/lib/python3.7/site-packages/IPython/core/interactiveshell.py:3326: TableReplaceWarning: converted column 'SNIbctypePSNIDzspec' from integer to float\n",
      "  exec(code_obj, self.user_global_ns, self.user_ns)\n",
      "/opt/anaconda3/lib/python3.7/site-packages/IPython/core/interactiveshell.py:3326: TableReplaceWarning: converted column 'SNIItypePSNIDzspec' from integer to float\n",
      "  exec(code_obj, self.user_global_ns, self.user_ns)\n",
      "/opt/anaconda3/lib/python3.7/site-packages/IPython/core/interactiveshell.py:3326: TableReplaceWarning: converted column 'ndofSALT2flat' from integer to float\n",
      "  exec(code_obj, self.user_global_ns, self.user_ns)\n",
      "/opt/anaconda3/lib/python3.7/site-packages/IPython/core/interactiveshell.py:3326: TableReplaceWarning: converted column 'lcqualityIaPSNIDflat' from integer to float\n",
      "  exec(code_obj, self.user_global_ns, self.user_ns)\n",
      "/opt/anaconda3/lib/python3.7/site-packages/IPython/core/interactiveshell.py:3326: TableReplaceWarning: converted column 'lcqualityIbcPSNIDflat' from integer to float\n",
      "  exec(code_obj, self.user_global_ns, self.user_ns)\n",
      "/opt/anaconda3/lib/python3.7/site-packages/IPython/core/interactiveshell.py:3326: TableReplaceWarning: converted column 'lcqualityIIPSNIDflat' from integer to float\n",
      "  exec(code_obj, self.user_global_ns, self.user_ns)\n",
      "/opt/anaconda3/lib/python3.7/site-packages/IPython/core/interactiveshell.py:3326: TableReplaceWarning: converted column 'NnnPSNIDflat' from integer to float\n",
      "  exec(code_obj, self.user_global_ns, self.user_ns)\n",
      "/opt/anaconda3/lib/python3.7/site-packages/IPython/core/interactiveshell.py:3326: TableReplaceWarning: converted column 'SNIbctypePSNIDflat' from integer to float\n",
      "  exec(code_obj, self.user_global_ns, self.user_ns)\n",
      "/opt/anaconda3/lib/python3.7/site-packages/IPython/core/interactiveshell.py:3326: TableReplaceWarning: converted column 'SNIItypePSNIDflat' from integer to float\n",
      "  exec(code_obj, self.user_global_ns, self.user_ns)\n",
      "/opt/anaconda3/lib/python3.7/site-packages/IPython/core/interactiveshell.py:3326: TableReplaceWarning: converted column 'objIDHost' from integer to float\n",
      "  exec(code_obj, self.user_global_ns, self.user_ns)\n",
      "/opt/anaconda3/lib/python3.7/site-packages/IPython/core/interactiveshell.py:3326: TableReplaceWarning: converted column 'Notes' from integer to float\n",
      "  exec(code_obj, self.user_global_ns, self.user_ns)\n"
     ]
    }
   ],
   "source": [
    "sdss_1_table = sako_18_spec.load_table('master').to_pandas(index='CID')"
   ]
  },
  {
   "cell_type": "markdown",
   "metadata": {},
   "source": [
    "### Finding best fit"
   ]
  },
  {
   "cell_type": "code",
   "execution_count": 40,
   "metadata": {},
   "outputs": [],
   "source": [
    "# make column names into variables\n",
    "# use same\n",
    "@np.vectorize\n",
    "def dist_mod_chisq(ho):\n",
    "    cosmo = FlatLambdaCDM(H0=ho * u.km / u.s / u.Mpc, Om0=0.315)\n",
    "    model_dist_mod = cosmo.distmod(sdss_combined['zCMB'])\n",
    "    dist_mod = sdss_combined['muSALT2zspec']\n",
    "    dist_mod = dist_mod.to_numpy()\n",
    "    dist_mod = dist_mod*u.mag\n",
    "    # do we need to worry about error in the Om0 calculation\n",
    "    chisq, p = scipy.stats.chisquare(dist_mod, model_dist_mod)\n",
    "    chisq = chisq / u.mag\n",
    "    return(chisq)"
   ]
  },
  {
   "cell_type": "code",
   "execution_count": 19,
   "metadata": {},
   "outputs": [
    {
     "data": {
      "text/plain": [
       "      fun: 0.716862944405646\n",
       " hess_inv: array([[24.57484395]])\n",
       "      jac: array([8.12858343e-06])\n",
       "  message: 'Optimization terminated successfully.'\n",
       "     nfev: 18\n",
       "      nit: 4\n",
       "     njev: 6\n",
       "   status: 0\n",
       "  success: True\n",
       "        x: array([68.32005572])"
      ]
     },
     "execution_count": 19,
     "metadata": {},
     "output_type": "execute_result"
    }
   ],
   "source": [
    "ho_fit = scipy.optimize.minimize(dist_mod_chisq, 70)\n",
    "ho_fit"
   ]
  },
  {
   "cell_type": "markdown",
   "metadata": {},
   "source": [
    "### creating our universe model"
   ]
  },
  {
   "cell_type": "code",
   "execution_count": 8,
   "metadata": {},
   "outputs": [],
   "source": [
    "# creating cosmo model\n",
    "our_cosmo = FlatLambdaCDM(H0 = 68.32005572 * u.km / u.s / u.Mpc, Om0=0.315 )"
   ]
  },
  {
   "cell_type": "code",
   "execution_count": 9,
   "metadata": {},
   "outputs": [
    {
     "data": {
      "text/plain": [
       "FlatLambdaCDM(H0=68.3 km / (Mpc s), Om0=0.315, Tcmb0=0 K, Neff=3.04, m_nu=None, Ob0=None)"
      ]
     },
     "execution_count": 9,
     "metadata": {},
     "output_type": "execute_result"
    }
   ],
   "source": [
    "our_cosmo"
   ]
  },
  {
   "cell_type": "code",
   "execution_count": 10,
   "metadata": {},
   "outputs": [],
   "source": [
    "zvals = np.linspace(0, 6, 801)\n",
    "dist = our_cosmo.angular_diameter_distance(zvals)\n",
    "ages = np.array([13, 10, 8, 6, 5, 4, 3, 2, 1.5, 1.2, 1])*u.Gyr\n",
    "#ageticks = [z_at_value(our_cosmo.age, age) for age in ages]"
   ]
  },
  {
   "cell_type": "markdown",
   "metadata": {},
   "source": [
    "### calculating distance moduli to plot"
   ]
  },
  {
   "cell_type": "code",
   "execution_count": 41,
   "metadata": {},
   "outputs": [
    {
     "data": {
      "text/plain": [
       "array([0.42329637, 3.5991767 ])"
      ]
     },
     "execution_count": 41,
     "metadata": {},
     "output_type": "execute_result"
    }
   ],
   "source": [
    "z = sdss_combined['zCMB']\n",
    "model_dist_mod = our_cosmo.distmod(z)\n",
    "model_no_units = model_dist_mod/u.mag\n",
    "model_no_units = [float(i) for i in model_no_units]\n",
    "dist_mod = sdss_combined['muSALT2zspec']\n",
    "dist_mod = dist_mod.to_numpy()\n",
    "dist_mod_units = dist_mod*u.mag\n",
    "model_dist = our_cosmo.angular_diameter_distance(z)\n",
    "log_y_data = np.log(model_no_units)\n",
    "np.polyfit(z, log_y_data, 1)"
   ]
  },
  {
   "cell_type": "code",
   "execution_count": 14,
   "metadata": {},
   "outputs": [],
   "source": [
    "dist_mod_err = sdss_combined['muerrSALT2zspec']\n",
    "dist_mod_err = dist_mod_err.to_numpy()\n",
    "dist_mod_err = dist_mod_err"
   ]
  },
  {
   "cell_type": "markdown",
   "metadata": {},
   "source": [
    "### plotting"
   ]
  },
  {
   "cell_type": "code",
   "execution_count": 15,
   "metadata": {},
   "outputs": [
    {
     "data": {
      "text/plain": [
       "(0.0, 5.9)"
      ]
     },
     "execution_count": 15,
     "metadata": {},
     "output_type": "execute_result"
    },
    {
     "data": {
      "image/png": "[encoded data removed]",
      "text/plain": [
       "<Figure size 576x432 with 2 Axes>"
      ]
     },
     "metadata": {
      "needs_background": "light"
     },
     "output_type": "display_data"
    }
   ],
   "source": [
    "from astropy.cosmology import Planck13\n",
    "dist2 = Planck13.angular_diameter_distance(zvals)\n",
    "\n",
    "fig = plt.figure(figsize=(8,6))\n",
    "ax = fig.add_subplot(111)\n",
    "ax.plot(zvals, dist2, label='Planck 2013')\n",
    "ax.plot(zvals, dist, label=\n",
    "        '$h=0.7,\\ \\Omega_M=0.3,\\ \\Omega_\\Lambda=0.7$')\n",
    "ax.plot(zvals, dist_mod)\n",
    "ax.legend(frameon=0, loc='lower right')\n",
    "ax2 = ax.twiny()\n",
    "zmin, zmax = 0.0, 5.9\n",
    "ax.set_xlim(zmin, zmax)\n",
    "ax2.set_xlim(zmin, zmax)"
   ]
  },
  {
   "cell_type": "code",
   "execution_count": 28,
   "metadata": {},
   "outputs": [
    {
     "data": {
      "text/plain": [
       "Text(0, 0.5, 'distance modulus (mag)')"
      ]
     },
     "execution_count": 28,
     "metadata": {},
     "output_type": "execute_result"
    },
    {
     "data": {
      "image/png": "[encoded data removed]",
      "text/plain": [
       "<Figure size 432x288 with 1 Axes>"
      ]
     },
     "metadata": {
      "needs_background": "light"
     },
     "output_type": "display_data"
    }
   ],
   "source": [
    "z_plot = np.linspace(np.min(z), np.max(z))\n",
    "plot_dist_mod = our_cosmo.distmod(z_plot)\n",
    "plt.plot(z_plot, plot_dist_mod,  color='blue', alpha=0.5,label=\n",
    "        '$h=0.7,\\ \\Omega_M=0.3,\\ \\Omega_\\Lambda=0.7$')\n",
    "plt.scatter(z, dist_mod_units, color = 'red', s=0.8, alpha=0.5)\n",
    "#plt.scatter(z, model_dist_mod-dist_mod_units, color = 'green', s=0.8, alpha=0.5)\n",
    "#plt.plot(z_log, model_no_units)\n",
    "plt.errorbar(z, dist_mod, yerr = dist_mod_err, fmt = 'none', color = 'red', s=0.8, alpha = 0.5)\n",
    "plt.xlabel('redshift')\n",
    "plt.ylabel('distance modulus (mag)')"
   ]
  },
  {
   "cell_type": "code",
   "execution_count": 17,
   "metadata": {},
   "outputs": [
    {
     "data": {
      "text/plain": [
       "[<matplotlib.lines.Line2D at 0x7fc7ae63abd0>]"
      ]
     },
     "execution_count": 17,
     "metadata": {},
     "output_type": "execute_result"
    },
    {
     "data": {
      "image/png": "[encoded data removed]",
      "text/plain": [
       "<Figure size 432x288 with 1 Axes>"
      ]
     },
     "metadata": {
      "needs_background": "light"
     },
     "output_type": "display_data"
    }
   ],
   "source": [
    "zeros = np.zeros(len(z))\n",
    "plt.scatter(z, model_dist_mod-dist_mod_units, color = 'green', s=0.8, alpha=0.5)\n",
    "plt.plot(z, zeros, alpha = 0.5)"
   ]
  },
  {
   "cell_type": "code",
   "execution_count": null,
   "metadata": {},
   "outputs": [],
   "source": [
    "z_log = np.exp((model_no_units-3.5991767)/0.42329637)"
   ]
  }
 ],
 "metadata": {
  "kernelspec": {
   "display_name": "Python 3",
   "language": "python",
   "name": "python3"
  },
  "language_info": {
   "codemirror_mode": {
    "name": "ipython",
    "version": 3
   },
   "file_extension": ".py",
   "mimetype": "text/x-python",
   "name": "python",
   "nbconvert_exporter": "python",
   "pygments_lexer": "ipython3",
   "version": "3.7.4"
  }
 },
 "nbformat": 4,
 "nbformat_minor": 4
}
