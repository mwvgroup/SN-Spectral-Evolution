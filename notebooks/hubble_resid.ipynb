{
 "cells": [
  {
   "cell_type": "code",
   "execution_count": 1,
   "metadata": {},
   "outputs": [],
   "source": [
    "import numpy as np\n",
    "import scipy\n",
    "import matplotlib.pyplot as plt\n",
    "import pandas as pd\n",
    "from sndata.csp import DR3\n",
    "from sndata.sdss import Sako18Spec\n",
    "from astropy.cosmology import FlatLambdaCDM\n",
    "from scipy import stats\n",
    "import astropy.units as u"
   ]
  },
  {
   "cell_type": "code",
   "execution_count": 2,
   "metadata": {},
   "outputs": [
    {
     "data": {
      "text/html": [
       "<div>\n",
       "<style scoped>\n",
       "    .dataframe tbody tr th:only-of-type {\n",
       "        vertical-align: middle;\n",
       "    }\n",
       "\n",
       "    .dataframe tbody tr th {\n",
       "        vertical-align: top;\n",
       "    }\n",
       "\n",
       "    .dataframe thead th {\n",
       "        text-align: right;\n",
       "    }\n",
       "</style>\n",
       "<table border=\"1\" class=\"dataframe\">\n",
       "  <thead>\n",
       "    <tr style=\"text-align: right;\">\n",
       "      <th></th>\n",
       "      <th>feat_name</th>\n",
       "      <th>obj_id</th>\n",
       "      <th>time</th>\n",
       "      <th>feat_start</th>\n",
       "      <th>feat_end</th>\n",
       "      <th>vel</th>\n",
       "      <th>vel_err</th>\n",
       "      <th>vel_samperr</th>\n",
       "      <th>pew</th>\n",
       "      <th>pew_err</th>\n",
       "      <th>...</th>\n",
       "      <th>agePEGASE</th>\n",
       "      <th>ageloPEGASE</th>\n",
       "      <th>agehiPEGASE</th>\n",
       "      <th>minchi2PEGASE</th>\n",
       "      <th>Notes</th>\n",
       "      <th>delta_t</th>\n",
       "      <th>is_peak</th>\n",
       "      <th>branch_type</th>\n",
       "      <th>arcmin</th>\n",
       "      <th>kpc</th>\n",
       "    </tr>\n",
       "  </thead>\n",
       "  <tbody>\n",
       "    <tr>\n",
       "      <td>0</td>\n",
       "      <td>pW6</td>\n",
       "      <td>19128</td>\n",
       "      <td>2454387.5</td>\n",
       "      <td>5630.787447</td>\n",
       "      <td>5932.631261</td>\n",
       "      <td>8144.168668</td>\n",
       "      <td>0.0</td>\n",
       "      <td>341.659397</td>\n",
       "      <td>16.352920</td>\n",
       "      <td>0.0</td>\n",
       "      <td>...</td>\n",
       "      <td>NaN</td>\n",
       "      <td>NaN</td>\n",
       "      <td>NaN</td>\n",
       "      <td>NaN</td>\n",
       "      <td>NaN</td>\n",
       "      <td>0.1</td>\n",
       "      <td>True</td>\n",
       "      <td>BL</td>\n",
       "      <td>NaN</td>\n",
       "      <td>NaN</td>\n",
       "    </tr>\n",
       "    <tr>\n",
       "      <td>1</td>\n",
       "      <td>pW2</td>\n",
       "      <td>2017</td>\n",
       "      <td>2453636.5</td>\n",
       "      <td>3908.025238</td>\n",
       "      <td>4040.182181</td>\n",
       "      <td>NaN</td>\n",
       "      <td>0.0</td>\n",
       "      <td>NaN</td>\n",
       "      <td>17.092118</td>\n",
       "      <td>0.0</td>\n",
       "      <td>...</td>\n",
       "      <td>1.25</td>\n",
       "      <td>1.08</td>\n",
       "      <td>1.39</td>\n",
       "      <td>0.14</td>\n",
       "      <td>NaN</td>\n",
       "      <td>0.1</td>\n",
       "      <td>True</td>\n",
       "      <td>SS</td>\n",
       "      <td>0.034500</td>\n",
       "      <td>43.077351</td>\n",
       "    </tr>\n",
       "    <tr>\n",
       "      <td>2</td>\n",
       "      <td>pW1</td>\n",
       "      <td>2017</td>\n",
       "      <td>2453636.5</td>\n",
       "      <td>3615.136877</td>\n",
       "      <td>3908.025238</td>\n",
       "      <td>13865.174056</td>\n",
       "      <td>0.0</td>\n",
       "      <td>323.138916</td>\n",
       "      <td>52.658139</td>\n",
       "      <td>0.0</td>\n",
       "      <td>...</td>\n",
       "      <td>1.25</td>\n",
       "      <td>1.08</td>\n",
       "      <td>1.39</td>\n",
       "      <td>0.14</td>\n",
       "      <td>NaN</td>\n",
       "      <td>0.1</td>\n",
       "      <td>True</td>\n",
       "      <td>SS</td>\n",
       "      <td>0.034500</td>\n",
       "      <td>43.077351</td>\n",
       "    </tr>\n",
       "    <tr>\n",
       "      <td>3</td>\n",
       "      <td>pW2</td>\n",
       "      <td>19128</td>\n",
       "      <td>2454387.5</td>\n",
       "      <td>3942.640340</td>\n",
       "      <td>4073.335600</td>\n",
       "      <td>8793.661154</td>\n",
       "      <td>0.0</td>\n",
       "      <td>735.823388</td>\n",
       "      <td>8.520702</td>\n",
       "      <td>0.0</td>\n",
       "      <td>...</td>\n",
       "      <td>NaN</td>\n",
       "      <td>NaN</td>\n",
       "      <td>NaN</td>\n",
       "      <td>NaN</td>\n",
       "      <td>NaN</td>\n",
       "      <td>0.1</td>\n",
       "      <td>True</td>\n",
       "      <td>BL</td>\n",
       "      <td>NaN</td>\n",
       "      <td>NaN</td>\n",
       "    </tr>\n",
       "    <tr>\n",
       "      <td>4</td>\n",
       "      <td>pW1</td>\n",
       "      <td>2689</td>\n",
       "      <td>2453637.5</td>\n",
       "      <td>3657.035407</td>\n",
       "      <td>3918.106397</td>\n",
       "      <td>11820.961436</td>\n",
       "      <td>0.0</td>\n",
       "      <td>443.806031</td>\n",
       "      <td>103.331980</td>\n",
       "      <td>0.0</td>\n",
       "      <td>...</td>\n",
       "      <td>5.58</td>\n",
       "      <td>4.75</td>\n",
       "      <td>9.70</td>\n",
       "      <td>6.98</td>\n",
       "      <td>NaN</td>\n",
       "      <td>0.1</td>\n",
       "      <td>True</td>\n",
       "      <td>NaN</td>\n",
       "      <td>0.049833</td>\n",
       "      <td>62.012352</td>\n",
       "    </tr>\n",
       "    <tr>\n",
       "      <td>...</td>\n",
       "      <td>...</td>\n",
       "      <td>...</td>\n",
       "      <td>...</td>\n",
       "      <td>...</td>\n",
       "      <td>...</td>\n",
       "      <td>...</td>\n",
       "      <td>...</td>\n",
       "      <td>...</td>\n",
       "      <td>...</td>\n",
       "      <td>...</td>\n",
       "      <td>...</td>\n",
       "      <td>...</td>\n",
       "      <td>...</td>\n",
       "      <td>...</td>\n",
       "      <td>...</td>\n",
       "      <td>...</td>\n",
       "      <td>...</td>\n",
       "      <td>...</td>\n",
       "      <td>...</td>\n",
       "      <td>...</td>\n",
       "      <td>...</td>\n",
       "    </tr>\n",
       "    <tr>\n",
       "      <td>796</td>\n",
       "      <td>pW7</td>\n",
       "      <td>2165</td>\n",
       "      <td>2453641.5</td>\n",
       "      <td>5919.931260</td>\n",
       "      <td>6572.577243</td>\n",
       "      <td>9137.197106</td>\n",
       "      <td>0.0</td>\n",
       "      <td>241.346074</td>\n",
       "      <td>209.514632</td>\n",
       "      <td>0.0</td>\n",
       "      <td>...</td>\n",
       "      <td>0.86</td>\n",
       "      <td>0.03</td>\n",
       "      <td>4.07</td>\n",
       "      <td>8.78</td>\n",
       "      <td>NaN</td>\n",
       "      <td>6.7</td>\n",
       "      <td>True</td>\n",
       "      <td>CL</td>\n",
       "      <td>0.012000</td>\n",
       "      <td>15.057214</td>\n",
       "    </tr>\n",
       "    <tr>\n",
       "      <td>797</td>\n",
       "      <td>pW1</td>\n",
       "      <td>19968</td>\n",
       "      <td>2454406.5</td>\n",
       "      <td>3507.901777</td>\n",
       "      <td>3921.776287</td>\n",
       "      <td>17654.228010</td>\n",
       "      <td>0.0</td>\n",
       "      <td>76.274254</td>\n",
       "      <td>158.092375</td>\n",
       "      <td>0.0</td>\n",
       "      <td>...</td>\n",
       "      <td>2.41</td>\n",
       "      <td>2.41</td>\n",
       "      <td>2.72</td>\n",
       "      <td>61.46</td>\n",
       "      <td>NaN</td>\n",
       "      <td>6.8</td>\n",
       "      <td>True</td>\n",
       "      <td>SS</td>\n",
       "      <td>0.027500</td>\n",
       "      <td>34.389803</td>\n",
       "    </tr>\n",
       "    <tr>\n",
       "      <td>798</td>\n",
       "      <td>pW3</td>\n",
       "      <td>8719</td>\n",
       "      <td>2453683.5</td>\n",
       "      <td>4084.014864</td>\n",
       "      <td>4480.981091</td>\n",
       "      <td>14043.481108</td>\n",
       "      <td>0.0</td>\n",
       "      <td>229.733128</td>\n",
       "      <td>70.137655</td>\n",
       "      <td>0.0</td>\n",
       "      <td>...</td>\n",
       "      <td>0.20</td>\n",
       "      <td>0.08</td>\n",
       "      <td>0.64</td>\n",
       "      <td>5.96</td>\n",
       "      <td>NaN</td>\n",
       "      <td>7.0</td>\n",
       "      <td>True</td>\n",
       "      <td>NaN</td>\n",
       "      <td>0.029333</td>\n",
       "      <td>36.667727</td>\n",
       "    </tr>\n",
       "    <tr>\n",
       "      <td>799</td>\n",
       "      <td>pW1</td>\n",
       "      <td>8719</td>\n",
       "      <td>2453683.5</td>\n",
       "      <td>3552.557347</td>\n",
       "      <td>3932.169859</td>\n",
       "      <td>16685.149802</td>\n",
       "      <td>0.0</td>\n",
       "      <td>230.510419</td>\n",
       "      <td>134.423657</td>\n",
       "      <td>0.0</td>\n",
       "      <td>...</td>\n",
       "      <td>0.20</td>\n",
       "      <td>0.08</td>\n",
       "      <td>0.64</td>\n",
       "      <td>5.96</td>\n",
       "      <td>NaN</td>\n",
       "      <td>7.0</td>\n",
       "      <td>True</td>\n",
       "      <td>NaN</td>\n",
       "      <td>0.029333</td>\n",
       "      <td>36.667727</td>\n",
       "    </tr>\n",
       "    <tr>\n",
       "      <td>800</td>\n",
       "      <td>pW2</td>\n",
       "      <td>8719</td>\n",
       "      <td>2453683.5</td>\n",
       "      <td>3927.831431</td>\n",
       "      <td>4081.845650</td>\n",
       "      <td>9609.351494</td>\n",
       "      <td>0.0</td>\n",
       "      <td>3891.882752</td>\n",
       "      <td>12.109871</td>\n",
       "      <td>0.0</td>\n",
       "      <td>...</td>\n",
       "      <td>0.20</td>\n",
       "      <td>0.08</td>\n",
       "      <td>0.64</td>\n",
       "      <td>5.96</td>\n",
       "      <td>NaN</td>\n",
       "      <td>7.0</td>\n",
       "      <td>True</td>\n",
       "      <td>NaN</td>\n",
       "      <td>0.029333</td>\n",
       "      <td>36.667727</td>\n",
       "    </tr>\n",
       "  </tbody>\n",
       "</table>\n",
       "<p>801 rows × 161 columns</p>\n",
       "</div>"
      ],
      "text/plain": [
       "    feat_name  obj_id       time   feat_start     feat_end           vel  \\\n",
       "0         pW6   19128  2454387.5  5630.787447  5932.631261   8144.168668   \n",
       "1         pW2    2017  2453636.5  3908.025238  4040.182181           NaN   \n",
       "2         pW1    2017  2453636.5  3615.136877  3908.025238  13865.174056   \n",
       "3         pW2   19128  2454387.5  3942.640340  4073.335600   8793.661154   \n",
       "4         pW1    2689  2453637.5  3657.035407  3918.106397  11820.961436   \n",
       "..        ...     ...        ...          ...          ...           ...   \n",
       "796       pW7    2165  2453641.5  5919.931260  6572.577243   9137.197106   \n",
       "797       pW1   19968  2454406.5  3507.901777  3921.776287  17654.228010   \n",
       "798       pW3    8719  2453683.5  4084.014864  4480.981091  14043.481108   \n",
       "799       pW1    8719  2453683.5  3552.557347  3932.169859  16685.149802   \n",
       "800       pW2    8719  2453683.5  3927.831431  4081.845650   9609.351494   \n",
       "\n",
       "     vel_err  vel_samperr         pew  pew_err  ...  agePEGASE  ageloPEGASE  \\\n",
       "0        0.0   341.659397   16.352920      0.0  ...        NaN          NaN   \n",
       "1        0.0          NaN   17.092118      0.0  ...       1.25         1.08   \n",
       "2        0.0   323.138916   52.658139      0.0  ...       1.25         1.08   \n",
       "3        0.0   735.823388    8.520702      0.0  ...        NaN          NaN   \n",
       "4        0.0   443.806031  103.331980      0.0  ...       5.58         4.75   \n",
       "..       ...          ...         ...      ...  ...        ...          ...   \n",
       "796      0.0   241.346074  209.514632      0.0  ...       0.86         0.03   \n",
       "797      0.0    76.274254  158.092375      0.0  ...       2.41         2.41   \n",
       "798      0.0   229.733128   70.137655      0.0  ...       0.20         0.08   \n",
       "799      0.0   230.510419  134.423657      0.0  ...       0.20         0.08   \n",
       "800      0.0  3891.882752   12.109871      0.0  ...       0.20         0.08   \n",
       "\n",
       "     agehiPEGASE  minchi2PEGASE  Notes  delta_t  is_peak  branch_type  \\\n",
       "0            NaN            NaN    NaN      0.1     True           BL   \n",
       "1           1.39           0.14    NaN      0.1     True           SS   \n",
       "2           1.39           0.14    NaN      0.1     True           SS   \n",
       "3            NaN            NaN    NaN      0.1     True           BL   \n",
       "4           9.70           6.98    NaN      0.1     True          NaN   \n",
       "..           ...            ...    ...      ...      ...          ...   \n",
       "796         4.07           8.78    NaN      6.7     True           CL   \n",
       "797         2.72          61.46    NaN      6.8     True           SS   \n",
       "798         0.64           5.96    NaN      7.0     True          NaN   \n",
       "799         0.64           5.96    NaN      7.0     True          NaN   \n",
       "800         0.64           5.96    NaN      7.0     True          NaN   \n",
       "\n",
       "       arcmin        kpc  \n",
       "0         NaN        NaN  \n",
       "1    0.034500  43.077351  \n",
       "2    0.034500  43.077351  \n",
       "3         NaN        NaN  \n",
       "4    0.049833  62.012352  \n",
       "..        ...        ...  \n",
       "796  0.012000  15.057214  \n",
       "797  0.027500  34.389803  \n",
       "798  0.029333  36.667727  \n",
       "799  0.029333  36.667727  \n",
       "800  0.029333  36.667727  \n",
       "\n",
       "[801 rows x 161 columns]"
      ]
     },
     "execution_count": 2,
     "metadata": {},
     "output_type": "execute_result"
    }
   ],
   "source": [
    "sdss_combined = pd.read_csv('~/Desktop/Research/SN-Spectral-Evolution/results/sdss_combined.csv')\n",
    "sdss_combined"
   ]
  },
  {
   "cell_type": "code",
   "execution_count": 3,
   "metadata": {},
   "outputs": [
    {
     "name": "stdout",
     "output_type": "stream",
     "text": [
      "['feat_name', 'obj_id', 'time', 'feat_start', 'feat_end', 'vel', 'vel_err', 'vel_samperr', 'pew', 'pew_err', 'pew_samperr', 'area', 'area_err', 'area_samperr', 'spec_flag', 'feat_flag', 'notes', 'phase', 'spec_type', 'RA', 'DEC', 'Nsearchepoch', 'IAUName', 'Classification', 'Peakrmag', 'MJDatPeakrmag', 'NepochSNR5', 'nSNspec', 'nGALspec', 'zspecHelio', 'zspecerrHelio', 'zCMB', 'zerrCMB', 'x0SALT2zspec', 'x0errSALT2zspec', 'x1SALT2zspec', 'x1errSALT2zspec', 'cSALT2zspec', 'cerrSALT2zspec', 'PeakMJDSALT2zspec', 'PeakMJDderrSALT2zspec', 'muSALT2zspec', 'muerrSALT2zspec', 'fitprobSALT2zspec', 'chi2SALT2zspec', 'ndofSALT2zspec', 'deltaMLCS2k2zspec', 'deltaerrMLCS2k2zspec', 'avMLCS2k2zspec', 'averrMLCS2k2zspec', 'PeakMJDMLCS2k2zspec', 'PeakMJDerrMLCS2k2zspec', 'muMLCS2k2zspec', 'muerrMLCS2k2zspec', 'fitprobMLCS2k2zspec', 'chi2MLCS2k2zspec', 'ndofMLCS2k2zspec', 'PIaPSNIDzspec', 'logprobIaPSNIDzspec', 'lcqualityIaPSNIDzspec', 'PIbcPSNIDzspec', 'logprobIbcPSNIDzspec', 'lcqualityIbcPSNIDzspec', 'PIIPSNIDzspec', 'logprobIIPSNIDzspec', 'lcqualityIIPSNIDzspec', 'NnnPSNIDzspec', 'PnnIaPSNIDzspec', 'PnnIbcPSNIDzspec', 'PnnIIPSNIDzspec', 'zPSNIDzspec', 'zerrPSNIDzspec', 'dm15PSNIDzspec', 'dm15errPSNIDzspec', 'avPSNIDzspec', 'averrPSNIDzspec', 'PeakMJDPSNIDzspec', 'PeakMJDerrPSNIDzspec', 'SNIbctypePSNIDzspec', 'SNIItypePSNIDzspec', 'x0SALT2flat', 'x0errSALT2flat', 'x1SALT2flat', 'x1errSALT2flat', 'cSALT2flat', 'cerrSALT2flat', 'PeakMJDSALT2flat', 'PeakMJDerrSALT2flat', 'zphotSALT2flat', 'zphoterrSALT2flat', 'fitprobSALT2flat', 'chi2SALT2flat', 'ndofSALT2flat', 'PIaPSNIDflat', 'logprobIaPSNIDflat', 'lcqualityIaPSNIDflat', 'PIbcPSNIDflat', 'logprobIbcPSNIDflat', 'lcqualityIbcPSNIDflat', 'PIIPSNIDflat', 'logprobIIPSNIDflat', 'lcqualityIIPSNIDflat', 'NnnPSNIDflat', 'PnnIaPSNIDflat', 'PnnIbcPSNIDflat', 'PnnIIPSNIDflat', 'zPSNIDflat', 'zerrPSNIDflat', 'dm15PSNIDflat', 'dm15errPSNIDflat', 'avPSNIDflat', 'averrPSNIDflat', 'PeakMJDPSNIDflat', 'PeakMJDerrPSNIDflat', 'SNIbctypePSNIDflat', 'SNIItypePSNIDflat', 'objIDHost', 'RAhost', 'DEChost', 'separationhost', 'DLRhost', 'zphothost', 'zphoterrhost', 'zphotRFhost', 'zphotRFerrhost', 'dereduhost', 'erruhost', 'deredghost', 'errghost', 'deredrhost', 'errrhost', 'deredihost', 'errihost', 'deredzhost', 'errzhost', 'logMassFSPS', 'logMassloFSPS', 'logMasshiFSPS', 'logSSFRFSPS', 'logSSFRloFSPS', 'logSSFRhiFSPS', 'ageFSPS', 'ageloFSPS', 'agehiFSPS', 'minredchi2FSPS', 'logMassPEGASE', 'logMassloPEGASE', 'logMasshiPEGASE', 'logSFRPEGASE', 'logSFRloPEGASE', 'logSFRhiPEGASE', 'agePEGASE', 'ageloPEGASE', 'agehiPEGASE', 'minchi2PEGASE', 'Notes', 'delta_t', 'is_peak', 'branch_type', 'arcmin', 'kpc']\n"
     ]
    }
   ],
   "source": [
    "print(sdss_combined.columns.tolist())"
   ]
  },
  {
   "cell_type": "code",
   "execution_count": 4,
   "metadata": {},
   "outputs": [],
   "source": [
    "dr3 = DR3()\n",
    "dr3.download_module_data()\n",
    "\n",
    "sako_18_spec = Sako18Spec()\n",
    "sako_18_spec.download_module_data()"
   ]
  },
  {
   "cell_type": "code",
   "execution_count": 5,
   "metadata": {
    "collapsed": true,
    "jupyter": {
     "outputs_hidden": true
    }
   },
   "outputs": [
    {
     "name": "stderr",
     "output_type": "stream",
     "text": [
      "/opt/anaconda3/lib/python3.7/site-packages/IPython/core/interactiveshell.py:3326: TableReplaceWarning: converted column 'ndofSALT2zspec' from integer to float\n",
      "  exec(code_obj, self.user_global_ns, self.user_ns)\n",
      "/opt/anaconda3/lib/python3.7/site-packages/IPython/core/interactiveshell.py:3326: TableReplaceWarning: converted column 'ndofMLCS2k2zspec' from integer to float\n",
      "  exec(code_obj, self.user_global_ns, self.user_ns)\n",
      "/opt/anaconda3/lib/python3.7/site-packages/IPython/core/interactiveshell.py:3326: TableReplaceWarning: converted column 'lcqualityIaPSNIDzspec' from integer to float\n",
      "  exec(code_obj, self.user_global_ns, self.user_ns)\n",
      "/opt/anaconda3/lib/python3.7/site-packages/IPython/core/interactiveshell.py:3326: TableReplaceWarning: converted column 'lcqualityIbcPSNIDzspec' from integer to float\n",
      "  exec(code_obj, self.user_global_ns, self.user_ns)\n",
      "/opt/anaconda3/lib/python3.7/site-packages/IPython/core/interactiveshell.py:3326: TableReplaceWarning: converted column 'lcqualityIIPSNIDzspec' from integer to float\n",
      "  exec(code_obj, self.user_global_ns, self.user_ns)\n",
      "/opt/anaconda3/lib/python3.7/site-packages/IPython/core/interactiveshell.py:3326: TableReplaceWarning: converted column 'NnnPSNIDzspec' from integer to float\n",
      "  exec(code_obj, self.user_global_ns, self.user_ns)\n",
      "/opt/anaconda3/lib/python3.7/site-packages/IPython/core/interactiveshell.py:3326: TableReplaceWarning: converted column 'SNIbctypePSNIDzspec' from integer to float\n",
      "  exec(code_obj, self.user_global_ns, self.user_ns)\n",
      "/opt/anaconda3/lib/python3.7/site-packages/IPython/core/interactiveshell.py:3326: TableReplaceWarning: converted column 'SNIItypePSNIDzspec' from integer to float\n",
      "  exec(code_obj, self.user_global_ns, self.user_ns)\n",
      "/opt/anaconda3/lib/python3.7/site-packages/IPython/core/interactiveshell.py:3326: TableReplaceWarning: converted column 'ndofSALT2flat' from integer to float\n",
      "  exec(code_obj, self.user_global_ns, self.user_ns)\n",
      "/opt/anaconda3/lib/python3.7/site-packages/IPython/core/interactiveshell.py:3326: TableReplaceWarning: converted column 'lcqualityIaPSNIDflat' from integer to float\n",
      "  exec(code_obj, self.user_global_ns, self.user_ns)\n",
      "/opt/anaconda3/lib/python3.7/site-packages/IPython/core/interactiveshell.py:3326: TableReplaceWarning: converted column 'lcqualityIbcPSNIDflat' from integer to float\n",
      "  exec(code_obj, self.user_global_ns, self.user_ns)\n",
      "/opt/anaconda3/lib/python3.7/site-packages/IPython/core/interactiveshell.py:3326: TableReplaceWarning: converted column 'lcqualityIIPSNIDflat' from integer to float\n",
      "  exec(code_obj, self.user_global_ns, self.user_ns)\n",
      "/opt/anaconda3/lib/python3.7/site-packages/IPython/core/interactiveshell.py:3326: TableReplaceWarning: converted column 'NnnPSNIDflat' from integer to float\n",
      "  exec(code_obj, self.user_global_ns, self.user_ns)\n",
      "/opt/anaconda3/lib/python3.7/site-packages/IPython/core/interactiveshell.py:3326: TableReplaceWarning: converted column 'SNIbctypePSNIDflat' from integer to float\n",
      "  exec(code_obj, self.user_global_ns, self.user_ns)\n",
      "/opt/anaconda3/lib/python3.7/site-packages/IPython/core/interactiveshell.py:3326: TableReplaceWarning: converted column 'SNIItypePSNIDflat' from integer to float\n",
      "  exec(code_obj, self.user_global_ns, self.user_ns)\n",
      "/opt/anaconda3/lib/python3.7/site-packages/IPython/core/interactiveshell.py:3326: TableReplaceWarning: converted column 'objIDHost' from integer to float\n",
      "  exec(code_obj, self.user_global_ns, self.user_ns)\n",
      "/opt/anaconda3/lib/python3.7/site-packages/IPython/core/interactiveshell.py:3326: TableReplaceWarning: converted column 'Notes' from integer to float\n",
      "  exec(code_obj, self.user_global_ns, self.user_ns)\n"
     ]
    }
   ],
   "source": [
    "sdss_1_table = sako_18_spec.load_table('master').to_pandas(index='CID')"
   ]
  },
  {
   "cell_type": "code",
   "execution_count": 6,
   "metadata": {},
   "outputs": [],
   "source": [
    "@np.vectorize\n",
    "def dist_mod_chisq(ho):\n",
    "    cosmo = FlatLambdaCDM(H0=ho * u.km / u.s / u.Mpc, Om0=0.315)\n",
    "    model_dist_mod = cosmo.distmod(sdss_combined['zCMB'])\n",
    "    dist_mod = sdss_combined['muSALT2zspec']\n",
    "    dist_mod = dist_mod.to_numpy()\n",
    "    dist_mod = dist_mod*u.mag\n",
    "    # do we need to worry about error in the Om0 calculation\n",
    "    chisq, p = scipy.stats.chisquare(dist_mod, model_dist_mod)\n",
    "    chisq = chisq / u.mag\n",
    "    return(chisq)"
   ]
  },
  {
   "cell_type": "code",
   "execution_count": 7,
   "metadata": {},
   "outputs": [],
   "source": [
    "#dist_mod_chisq = np.vectorize(dist_mod_chisq) same thing as @np.vectorize"
   ]
  },
  {
   "cell_type": "code",
   "execution_count": 8,
   "metadata": {},
   "outputs": [
    {
     "data": {
      "text/plain": [
       "      fun: 0.716862944405646\n",
       " hess_inv: array([[24.57484395]])\n",
       "      jac: array([8.12858343e-06])\n",
       "  message: 'Optimization terminated successfully.'\n",
       "     nfev: 18\n",
       "      nit: 4\n",
       "     njev: 6\n",
       "   status: 0\n",
       "  success: True\n",
       "        x: array([68.32005572])"
      ]
     },
     "execution_count": 8,
     "metadata": {},
     "output_type": "execute_result"
    }
   ],
   "source": [
    "ho_fit = scipy.optimize.minimize(dist_mod_chisq, 70)\n",
    "ho_fit"
   ]
  },
  {
   "cell_type": "code",
   "execution_count": null,
   "metadata": {},
   "outputs": [],
   "source": [
    "plot model against actual distance moduli and plot residuals"
   ]
  },
  {
   "cell_type": "code",
   "execution_count": 9,
   "metadata": {},
   "outputs": [],
   "source": [
    "# creating cosmo model\n",
    "our_cosmo = FlatLambdaCDM(H0 = 68.32005572 * u.km / u.s / u.Mpc, Om0=0.315 )"
   ]
  },
  {
   "cell_type": "code",
   "execution_count": 10,
   "metadata": {},
   "outputs": [
    {
     "data": {
      "text/plain": [
       "FlatLambdaCDM(H0=68.3 km / (Mpc s), Om0=0.315, Tcmb0=0 K, Neff=3.04, m_nu=None, Ob0=None)"
      ]
     },
     "execution_count": 10,
     "metadata": {},
     "output_type": "execute_result"
    }
   ],
   "source": [
    "our_cosmo"
   ]
  },
  {
   "cell_type": "code",
   "execution_count": 26,
   "metadata": {},
   "outputs": [],
   "source": [
    "zvals = np.linspace(0, 6, 801)\n",
    "dist = our_cosmo.angular_diameter_distance(zvals)\n",
    "ages = np.array([13, 10, 8, 6, 5, 4, 3, 2, 1.5, 1.2, 1])*u.Gyr\n",
    "#ageticks = [z_at_value(our_cosmo.age, age) for age in ages]"
   ]
  },
  {
   "cell_type": "code",
   "execution_count": null,
   "metadata": {},
   "outputs": [],
   "source": []
  },
  {
   "cell_type": "code",
   "execution_count": 27,
   "metadata": {},
   "outputs": [
    {
     "data": {
      "text/plain": [
       "(0.0, 5.9)"
      ]
     },
     "execution_count": 27,
     "metadata": {},
     "output_type": "execute_result"
    },
    {
     "data": {
      "image/png": "[encoded data removed]",
      "text/plain": [
       "<Figure size 576x432 with 2 Axes>"
      ]
     },
     "metadata": {
      "needs_background": "light"
     },
     "output_type": "display_data"
    }
   ],
   "source": [
    "from astropy.cosmology import Planck13\n",
    "dist2 = Planck13.angular_diameter_distance(zvals)\n",
    "\n",
    "fig = plt.figure(figsize=(8,6))\n",
    "ax = fig.add_subplot(111)\n",
    "ax.plot(zvals, dist2, label='Planck 2013')\n",
    "ax.plot(zvals, dist, label=\n",
    "        '$h=0.7,\\ \\Omega_M=0.3,\\ \\Omega_\\Lambda=0.7$')\n",
    "ax.plot(zvals, dist_mod)\n",
    "ax.legend(frameon=0, loc='lower right')\n",
    "ax2 = ax.twiny()\n",
    "zmin, zmax = 0.0, 5.9\n",
    "ax.set_xlim(zmin, zmax)\n",
    "ax2.set_xlim(zmin, zmax)"
   ]
  },
  {
   "cell_type": "code",
   "execution_count": 60,
   "metadata": {
    "collapsed": true,
    "jupyter": {
     "outputs_hidden": true
    }
   },
   "outputs": [
    {
     "data": {
      "text/plain": [
       "array([0.23, 0.25, 0.25, 0.23, 0.19, 0.19, 0.19, 0.19, 0.19, 0.19, 0.19,\n",
       "       0.19, 0.19, 0.19, 0.19, 0.23, 0.23, 0.23, 0.25, 0.25, 0.23, 0.23,\n",
       "       0.25, 0.25, 0.25, 0.18, 0.18, 0.19, 0.18, 0.18, 0.18, 0.19, 0.19,\n",
       "       0.19, 0.19, 0.19, 0.19, 0.19, 0.19, 0.18, 0.19, 0.2 , 0.2 , 0.2 ,\n",
       "       0.2 , 0.2 , 0.2 , 0.2 , 0.19, 0.19, 0.19, 0.18, 0.19, 0.18, 0.18,\n",
       "       0.18, 0.18, 0.23, 0.23, 0.23, 0.23, 0.23, 0.23, 0.23, 0.19, 0.19,\n",
       "       0.19, 0.18, 0.27, 0.2 , 0.2 , 0.2 , 0.2 , 0.2 , 0.2 , 0.2 , 0.24,\n",
       "       0.2 , 0.27, 0.24, 0.24, 0.27, 0.27, 0.27, 0.24, 0.27, 0.18, 0.18,\n",
       "       0.18, 0.18, 0.18, 0.18, 0.2 , 0.18, 0.2 , 0.2 , 0.2 , 0.2 , 0.2 ,\n",
       "       0.18, 0.18, 0.18, 0.18, 0.18, 0.21, 0.21, 0.18, 0.18, 0.23, 0.18,\n",
       "       0.23, 0.23, 0.21, 0.23, 0.23, 0.23, 0.18, 0.18, 0.18, 0.18, 0.18,\n",
       "       0.18, 0.23, 0.21, 0.21, 0.21, 0.19, 0.19, 0.19, 0.18, 0.19, 0.18,\n",
       "       0.19, 0.19, 0.19, 0.19, 0.19, 0.18, 0.19, 0.19, 0.19, 0.19, 0.23,\n",
       "       0.18, 0.18, 0.23, 0.23, 0.23, 0.18, 0.18, 0.18, 0.18, 0.21, 0.21,\n",
       "       0.21, 0.21, 0.21, 0.21, 0.18, 0.19, 0.18, 0.18, 0.18, 0.18, 0.19,\n",
       "       0.19, 0.19, 0.19, 0.19, 0.18, 0.18, 0.18, 0.18, 0.18, 0.18, 0.18,\n",
       "       0.18, 0.2 , 0.18, 0.18, 0.18, 0.18, 0.18, 0.2 , 0.2 , 0.2 , 0.2 ,\n",
       "       0.2 , 0.2 , 0.18, 0.23, 0.2 , 0.2 , 0.2 , 0.18, 0.2 , 0.2 , 0.2 ,\n",
       "       0.19, 0.2 , 0.18, 0.18, 0.18, 0.18, 0.19, 0.18, 0.18, 0.18, 0.18,\n",
       "       0.18, 0.18, 0.18, 0.18, 0.19, 0.19, 0.19, 0.19, 0.19, 0.19, 0.19,\n",
       "       0.19, 0.19, 0.19, 0.19, 0.19, 0.19, 0.19, 0.18, 0.18, 0.19, 0.19,\n",
       "       0.19, 0.19, 0.19, 0.18, 0.19, 0.18, 0.18, 0.18, 0.19, 0.19, 0.18,\n",
       "       0.18, 0.18, 0.18, 0.18, 0.19, 0.18, 0.21, 0.21, 0.21, 0.21, 0.21,\n",
       "       0.21, 0.21, 0.24, 0.24, 0.24, 0.24, 0.24, 0.24, 0.24, 0.23, 0.2 ,\n",
       "       0.2 , 0.2 , 0.2 , 0.2 , 0.2 , 0.23, 0.23, 0.23, 0.23, 0.23, 0.23,\n",
       "       0.19, 0.18, 0.2 , 0.2 , 0.2 , 0.19, 0.23, 0.19, 0.18, 0.2 , 0.2 ,\n",
       "       0.2 , 0.2 , 0.19, 0.18, 0.18, 0.19, 0.18, 0.18, 0.23, 0.23, 0.23,\n",
       "       0.23, 0.23, 0.19, 0.18, 0.19, 0.19, 0.19, 0.19, 0.19, 0.19, 0.19,\n",
       "       0.28, 0.28, 0.28, 0.28, 0.28, 0.28, 0.26, 0.18, 0.18, 0.18, 0.18,\n",
       "       0.18, 0.18, 0.18, 0.26, 0.26, 0.18, 0.21, 0.18, 0.18, 0.18, 0.18,\n",
       "       0.18, 0.21, 0.18, 0.21, 0.21, 0.21, 0.21, 0.21, 0.18, 0.18, 0.18,\n",
       "       0.18, 0.18, 0.18, 0.18, 0.18, 0.18, 0.18, 0.18, 0.18, 0.23, 0.18,\n",
       "       0.18, 0.18, 0.23, 0.23, 0.23, 0.23, 0.23, 0.19, 0.19, 0.19, 0.19,\n",
       "       0.19, 0.19, 0.18, 0.18, 0.18, 0.18, 0.19, 0.19, 0.18, 0.18, 0.19,\n",
       "       0.19, 0.19, 0.19, 0.19, 0.18, 0.18, 0.18, 0.18, 0.18, 0.18, 0.18,\n",
       "       0.18, 0.18, 0.22, 0.22, 0.22, 0.22, 0.22, 0.22, 0.22, 0.24, 0.24,\n",
       "       0.24, 0.24, 0.24, 0.24, 0.24, 0.23, 0.23, 0.23, 0.18, 0.18, 0.18,\n",
       "       0.18, 0.2 , 0.18, 0.2 , 0.2 , 0.18, 0.18, 0.18, 0.18, 0.2 , 0.18,\n",
       "       0.18, 0.2 , 0.2 , 0.25, 0.19, 0.19, 0.19, 0.19, 0.19, 0.19, 0.2 ,\n",
       "       0.2 , 0.25, 0.25, 0.2 , 0.18, 0.18, 0.25, 0.18, 0.25, 0.18, 0.18,\n",
       "       0.18, 0.2 , 0.25, 0.2 , 0.2 , 0.2 , 0.2 , 0.2 , 0.2 , 0.2 , 0.19,\n",
       "       0.19, 0.19, 0.19, 0.19, 0.19, 0.19, 0.19, 0.19, 0.19, 0.19, 0.19,\n",
       "       0.19, 0.21, 0.21, 0.21, 0.21, 0.21, 0.21, 0.21, 0.19, 0.19, 0.19,\n",
       "       0.19, 0.19, 0.19, 0.19, 0.21, 0.21, 0.21, 0.21, 0.19, 0.22, 0.22,\n",
       "       0.22, 0.22, 0.18, 0.18, 0.18, 0.18, 0.18, 0.18, 0.19, 0.19, 0.19,\n",
       "       0.19, 0.19, 0.22, 0.22, 0.19, 0.26, 0.2 , 0.2 , 0.2 , 0.2 , 0.2 ,\n",
       "       0.2 , 0.26, 0.26, 0.26, 0.26, 0.26, 0.26, 0.24, 0.24, 0.24, 0.24,\n",
       "       0.24, 0.24, 0.24, 0.21, 0.21, 0.21, 0.21, 0.21, 0.21, 0.21, 0.2 ,\n",
       "       0.2 , 0.2 , 0.2 , 0.2 , 0.2 , 0.2 , 0.18, 0.18, 0.18, 0.18, 0.18,\n",
       "       0.18, 0.18, 0.22, 0.22, 0.22, 0.22, 0.22, 0.22, 0.22, 0.18, 0.18,\n",
       "       0.18, 0.2 , 0.18, 0.23, 0.2 , 0.23, 0.18, 0.18, 0.2 , 0.23, 0.18,\n",
       "       0.18, 0.18, 0.2 , 0.23, 0.2 , 0.18, 0.2 , 0.18, 0.2 , 0.18, 0.18,\n",
       "       0.18, 0.18, 0.23, 0.18, 0.23, 0.23, 0.2 , 0.2 , 0.2 , 0.19, 0.19,\n",
       "       0.19, 0.2 , 0.19, 0.19, 0.19, 0.19, 0.2 , 0.2 , 0.22, 0.2 , 0.18,\n",
       "       0.18, 0.18, 0.18, 0.18, 0.18, 0.18, 0.18, 0.18, 0.18, 0.18, 0.18,\n",
       "       0.18, 0.18, 0.18, 0.18, 0.18, 0.18, 0.18, 0.2 , 0.2 , 0.2 , 0.2 ,\n",
       "       0.2 , 0.2 , 0.19, 0.19, 0.19, 0.2 , 0.2 , 0.2 , 0.2 , 0.2 , 0.2 ,\n",
       "       0.2 , 0.2 , 0.18, 0.18, 0.2 , 0.2 , 0.2 , 0.2 , 0.2 , 0.2 , 0.2 ,\n",
       "       0.21, 0.21, 0.21, 0.18, 0.18, 0.21, 0.18, 0.18, 0.21, 0.18, 0.21,\n",
       "       0.28, 0.28, 0.28, 0.28, 0.28, 0.21, 0.21, 0.21, 0.21, 0.21, 0.21,\n",
       "       0.22, 0.22, 0.22, 0.22, 0.22, 0.21, 0.18, 0.18, 0.18, 0.18, 0.18,\n",
       "       0.21, 0.21, 0.21, 0.21, 0.21, 0.21, 0.24, 0.24, 0.19, 0.19, 0.19,\n",
       "       0.24, 0.24, 0.24, 0.24, 0.19, 0.19, 0.24, 0.19, 0.2 , 0.2 , 0.2 ,\n",
       "       0.21, 0.21, 0.21, 0.2 , 0.2 , 0.2 , 0.2 , 0.19, 0.19, 0.19, 0.18,\n",
       "       0.19, 0.19, 0.18, 0.18, 0.18, 0.18, 0.18, 0.19, 0.19, 0.19, 0.19,\n",
       "       0.19, 0.19, 0.19, 0.19, 0.19, 0.19, 0.21, 0.21, 0.21, 0.21, 0.21,\n",
       "       0.21, 0.18, 0.2 , 0.2 , 0.2 , 0.18, 0.18, 0.2 , 0.18, 0.18, 0.24,\n",
       "       0.18, 0.24, 0.24, 0.24, 0.24, 0.24, 0.24, 0.2 , 0.2 , 0.2 , 0.2 ,\n",
       "       0.18, 0.2 , 0.34, 0.18, 0.18, 0.18, 0.18, 0.18, 0.18, 0.18, 0.34,\n",
       "       0.34, 0.19, 0.19, 0.19, 0.19, 0.19, 0.19, 0.18, 0.18, 0.18, 0.18,\n",
       "       0.18, 0.18, 0.18, 0.21, 0.21, 0.21, 0.21, 0.2 , 0.2 , 0.2 , 0.2 ,\n",
       "       0.2 , 0.2 , 0.21, 0.2 , 0.18, 0.18, 0.18, 0.27, 0.18, 0.23, 0.23,\n",
       "       0.23, 0.23, 0.23, 0.23, 0.23, 0.19, 0.18, 0.18, 0.18])"
      ]
     },
     "execution_count": 60,
     "metadata": {},
     "output_type": "execute_result"
    }
   ],
   "source": [
    "dist_mod_err = sdss_combined['muerrSALT2zspec']\n",
    "dist_mod_err = dist_mod_err.to_numpy()\n",
    "dist_mod_err = dist_mod_err\n",
    "dist_mod_err"
   ]
  },
  {
   "cell_type": "code",
   "execution_count": 96,
   "metadata": {},
   "outputs": [
    {
     "data": {
      "text/plain": [
       "array([0.42329637, 3.5991767 ])"
      ]
     },
     "execution_count": 96,
     "metadata": {},
     "output_type": "execute_result"
    }
   ],
   "source": [
    "model_dist_mod = our_cosmo.distmod(sdss_combined['zCMB'])\n",
    "model_no_units = model_dist_mod/u.mag\n",
    "model_no_units = [float(i) for i in model_no_units]\n",
    "z = sdss_combined['zCMB']\n",
    "dist_mod = sdss_combined['muSALT2zspec']\n",
    "dist_mod = dist_mod.to_numpy()\n",
    "dist_mod_units = dist_mod*u.mag\n",
    "model_dist = our_cosmo.angular_diameter_distance(z)\n",
    "log_y_data = np.log(model_no_units)\n",
    "np.polyfit(z, log_y_data, 1)"
   ]
  },
  {
   "cell_type": "code",
   "execution_count": 102,
   "metadata": {},
   "outputs": [
    {
     "ename": "TypeError",
     "evalue": "unsupported operand type(s) for -: 'list' and 'float'",
     "output_type": "error",
     "traceback": [
      "\u001b[0;31m---------------------------------------------------------------------------\u001b[0m",
      "\u001b[0;31mTypeError\u001b[0m                                 Traceback (most recent call last)",
      "\u001b[0;32m<ipython-input-102-5cb76991d4d2>\u001b[0m in \u001b[0;36m<module>\u001b[0;34m\u001b[0m\n\u001b[0;32m----> 1\u001b[0;31m \u001b[0mz_log\u001b[0m \u001b[0;34m=\u001b[0m \u001b[0mnp\u001b[0m\u001b[0;34m.\u001b[0m\u001b[0mexp\u001b[0m\u001b[0;34m(\u001b[0m\u001b[0;34m(\u001b[0m\u001b[0mmodel_no_units\u001b[0m\u001b[0;34m-\u001b[0m\u001b[0;36m3.5991767\u001b[0m\u001b[0;34m)\u001b[0m\u001b[0;34m/\u001b[0m\u001b[0;36m0.42329637\u001b[0m\u001b[0;34m)\u001b[0m\u001b[0;34m\u001b[0m\u001b[0;34m\u001b[0m\u001b[0m\n\u001b[0m",
      "\u001b[0;31mTypeError\u001b[0m: unsupported operand type(s) for -: 'list' and 'float'"
     ]
    }
   ],
   "source": [
    "z_log = np.exp((model_no_units-3.5991767)/0.42329637)"
   ]
  },
  {
   "cell_type": "code",
   "execution_count": 103,
   "metadata": {},
   "outputs": [
    {
     "data": {
      "text/plain": [
       "Text(0, 0.5, 'distance modulus (mag)')"
      ]
     },
     "execution_count": 103,
     "metadata": {},
     "output_type": "execute_result"
    },
    {
     "data": {
      "image/png": "[encoded data removed]",
      "text/plain": [
       "<Figure size 432x288 with 1 Axes>"
      ]
     },
     "metadata": {
      "needs_background": "light"
     },
     "output_type": "display_data"
    }
   ],
   "source": [
    "plt.scatter(z, model_dist_mod,  color='blue', s=0.8, alpha=0.5,label=\n",
    "        '$h=0.7,\\ \\Omega_M=0.3,\\ \\Omega_\\Lambda=0.7$')\n",
    "plt.scatter(z, dist_mod_units, color = 'red', s=0.8, alpha=0.5)\n",
    "#plt.scatter(z, model_dist_mod-dist_mod_units, color = 'green', s=0.8, alpha=0.5)\n",
    "#plt.plot(z_log, model_no_units)\n",
    "plt.errorbar(z, dist_mod, yerr = dist_mod_err, fmt = 'none', color = 'red', s=0.8, alpha = 0.5)\n",
    "plt.xlabel('redshift')\n",
    "plt.ylabel('distance modulus (mag)')"
   ]
  },
  {
   "cell_type": "code",
   "execution_count": 106,
   "metadata": {},
   "outputs": [
    {
     "data": {
      "text/plain": [
       "[<matplotlib.lines.Line2D at 0x7ffd32bf4ad0>]"
      ]
     },
     "execution_count": 106,
     "metadata": {},
     "output_type": "execute_result"
    },
    {
     "data": {
      "image/png": "[encoded data removed]",
      "text/plain": [
       "<Figure size 432x288 with 1 Axes>"
      ]
     },
     "metadata": {
      "needs_background": "light"
     },
     "output_type": "display_data"
    }
   ],
   "source": [
    "zeros = np.zeros(len(z))\n",
    "plt.scatter(z, model_dist_mod-dist_mod_units, color = 'green', s=0.8, alpha=0.5)\n",
    "plt.plot(z, zeros, alpha = 0.5)"
   ]
  },
  {
   "cell_type": "code",
   "execution_count": null,
   "metadata": {},
   "outputs": [],
   "source": []
  }
 ],
 "metadata": {
  "kernelspec": {
   "display_name": "Python 3",
   "language": "python",
   "name": "python3"
  },
  "language_info": {
   "codemirror_mode": {
    "name": "ipython",
    "version": 3
   },
   "file_extension": ".py",
   "mimetype": "text/x-python",
   "name": "python",
   "nbconvert_exporter": "python",
   "pygments_lexer": "ipython3",
   "version": "3.7.4"
  }
 },
 "nbformat": 4,
 "nbformat_minor": 4
}
