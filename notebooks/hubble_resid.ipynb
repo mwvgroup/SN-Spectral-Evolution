{
 "cells": [
  {
   "cell_type": "markdown",
   "metadata": {},
   "source": [
    "# Plotting Hubble Residuals\n",
    " \n",
    "Creates Hubble diagram and plots residuals"
   ]
  },
  {
   "cell_type": "code",
   "execution_count": null,
   "metadata": {},
   "outputs": [],
   "source": [
    "import matplotlib.pyplot as plt\n",
    "import numpy as np\n",
    "import pandas as pd\n",
    "import scipy\n",
    "from astropy.cosmology import FlatLambdaCDM\n",
    "from astropy import units as u\n",
    "from scipy.stats import chisquare\n",
    "from scipy.optimize import minimize\n"
   ]
  },
  {
   "cell_type": "code",
   "execution_count": null,
   "metadata": {},
   "outputs": [],
   "source": [
    "sdss_combined = pd.read_csv('../results/sdss_combined.csv')\n"
   ]
  },
  {
   "cell_type": "markdown",
   "metadata": {},
   "source": [
    "## Finding a Best Fit Cosmology"
   ]
  },
  {
   "cell_type": "code",
   "execution_count": null,
   "metadata": {},
   "outputs": [],
   "source": [
    "Om0_assumed = 0.315\n",
    "redshift = sdss_combined['zCMB']\n",
    "dist_mod = sdss_combined['muSALT2zspec'].to_numpy()\n",
    "dist_mod_err = sdss_combined['muerrSALT2zspec']\n"
   ]
  },
  {
   "cell_type": "code",
   "execution_count": null,
   "metadata": {},
   "outputs": [],
   "source": [
    "@np.vectorize\n",
    "def dist_mod_chisq(H0):\n",
    "    cosmo = FlatLambdaCDM(H0=H0 * u.km / u.s / u.Mpc, Om0=Om0_assumed)\n",
    "    model_dist_mod = cosmo.distmod(redshift)\n",
    "    chisq, p = chisquare(dist_mod * u.mag, model_dist_mod)\n",
    "    return chisq / u.mag\n"
   ]
  },
  {
   "cell_type": "code",
   "execution_count": null,
   "metadata": {},
   "outputs": [],
   "source": [
    "fit_results = minimize(dist_mod_chisq, 70)\n",
    "fit_results\n"
   ]
  },
  {
   "cell_type": "code",
   "execution_count": null,
   "metadata": {},
   "outputs": [],
   "source": [
    "H0_fit = fit_results.x[0] * u.km / u.s / u.Mpc\n",
    "our_cosmo = FlatLambdaCDM(H0=H0_fit, Om0=Om0_assumed)\n",
    "our_cosmo\n"
   ]
  },
  {
   "cell_type": "markdown",
   "metadata": {},
   "source": [
    "## Plot Fit Results"
   ]
  },
  {
   "cell_type": "code",
   "execution_count": null,
   "metadata": {},
   "outputs": [],
   "source": [
    "def plot_hubble_diagram(z, mu, mu_err, fitted_cosmo, figsize=(4, 6)):\n",
    "\n",
    "    xlim = np.min(z), np.max(z)\n",
    "    z_plot = np.linspace(*xlim)\n",
    "    fitted_dist_mod = our_cosmo.distmod(z_plot)\n",
    "    \n",
    "    fig, (top_ax, bottom_ax) = plt.subplots(2, 1, sharex='col', figsize=figsize, gridspec_kw={'height_ratios': (2, 1)})\n",
    "    plt.subplots_adjust(hspace=0)\n",
    "    \n",
    "    cosmology_style = dict(color='blue', alpha=0.5, label='$h=0.7,\\ \\Omega_M=0.3,\\ \\Omega_\\Lambda=0.7$')\n",
    "    mu_style = dict(fmt='none', color='red', s=0.8, alpha=0.5)\n",
    "    \n",
    "    top_ax.plot(z_plot, fitted_dist_mod, **cosmology_style)\n",
    "    top_ax.errorbar(redshift, dist_mod, yerr=dist_mod_err, **mu_style)\n",
    "    top_ax.set_ylabel('Distance Modulus (mag)')\n",
    "    \n",
    "    bottom_ax.axhline(0, **cosmology_style)\n",
    "    bottom_ax.errorbar(z, mu - our_cosmo.distmod(z).value, yerr=dist_mod_err, **mu_style)\n",
    "    bottom_ax.set_xlim(*xlim)\n",
    "    bottom_ax.set_xlabel('Redshift')\n",
    "    bottom_ax.set_ylabel('Residuals')\n",
    "    "
   ]
  },
  {
   "cell_type": "code",
   "execution_count": null,
   "metadata": {},
   "outputs": [],
   "source": [
    "plot_hubble_diagram(redshift, dist_mod, dist_mod_err, our_cosmo)\n"
   ]
  },
  {
   "cell_type": "code",
   "execution_count": null,
   "metadata": {},
   "outputs": [],
   "source": []
  }
 ],
 "metadata": {
  "kernelspec": {
   "display_name": "Python 3",
   "language": "python",
   "name": "python3"
  },
  "language_info": {
   "codemirror_mode": {
    "name": "ipython",
    "version": 3
   },
   "file_extension": ".py",
   "mimetype": "text/x-python",
   "name": "python",
   "nbconvert_exporter": "python",
   "pygments_lexer": "ipython3",
   "version": "3.7.9"
  }
 },
 "nbformat": 4,
 "nbformat_minor": 4
}
