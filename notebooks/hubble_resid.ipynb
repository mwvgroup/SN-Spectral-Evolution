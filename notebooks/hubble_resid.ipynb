{
 "cells": [
  {
   "cell_type": "markdown",
   "metadata": {},
   "source": [
    "# Plotting Hubble Residuals\n",
    " \n",
    "Creates Hubble diagram and plots residuals"
   ]
  },
  {
   "cell_type": "code",
   "execution_count": 1,
   "metadata": {},
   "outputs": [],
   "source": [
    "import matplotlib.pyplot as plt\n",
    "import numpy as np\n",
    "import pandas as pd\n",
    "import scipy\n",
    "from astropy.cosmology import FlatLambdaCDM\n",
    "from astropy import units as u\n",
    "from scipy.stats import chisquare\n",
    "from scipy.optimize import minimize\n",
    "#imports"
   ]
  },
  {
   "cell_type": "code",
   "execution_count": 2,
   "metadata": {},
   "outputs": [],
   "source": [
    "sdss_combined = pd.read_csv('../results/sdss_combined.csv')\n",
    "#read in table"
   ]
  },
  {
   "cell_type": "markdown",
   "metadata": {},
   "source": [
    "#rerun minimizer for hubble residual - avg hubble residual\n",
    "calculate avg distance modulus\n",
    "use value to calc difference betwen dist mod and avg\n",
    "fit residuals \n",
    "recover cos model from the fit"
   ]
  },
  {
   "cell_type": "markdown",
   "metadata": {},
   "source": [
    "## Finding a Best Fit Cosmology"
   ]
  },
  {
   "cell_type": "code",
   "execution_count": 3,
   "metadata": {},
   "outputs": [
    {
     "name": "stdout",
     "output_type": "stream",
     "text": [
      "39.351735330836455\n"
     ]
    },
    {
     "data": {
      "image/png": "[encoded data removed]",
      "text/plain": [
       "<Figure size 432x288 with 1 Axes>"
      ]
     },
     "metadata": {
      "needs_background": "light"
     },
     "output_type": "display_data"
    }
   ],
   "source": [
    "#assume Om0 value\n",
    "Om0_assumed = 0.315\n",
    "#define variables\n",
    "redshift = sdss_combined['zCMB'].to_numpy()\n",
    "dist_mod = sdss_combined['muSALT2zspec'].to_numpy()\n",
    "dist_mod_err = sdss_combined['muerrSALT2zspec'].to_numpy()\n",
    "stretch = sdss_combined['x1SALT2zspec'].to_numpy()\n",
    "color = sdss_combined['cSALT2zspec'].to_numpy()\n",
    "#take average of distance moduli and subtract from dist mod data. Use std as error\n",
    "dist_mod_avg = np.mean(dist_mod)\n",
    "difference = dist_mod - dist_mod_avg\n",
    "diff_err = np.std(difference)\n",
    "#plots a histogram of the differences from the average\n",
    "plt.hist(difference)\n",
    "print(dist_mod_avg)"
   ]
  },
  {
   "cell_type": "code",
   "execution_count": 17,
   "metadata": {},
   "outputs": [],
   "source": [
    "def chisq_dist_mod(params):\n",
    "    #defines chisq function \n",
    "    H0, alpha, beta = params\n",
    "    #creates cosmology model with no curvature, and obtains modeled distance moduli \n",
    "    cosmo = FlatLambdaCDM(H0=H0, Om0=Om0_assumed)\n",
    "    model_dist_mod = cosmo.distmod(redshift).value\n",
    "    \n",
    "    #calculates chisq using the difference and the modeled distance modulus \n",
    "    return np.sum((difference - model_dist_mod) ** 2 / dist_mod_err  ** 2)"
   ]
  },
  {
   "cell_type": "code",
   "execution_count": 18,
   "metadata": {},
   "outputs": [
    {
     "data": {
      "text/plain": [
       "<matplotlib.collections.PathCollection at 0x1a23d04450>"
      ]
     },
     "execution_count": 18,
     "metadata": {},
     "output_type": "execute_result"
    },
    {
     "data": {
      "image/png": "[encoded data removed]",
      "text/plain": [
       "<Figure size 432x288 with 1 Axes>"
      ]
     },
     "metadata": {
      "needs_background": "light"
     },
     "output_type": "display_data"
    }
   ],
   "source": [
    "params = np.polyfit(redshift, difference, 1)\n",
    "fit_func = np.poly1d(params)\n",
    "red_fit = fit_func(redshift)\n",
    "dist_mod_fit = red_fit + dist_mod_avg\n",
    "\n",
    "plt.scatter(redshift, dist_mod_fit)\n",
    "plt.scatter(redshift, dist_mod)"
   ]
  },
  {
   "cell_type": "code",
   "execution_count": 19,
   "metadata": {},
   "outputs": [
    {
     "data": {
      "text/plain": [
       "<matplotlib.collections.PathCollection at 0x1a231eeb10>"
      ]
     },
     "execution_count": 19,
     "metadata": {},
     "output_type": "execute_result"
    },
    {
     "data": {
      "image/png": "[encoded data removed]",
      "text/plain": [
       "<Figure size 432x288 with 1 Axes>"
      ]
     },
     "metadata": {
      "needs_background": "light"
     },
     "output_type": "display_data"
    }
   ],
   "source": [
    "plt.scatter(redshift, difference)"
   ]
  },
  {
   "cell_type": "code",
   "execution_count": 20,
   "metadata": {},
   "outputs": [
    {
     "data": {
      "text/plain": [
       "      fun: 772404.6541962286\n",
       " hess_inv: array([[1.51958846e+09, 0.00000000e+00, 0.00000000e+00],\n",
       "       [0.00000000e+00, 1.00000000e+00, 0.00000000e+00],\n",
       "       [0.00000000e+00, 0.00000000e+00, 1.00000000e+00]])\n",
       "      jac: array([0., 0., 0.])\n",
       "  message: 'Optimization terminated successfully.'\n",
       "     nfev: 190\n",
       "      nit: 34\n",
       "     njev: 38\n",
       "   status: 0\n",
       "  success: True\n",
       "        x: array([3.01786224e+08, 0.00000000e+00, 0.00000000e+00])"
      ]
     },
     "execution_count": 20,
     "metadata": {},
     "output_type": "execute_result"
    }
   ],
   "source": [
    "fit_results = minimize(chisq_dist_mod, [10, 0, 0])\n",
    "fit_results"
   ]
  },
  {
   "cell_type": "code",
   "execution_count": 21,
   "metadata": {},
   "outputs": [
    {
     "data": {
      "text/plain": [
       "FlatLambdaCDM(H0=3.02e+08 km / (Mpc s), Om0=0.315, Tcmb0=0 K, Neff=3.04, m_nu=None, Ob0=None)"
      ]
     },
     "execution_count": 21,
     "metadata": {},
     "output_type": "execute_result"
    }
   ],
   "source": [
    "our_cosmo = FlatLambdaCDM(H0=fit_results.x[0], Om0=Om0_assumed)\n",
    "our_cosmo"
   ]
  },
  {
   "cell_type": "markdown",
   "metadata": {},
   "source": [
    "## Plot Fit Results"
   ]
  },
  {
   "cell_type": "code",
   "execution_count": 28,
   "metadata": {},
   "outputs": [
    {
     "data": {
      "text/plain": [
       "<matplotlib.collections.PathCollection at 0x1a23562ad0>"
      ]
     },
     "execution_count": 28,
     "metadata": {},
     "output_type": "execute_result"
    },
    {
     "data": {
      "image/png": "[encoded data removed]",
      "text/plain": [
       "<Figure size 432x288 with 1 Axes>"
      ]
     },
     "metadata": {
      "needs_background": "light"
     },
     "output_type": "display_data"
    }
   ],
   "source": [
    "xlim = np.min(redshift), np.max(redshift)\n",
    "z_plot = np.linspace(*xlim)\n",
    "plt.plot(z_plot, our_cosmo.distmod(z_plot) )\n",
    "plt.scatter(redshift, difference)"
   ]
  },
  {
   "cell_type": "code",
   "execution_count": 22,
   "metadata": {},
   "outputs": [],
   "source": [
    "def plot_hubble_diagram(z, mu, mu_err, fitted_cosmo, avg_dist_mod, figsize=(4, 6)):\n",
    "    mu_calibrated = mu \n",
    "    xlim = np.min(z), np.max(z)\n",
    "    z_plot = np.linspace(*xlim)\n",
    "    fitted_dist_mod = our_cosmo.distmod(z_plot).value + avg_dist_mod \n",
    "    fitted_dist_mod_z = our_cosmo.distmod(z).value + avg_dist_mod \n",
    "    \n",
    "    fig, (top_ax, bottom_ax) = plt.subplots(2, 1, sharex='col', figsize=figsize, gridspec_kw={'height_ratios': (2, 1)})\n",
    "    plt.subplots_adjust(hspace=0)\n",
    "    \n",
    "    cosmology_style = dict(color='blue', alpha=0.5, label='$h=0.7,\\ \\Omega_M=0.3,\\ \\Omega_\\Lambda=0.7$')\n",
    "    mu_style = dict(fmt='none', color='red', alpha=0.5)\n",
    "    \n",
    "    top_ax.plot(z_plot, fitted_dist_mod, **cosmology_style)\n",
    "    top_ax.errorbar(redshift, dist_mod, yerr=dist_mod_err, **mu_style)\n",
    "    top_ax.set_ylabel('Distance Modulus (mag)')\n",
    "    \n",
    "    bottom_ax.axhline(0, **cosmology_style)\n",
    "    bottom_ax.errorbar(z, mu_calibrated - fitted_dist_mod_z, yerr=dist_mod_err, **mu_style)\n",
    "    bottom_ax.set_xlim(*xlim)\n",
    "    bottom_ax.set_xlabel('Redshift')\n",
    "    bottom_ax.set_ylabel('Residuals')\n",
    "    "
   ]
  },
  {
   "cell_type": "code",
   "execution_count": 23,
   "metadata": {},
   "outputs": [
    {
     "data": {
      "image/png": "[encoded data removed]",
      "text/plain": [
       "<Figure size 288x432 with 2 Axes>"
      ]
     },
     "metadata": {
      "needs_background": "light"
     },
     "output_type": "display_data"
    }
   ],
   "source": [
    "plot_hubble_diagram(redshift, dist_mod, dist_mod_err, our_cosmo, dist_mod_avg)\n"
   ]
  },
  {
   "cell_type": "code",
   "execution_count": null,
   "metadata": {},
   "outputs": [],
   "source": [
    "resid = dist_mod - our_cosmo.distmod(redshift).value\n",
    "sdss_combined['residuals'] = resid.tolist()\n",
    "sdss_combined.to_csv(r'/Users/emilysf098/Desktop/Research/SN-Spectral-Evolution/results/residual_df.csv')"
   ]
  },
  {
   "cell_type": "markdown",
   "metadata": {},
   "source": [
    "TEST"
   ]
  },
  {
   "cell_type": "code",
   "execution_count": null,
   "metadata": {},
   "outputs": [],
   "source": [
    "plt.figure(figsize=(12, 8))\n",
    "plt.scatter(stretch, sdss_combined['residuals'], marker = '.')\n",
    "w = 1/dist_mod_err\n",
    "ms, bs = np.polyfit(stretch, sdss_combined['residuals'], 1, w = w)\n",
    "plt.plot(stretch, ms*stretch + bs, color = 'orange')\n",
    "plt.errorbar(stretch,sdss_combined['residuals'] , yerr=dist_mod_err, alpha = 0.1, linestyle = '')\n",
    "plt.title('Stretch vs. Residual')\n",
    "plt.xlabel('stretch')\n",
    "plt.ylabel('residual')\n",
    "print(f'slope = {ms}, y-intercept =  {bs}')"
   ]
  },
  {
   "cell_type": "code",
   "execution_count": null,
   "metadata": {},
   "outputs": [],
   "source": [
    "plt.figure(figsize=(12, 8))\n",
    "plt.scatter(color, sdss_combined['residuals'], marker = '.')\n",
    "mc, bc = np.polyfit(color, sdss_combined['residuals'], 1, w=w)\n",
    "plt.plot(color, mc*color + bc, color = 'orange')\n",
    "plt.errorbar(color,sdss_combined['residuals'] , yerr=dist_mod_err, alpha = 0.1, linestyle = '')\n",
    "plt.title('Color vs. Residual')\n",
    "plt.xlabel('color')\n",
    "plt.ylabel('residual')\n",
    "print(f'slope = {mc}, y-intercept =  {bc}')"
   ]
  },
  {
   "cell_type": "code",
   "execution_count": null,
   "metadata": {},
   "outputs": [],
   "source": [
    "#removing outliers\n",
    "no_out_resid = sdss_combined[(sdss_combined['residuals']<3) & (sdss_combined['x1SALT2zspec'] < 0.6)]\n",
    "no_out_resid2 = sdss_combined[(sdss_combined['residuals']<3) & (sdss_combined['cSALT2zspec'] < 0.6)]"
   ]
  },
  {
   "cell_type": "code",
   "execution_count": null,
   "metadata": {},
   "outputs": [],
   "source": [
    "plt.figure(figsize=(12, 8))\n",
    "plt.scatter(no_out_resid['x1SALT2zspec'], no_out_resid['residuals'], marker = '.')\n",
    "ms, bs = np.polyfit(no_out_resid['x1SALT2zspec'], no_out_resid['residuals'], 1)\n",
    "plt.plot(no_out_resid['x1SALT2zspec'], ms*no_out_resid['x1SALT2zspec'] + bs, color = 'orange')\n",
    "plt.title('Stretch vs. Residual')\n",
    "plt.xlabel('stretch')\n",
    "plt.ylabel('residual')\n",
    "print(f'slope = {ms}, y-intercept =  {bs}')"
   ]
  },
  {
   "cell_type": "code",
   "execution_count": null,
   "metadata": {},
   "outputs": [],
   "source": [
    "plt.figure(figsize=(12, 8))\n",
    "plt.scatter(no_out_resid2['cSALT2zspec'], no_out_resid2['residuals'], marker = '.')\n",
    "ms, bs = np.polyfit(no_out_resid2['cSALT2zspec'], no_out_resid2['residuals'], 1)\n",
    "plt.plot(no_out_resid2['cSALT2zspec'], ms*no_out_resid2['cSALT2zspec'] + bs, color = 'orange')\n",
    "plt.title('color vs. Residual')\n",
    "plt.xlabel('color')\n",
    "plt.ylabel('residual')\n",
    "print(f'slope = {ms}, y-intercept =  {bs}')"
   ]
  },
  {
   "cell_type": "markdown",
   "metadata": {},
   "source": []
  }
 ],
 "metadata": {
  "kernelspec": {
   "display_name": "Python 3",
   "language": "python",
   "name": "python3"
  },
  "language_info": {
   "codemirror_mode": {
    "name": "ipython",
    "version": 3
   },
   "file_extension": ".py",
   "mimetype": "text/x-python",
   "name": "python",
   "nbconvert_exporter": "python",
   "pygments_lexer": "ipython3",
   "version": "3.7.4"
  }
 },
 "nbformat": 4,
 "nbformat_minor": 4
}
