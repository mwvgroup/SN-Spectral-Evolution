{
 "cells": [
  {
   "cell_type": "markdown",
   "metadata": {},
   "source": [
    "# Comparison of pW Values in CSP DR1"
   ]
  },
  {
   "cell_type": "markdown",
   "metadata": {},
   "source": [
    "This code produces a plot that shows the Bronder 2008 results for pW values vs. the measurements for pWs obtained in this experiment. It also provides a linear regression model to estimate how accurate the human measurements were. First, necessary imports are made and the measured data is read in."
   ]
  },
  {
   "cell_type": "code",
   "execution_count": null,
   "metadata": {},
   "outputs": [],
   "source": [
    "import numpy as np\n",
    "import matplotlib.pyplot as plt\n",
    "from sndata.csp import DR1\n",
    "dr1 = DR1()\n",
    "import pandas as pd\n",
    "import scipy.stats as stats"
   ]
  },
  {
   "cell_type": "code",
   "execution_count": null,
   "metadata": {
    "scrolled": true
   },
   "outputs": [],
   "source": [
    "output_file_data = pd.read_csv(\"../SN-Spectral-Evolution/results/anish_csp.csv\")\n",
    "output_file_data\n",
    "#prints out the table of saved data for the scripts program\n"
   ]
  },
  {
   "cell_type": "code",
   "execution_count": null,
   "metadata": {
    "scrolled": true
   },
   "outputs": [],
   "source": [
    "pew_df = output_file_data['pew']\n",
    "pew_sorted = output_file_data.set_index(['obj_id', 'feat_name']) #organizes columns for convenience\n",
    "pew_sorted = pew_sorted['pew']\n",
    "pew_sorted #This is the measured results dataframe\n"
   ]
  },
  {
   "cell_type": "markdown",
   "metadata": {},
   "source": [
    "The next objective is to create a dataframe of values obtained through the Bronder 2008 study. The 'nan' values should not be present in the final result. In order for this dataframe to be plottable, it must be matched up with the previous one. This is done through a pandas method that will relate the object ids and pW values."
   ]
  },
  {
   "cell_type": "code",
   "execution_count": null,
   "metadata": {
    "scrolled": true
   },
   "outputs": [],
   "source": [
    "published = dr1.get_available_tables()\n",
    "dr1_table = dr1.load_table(published[3]) #download relevant table of pWs from DR1\n",
    "\n",
    "pub_frame = dr1_table.to_pandas()\n",
    "pub_frame.rename(columns = {'SN' : 'obj_id'}, inplace = True) #creates dictionary to search through dataframe\n",
    "pub_frame.set_index(['obj_id'], inplace = True)\n",
    "pub_frame\n"
   ]
  },
  {
   "cell_type": "code",
   "execution_count": null,
   "metadata": {},
   "outputs": [],
   "source": [
    "output = output_file_data.set_index(['obj_id', 'feat_name'])\n",
    "group_data = output.groupby('feat_name')\n",
    "print(group_data) #This holds information used to combine the dataframe below\n",
    "            "
   ]
  },
  {
   "cell_type": "markdown",
   "metadata": {},
   "source": [
    "The final subplot is found below with plots for each feature in the spectra for objects. They were plotted using a for loop to iterate through each index in the combined dataframe, made of published and measured results. The linear regression for each pW is also found and shows somewhat of a linear dependence."
   ]
  },
  {
   "cell_type": "code",
   "execution_count": null,
   "metadata": {
    "scrolled": false
   },
   "outputs": [],
   "source": [
    "fig, axes = plt.subplots(2, 4, figsize = (10, 6))\n",
    "pw_list = ['pW1', 'pW2', 'pW3', 'pW4', 'pW5', 'pW6', 'pW7', 'pW8', 'pew']\n",
    "\n",
    "for (feat_name, feat_data), axis in zip(group_data, axes.flatten()): #zip matches data from both sets to each other\n",
    "    data_final = feat_data.join(pub_frame) #combines measured and published dataframes\n",
    "    nonan_frame = data_final[pw_list].dropna()\n",
    "    axis.scatter(nonan_frame['pew'], nonan_frame[feat_name], marker = \"x\", color = \"darkorange\", label = feat_name)\n",
    "    slope, intercept, r, p, s = stats.linregress(nonan_frame['pew'], nonan_frame[feat_name])\n",
    "    axis.plot(nonan_frame['pew'], nonan_frame['pew']*slope + intercept, 'r-', label = f'{slope: .2f}x+{intercept: .2f}')\n",
    "    axis.tick_params(top = True, right = True)\n",
    "    axis.legend(loc = 'upper left')\n",
    "    \n",
    "axes[0, 0].set_xlim(50, 200)\n",
    "axes[0, 0].set_ylim(50, 200)\n",
    "axes[0, 1].set_xlim(0, 40)\n",
    "axes[0, 1].set_ylim(0, 40)\n",
    "axes[0, 2].set_xlim(50, 200)\n",
    "axes[0, 2].set_ylim(50, 200)\n",
    "axes[0, 3].set_xlim(50, 250)\n",
    "axes[0, 3].set_ylim(50, 250)\n",
    "axes[1, 0].set_xlim(20, 110)\n",
    "axes[1, 0].set_ylim(20, 110)\n",
    "axes[1, 1].set_xlim(0, 75)\n",
    "axes[1, 1].set_ylim(0, 75)\n",
    "axes[1, 2].set_xlim(50, 160)\n",
    "axes[1, 2].set_ylim(50, 160)\n",
    "axes[1, 3].set_xlim(0, 310)\n",
    "axes[1, 3].set_ylim(0, 310)\n",
    "\n",
    "fig.text(-0.03, 0.5, \"Measured pW [$\\AA$]\", va = 'center', rotation = 'vertical', fontsize = 14)\n",
    "fig.text(0.52, -0.03, \"Published pW [$\\AA$]\", ha = 'center', fontsize = 14)\n",
    "fig.text(0.23, 1, \"Measured vs. Published Results for Features in CSP\", fontsize = 16)\n",
    "plt.tight_layout()"
   ]
  },
  {
   "cell_type": "code",
   "execution_count": null,
   "metadata": {},
   "outputs": [],
   "source": []
  }
 ],
 "metadata": {
  "kernelspec": {
   "display_name": "Python 3",
   "language": "python",
   "name": "python3"
  },
  "language_info": {
   "codemirror_mode": {
    "name": "ipython",
    "version": 3
   },
   "file_extension": ".py",
   "mimetype": "text/x-python",
   "name": "python",
   "nbconvert_exporter": "python",
   "pygments_lexer": "ipython3",
   "version": "3.7.4"
  }
 },
 "nbformat": 4,
 "nbformat_minor": 2
}
