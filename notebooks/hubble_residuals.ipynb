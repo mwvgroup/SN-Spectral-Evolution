{
 "cells": [
  {
   "cell_type": "markdown",
   "metadata": {},
   "source": [
    "# Plotting Hubble Residuals\n",
    " \n",
    "Creates Hubble diagram and plots residuals"
   ]
  },
  {
   "cell_type": "code",
   "execution_count": 50,
   "metadata": {},
   "outputs": [],
   "source": [
    "#imports\n",
    "import matplotlib.pyplot as plt\n",
    "import numpy as np\n",
    "import pandas as pd\n",
    "import scipy\n",
    "from astropy.cosmology import FlatLambdaCDM\n",
    "from astropy import units as u\n",
    "from scipy.stats import chisquare\n",
    "from scipy.optimize import minimize\n",
    "from astropy.cosmology import Planck13 as cosmo"
   ]
  },
  {
   "cell_type": "code",
   "execution_count": 51,
   "metadata": {},
   "outputs": [],
   "source": [
    "#read in data\n",
    "sdss_combined = pd.read_csv('../results/sdss_combined.csv')"
   ]
  },
  {
   "cell_type": "markdown",
   "metadata": {},
   "source": [
    "## Finding a Best Fit Cosmology"
   ]
  },
  {
   "cell_type": "code",
   "execution_count": 52,
   "metadata": {},
   "outputs": [],
   "source": [
    "#define variables\n",
    "Om0_assumed = cosmo.Om0\n",
    "H0 = cosmo.H0\n",
    "redshift = sdss_combined['zCMB'].to_numpy()\n",
    "dist_mod = sdss_combined['muSALT2zspec'].to_numpy()\n",
    "dist_mod_err = sdss_combined['muerrSALT2zspec'].to_numpy()"
   ]
  },
  {
   "cell_type": "code",
   "execution_count": 53,
   "metadata": {},
   "outputs": [],
   "source": [
    "@np.vectorize\n",
    "\n",
    "def chisq(x):\n",
    "    '''defines chisq function which minimizes x offset'''\n",
    "    model_dist_mod = cosmo.distmod(redshift).value + x\n",
    "    return np.sum((dist_mod - model_dist_mod) ** 2 / dist_mod_err  ** 2)"
   ]
  },
  {
   "cell_type": "code",
   "execution_count": 55,
   "metadata": {},
   "outputs": [
    {
     "data": {
      "text/plain": [
       "      fun: 523.4437174661545\n",
       " hess_inv: array([[4.07615426e-06]])\n",
       "      jac: array([4.57763672e-05])\n",
       "  message: 'Desired error not necessarily achieved due to precision loss.'\n",
       "     nfev: 16\n",
       "      nit: 2\n",
       "     njev: 5\n",
       "   status: 2\n",
       "  success: False\n",
       "        x: array([-0.03146253])"
      ]
     },
     "execution_count": 55,
     "metadata": {},
     "output_type": "execute_result"
    }
   ],
   "source": [
    "#gets results of chisq minimization\n",
    "fit_results = minimize(chisq, 0)\n",
    "fit_results"
   ]
  },
  {
   "cell_type": "markdown",
   "metadata": {},
   "source": [
    "## Plot Fit Results"
   ]
  },
  {
   "cell_type": "code",
   "execution_count": 56,
   "metadata": {},
   "outputs": [],
   "source": [
    "def plot_hubble_diagram(z, mu, mu_err, x, figsize=(8, 12)):\n",
    "    '''function to plot the hubble residuals'''\n",
    "    \n",
    "    xlim = np.min(z), np.max(z)\n",
    "    z_plot = np.linspace(*xlim)\n",
    "    fitted_dist_mod = cosmo.distmod(z_plot).value + x\n",
    "    \n",
    "    fig, (top_ax, bottom_ax) = plt.subplots(2, 1, sharex='col', figsize=figsize, gridspec_kw={'height_ratios': (2, 1)})\n",
    "    plt.subplots_adjust(hspace=0)\n",
    "    \n",
    "    cosmology_style = dict(color='blue', alpha=0.5, label='$h=0.7,\\ \\Omega_M=0.3,\\ \\Omega_\\Lambda=0.7$')\n",
    "    mu_style = dict(fmt='none', color='red')\n",
    "    \n",
    "    top_ax.plot(z_plot, fitted_dist_mod, **cosmology_style)\n",
    "    top_ax.errorbar(redshift, dist_mod, yerr=dist_mod_err, **mu_style)\n",
    "    top_ax.set_ylabel('Distance Modulus (mag)')\n",
    "    \n",
    "    bottom_ax.axhline(0, **cosmology_style)\n",
    "    bottom_ax.errorbar(z, mu - (cosmo.distmod(z).value + x), yerr=dist_mod_err, **mu_style)\n",
    "    bottom_ax.set_xlim(*xlim)\n",
    "    bottom_ax.set_xlabel('Redshift')\n",
    "    bottom_ax.set_ylabel('Residuals')\n",
    "    "
   ]
  },
  {
   "cell_type": "code",
   "execution_count": 57,
   "metadata": {},
   "outputs": [
    {
     "data": {
      "image/png": "[encoded data removed]",
      "text/plain": [
       "<Figure size 576x864 with 2 Axes>"
      ]
     },
     "metadata": {
      "needs_background": "light"
     },
     "output_type": "display_data"
    }
   ],
   "source": [
    "plot_hubble_diagram(redshift, dist_mod, dist_mod_err, fit_results.x[0])\n"
   ]
  },
  {
   "cell_type": "code",
   "execution_count": 58,
   "metadata": {},
   "outputs": [],
   "source": [
    "#saves residuals to a new df in results file\n",
    "resid = dist_mod - cosmo.distmod(redshift).value\n",
    "sdss_combined['residuals'] = resid.tolist()\n",
    "sdss_combined.to_csv('../results/residual_df.csv')"
   ]
  }
 ],
 "metadata": {
  "kernelspec": {
   "display_name": "Python 3",
   "language": "python",
   "name": "python3"
  },
  "language_info": {
   "codemirror_mode": {
    "name": "ipython",
    "version": 3
   },
   "file_extension": ".py",
   "mimetype": "text/x-python",
   "name": "python",
   "nbconvert_exporter": "python",
   "pygments_lexer": "ipython3",
   "version": "3.7.4"
  }
 },
 "nbformat": 4,
 "nbformat_minor": 4
}
