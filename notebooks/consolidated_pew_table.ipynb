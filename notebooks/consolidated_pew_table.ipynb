{
 "cells": [
  {
   "cell_type": "markdown",
   "metadata": {},
   "source": [
    "# Consolidated Tables\n",
    "This notebook creates 1 dataframe with consolidated information from the results .csv files. It also creates a function, pct_dif_table(), which will pare down the consolidated dataframe to include only measurements off of the median by a specified value.\n"
   ]
  },
  {
   "cell_type": "code",
   "execution_count": null,
   "metadata": {},
   "outputs": [],
   "source": [
    "import numpy as np\n",
    "import pandas as pd\n"
   ]
  },
  {
   "cell_type": "code",
   "execution_count": null,
   "metadata": {},
   "outputs": [],
   "source": [
    "ella = pd.read_csv('../results/ella_csp.csv')\n",
    "emily = pd.read_csv('../results/emily_csp.csv')\n",
    "anish = pd.read_csv('../results/anish_csp.csv')\n",
    "inter = ella[ella.obj_id != '2007le']\n",
    "ella_final = inter[inter.obj_id != '2008ia']\n"
   ]
  },
  {
   "cell_type": "code",
   "execution_count": null,
   "metadata": {},
   "outputs": [],
   "source": [
    "ella2 = ella_final.set_index(['obj_id', 'feat_name'])\n",
    "emily2 = emily.set_index(['obj_id', 'feat_name'])\n",
    "anish2 = anish.set_index(['obj_id', 'feat_name'])\n",
    "anish3 = anish2.rename(columns = {'pew':'pew_anish', 'pew_samperr':'pew_samperr_anish'})\n",
    "inter = ella2.join(emily2, lsuffix=\"_ella\", rsuffix='_emily')\n",
    "combined = inter.join(anish3)\n"
   ]
  },
  {
   "cell_type": "markdown",
   "metadata": {},
   "source": [
    "## Simplified table with only measurements and errors"
   ]
  },
  {
   "cell_type": "code",
   "execution_count": null,
   "metadata": {},
   "outputs": [],
   "source": [
    "final = combined[['pew_ella', 'pew_samperr_ella', 'pew_emily', 'pew_samperr_emily', 'pew_anish', 'pew_samperr_anish']].copy()\n",
    "final\n"
   ]
  },
  {
   "cell_type": "markdown",
   "metadata": {},
   "source": [
    "## Creates table with specified percent difference"
   ]
  },
  {
   "cell_type": "code",
   "execution_count": null,
   "metadata": {},
   "outputs": [],
   "source": [
    "def pct_dif_table(table, percent):\n",
    "    \"\"\"create table with measurement differences off of median by >= percent entered\n",
    "    \n",
    "    Parameters:\n",
    "        table: should always be final, the table made above\n",
    "        percent: percent difference\n",
    "    \n",
    "    Returns:\n",
    "        df: final table\n",
    "    \"\"\"\n",
    "    \n",
    "    final = table\n",
    "    tot_pct = percent / 100\n",
    "    pct = tot_pct*final.pew_median\n",
    "    df = final[\n",
    "        (abs(final.pew_ella - final.pew_emily) >= pct)\n",
    "        | (abs(final.pew_ella - final.pew_anish) >= pct)\n",
    "        | (abs(final.pew_emily - final.pew_anish) >= pct)\n",
    "    ]\n",
    "    return df\n"
   ]
  },
  {
   "cell_type": "code",
   "execution_count": null,
   "metadata": {},
   "outputs": [],
   "source": [
    "pct_dif_table(final, 5)\n"
   ]
  }
 ],
 "metadata": {
  "kernelspec": {
   "display_name": "Python 3",
   "language": "python",
   "name": "python3"
  },
  "language_info": {
   "codemirror_mode": {
    "name": "ipython",
    "version": 3
   },
   "file_extension": ".py",
   "mimetype": "text/x-python",
   "name": "python",
   "nbconvert_exporter": "python",
   "pygments_lexer": "ipython3",
   "version": "3.8.3"
  }
 },
 "nbformat": 4,
 "nbformat_minor": 4
}
