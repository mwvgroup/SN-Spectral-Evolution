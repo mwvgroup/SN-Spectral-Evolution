{
 "cells": [
  {
   "cell_type": "markdown",
   "metadata": {},
   "source": [
    "# Creating pW6 pW7 Comparison Plot for Final CSP Data"
   ]
  },
  {
   "cell_type": "code",
   "execution_count": null,
   "metadata": {},
   "outputs": [],
   "source": [
    "import sys\n",
    "\n",
    "sys.path.insert(0, '..')\n"
   ]
  },
  {
   "cell_type": "code",
   "execution_count": null,
   "metadata": {},
   "outputs": [],
   "source": [
    "from pathlib import Path\n",
    "\n",
    "import matplotlib.pyplot as plt\n",
    "import numpy as np\n",
    "import pandas as pd\n",
    "from sndata.csp import DR3\n",
    "from sndata.sdss import Sako18Spec\n",
    "\n",
    "from scripts.run_csp import get_csp_t0\n",
    "from scripts.run_sdss import get_sdss_t0\n"
   ]
  },
  {
   "cell_type": "code",
   "execution_count": null,
   "metadata": {},
   "outputs": [],
   "source": [
    "curr_dir = Path('.').resolve() \n",
    "results_dir = curr_dir.parent / 'results'\n",
    "\n",
    "fig_dir = curr_dir / 'figures' / 'phase_evolution'\n",
    "fig_dir.mkdir(parents=True, exist_ok=True)\n"
   ]
  },
  {
   "cell_type": "code",
   "execution_count": null,
   "metadata": {},
   "outputs": [],
   "source": [
    "@np.vectorize\n",
    "def wrapped_get_csp_t0(obj_id):\n",
    "    try:\n",
    "        get_csp_t0\n",
    "    \n",
    "    except ValueError:\n",
    "        return np.nan\n",
    "    \n",
    "    \n",
    "@np.vectorize\n",
    "def wrapped_get_sdss_t0(obj_id):\n",
    "    try:\n",
    "        get_sdss_t0\n",
    "    \n",
    "    except ValueError:\n",
    "        return np.nan\n"
   ]
  },
  {
   "cell_type": "code",
   "execution_count": null,
   "metadata": {},
   "outputs": [],
   "source": [
    "def read_in_pipeline_result(path, survey, drop_flagged=False):\n",
    "    \"\"\"Read pEW values from analysis pipeline file\n",
    "    \n",
    "    Adds columns for Branch classifications determined by the\n",
    "    measured pEW values and spectral subtypes determined from \n",
    "    CSP DR1.\n",
    "    \n",
    "    Args:\n",
    "        path          (str): Path of the file to read\n",
    "        survey        (str): Read in data for either `csp` or `sdss`\n",
    "        drop_flagged (bool): Optionally drop flagged measurements / spectra\n",
    "\n",
    "    Returns:\n",
    "        A pandas Dataframe indexed by feat_name and obj_id\n",
    "    \"\"\"\n",
    "    \n",
    "    df = pd.read_csv(path, index_col=['feat_name', 'obj_id'])\n",
    "\n",
    "    # Add phases using CSP DR3 t0 values\n",
    "    obj_id = df.index.get_level_values(1)\n",
    "    \n",
    "    if survey == 'csp':\n",
    "        df['phase'] = df.time - wrapped_get_csp_t0(obj_id)\n",
    "        \n",
    "        dr3 = DR3()\n",
    "        csp_table_2 = dr3.load_table(2)\n",
    "        subtypes = pd.DataFrame({'spec_type': csp_table_2['Subtype1']}, index=csp_table_2['SN'])\n",
    "        df = df.join(subtypes, on='obj_id')\n",
    "\n",
    "    elif survey == 'sdss':\n",
    "        df['phase'] = df.time - wrapped_get_sdss_t0(obj_id)\n",
    "        df['spec_type'] = 'unknown'\n",
    "        \n",
    "        sako_18_spec = Sako18Spec()\n",
    "        sako_master = sako_18_spec.load_table('master').to_pandas()\n",
    "        sako_master = sako_master.rename({'CID': 'obj_id'}, axis='columns')\n",
    "        sako_master['obj_id'] = sako_master.obj_id.astype(int)\n",
    "        sako_master = sako_master.set_index('obj_id')\n",
    "\n",
    "        df = df.join(sako_master, how='inner')\n",
    "        \n",
    "    else:\n",
    "        warn(f'Could not calculate phases for survey {survey}. Expected \"csp\" or \"sdss\".')\n",
    "    \n",
    "    if drop_flagged:\n",
    "        df = df[(df.spec_flag != 1) & (df.feat_flag != 1)]\n",
    "    \n",
    "    # Label measurements that represent that were taken nearest peak brightness\n",
    "    df['delta_t'] = df.phase.abs()\n",
    "    df = df.sort_values('delta_t')\n",
    "    df['is_peak'] = ~df.index.duplicated()\n",
    "    \n",
    "    df = df.join(branch_classification(df), on='obj_id')\n",
    "    return df\n"
   ]
  },
  {
   "cell_type": "code",
   "execution_count": null,
   "metadata": {},
   "outputs": [],
   "source": [
    "def plot_branch_classifications(pipeline_data, phase_cutoff=7, figsize=(10, 10)):\n",
    "    \"\"\"Create a Branch classification figure\n",
    "    \n",
    "    Args:\n",
    "        pipeline_data (DataFrame): Data that has been read from a pipeline output file\n",
    "        phase_cutoff      (float): Only use measurements taken within so many days of peak brightness\n",
    "        fig_size          (Tuple): Size of the figure in inches\n",
    "    \"\"\"\n",
    "    \n",
    "    fig, axis = plt.subplots(figsize=figsize)\n",
    "    \n",
    "    plot_args = {\n",
    "        'CL': dict(label='Cool', color='blue', marker='s'),\n",
    "        'BL': dict(label='Broad Line', color='red' , marker='^'),\n",
    "        'SS': dict(label='Shallow Silicon', color='green' , marker= '*'),\n",
    "        'CN': dict(label='Core Normal', color='black' , marker= '.')\n",
    "    }\n",
    "    peak_vals = pipeline_data[pipeline_data.is_peak]\n",
    "    peak_vals = peak_vals[peak_vals.delta_t <= phase_cutoff]\n",
    "    \n",
    "    pw6_data = peak_vals[['pew', 'pew_samperr', 'branch_type']].loc['pW6']\n",
    "    all_data = pw6_data.join(peak_vals[['pew', 'pew_samperr']].loc['pW7'], lsuffix='_6', rsuffix='_7').dropna()\n",
    "\n",
    "    for branch_class, data in all_data.groupby('branch_type'):\n",
    "        label = plot_args[branch_class].pop('label') + f' ({len(data)})'\n",
    "        axis.errorbar(\n",
    "            data.pew_7, \n",
    "            data.pew_6, \n",
    "            xerr=data.pew_samperr_7,\n",
    "            yerr=data.pew_samperr_6,\n",
    "            linestyle='',\n",
    "            label=label,\n",
    "            **plot_args.get(branch_class, dict()))\n",
    "    \n",
    "    plt.title('Strength of pW6 vs pW7')\n",
    "    axis.legend(loc = ('upper left'))\n",
    "    plt.xlabel('pew of pW7')\n",
    "    plt.ylabel('pew of pW6')\n",
    "    "
   ]
  },
  {
   "cell_type": "code",
   "execution_count": null,
   "metadata": {},
   "outputs": [],
   "source": [
    "# Load SDSS measurements and drop any flagged values\n",
    "sdss_results = read_in_pipeline_result(results_dir / 'final_sdss.csv', 'sdss', drop_flagged=True)\n"
   ]
  },
  {
   "cell_type": "code",
   "execution_count": null,
   "metadata": {},
   "outputs": [],
   "source": [
    "plot_branch_classifications(sdss_results)\n"
   ]
  },
  {
   "cell_type": "code",
   "execution_count": null,
   "metadata": {},
   "outputs": [],
   "source": [
    "# Load SDSS measurements and drop any flagged values\n",
    "csp_results = read_in_pipeline_result(results_dir / 'final_csp.csv', 'csp', drop_flagged=True)\n"
   ]
  },
  {
   "cell_type": "code",
   "execution_count": null,
   "metadata": {},
   "outputs": [],
   "source": [
    "plot_branch_classifications(csp_results)\n"
   ]
  },
  {
   "cell_type": "code",
   "execution_count": null,
   "metadata": {},
   "outputs": [],
   "source": []
  }
 ],
 "metadata": {
  "kernelspec": {
   "display_name": "Python 3 (ipykernel)",
   "language": "python",
   "name": "python3"
  },
  "language_info": {
   "codemirror_mode": {
    "name": "ipython",
    "version": 3
   },
   "file_extension": ".py",
   "mimetype": "text/x-python",
   "name": "python",
   "nbconvert_exporter": "python",
   "pygments_lexer": "ipython3",
   "version": "3.7.11"
  }
 },
 "nbformat": 4,
 "nbformat_minor": 4
}
