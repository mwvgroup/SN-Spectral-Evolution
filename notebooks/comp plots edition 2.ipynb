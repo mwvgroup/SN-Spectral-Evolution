{
 "cells": [
  {
   "cell_type": "code",
   "execution_count": null,
   "metadata": {},
   "outputs": [],
   "source": [
    "import numpy as np\n",
    "import matplotlib.pyplot as plt\n",
    "import pandas as pd"
   ]
  },
  {
   "cell_type": "code",
   "execution_count": null,
   "metadata": {},
   "outputs": [],
   "source": [
    "ella = pd.read_csv('ella_csp.csv')\n",
    "ella"
   ]
  },
  {
   "cell_type": "code",
   "execution_count": null,
   "metadata": {},
   "outputs": [],
   "source": [
    "emily = pd.read_csv('emily_csp.csv')\n",
    "emily"
   ]
  },
  {
   "cell_type": "code",
   "execution_count": null,
   "metadata": {},
   "outputs": [],
   "source": [
    "anish = pd.read_csv('anish_csp.csv')\n",
    "anish"
   ]
  },
  {
   "cell_type": "code",
   "execution_count": null,
   "metadata": {},
   "outputs": [],
   "source": [
    "ella_pw1 = ella[ella['feat_name']=='pW1']\n",
    "emily_pw1 = emily[emily['feat_name']=='pW1']"
   ]
  },
  {
   "cell_type": "code",
   "execution_count": null,
   "metadata": {},
   "outputs": [],
   "source": [
    "#can join the table on multiple values\n",
    "ella_pw1_2 = ella_pw1.set_index(['obj_id', 'time', 'feat_name'])\n",
    "#do this with my results and emily and anishs w inner join\n",
    "emily_pw1_2 = emily_pw1.set_index(['obj_id', 'time', 'feat_name'])\n",
    "combined_pw1 = ella_pw1_2.join(emily_pw1_2, lsuffix = \"ella\", rsuffix = 'emily')\n",
    "\n",
    "#might want to use dataframe.dropna which will drop rows w nans, can also make it only drop rows w nans in a certain col\n",
    "#subset = [list of column names you care about]\n",
    "\n",
    "final_pw1 = combined_pw1.dropna(subset = ['pewella', 'pewemily'])\n",
    "final_pw1\n",
    "ella_measure_pw1 = final_pw1['pewella']\n",
    "emily_measure_pw1 = final_pw1['pewemily']\n",
    "ella_measure_pw1\n"
   ]
  },
  {
   "cell_type": "code",
   "execution_count": null,
   "metadata": {},
   "outputs": [],
   "source": [
    "#i want to make a legend with the id for each point, but I am having trouble\n",
    "\n",
    "plt.scatter(ella_measure_pw1, emily_measure_pw1)\n",
    "plt.annotate(, ella_measure_pw1)\n",
    "#plt.scatter(ella_measure_pw1, emily_measure_pw1, c)\n",
    "\n",
    "#plt.xlabel(\"Ella's CSP Measurements for pW1 (kgm^3s^-3)\")\n",
    "#plt.ylabel(\"Emily's CSP Measurements for pW1(kgm^3s^-3)\")\n",
    "#plt.title(\"pW1 Measurement Comparison\")\n",
    "#plt.legend('obj_id')"
   ]
  },
  {
   "cell_type": "code",
   "execution_count": null,
   "metadata": {},
   "outputs": [],
   "source": [
    "import astropy.units as u"
   ]
  },
  {
   "cell_type": "code",
   "execution_count": null,
   "metadata": {},
   "outputs": [],
   "source": [
    "a = u.kg*u.m**3*u.s**-3\n",
    "un = a.decompose()"
   ]
  },
  {
   "cell_type": "code",
   "execution_count": null,
   "metadata": {},
   "outputs": [],
   "source": [
    "def pew_values(feat_name):\n",
    "    ella_feat = ella[ella['feat_name']== feat_name]\n",
    "    emily_feat = emily[emily['feat_name']== feat_name]\n",
    "    #can join the table on multiple values\n",
    "    ella_feat_2 = ella_feat.set_index(['obj_id', 'time', 'feat_name'])\n",
    "    #do this with my results and emily and anishs w inner join\n",
    "    emily_feat_2 = emily_feat.set_index(['obj_id', 'time', 'feat_name'])\n",
    "    combined_feat = ella_feat_2.join(emily_feat_2, lsuffix = \"ella\", rsuffix = 'emily')\n",
    "\n",
    "    #might want to use dataframe.dropna which will drop rows w nans, can also make it only drop rows w nans in a certain col\n",
    "    #subset = [list of column names you care about]\n",
    "\n",
    "    final_feat = combined_feat.dropna(subset = ['pewella', 'pewemily'])\n",
    "    ella_measure_feat = final_feat['pewella']\n",
    "    emily_measure_feat = final_feat['pewemily']\n",
    "    return final_feat"
   ]
  },
  {
   "cell_type": "code",
   "execution_count": null,
   "metadata": {},
   "outputs": [],
   "source": [
    "\n",
    "def pew_plotter(feat_name, fit = True):\n",
    "    final_graph = pew_values(feat_name)\n",
    "    ella_measurement = final_graph['pewella']\n",
    "    emily_measurement = final_graph['pewemily']\n",
    "    plt.scatter(ella_measurement, emily_measurement)\n",
    "    plt.xlabel(f\"Ella's Measurements\")\n",
    "    plt.ylabel(\"Emily's Measurements\")\n",
    "    plt.title(f\"CSP Measurement Comparison for {feat_name}\")\n",
    "    m, b = np.polyfit(ella_measurement, emily_measurement, 1)\n",
    "    if fit == True:\n",
    "        plt.plot(ella_measurement, m*ella_measurement+b, label='y={:.2f}x+{:.2f}'.format(m,b), alpha = .25)\n",
    "        plt.legend()\n",
    "    #(kgm^3s^-3)"
   ]
  },
  {
   "cell_type": "code",
   "execution_count": null,
   "metadata": {},
   "outputs": [],
   "source": [
    "pew_plotter('pW1')"
   ]
  },
  {
   "cell_type": "code",
   "execution_count": null,
   "metadata": {},
   "outputs": [],
   "source": [
    "pew_plotter('pW2')"
   ]
  },
  {
   "cell_type": "code",
   "execution_count": null,
   "metadata": {},
   "outputs": [],
   "source": [
    "pew_plotter('pW3')"
   ]
  },
  {
   "cell_type": "code",
   "execution_count": null,
   "metadata": {},
   "outputs": [],
   "source": [
    "pew_plotter('pW4')"
   ]
  },
  {
   "cell_type": "code",
   "execution_count": null,
   "metadata": {},
   "outputs": [],
   "source": [
    "pew_plotter('pW5')"
   ]
  },
  {
   "cell_type": "code",
   "execution_count": null,
   "metadata": {},
   "outputs": [],
   "source": [
    "pew_plotter('pW6')"
   ]
  },
  {
   "cell_type": "code",
   "execution_count": null,
   "metadata": {},
   "outputs": [],
   "source": [
    "pew_plotter('pW7')"
   ]
  },
  {
   "cell_type": "code",
   "execution_count": null,
   "metadata": {},
   "outputs": [],
   "source": [
    "pew_plotter('pW8')"
   ]
  },
  {
   "cell_type": "code",
   "execution_count": null,
   "metadata": {},
   "outputs": [],
   "source": [
    "# Create a figure without shared axes\n",
    "fig4par, axes4par = plt.subplots(4, 2, figsize=(11,11))\n",
    "\n",
    "params = ['Ella', 'Emily']\n",
    "#param_lab = [r'$T_{eff}$', 'log(g)', '[Fe/H]', r'[$\\alpha$/H]']\n",
    "#limits = [[3000,7000], [-0.5,5.5], [-2.1,0.8], [-1.1, 0.8]]\n",
    "id_list = ['pW1', 'pW2', 'pW3', 'pW4', 'pW5', 'pW6', 'pW7', 'pW8']\n",
    "\n",
    "for x in range(4):\n",
    "    for y in range(2):\n",
    "        row = x\n",
    "        col = y\n",
    "        for j in range(len(id_list)):\n",
    "        \n",
    "            final_graph = pew_values(id_list[j])\n",
    "            ella_measurement = final_graph['pewella']\n",
    "            emily_measurement = final_graph['pewemily']\n",
    "            axes4par[row,col].plot(ella_measurement, emily_measurement, ls='None', marker='.', color='gray', alpha=0.5, \n",
    "                  rasterized=True)\n",
    "    #plt.scatter(ella_measurement, emily_measurement)\n",
    "    #pew_plotter(x)\n",
    "        \n",
    "        #axes4par[row,col].set_xlabel(param_lab[x])\n",
    "        #axes4par[row,col].set_ylabel(param_lab[y])\n",
    "        #axes4par[row,col].set_xlim(limits[x][0], limits[x][1])\n",
    "        #axes4par[row,col].set_ylim(limits[y][0], limits[y][1])\n",
    "        \n",
    "        # An example where using a Locator can be useful!\n",
    "        #axes4par[row,col].yaxis.set_major_locator(plt.MultipleLocator(0.5))"
   ]
  },
  {
   "cell_type": "code",
   "execution_count": null,
   "metadata": {},
   "outputs": [],
   "source": [
    "#maybe instead of having each one a different color, make the function take a parameter for obj id and then that specific\n",
    "#one will be colored\n",
    "#TO DO LIST\n",
    "'''\n",
    "add legend for each obj id\n",
    "color code each obj id to go with legend\n",
    "implement obj id choice coloring\n",
    "add anish's data\n",
    "plot all of the pew plots in a grid\n",
    "add error messages for if the pw isnt in the list or if the obj id is invalid\n",
    "'''\n"
   ]
  },
  {
   "cell_type": "code",
   "execution_count": null,
   "metadata": {},
   "outputs": [],
   "source": [
    "'''here are the functions to plot all 3 tables, not used in the official 3 person comparison because it didnt\n",
    "work with plt.subplots but I wanted to save them here'''\n",
    "#making ella and emily functions\n",
    "def elem_pew_values(feat_name):\n",
    "    '''Make table for given feat_name with no NaNs'''\n",
    "    ella_feat = ella[ella['feat_name']== feat_name]\n",
    "    emily_feat = emily[emily['feat_name']== feat_name]\n",
    "    #can join the table on multiple values\n",
    "    ella_feat_2 = ella_feat.set_index(['obj_id', 'time', 'feat_name'])\n",
    "    #do this with my results and emily and anishs w inner join\n",
    "    emily_feat_2 = emily_feat.set_index(['obj_id', 'time', 'feat_name'])\n",
    "    combined_feat = ella_feat_2.join(emily_feat_2, lsuffix = \"ella\", rsuffix = 'emily')\n",
    "\n",
    "    final_feat = combined_feat.dropna(subset = ['pewella', 'pewemily'])\n",
    "    ella_measure_feat = final_feat['pewella']\n",
    "    emily_measure_feat = final_feat['pewemily']\n",
    "    return final_feat\n",
    "\n",
    "def elem_pew_plotter(feat_name, fit = True):\n",
    "    final_graph = pew_values(feat_name)\n",
    "    ella_measurement = final_graph['pewella']\n",
    "    emily_measurement = final_graph['pewemily']\n",
    "   \n",
    "    plt.scatter(ella_measurement, emily_measurement)\n",
    "    plt.xlabel(f\"Ella's Measurements\")\n",
    "    plt.ylabel(\"Emily's Measurements\")\n",
    "    plt.title(f\"CSP Measurement Comparison for {feat_name}\")\n",
    "    m, b = np.polyfit(ella_measurement, emily_measurement, 1)\n",
    "    if fit == True:\n",
    "        plt.plot(ella_measurement, m*ella_measurement+b, label='y={:.2f}x+{:.2f}'.format(m,b), alpha = .25)\n",
    "        plt.legend()"
   ]
  },
  {
   "cell_type": "code",
   "execution_count": null,
   "metadata": {},
   "outputs": [],
   "source": [
    "#making ella and anish functions\n",
    "def elan_pew_values(feat_name):\n",
    "    ella_feat = ella[ella['feat_name']== feat_name]\n",
    "    anish_feat = anish[anish['feat_name']== feat_name]\n",
    "    #can join the table on multiple values\n",
    "    ella_feat_2 = ella_feat.set_index(['obj_id', 'time', 'feat_name'])\n",
    "    #do this with my results and emily and anishs w inner join\n",
    "    anish_feat_2 = anish_feat.set_index(['obj_id', 'time', 'feat_name'])\n",
    "    combined_feat = ella_feat_2.join(anish_feat_2, lsuffix = \"ella\", rsuffix = 'anish')\n",
    "\n",
    "    #remove nans/rows that don't overlap\n",
    "    final_feat = combined_feat.dropna(subset = ['pewella', 'pewanish'])\n",
    "    ella_measure_feat = final_feat['pewella']\n",
    "    anish_measure_feat = final_feat['pewanish']\n",
    "    return final_feat\n",
    "\n",
    "def elan_pew_plotter(feat_name, fit = True):\n",
    "    final_graph = elan_pew_values(feat_name)\n",
    "    ella_measurement = final_graph['pewella']\n",
    "    anish_measurement = final_graph['pewanish']\n",
    "    \n",
    "    plt.scatter(ella_measurement, anish_measurement)\n",
    "    plt.xlabel(\"Ella's Measurements\")\n",
    "    plt.ylabel(\"Anish's Measurements\")\n",
    "    plt.title(f\"CSP Measurement Comparison for {feat_name}\")\n",
    "    m, b = np.polyfit(ella_measurement, anish_measurement, 1)\n",
    "    if fit == True:\n",
    "        plt.plot(ella_measurement, m*ella_measurement+b, label='y={:.2f}x+{:.2f}'.format(m,b), alpha = .25)\n",
    "        plt.legend()"
   ]
  },
  {
   "cell_type": "code",
   "execution_count": null,
   "metadata": {},
   "outputs": [],
   "source": [
    "#making emily and anish functions\n",
    "def eman_pew_values(feat_name):\n",
    "    emily_feat = emily[emily['feat_name']== feat_name]\n",
    "    anish_feat = anish[anish['feat_name']== feat_name]\n",
    "    #can join the table on multiple values\n",
    "    emily_feat_2 = emily_feat.set_index(['obj_id', 'time', 'feat_name'])\n",
    "    #do this with my results and emily and anishs w inner join\n",
    "    anish_feat_2 = anish_feat.set_index(['obj_id', 'time', 'feat_name'])\n",
    "    combined_feat = emily_feat_2.join(anish_feat_2, lsuffix = \"emily\", rsuffix = 'anish')\n",
    "\n",
    "    #remove nans/rows that don't overlap\n",
    "    final_feat = combined_feat.dropna(subset = ['pewemily', 'pewanish'])\n",
    "    ella_measure_feat = final_feat['pewemily']\n",
    "    anish_measure_feat = final_feat['pewanish']\n",
    "    return final_feat\n",
    "\n",
    "def eman_pew_plotter(feat_name, fit = True):\n",
    "    final_graph = eman_pew_values(feat_name)\n",
    "    emily_measurement = final_graph['pewemily']\n",
    "    anish_measurement = final_graph['pewanish']\n",
    "    \n",
    "    plt.scatter(emily_measurement, anish_measurement)\n",
    "    plt.xlabel(\"Emily's Measurements\")\n",
    "    plt.ylabel(\"Anish's Measurements\")\n",
    "    plt.title(f\"CSP Measurement Comparison for {feat_name}\")\n",
    "    plt.axis('equal')\n",
    "    m, b = np.polyfit(emily_measurement, anish_measurement, 1)\n",
    "    if fit == True:\n",
    "        plt.plot(emily_measurement, m*emily_measurement+b, label='y={:.2f}x+{:.2f}'.format(m,b), alpha = .25)\n",
    "        plt.legend()\n",
    "    #plt.savefig(\"emilyandanishpw1.png\")"
   ]
  },
  {
   "cell_type": "code",
   "execution_count": null,
   "metadata": {},
   "outputs": [],
   "source": []
  }
 ],
 "metadata": {
  "kernelspec": {
   "display_name": "Python 3",
   "language": "python",
   "name": "python3"
  },
  "language_info": {
   "codemirror_mode": {
    "name": "ipython",
    "version": 3
   },
   "file_extension": ".py",
   "mimetype": "text/x-python",
   "name": "python",
   "nbconvert_exporter": "python",
   "pygments_lexer": "ipython3",
   "version": "3.8.3"
  }
 },
 "nbformat": 4,
 "nbformat_minor": 4
}
