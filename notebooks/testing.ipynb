{
 "cells": [
  {
   "cell_type": "code",
   "execution_count": null,
   "metadata": {},
   "outputs": [],
   "source": [
    "from bokeh.plotting import figure, output_file, show, ColumnDataSource\n",
    "from bokeh.models import HoverTool\n",
    "\n",
    "output_file(\"toolbar.html\")\n",
    "\n",
    "source = ColumnDataSource(\n",
    "    data = dict(\n",
    "        x=))"
   ]
  },
  {
   "cell_type": "code",
   "execution_count": null,
   "metadata": {},
   "outputs": [],
   "source": [
    "def comparison_plots():\n",
    "    \"\"\"plot the 3 sets of comparisons for all 8 features\"\"\"\n",
    "    \n",
    "    for feat_name in ['pW1', 'pW2', 'pW3', 'pW4', 'pW5', 'pW6', 'pW7', 'pW8']:\n",
    "    \n",
    "        # getting the data to be plotted in each figure\n",
    "        ella_fig1, emily_fig1 = data_to_plot(ella, emily, feat_name)\n",
    "\n",
    "        emily_fig2, anish_fig2 = data_to_plot(emily, anish, feat_name)\n",
    "\n",
    "        anish_fig3, ella_fig3 = data_to_plot(anish, ella, feat_name)\n",
    "\n",
    "        # data to plot the line y=x, goes from the minimum measurement in all three sets to the maximum (roughly)\n",
    "        x = np.arange(-60, 450)\n",
    "\n",
    "        # creating the figure\n",
    "        fig, (ax1, ax2, ax3) = plt.subplots(1, 3, figsize=(16, 5), sharex=False)\n",
    "        fig.suptitle(f'{feat_name} Comparison')\n",
    "    \n",
    "        # plotting the leftmost figure\n",
    "        min1, max1 = bounds_finder(ella, emily, feat_name)\n",
    "    \n",
    "        ax1.scatter(ella_fig1, emily_fig1)\n",
    "        ax1.plot(x, x, color='black', linestyle='--')\n",
    "        ax1.set_xlim(min1, max1)\n",
    "        ax1.set_ylim(min1, max1)\n",
    "        ax1.set_xlabel(\"Ella's Measurements\")\n",
    "        ax1.set_ylabel(\"Emily's Measurements\")\n",
    "    \n",
    "        # plotting the middle figure\n",
    "        min2, max2 = bounds_finder(emily, anish, feat_name)\n",
    "    \n",
    "        ax2.scatter(emily_fig2, anish_fig2, c='green')\n",
    "        ax2.plot(x, x, color='black', linestyle='--')\n",
    "        ax2.set_ylim(min2, max2)\n",
    "        ax2.set_xlim(min2, max2)\n",
    "        ax2.set_xlabel(\"Emily's Measurements\")\n",
    "        ax2.set_ylabel(\"Anish's Measurements\")\n",
    "    \n",
    "        # plotting the rightmost figure\n",
    "        min3, max3 = bounds_finder(anish, ella, feat_name)\n",
    "    \n",
    "        ax3.scatter(anish_fig3, ella_fig3, c='red')\n",
    "        ax3.plot(x, x, color='black', linestyle='--')\n",
    "        ax3.set_ylim(min3, max3)\n",
    "        ax3.set_xlim(min3, max3)\n",
    "        ax3.set_xlabel(\"Anish's Measurements\")\n",
    "        ax3.set_ylabel(\"Ella's Measurements\")\n",
    "    \n",
    "        #plt.savefig(f\"{feat_name}comparison.png\")\n",
    "        \n",
    "comparison_plots()"
   ]
  }
 ],
 "metadata": {
  "kernelspec": {
   "display_name": "Python 3",
   "language": "python",
   "name": "python3"
  },
  "language_info": {
   "codemirror_mode": {
    "name": "ipython",
    "version": 3
   },
   "file_extension": ".py",
   "mimetype": "text/x-python",
   "name": "python",
   "nbconvert_exporter": "python",
   "pygments_lexer": "ipython3",
   "version": "3.7.4"
  }
 },
 "nbformat": 4,
 "nbformat_minor": 4
}
