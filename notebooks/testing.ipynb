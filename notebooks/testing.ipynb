{
 "cells": [
  {
   "cell_type": "code",
   "execution_count": 8,
   "metadata": {},
   "outputs": [],
   "source": [
    "import numpy as np\n",
    "import matplotlib.pyplot as plt\n",
    "import pandas as pd"
   ]
  },
  {
   "cell_type": "code",
   "execution_count": 9,
   "metadata": {},
   "outputs": [],
   "source": [
    "from bokeh.plotting import figure, output_file, show, ColumnDataSource\n",
    "from bokeh.models import HoverTool"
   ]
  },
  {
   "cell_type": "code",
   "execution_count": 10,
   "metadata": {},
   "outputs": [],
   "source": [
    "# import tables as dataframes\n",
    "ella1 = pd.read_csv('../results/ella_csp.csv')\n",
    "emily = pd.read_csv('../results/emily_csp.csv')\n",
    "anish = pd.read_csv('../results/anish_csp.csv')\n",
    "inter = ella1[ella1.obj_id != '2007le']\n",
    "ella = inter[inter.obj_id != '2008ia']"
   ]
  },
  {
   "cell_type": "code",
   "execution_count": null,
   "metadata": {},
   "outputs": [],
   "source": [
    "el_pw1 = ella[ella['feat_name']=='pW1']\n",
    "em_pw1 = emily[emily['feat_name']=='pW1']\n",
    "el = el_pw1.set_index(['obj_id', 'time', 'feat_name'])\n",
    "em = em_pw1.set_index(['obj_id', 'time', 'feat_name'])\n",
    "elem = el.join(em, lsuffix = 'ella', rsuffix = 'emily')\n",
    "el_data = elem['pewella']\n",
    "em_data = elem['pewemily']\n",
    "elem2 = elem.reset_index"
   ]
  },
  {
   "cell_type": "code",
   "execution_count": 24,
   "metadata": {},
   "outputs": [
    {
     "ename": "RuntimeError",
     "evalue": "\n\nExpected x and y to reference fields in the supplied data source.\n\nWhen a 'source' argument is passed to a glyph method, values that are sequences\n(like lists or arrays) must come from references to data columns in the source.\n\nFor instance, as an example:\n\n    source = ColumnDataSource(data=dict(x=a_list, y=an_array))\n\n    p.circle(x='x', y='y', source=source, ...) # pass column names and a source\n\nAlternatively, *all* data sequences may be provided as literals as long as a\nsource is *not* provided:\n\n    p.circle(x=a_list, y=an_array, ...)  # pass actual sequences and no source\n\n",
     "output_type": "error",
     "traceback": [
      "\u001b[0;31m---------------------------------------------------------------------------\u001b[0m",
      "\u001b[0;31mRuntimeError\u001b[0m                              Traceback (most recent call last)",
      "\u001b[0;32m<ipython-input-24-a541cccd7c84>\u001b[0m in \u001b[0;36m<module>\u001b[0;34m\u001b[0m\n\u001b[1;32m     80\u001b[0m         \u001b[0;31m#plt.savefig(f\"{feat_name}comparison.png\")\u001b[0m\u001b[0;34m\u001b[0m\u001b[0;34m\u001b[0m\u001b[0;34m\u001b[0m\u001b[0m\n\u001b[1;32m     81\u001b[0m \u001b[0;34m\u001b[0m\u001b[0m\n\u001b[0;32m---> 82\u001b[0;31m \u001b[0mcomparison_plots\u001b[0m\u001b[0;34m(\u001b[0m\u001b[0;34m)\u001b[0m\u001b[0;34m\u001b[0m\u001b[0;34m\u001b[0m\u001b[0m\n\u001b[0m",
      "\u001b[0;32m<ipython-input-24-a541cccd7c84>\u001b[0m in \u001b[0;36mcomparison_plots\u001b[0;34m()\u001b[0m\n\u001b[1;32m     77\u001b[0m         \u001b[0max3\u001b[0m\u001b[0;34m.\u001b[0m\u001b[0mset_ylabel\u001b[0m\u001b[0;34m(\u001b[0m\u001b[0;34m\"Ella's Measurements\"\u001b[0m\u001b[0;34m)\u001b[0m\u001b[0;34m\u001b[0m\u001b[0;34m\u001b[0m\u001b[0m\n\u001b[1;32m     78\u001b[0m     '''\n\u001b[0;32m---> 79\u001b[0;31m     \u001b[0mfig\u001b[0m\u001b[0;34m.\u001b[0m\u001b[0mcircle\u001b[0m\u001b[0;34m(\u001b[0m\u001b[0mx\u001b[0m\u001b[0;34m=\u001b[0m\u001b[0mella_fig1\u001b[0m\u001b[0;34m,\u001b[0m \u001b[0my\u001b[0m\u001b[0;34m=\u001b[0m\u001b[0memily_fig1\u001b[0m\u001b[0;34m,\u001b[0m \u001b[0msize\u001b[0m \u001b[0;34m=\u001b[0m \u001b[0;36m5\u001b[0m\u001b[0;34m,\u001b[0m \u001b[0msource\u001b[0m \u001b[0;34m=\u001b[0m \u001b[0msource_1\u001b[0m\u001b[0;34m,\u001b[0m \u001b[0mcolor\u001b[0m \u001b[0;34m=\u001b[0m \u001b[0;34m'blue'\u001b[0m\u001b[0;34m)\u001b[0m\u001b[0;34m\u001b[0m\u001b[0;34m\u001b[0m\u001b[0m\n\u001b[0m\u001b[1;32m     80\u001b[0m         \u001b[0;31m#plt.savefig(f\"{feat_name}comparison.png\")\u001b[0m\u001b[0;34m\u001b[0m\u001b[0;34m\u001b[0m\u001b[0;34m\u001b[0m\u001b[0m\n\u001b[1;32m     81\u001b[0m \u001b[0;34m\u001b[0m\u001b[0m\n",
      "\u001b[0;32mfakesource\u001b[0m in \u001b[0;36mcircle\u001b[0;34m(self, x, y, **kwargs)\u001b[0m\n",
      "\u001b[0;32m/opt/anaconda3/lib/python3.7/site-packages/bokeh/plotting/helpers.py\u001b[0m in \u001b[0;36mfunc\u001b[0;34m(self, **kwargs)\u001b[0m\n\u001b[1;32m    832\u001b[0m         \u001b[0mincompatible_literal_spec_values\u001b[0m \u001b[0;34m+=\u001b[0m \u001b[0m_process_sequence_literals\u001b[0m\u001b[0;34m(\u001b[0m\u001b[0mglyphclass\u001b[0m\u001b[0;34m,\u001b[0m \u001b[0mglyph_ca\u001b[0m\u001b[0;34m,\u001b[0m \u001b[0msource\u001b[0m\u001b[0;34m,\u001b[0m \u001b[0mis_user_source\u001b[0m\u001b[0;34m)\u001b[0m\u001b[0;34m\u001b[0m\u001b[0;34m\u001b[0m\u001b[0m\n\u001b[1;32m    833\u001b[0m         \u001b[0;32mif\u001b[0m \u001b[0mincompatible_literal_spec_values\u001b[0m\u001b[0;34m:\u001b[0m\u001b[0;34m\u001b[0m\u001b[0;34m\u001b[0m\u001b[0m\n\u001b[0;32m--> 834\u001b[0;31m             \u001b[0;32mraise\u001b[0m \u001b[0mRuntimeError\u001b[0m\u001b[0;34m(\u001b[0m\u001b[0m_GLYPH_SOURCE_MSG\u001b[0m \u001b[0;34m%\u001b[0m \u001b[0mnice_join\u001b[0m\u001b[0;34m(\u001b[0m\u001b[0mincompatible_literal_spec_values\u001b[0m\u001b[0;34m,\u001b[0m \u001b[0mconjuction\u001b[0m\u001b[0;34m=\u001b[0m\u001b[0;34m\"and\"\u001b[0m\u001b[0;34m)\u001b[0m\u001b[0;34m)\u001b[0m\u001b[0;34m\u001b[0m\u001b[0;34m\u001b[0m\u001b[0m\n\u001b[0m\u001b[1;32m    835\u001b[0m \u001b[0;34m\u001b[0m\u001b[0m\n\u001b[1;32m    836\u001b[0m         \u001b[0;31m# handle the nonselection glyph, we always set one\u001b[0m\u001b[0;34m\u001b[0m\u001b[0;34m\u001b[0m\u001b[0;34m\u001b[0m\u001b[0m\n",
      "\u001b[0;31mRuntimeError\u001b[0m: \n\nExpected x and y to reference fields in the supplied data source.\n\nWhen a 'source' argument is passed to a glyph method, values that are sequences\n(like lists or arrays) must come from references to data columns in the source.\n\nFor instance, as an example:\n\n    source = ColumnDataSource(data=dict(x=a_list, y=an_array))\n\n    p.circle(x='x', y='y', source=source, ...) # pass column names and a source\n\nAlternatively, *all* data sequences may be provided as literals as long as a\nsource is *not* provided:\n\n    p.circle(x=a_list, y=an_array, ...)  # pass actual sequences and no source\n\n"
     ]
    }
   ],
   "source": [
    "def comparison_plots():\n",
    "    \"\"\"plot the 3 sets of comparisons for all 8 features\"\"\"\n",
    "    \n",
    "    for feat_name in ['pW1', 'pW2', 'pW3', 'pW4', 'pW5', 'pW6', 'pW7', 'pW8']:\n",
    "    \n",
    "        # getting the data to be plotted in each figure\n",
    "        ella_fig1, emily_fig1, ella1_label, emily1_label = data_to_plot(ella, emily, feat_name)\n",
    "\n",
    "        emily_fig2, anish_fig2, emily2_label, anish2_label = data_to_plot(emily, anish, feat_name)\n",
    "\n",
    "        anish_fig3, ella_fig3, anish3_label, ella3_label = data_to_plot(anish, ella, feat_name)\n",
    "\n",
    "        # data to plot the line y=x, goes from the minimum measurement in all three sets to the maximum (roughly)\n",
    "        x = np.arange(-60, 450)\n",
    "\n",
    "        output_file(\"toolbar.html\")\n",
    "\n",
    "        source_1 = ColumnDataSource(\n",
    "            data = dict(\n",
    "                x = ella\n",
    "                desc = ella1_label,\n",
    "            )\n",
    "        )\n",
    "        source_2 = ColumnDataSource(\n",
    "            data = dict(\n",
    "                \n",
    "                desc = emily2_label,\n",
    "            )\n",
    "        )\n",
    "        source_an = ColumnDataSource(\n",
    "            data = dict(\n",
    "               \n",
    "                desc = anish3_label,\n",
    "            )\n",
    "        )\n",
    "\n",
    "        hover = HoverTool(\n",
    "            tooltips = [\n",
    "                (\"desc\", \"@desc\"),\n",
    "            ]\n",
    "        )\n",
    "\n",
    "        \n",
    "        \n",
    "        # creating the figure\n",
    "        fig = figure(plot_width = 900, plot_height = 800, tools = [hover],\n",
    "           title = \"figure\")\n",
    "    \n",
    "        # plotting the leftmost figure\n",
    "        min1, max1 = bounds_finder(ella, emily, feat_name)\n",
    "    '''\n",
    "        ax1.scatter(ella_fig1, emily_fig1)\n",
    "        ax1.plot(x, x, color='black', linestyle='--')\n",
    "        ax1.set_xlim(min1, max1)\n",
    "        ax1.set_ylim(min1, max1)\n",
    "        ax1.set_xlabel(\"Ella's Measurements\")\n",
    "        ax1.set_ylabel(\"Emily's Measurements\")\n",
    "    \n",
    "        # plotting the middle figure\n",
    "        min2, max2 = bounds_finder(emily, anish, feat_name)\n",
    "    \n",
    "        ax2.scatter(emily_fig2, anish_fig2, c='green')\n",
    "        ax2.plot(x, x, color='black', linestyle='--')\n",
    "        ax2.set_ylim(min2, max2)\n",
    "        ax2.set_xlim(min2, max2)\n",
    "        ax2.set_xlabel(\"Emily's Measurements\")\n",
    "        ax2.set_ylabel(\"Anish's Measurements\")\n",
    "    \n",
    "        # plotting the rightmost figure\n",
    "        min3, max3 = bounds_finder(anish, ella, feat_name)\n",
    "    \n",
    "        ax3.scatter(anish_fig3, ella_fig3, c='red')\n",
    "        ax3.plot(x, x, color='black', linestyle='--')\n",
    "        ax3.set_ylim(min3, max3)\n",
    "        ax3.set_xlim(min3, max3)\n",
    "        ax3.set_xlabel(\"Anish's Measurements\")\n",
    "        ax3.set_ylabel(\"Ella's Measurements\")\n",
    "    '''\n",
    "    fig.circle(x=ella_fig1, y=emily_fig1, size = 5, source = source_1, color = 'blue')\n",
    "        #plt.savefig(f\"{feat_name}comparison.png\")\n",
    "        \n",
    "comparison_plots()"
   ]
  },
  {
   "cell_type": "code",
   "execution_count": null,
   "metadata": {},
   "outputs": [],
   "source": [
    "output_file(\"toolbar.html\")\n",
    "\n",
    "source = ColumnDataSource(\n",
    "    data = dict(\n",
    "        x=ella['']))"
   ]
  }
 ],
 "metadata": {
  "kernelspec": {
   "display_name": "Python 3",
   "language": "python",
   "name": "python3"
  },
  "language_info": {
   "codemirror_mode": {
    "name": "ipython",
    "version": 3
   },
   "file_extension": ".py",
   "mimetype": "text/x-python",
   "name": "python",
   "nbconvert_exporter": "python",
   "pygments_lexer": "ipython3",
   "version": "3.7.4"
  }
 },
 "nbformat": 4,
 "nbformat_minor": 4
}
