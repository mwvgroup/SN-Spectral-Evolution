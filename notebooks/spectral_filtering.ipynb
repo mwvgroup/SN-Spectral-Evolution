{
 "cells": [
  {
   "cell_type": "markdown",
   "metadata": {},
   "source": [
    "# Filtering Spectra\n",
    "\n",
    "This notebook plots spectral data as passed through a median filter."
   ]
  },
  {
   "cell_type": "code",
   "execution_count": null,
   "metadata": {},
   "outputs": [],
   "source": [
    "import matplotlib.pyplot as plt\n",
    "import sndata\n",
    "from sndata.csp import DR1, DR3\n",
    "from sndata.sdss import Sako18Spec\n",
    "from scipy.ndimage import median_filter\n"
   ]
  },
  {
   "cell_type": "code",
   "execution_count": null,
   "metadata": {},
   "outputs": [],
   "source": [
    "dr1 = DR1()\n",
    "dr1.download_module_data()\n",
    "\n",
    "dr3 = DR3()\n",
    "dr3.download_module_data()\n",
    "\n",
    "sako18spec = Sako18Spec()\n",
    "sako18spec.download_module_data()\n"
   ]
  },
  {
   "cell_type": "markdown",
   "metadata": {},
   "source": [
    "## Inspecting CSP / SDSS Data Models\n",
    "\n",
    "We investigate how object Ids and data tables are formatted for the SDSS and CSP spectra. Note that some targets may have multiple spectra in a single table.\n"
   ]
  },
  {
   "cell_type": "code",
   "execution_count": null,
   "metadata": {},
   "outputs": [],
   "source": [
    "sako18spec.get_available_ids()\n",
    "len(sako18spec.get_available_ids())\n"
   ]
  },
  {
   "cell_type": "code",
   "execution_count": null,
   "metadata": {},
   "outputs": [],
   "source": [
    "object_ids_dr1 = dr1.get_available_ids()\n",
    "print(object_ids_dr1)\n"
   ]
  },
  {
   "cell_type": "code",
   "execution_count": null,
   "metadata": {},
   "outputs": [],
   "source": [
    "object_ids_sako18spec = sako18spec.get_available_ids()\n",
    "print(object_ids_sako18spec[:100])\n"
   ]
  },
  {
   "cell_type": "code",
   "execution_count": null,
   "metadata": {},
   "outputs": [],
   "source": [
    "sdss1000_data = sako18spec.get_data_for_id('1000')\n"
   ]
  },
  {
   "cell_type": "code",
   "execution_count": null,
   "metadata": {},
   "outputs": [],
   "source": [
    "set(sdss1000_data['time'])\n"
   ]
  },
  {
   "cell_type": "code",
   "execution_count": null,
   "metadata": {},
   "outputs": [],
   "source": [
    "sdss1000_data\n"
   ]
  },
  {
   "cell_type": "markdown",
   "metadata": {},
   "source": [
    "## Applying a Median Filter\n",
    "\n",
    "We plot the application of a median filter to objects from SDSS and CSP. We make sure to consider a range of classified objects.\n"
   ]
  },
  {
   "cell_type": "markdown",
   "metadata": {},
   "source": [
    "### SDSS 1000 host galaxy"
   ]
  },
  {
   "cell_type": "code",
   "execution_count": null,
   "metadata": {},
   "outputs": [],
   "source": [
    "master = sako18spec.load_table('master')\n",
    "print('Object type:', master[master['CID'] == '1000']['Classification'][0])\n"
   ]
  },
  {
   "cell_type": "code",
   "execution_count": null,
   "metadata": {},
   "outputs": [],
   "source": [
    "print('Spectra types:', set(sdss1000_data['type']))\n"
   ]
  },
  {
   "cell_type": "code",
   "execution_count": null,
   "metadata": {},
   "outputs": [],
   "source": [
    "sdss1000_filtered_flux = median_filter(sdss1000_data['flux'], size=20)\n"
   ]
  },
  {
   "cell_type": "code",
   "execution_count": null,
   "metadata": {},
   "outputs": [],
   "source": [
    "plt.plot(sdss1000_data['wavelength'], sdss1000_data['flux'])\n",
    "plt.plot(sdss1000_data['wavelength'], sdss1000_filtered_flux)\n",
    "plt.xlabel('Wavelength (Å)')\n",
    "plt.ylabel('Flux (mag)')\n",
    "plt.title('SDSS 1000')\n"
   ]
  },
  {
   "cell_type": "markdown",
   "metadata": {},
   "source": [
    "### SDSS 10028 host galaxy"
   ]
  },
  {
   "cell_type": "code",
   "execution_count": null,
   "metadata": {},
   "outputs": [],
   "source": [
    "print('Object type:', master[master['CID'] == '10037']['Classification'][0])\n"
   ]
  },
  {
   "cell_type": "code",
   "execution_count": null,
   "metadata": {},
   "outputs": [],
   "source": [
    "sdss10037_data = sako18spec.get_data_for_id('10037')\n",
    "print('Spectra types:', set(sdss1000_data['type']))\n"
   ]
  },
  {
   "cell_type": "code",
   "execution_count": null,
   "metadata": {},
   "outputs": [],
   "source": [
    "sdss10037_filtered_flux = median_filter(sdss10037_data['flux'],size = 40)\n",
    "plt.plot(sdss10037_data['wavelength'], sdss10037_data['flux'])\n",
    "plt.plot(sdss10037_data['wavelength'], sdss10037_filtered_flux)\n",
    "plt.xlabel('Wavelength (Å)')\n",
    "plt.ylabel('Flux (mag)')\n",
    "plt.title('SDSS 10037')\n"
   ]
  },
  {
   "cell_type": "markdown",
   "metadata": {},
   "source": [
    "### SDSS 10045"
   ]
  },
  {
   "cell_type": "code",
   "execution_count": null,
   "metadata": {},
   "outputs": [],
   "source": [
    "sdss10045_data = sako18spec.get_data_for_id('10045')\n",
    "\n",
    "print('Spectra', set(sdss10045_data['time']))\n",
    "print('Object type:', master[master['CID'] == '10045']['Classification'][0])\n",
    "print('Spectra types:', set(sdss10045_data['type']))\n"
   ]
  },
  {
   "cell_type": "code",
   "execution_count": null,
   "metadata": {},
   "outputs": [],
   "source": [
    "sdss10045_sn_data = sdss10045_data[sdss10045_data['type'] != 'Gal']\n",
    "sdss10045_sn_data\n"
   ]
  },
  {
   "cell_type": "code",
   "execution_count": null,
   "metadata": {},
   "outputs": [],
   "source": [
    "sdss10045_filtered = median_filter(sdss10045_sn_data['flux'],size = 20)\n",
    "\n",
    "plt.plot(sdss10045_sn_data['wavelength'], sdss10045_sn_data['flux'])\n",
    "plt.plot(sdss10045_sn_data['wavelength'], sdss10045_filtered)\n",
    "plt.xlabel('Wavelength (Å)')\n",
    "plt.ylabel('Flux (mag)')\n",
    "plt.title('SDSS 10045')\n"
   ]
  },
  {
   "cell_type": "markdown",
   "metadata": {},
   "source": [
    "### CSP 2005kc - Comparing window sizes"
   ]
  },
  {
   "cell_type": "code",
   "execution_count": null,
   "metadata": {},
   "outputs": [],
   "source": [
    "all_kc_data = dr1.get_data_for_id('2005kc')\n",
    "set(all_kc_data['time'])"
   ]
  },
  {
   "cell_type": "code",
   "execution_count": null,
   "metadata": {},
   "outputs": [],
   "source": [
    "kc_data = all_kc_data[all_kc_data['time'] == 2453698.58] "
   ]
  },
  {
   "cell_type": "markdown",
   "metadata": {},
   "source": [
    "We consider a Ia spectrum trhough a median filter window of 10, 100, and 3 angstroms"
   ]
  },
  {
   "cell_type": "code",
   "execution_count": null,
   "metadata": {},
   "outputs": [],
   "source": [
    "csp2005kc_filtered = median_filter(kc_data['flux'], size=10)\n",
    "\n",
    "plt.plot(kc_data['wavelength'], kc_data['flux'])\n",
    "plt.plot(kc_data['wavelength'], csp2005kc_filtered)\n",
    "plt.xlabel('Wavelength (Å)')\n",
    "plt.ylabel('Flux (mag)')\n",
    "plt.title('2005 kc')\n"
   ]
  },
  {
   "cell_type": "code",
   "execution_count": null,
   "metadata": {},
   "outputs": [],
   "source": [
    "filtered_flux100 = median_filter(kc_data['flux'], size=100)\n",
    "\n",
    "plt.plot(kc_data['wavelength'],kc_data['flux'])\n",
    "plt.plot(kc_data['wavelength'],filtered_flux100)\n",
    "plt.xlabel('Wavelength (Å)')\n",
    "plt.ylabel('Flux (mag)')\n",
    "plt.title('2005 kc exaggerated large size')\n"
   ]
  },
  {
   "cell_type": "code",
   "execution_count": null,
   "metadata": {},
   "outputs": [],
   "source": [
    "filtered_flux3 = median_filter(kc_data['flux'], size=3)\n",
    "plt.plot(kc_data['wavelength'], kc_data['flux'])\n",
    "plt.plot(kc_data['wavelength'], filtered_flux3)\n",
    "plt.xlabel('Wavelength (Å)')\n",
    "plt.ylabel('Flux (mag)')\n",
    "plt.title('2005 kc exaggerated small size')\n"
   ]
  },
  {
   "cell_type": "markdown",
   "metadata": {},
   "source": [
    "### CSP 2006os"
   ]
  },
  {
   "cell_type": "code",
   "execution_count": null,
   "metadata": {},
   "outputs": [],
   "source": [
    "csp2006os_data = dr1.get_data_for_id('2006os')"
   ]
  },
  {
   "cell_type": "code",
   "execution_count": null,
   "metadata": {},
   "outputs": [],
   "source": [
    "set(csp2006os_data['time'])"
   ]
  },
  {
   "cell_type": "code",
   "execution_count": null,
   "metadata": {},
   "outputs": [],
   "source": [
    "csp2006os_data1 = csp2006os_data[csp2006os_data['time'] == 2454061.68] "
   ]
  },
  {
   "cell_type": "code",
   "execution_count": null,
   "metadata": {},
   "outputs": [],
   "source": [
    "median_filter(csp2006os_data1['flux'],size = 40)\n",
    "filtered_flux7 = median_filter(csp2006os_data1['flux'],size = 40)\n",
    "plt.plot(csp2006os_data1['wavelength'],csp2006os_data1['flux'])\n",
    "plt.plot(csp2006os_data1['wavelength'],filtered_flux7)\n",
    "plt.xlabel('Wavelength (Å)')\n",
    "plt.ylabel('Flux (mag)')\n",
    "plt.title('CSP 2006os')"
   ]
  },
  {
   "cell_type": "markdown",
   "metadata": {},
   "source": [
    "### SDSS 10028"
   ]
  },
  {
   "cell_type": "code",
   "execution_count": null,
   "metadata": {},
   "outputs": [],
   "source": [
    "sdss10028_data = sako18spec.get_data_for_id('10028')"
   ]
  },
  {
   "cell_type": "code",
   "execution_count": null,
   "metadata": {},
   "outputs": [],
   "source": [
    "filtered_flux8 = median_filter(sdss10028_data['flux'], size=100)\n",
    "\n",
    "plt.plot(sdss10028_data['wavelength'], sdss10028_data['flux'])\n",
    "plt.plot(sdss10028_data['wavelength'], filtered_flux8)\n",
    "plt.xlabel('Wavelength (Å)')\n",
    "plt.ylabel('Flux (mag)')\n",
    "plt.title('SDSS 10028')\n"
   ]
  },
  {
   "cell_type": "code",
   "execution_count": null,
   "metadata": {},
   "outputs": [],
   "source": [
    "filtered_flux9 = median_filter(sdss10028_data['flux'], size=10)\n",
    "\n",
    "plt.plot(sdss10028_data['wavelength'], sdss10028_data['flux'])\n",
    "plt.plot(sdss10028_data['wavelength'], filtered_flux9)\n",
    "plt.xlabel('Wavelength (Å)')\n",
    "plt.ylabel('Flux (mag)')\n",
    "plt.title('SDSS 10028 exaggerated small size')\n"
   ]
  },
  {
   "cell_type": "code",
   "execution_count": null,
   "metadata": {},
   "outputs": [],
   "source": [
    "filtered_flux10 = median_filter(sdss10028_data['flux'], size=300)\n",
    "plt.plot(sdss10028_data['wavelength'], sdss10028_data['flux'])\n",
    "plt.plot(sdss10028_data['wavelength'], filtered_flux10)\n",
    "plt.xlabel('Wavelength (Å)')\n",
    "plt.ylabel('Flux (mag)')\n",
    "plt.title('SDSS 10028 exaggerated large size')\n"
   ]
  },
  {
   "cell_type": "markdown",
   "metadata": {},
   "source": [
    "### SDSS 17801"
   ]
  },
  {
   "cell_type": "code",
   "execution_count": null,
   "metadata": {},
   "outputs": [],
   "source": [
    "sdss17801_data = sako18spec.get_data_for_id('17801')\n",
    "set(sdss17801_data['time'])"
   ]
  },
  {
   "cell_type": "code",
   "execution_count": null,
   "metadata": {},
   "outputs": [],
   "source": [
    "sdss17801_data"
   ]
  },
  {
   "cell_type": "code",
   "execution_count": null,
   "metadata": {},
   "outputs": [],
   "source": [
    "sdss17801_filtereddata = sdss17801_data[sdss17801_data['type'] != 'Gal']"
   ]
  },
  {
   "cell_type": "code",
   "execution_count": null,
   "metadata": {},
   "outputs": [],
   "source": [
    "filtered_flux11 = median_filter(sdss17801_filtereddata['flux'], size=50)\n",
    "\n",
    "plt.plot(sdss17801_filtereddata['wavelength'], sdss17801_filtereddata['flux'])\n",
    "plt.plot(sdss17801_filtereddata['wavelength'], filtered_flux11)\n",
    "plt.xlabel('Wavelength (Å)')\n",
    "plt.ylabel('Flux (mag)')\n",
    "plt.title('SDSS 17801')\n"
   ]
  },
  {
   "cell_type": "markdown",
   "metadata": {},
   "source": [
    "### SDSS 19990"
   ]
  },
  {
   "cell_type": "code",
   "execution_count": null,
   "metadata": {},
   "outputs": [],
   "source": [
    "sdss19990_data = sako18spec.get_data_for_id('19990')\n",
    "set(sdss19990_data['time'])"
   ]
  },
  {
   "cell_type": "code",
   "execution_count": null,
   "metadata": {},
   "outputs": [],
   "source": [
    "sdss19990_data"
   ]
  },
  {
   "cell_type": "code",
   "execution_count": null,
   "metadata": {},
   "outputs": [],
   "source": [
    "filtered_flux13 = median_filter(sdss19990_data['flux'], size=50)\n",
    "\n",
    "plt.plot(sdss19990_data['wavelength'], sdss19990_data['flux'])\n",
    "plt.plot(sdss19990_data['wavelength'], filtered_flux13)\n",
    "plt.xlabel('Wavelength (Å)')\n",
    "plt.ylabel('Flux (mag)')\n",
    "plt.title('SDSS 19990')\n"
   ]
  },
  {
   "cell_type": "markdown",
   "metadata": {},
   "source": [
    "### CSP 2005iq"
   ]
  },
  {
   "cell_type": "code",
   "execution_count": null,
   "metadata": {},
   "outputs": [],
   "source": [
    "csp2005iq_data = dr1.get_data_for_id('2005iq')\n",
    "set(csp2005iq_data['time'])"
   ]
  },
  {
   "cell_type": "code",
   "execution_count": null,
   "metadata": {},
   "outputs": [],
   "source": [
    "csp2005iq_data1 = csp2005iq_data[csp2005iq_data['time'] == 2453698.62] "
   ]
  },
  {
   "cell_type": "code",
   "execution_count": null,
   "metadata": {},
   "outputs": [],
   "source": [
    "csp2005iq_data1"
   ]
  },
  {
   "cell_type": "code",
   "execution_count": null,
   "metadata": {},
   "outputs": [],
   "source": [
    "filtered_flux14 = median_filter(csp2005iq_data1['flux'], size=50)\n",
    "\n",
    "plt.plot(csp2005iq_data1['wavelength'], csp2005iq_data1['flux'])\n",
    "plt.plot(csp2005iq_data1['wavelength'], filtered_flux14)\n",
    "plt.xlabel('Wavelength (Å)')\n",
    "plt.ylabel('Flux (mag)')\n",
    "plt.title('CSP dr1 2005iq')\n"
   ]
  },
  {
   "cell_type": "code",
   "execution_count": null,
   "metadata": {},
   "outputs": [],
   "source": []
  }
 ],
 "metadata": {
  "kernelspec": {
   "display_name": "Python 3",
   "language": "python",
   "name": "python3"
  },
  "language_info": {
   "codemirror_mode": {
    "name": "ipython",
    "version": 3
   },
   "file_extension": ".py",
   "mimetype": "text/x-python",
   "name": "python",
   "nbconvert_exporter": "python",
   "pygments_lexer": "ipython3",
   "version": "3.8.3"
  }
 },
 "nbformat": 4,
 "nbformat_minor": 2
}
