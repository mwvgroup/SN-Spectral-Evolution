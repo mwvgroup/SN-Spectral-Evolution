{
 "cells": [
  {
   "cell_type": "markdown",
   "metadata": {},
   "source": [
    "# Visual inspection of CSP spectra\n"
   ]
  },
  {
   "cell_type": "code",
   "execution_count": null,
   "metadata": {},
   "outputs": [],
   "source": [
    "import sys\n",
    "from pathlib import Path\n",
    "\n",
    "import numpy as np\n",
    "import pandas as pd\n",
    "from matplotlib import pyplot as plt\n",
    "from sndata.csp import DR1, DR3\n",
    "\n",
    "sys.path.insert(0, '../')\n",
    "from scripts.run_csp import pre_process, get_csp_t0\n"
   ]
  },
  {
   "cell_type": "code",
   "execution_count": null,
   "metadata": {},
   "outputs": [],
   "source": [
    "dr1 = DR1()\n",
    "dr1.download_module_data()\n",
    "\n",
    "dr3 = DR3()\n",
    "dr3.download_module_data()\n",
    "\n",
    "# Output directory for figures\n",
    "fig_dir = Path('./figs/classification')\n",
    "fig_dir.mkdir(exist_ok=True, parents=True)\n",
    "results_dir = Path('.').resolve().parent / 'results'\n"
   ]
  },
  {
   "cell_type": "code",
   "execution_count": null,
   "metadata": {},
   "outputs": [],
   "source": [
    "def read_in_pipeline_result(path):\n",
    "    \"\"\"Read pEW values from analysis pipline file\n",
    "    \n",
    "    Adds columns for Branch classifications determined by the\n",
    "    measured pEW values and spectral subtypes determined from \n",
    "    CSP DR1.\n",
    "    \n",
    "    Args:\n",
    "        path (str): Path of the file to read\n",
    "        \n",
    "    Returns:\n",
    "        A pandas Dataframe indexed by feat_name and obj_id\n",
    "    \"\"\"\n",
    "    \n",
    "    df = pd.read_csv(path, index_col=['obj_id', 'feat_name'])\n",
    "\n",
    "    # Add phases using CSP DR3 t0 values\n",
    "    obj_id = df.index.get_level_values(0)\n",
    "    phase = np.array([get_csp_t0(oid) for oid in obj_id])\n",
    "    df['phase'] = phase - df.time\n",
    "\n",
    "    # Add Branch style classifications\n",
    "    pw = pd.DataFrame({\n",
    "        'pW6': df.xs('pW6', level=1).pew, \n",
    "        'pW7': df.xs('pW7', level=1).pew}\n",
    "    ).dropna()\n",
    "    \n",
    "    # Add spectral subtypes\n",
    "    csp_table_2 = dr3.load_table(2)\n",
    "    subtypes = pd.DataFrame({'spec_type': csp_table_2['Subtype1']}, index=csp_table_2['SN'])\n",
    "    df = df.join(subtypes, on='obj_id')\n",
    "    \n",
    "    return df\n"
   ]
  },
  {
   "cell_type": "code",
   "execution_count": null,
   "metadata": {},
   "outputs": [],
   "source": [
    "ella = read_in_pipeline_result(results_dir / 'ella_csp.csv')\n",
    "emily = read_in_pipeline_result(results_dir / 'emily_csp.csv')\n",
    "anish = read_in_pipeline_result(results_dir / 'anish_csp.csv')\n",
    "\n",
    "combined = ella.join(emily, lsuffix='_ella', rsuffix='_emily')\n",
    "combined = combined.join(anish, rsuffix='_anish')\n",
    "combined.head()\n"
   ]
  },
  {
   "cell_type": "code",
   "execution_count": null,
   "metadata": {},
   "outputs": [],
   "source": [
    "def subplot_feature_pew(wave, flux, axis, feat_start, feat_end, **kwargs):\n",
    "    \"\"\"Shade in the PEW of spectral properties\n",
    "\n",
    "    Args:\n",
    "        wave     (ndarray): The spectrum's wavelengths\n",
    "        flux     (ndarray): The flux for each wavelength\n",
    "        axis        (Axis): The axius to plot on\n",
    "        feat_start (float): Where the feature starts\n",
    "        feat_end   (float): Where the feature ends\n",
    "        Any other kwargs for ``axis.fill_between``\n",
    "    \"\"\"\n",
    "\n",
    "    idx_start = np.where(wave == feat_start)[0][0]\n",
    "    idx_end = np.where(wave == feat_end)[0][0]\n",
    "    feat_wave = wave[idx_start: idx_end + 1]\n",
    "    feat_flux = flux[idx_start: idx_end + 1]\n",
    "\n",
    "    continuum, norm_flux, pew = spec_class.feature_pew(feat_wave, feat_flux)\n",
    "    axis.fill_between(feat_wave, feat_flux, continuum, alpha=.75, zorder=0, **kwargs)\n"
   ]
  },
  {
   "cell_type": "code",
   "execution_count": null,
   "metadata": {},
   "outputs": [],
   "source": [
    "def plot_measurements(obj_id, phase, results):\n",
    "    data = dr1.get_data_for_id(obj_id)\n",
    "    processed_data = pre_process(data)\n",
    "    \n",
    "    obj_results = results.loc[obj_id]\n",
    "    obj_results = obj_results[obj_results.phase.round(2) == phase]\n",
    "    \n",
    "    # ...\n"
   ]
  },
  {
   "cell_type": "code",
   "execution_count": null,
   "metadata": {},
   "outputs": [],
   "source": []
  }
 ],
 "metadata": {
  "kernelspec": {
   "display_name": "Python [conda env:SN-Spectral-Evolution] *",
   "language": "python",
   "name": "conda-env-SN-Spectral-Evolution-py"
  },
  "language_info": {
   "codemirror_mode": {
    "name": "ipython",
    "version": 3
   },
   "file_extension": ".py",
   "mimetype": "text/x-python",
   "name": "python",
   "nbconvert_exporter": "python",
   "pygments_lexer": "ipython3",
   "version": "3.8.3"
  }
 },
 "nbformat": 4,
 "nbformat_minor": 2
}
