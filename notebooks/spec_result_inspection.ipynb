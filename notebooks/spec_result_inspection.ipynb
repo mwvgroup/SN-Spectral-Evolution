{
 "cells": [
  {
   "cell_type": "markdown",
   "metadata": {},
   "source": [
    "## Spectral Results Inspection\n",
    "\n",
    "This notebook plots and compares feature boundaries chosen by different team members."
   ]
  },
  {
   "cell_type": "code",
   "execution_count": null,
   "metadata": {},
   "outputs": [],
   "source": [
    "import sys\n",
    "from pathlib import Path\n",
    "\n",
    "import numpy as np\n",
    "import pandas as pd\n",
    "import yaml\n",
    "from bokeh.io import show, output_notebook\n",
    "from bokeh.layouts import gridplot\n",
    "from bokeh.models import Span, Range1d\n",
    "from bokeh.plotting import figure\n",
    "from matplotlib import pyplot as plt\n",
    "from scipy.ndimage.filters import median_filter\n",
    "from sndata.csp import DR1, DR3\n",
    "\n",
    "base_dir = Path('.').resolve().parent\n",
    "sys.path.insert(0, str(base_dir))\n",
    "\n",
    "from scripts.run_csp import pre_process, get_csp_t0\n",
    "from spec_analysis.spectra import Spectrum\n"
   ]
  },
  {
   "cell_type": "code",
   "execution_count": null,
   "metadata": {},
   "outputs": [],
   "source": [
    "output_notebook()\n"
   ]
  },
  {
   "cell_type": "code",
   "execution_count": null,
   "metadata": {},
   "outputs": [],
   "source": [
    "dr1 = DR1()\n",
    "dr1.download_module_data()\n",
    "\n",
    "dr3 = DR3()\n",
    "dr3.download_module_data()\n",
    "\n",
    "# Output directory for figures\n",
    "fig_dir = Path('./figs/classification')\n",
    "fig_dir.mkdir(exist_ok=True, parents=True)\n",
    "\n",
    "# Project data\n",
    "results_dir = Path('.').resolve().parent / 'results'\n",
    "config_path = Path('../app_config.yml')\n",
    "with config_path.open() as config_file:\n",
    "    config_data = yaml.load(config_file, Loader=yaml.SafeLoader)\n"
   ]
  },
  {
   "cell_type": "markdown",
   "metadata": {},
   "source": [
    "We create a combined dataframe of the available spectroscopic measurements. Columns are suffixed with the inspector's name."
   ]
  },
  {
   "cell_type": "code",
   "execution_count": null,
   "metadata": {},
   "outputs": [],
   "source": [
    "def read_in_pipeline_result(path):\n",
    "    \"\"\"Read pEW values from analysis pipline file\n",
    "    \n",
    "    Adds columns for Branch classifications determined by the\n",
    "    measured pEW values and spectral subtypes determined from \n",
    "    CSP DR1.\n",
    "    \n",
    "    Args:\n",
    "        path (str): Path of the file to read\n",
    "        \n",
    "    Returns:\n",
    "        A pandas Dataframe indexed by feat_name and obj_id\n",
    "    \"\"\"\n",
    "    \n",
    "    df = pd.read_csv(path, index_col=['obj_id', 'feat_name', 'time'])\n",
    "\n",
    "    # Add phases using CSP DR3 t0 values\n",
    "    obj_id = df.index.get_level_values(0)\n",
    "    time = df.index.get_level_values(2)\n",
    "    \n",
    "    phase = np.array([get_csp_t0(oid) for oid in obj_id])\n",
    "    df['phase'] = phase - time\n",
    "\n",
    "    # Add Branch style classifications\n",
    "    pw = pd.DataFrame({\n",
    "        'pW6': df.xs('pW6', level=1).pew, \n",
    "        'pW7': df.xs('pW7', level=1).pew}\n",
    "    ).dropna()\n",
    "    \n",
    "    # Add spectral subtypes\n",
    "    csp_table_2 = dr3.load_table(2)\n",
    "    subtypes = pd.DataFrame({'spec_type': csp_table_2['Subtype1']}, index=csp_table_2['SN'])\n",
    "    df = df.join(subtypes, on='obj_id')\n",
    "    \n",
    "    return df\n"
   ]
  },
  {
   "cell_type": "code",
   "execution_count": null,
   "metadata": {},
   "outputs": [],
   "source": [
    "ella = read_in_pipeline_result(results_dir / 'ella_csp.csv')\n",
    "emily = read_in_pipeline_result(results_dir / 'emily_csp.csv')\n",
    "anish = read_in_pipeline_result(results_dir / 'anish_csp.csv')\n",
    "\n",
    "combined = ella.join(emily, lsuffix='_ella', rsuffix='_emily')\n",
    "combined = combined.join(anish.add_suffix('_anish'))\n",
    "\n",
    "combined.head()\n"
   ]
  },
  {
   "cell_type": "code",
   "execution_count": null,
   "metadata": {},
   "outputs": [],
   "source": [
    "def plot_spectral_measurements(obj_id, time, feature, results=combined):\n",
    "    \"\"\"Plot an interactive comparison of estimated feature boundaries\n",
    "    \n",
    "    Args:\n",
    "        obj_id        (str): The object to plot\n",
    "        time        (float): Observation time of the desired object's spectrum\n",
    "        feature       (str): Name of the feature to inspect (e.g., 'pW1')\n",
    "        results (DataFrame): Dataframe of inspection results\n",
    "    \"\"\"\n",
    "    \n",
    "    # Load object data\n",
    "    data = dr1.get_data_for_id(obj_id)\n",
    "    processed_data = pre_process(data)\n",
    "    processed_data = processed_data[processed_data['time'] == time]\n",
    "    spectrum = Spectrum(\n",
    "        processed_data['wavelength'], \n",
    "        processed_data['flux'],\n",
    "        processed_data.meta['ra'],\n",
    "        processed_data.meta['dec'],\n",
    "        processed_data.meta['z'],\n",
    "    )\n",
    "    spectrum.prepare_spectrum(bin_size=10)\n",
    "\n",
    "    # Create a seperate subplot for each inspector\n",
    "    sub_size = (800, 400)\n",
    "    title = f'{obj_id} - {time} - {feature}'\n",
    "    s1 = figure(plot_width=sub_size[0], plot_height=sub_size[1], title=title)\n",
    "    s2 = figure(plot_width=sub_size[0], plot_height=sub_size[1], x_range=s1.x_range, y_range=s1.y_range)\n",
    "    s3 = figure(plot_width=sub_size[0], plot_height=sub_size[1], x_range=s1.x_range,  y_range=s1.y_range)\n",
    "\n",
    "    # Instantiate plotting args\n",
    "    inspectors = ('ella', 'emily', 'anish')\n",
    "    obj_results = results.loc[obj_id, feature, time]\n",
    "    lower_blue = config_data['features'][feature]['lower_blue']\n",
    "    upper_blue = config_data['features'][feature]['upper_blue']\n",
    "    lower_red = config_data['features'][feature]['lower_red']\n",
    "    upper_red = config_data['features'][feature]['upper_red']\n",
    "\n",
    "    for fig, insp in zip((s1, s2, s3), inspectors):\n",
    "        # Format figure\n",
    "        fig.yaxis.axis_label = insp\n",
    "        fig.y_range = Range1d(0, 1.1 * max(spectrum.rest_flux))\n",
    "\n",
    "        # Plot object data and auto boundaries\n",
    "        fig.line(spectrum.rest_wave, spectrum.rest_flux, alpha=0.3, color='black')\n",
    "        fig.line(spectrum.rest_wave, spectrum.bin_flux, alpha=0.8, color='black')\n",
    "        fig.harea([lower_blue, lower_blue], [upper_blue, upper_blue], [-1, 2], alpha=.1)\n",
    "        fig.harea([lower_red, lower_red], [upper_red, upper_red], [-1, 2], alpha=.1, color='red')\n",
    "\n",
    "        measured_start = obj_results[f'feat_start_{insp}']\n",
    "        measured_end = obj_results[f'feat_end_{insp}']\n",
    "        if np.isnan(measured_start):\n",
    "            continue\n",
    "\n",
    "        vline1 = Span(location=measured_start, dimension='height', line_color='red', line_width=1)\n",
    "        vline2 = Span(location=measured_end, dimension='height', line_color='red', line_width=1)\n",
    "        fig.renderers.extend([vline1, vline2])\n",
    "\n",
    "    p = gridplot([[s1], [s2], [s3]])\n",
    "    show(p)\n"
   ]
  },
  {
   "cell_type": "code",
   "execution_count": null,
   "metadata": {},
   "outputs": [],
   "source": [
    "plot_spectral_measurements('2004ef', 2453255.66, 'pW2')\n"
   ]
  },
  {
   "cell_type": "code",
   "execution_count": null,
   "metadata": {},
   "outputs": [],
   "source": []
  }
 ],
 "metadata": {
  "kernelspec": {
   "display_name": "Python [conda env:SN-Spectral-Evolution] *",
   "language": "python",
   "name": "conda-env-SN-Spectral-Evolution-py"
  },
  "language_info": {
   "codemirror_mode": {
    "name": "ipython",
    "version": 3
   },
   "file_extension": ".py",
   "mimetype": "text/x-python",
   "name": "python",
   "nbconvert_exporter": "python",
   "pygments_lexer": "ipython3",
   "version": "3.8.3"
  }
 },
 "nbformat": 4,
 "nbformat_minor": 2
}
