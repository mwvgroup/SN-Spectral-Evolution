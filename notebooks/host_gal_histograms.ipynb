{
 "cells": [
  {
   "cell_type": "markdown",
   "metadata": {},
   "source": [
    "# Histograms for host galaxy properties"
   ]
  },
  {
   "cell_type": "markdown",
   "metadata": {},
   "source": [
    "This notebook creates histograms plotting pew and velocity binned by the median of individual host gal properties. These are created for individual features. They also show anderson darling p values. \n",
    "\n",
    "It creates a plot of p values as the binning cutoff moves from the median. \n",
    "\n",
    "It removes certain outliers from the branch classification plot and host gal property plots in the phase_evolution notebook and observes how the p value changes, provided in a dataframe. "
   ]
  },
  {
   "cell_type": "markdown",
   "metadata": {},
   "source": [
    "### imports"
   ]
  },
  {
   "cell_type": "code",
   "execution_count": 1,
   "metadata": {},
   "outputs": [],
   "source": [
    "import matplotlib.pyplot as plt\n",
    "import numpy as np\n",
    "import pandas as pd\n",
    "from scipy import stats\n",
    "from sndata.csp import DR3\n",
    "from sndata.sdss import Sako18Spec"
   ]
  },
  {
   "cell_type": "code",
   "execution_count": 2,
   "metadata": {},
   "outputs": [],
   "source": [
    "feature_alias = {\n",
    "    'pW1': 'Ca ii H&K',\n",
    "    'pW2': 'Si ii λ4130',\n",
    "    'pW3': 'Mg ii, Fe ii',\n",
    "    'pW4': 'Fe ii, Si ii',\n",
    "    'pW5': 'S ii λ5449, λ5622',\n",
    "    'pW6': 'Si ii λ5972',\n",
    "    'pW7': 'Si ii λ6355',\n",
    "    'pW8': 'Ca ii IR triplet'}"
   ]
  },
  {
   "cell_type": "code",
   "execution_count": 4,
   "metadata": {
    "scrolled": true
   },
   "outputs": [
    {
     "data": {
      "text/html": [
       "<div>\n",
       "<style scoped>\n",
       "    .dataframe tbody tr th:only-of-type {\n",
       "        vertical-align: middle;\n",
       "    }\n",
       "\n",
       "    .dataframe tbody tr th {\n",
       "        vertical-align: top;\n",
       "    }\n",
       "\n",
       "    .dataframe thead th {\n",
       "        text-align: right;\n",
       "    }\n",
       "</style>\n",
       "<table border=\"1\" class=\"dataframe\">\n",
       "  <thead>\n",
       "    <tr style=\"text-align: right;\">\n",
       "      <th></th>\n",
       "      <th>feat_name</th>\n",
       "      <th>obj_id</th>\n",
       "      <th>time</th>\n",
       "      <th>feat_start</th>\n",
       "      <th>feat_end</th>\n",
       "      <th>vel</th>\n",
       "      <th>vel_err</th>\n",
       "      <th>vel_samperr</th>\n",
       "      <th>pew</th>\n",
       "      <th>pew_err</th>\n",
       "      <th>...</th>\n",
       "      <th>agePEGASE</th>\n",
       "      <th>ageloPEGASE</th>\n",
       "      <th>agehiPEGASE</th>\n",
       "      <th>minchi2PEGASE</th>\n",
       "      <th>Notes</th>\n",
       "      <th>delta_t</th>\n",
       "      <th>is_peak</th>\n",
       "      <th>branch_type</th>\n",
       "      <th>arcmin</th>\n",
       "      <th>kpc</th>\n",
       "    </tr>\n",
       "  </thead>\n",
       "  <tbody>\n",
       "    <tr>\n",
       "      <th>0</th>\n",
       "      <td>pW6</td>\n",
       "      <td>19128</td>\n",
       "      <td>2454387.5</td>\n",
       "      <td>5630.787447</td>\n",
       "      <td>5932.631261</td>\n",
       "      <td>8144.168668</td>\n",
       "      <td>0.0</td>\n",
       "      <td>341.659397</td>\n",
       "      <td>16.352920</td>\n",
       "      <td>0.0</td>\n",
       "      <td>...</td>\n",
       "      <td>NaN</td>\n",
       "      <td>NaN</td>\n",
       "      <td>NaN</td>\n",
       "      <td>NaN</td>\n",
       "      <td>NaN</td>\n",
       "      <td>0.1</td>\n",
       "      <td>True</td>\n",
       "      <td>BL</td>\n",
       "      <td>NaN</td>\n",
       "      <td>NaN</td>\n",
       "    </tr>\n",
       "    <tr>\n",
       "      <th>1</th>\n",
       "      <td>pW2</td>\n",
       "      <td>2017</td>\n",
       "      <td>2453636.5</td>\n",
       "      <td>3908.025238</td>\n",
       "      <td>4040.182181</td>\n",
       "      <td>NaN</td>\n",
       "      <td>0.0</td>\n",
       "      <td>NaN</td>\n",
       "      <td>17.092118</td>\n",
       "      <td>0.0</td>\n",
       "      <td>...</td>\n",
       "      <td>1.25</td>\n",
       "      <td>1.08</td>\n",
       "      <td>1.39</td>\n",
       "      <td>0.14</td>\n",
       "      <td>NaN</td>\n",
       "      <td>0.1</td>\n",
       "      <td>True</td>\n",
       "      <td>SS</td>\n",
       "      <td>0.034500</td>\n",
       "      <td>43.077351</td>\n",
       "    </tr>\n",
       "    <tr>\n",
       "      <th>2</th>\n",
       "      <td>pW1</td>\n",
       "      <td>2017</td>\n",
       "      <td>2453636.5</td>\n",
       "      <td>3615.136877</td>\n",
       "      <td>3908.025238</td>\n",
       "      <td>13865.174056</td>\n",
       "      <td>0.0</td>\n",
       "      <td>323.138916</td>\n",
       "      <td>52.658139</td>\n",
       "      <td>0.0</td>\n",
       "      <td>...</td>\n",
       "      <td>1.25</td>\n",
       "      <td>1.08</td>\n",
       "      <td>1.39</td>\n",
       "      <td>0.14</td>\n",
       "      <td>NaN</td>\n",
       "      <td>0.1</td>\n",
       "      <td>True</td>\n",
       "      <td>SS</td>\n",
       "      <td>0.034500</td>\n",
       "      <td>43.077351</td>\n",
       "    </tr>\n",
       "    <tr>\n",
       "      <th>3</th>\n",
       "      <td>pW2</td>\n",
       "      <td>19128</td>\n",
       "      <td>2454387.5</td>\n",
       "      <td>3942.640340</td>\n",
       "      <td>4073.335600</td>\n",
       "      <td>8793.661154</td>\n",
       "      <td>0.0</td>\n",
       "      <td>735.823388</td>\n",
       "      <td>8.520702</td>\n",
       "      <td>0.0</td>\n",
       "      <td>...</td>\n",
       "      <td>NaN</td>\n",
       "      <td>NaN</td>\n",
       "      <td>NaN</td>\n",
       "      <td>NaN</td>\n",
       "      <td>NaN</td>\n",
       "      <td>0.1</td>\n",
       "      <td>True</td>\n",
       "      <td>BL</td>\n",
       "      <td>NaN</td>\n",
       "      <td>NaN</td>\n",
       "    </tr>\n",
       "    <tr>\n",
       "      <th>4</th>\n",
       "      <td>pW1</td>\n",
       "      <td>2689</td>\n",
       "      <td>2453637.5</td>\n",
       "      <td>3657.035407</td>\n",
       "      <td>3918.106397</td>\n",
       "      <td>11820.961436</td>\n",
       "      <td>0.0</td>\n",
       "      <td>443.806031</td>\n",
       "      <td>103.331980</td>\n",
       "      <td>0.0</td>\n",
       "      <td>...</td>\n",
       "      <td>5.58</td>\n",
       "      <td>4.75</td>\n",
       "      <td>9.70</td>\n",
       "      <td>6.98</td>\n",
       "      <td>NaN</td>\n",
       "      <td>0.1</td>\n",
       "      <td>True</td>\n",
       "      <td>NaN</td>\n",
       "      <td>0.049833</td>\n",
       "      <td>62.012352</td>\n",
       "    </tr>\n",
       "    <tr>\n",
       "      <th>...</th>\n",
       "      <td>...</td>\n",
       "      <td>...</td>\n",
       "      <td>...</td>\n",
       "      <td>...</td>\n",
       "      <td>...</td>\n",
       "      <td>...</td>\n",
       "      <td>...</td>\n",
       "      <td>...</td>\n",
       "      <td>...</td>\n",
       "      <td>...</td>\n",
       "      <td>...</td>\n",
       "      <td>...</td>\n",
       "      <td>...</td>\n",
       "      <td>...</td>\n",
       "      <td>...</td>\n",
       "      <td>...</td>\n",
       "      <td>...</td>\n",
       "      <td>...</td>\n",
       "      <td>...</td>\n",
       "      <td>...</td>\n",
       "      <td>...</td>\n",
       "    </tr>\n",
       "    <tr>\n",
       "      <th>796</th>\n",
       "      <td>pW7</td>\n",
       "      <td>2165</td>\n",
       "      <td>2453641.5</td>\n",
       "      <td>5919.931260</td>\n",
       "      <td>6572.577243</td>\n",
       "      <td>9137.197106</td>\n",
       "      <td>0.0</td>\n",
       "      <td>241.346074</td>\n",
       "      <td>209.514632</td>\n",
       "      <td>0.0</td>\n",
       "      <td>...</td>\n",
       "      <td>0.86</td>\n",
       "      <td>0.03</td>\n",
       "      <td>4.07</td>\n",
       "      <td>8.78</td>\n",
       "      <td>NaN</td>\n",
       "      <td>6.7</td>\n",
       "      <td>True</td>\n",
       "      <td>CL</td>\n",
       "      <td>0.012000</td>\n",
       "      <td>15.057214</td>\n",
       "    </tr>\n",
       "    <tr>\n",
       "      <th>797</th>\n",
       "      <td>pW1</td>\n",
       "      <td>19968</td>\n",
       "      <td>2454406.5</td>\n",
       "      <td>3507.901777</td>\n",
       "      <td>3921.776287</td>\n",
       "      <td>17654.228010</td>\n",
       "      <td>0.0</td>\n",
       "      <td>76.274254</td>\n",
       "      <td>158.092375</td>\n",
       "      <td>0.0</td>\n",
       "      <td>...</td>\n",
       "      <td>2.41</td>\n",
       "      <td>2.41</td>\n",
       "      <td>2.72</td>\n",
       "      <td>61.46</td>\n",
       "      <td>NaN</td>\n",
       "      <td>6.8</td>\n",
       "      <td>True</td>\n",
       "      <td>SS</td>\n",
       "      <td>0.027500</td>\n",
       "      <td>34.389803</td>\n",
       "    </tr>\n",
       "    <tr>\n",
       "      <th>798</th>\n",
       "      <td>pW3</td>\n",
       "      <td>8719</td>\n",
       "      <td>2453683.5</td>\n",
       "      <td>4084.014864</td>\n",
       "      <td>4480.981091</td>\n",
       "      <td>14043.481108</td>\n",
       "      <td>0.0</td>\n",
       "      <td>229.733128</td>\n",
       "      <td>70.137655</td>\n",
       "      <td>0.0</td>\n",
       "      <td>...</td>\n",
       "      <td>0.20</td>\n",
       "      <td>0.08</td>\n",
       "      <td>0.64</td>\n",
       "      <td>5.96</td>\n",
       "      <td>NaN</td>\n",
       "      <td>7.0</td>\n",
       "      <td>True</td>\n",
       "      <td>NaN</td>\n",
       "      <td>0.029333</td>\n",
       "      <td>36.667727</td>\n",
       "    </tr>\n",
       "    <tr>\n",
       "      <th>799</th>\n",
       "      <td>pW1</td>\n",
       "      <td>8719</td>\n",
       "      <td>2453683.5</td>\n",
       "      <td>3552.557347</td>\n",
       "      <td>3932.169859</td>\n",
       "      <td>16685.149802</td>\n",
       "      <td>0.0</td>\n",
       "      <td>230.510419</td>\n",
       "      <td>134.423657</td>\n",
       "      <td>0.0</td>\n",
       "      <td>...</td>\n",
       "      <td>0.20</td>\n",
       "      <td>0.08</td>\n",
       "      <td>0.64</td>\n",
       "      <td>5.96</td>\n",
       "      <td>NaN</td>\n",
       "      <td>7.0</td>\n",
       "      <td>True</td>\n",
       "      <td>NaN</td>\n",
       "      <td>0.029333</td>\n",
       "      <td>36.667727</td>\n",
       "    </tr>\n",
       "    <tr>\n",
       "      <th>800</th>\n",
       "      <td>pW2</td>\n",
       "      <td>8719</td>\n",
       "      <td>2453683.5</td>\n",
       "      <td>3927.831431</td>\n",
       "      <td>4081.845650</td>\n",
       "      <td>9609.351494</td>\n",
       "      <td>0.0</td>\n",
       "      <td>3891.882752</td>\n",
       "      <td>12.109871</td>\n",
       "      <td>0.0</td>\n",
       "      <td>...</td>\n",
       "      <td>0.20</td>\n",
       "      <td>0.08</td>\n",
       "      <td>0.64</td>\n",
       "      <td>5.96</td>\n",
       "      <td>NaN</td>\n",
       "      <td>7.0</td>\n",
       "      <td>True</td>\n",
       "      <td>NaN</td>\n",
       "      <td>0.029333</td>\n",
       "      <td>36.667727</td>\n",
       "    </tr>\n",
       "  </tbody>\n",
       "</table>\n",
       "<p>801 rows × 161 columns</p>\n",
       "</div>"
      ],
      "text/plain": [
       "    feat_name  obj_id       time   feat_start     feat_end           vel  \\\n",
       "0         pW6   19128  2454387.5  5630.787447  5932.631261   8144.168668   \n",
       "1         pW2    2017  2453636.5  3908.025238  4040.182181           NaN   \n",
       "2         pW1    2017  2453636.5  3615.136877  3908.025238  13865.174056   \n",
       "3         pW2   19128  2454387.5  3942.640340  4073.335600   8793.661154   \n",
       "4         pW1    2689  2453637.5  3657.035407  3918.106397  11820.961436   \n",
       "..        ...     ...        ...          ...          ...           ...   \n",
       "796       pW7    2165  2453641.5  5919.931260  6572.577243   9137.197106   \n",
       "797       pW1   19968  2454406.5  3507.901777  3921.776287  17654.228010   \n",
       "798       pW3    8719  2453683.5  4084.014864  4480.981091  14043.481108   \n",
       "799       pW1    8719  2453683.5  3552.557347  3932.169859  16685.149802   \n",
       "800       pW2    8719  2453683.5  3927.831431  4081.845650   9609.351494   \n",
       "\n",
       "     vel_err  vel_samperr         pew  pew_err  ...  agePEGASE  ageloPEGASE  \\\n",
       "0        0.0   341.659397   16.352920      0.0  ...        NaN          NaN   \n",
       "1        0.0          NaN   17.092118      0.0  ...       1.25         1.08   \n",
       "2        0.0   323.138916   52.658139      0.0  ...       1.25         1.08   \n",
       "3        0.0   735.823388    8.520702      0.0  ...        NaN          NaN   \n",
       "4        0.0   443.806031  103.331980      0.0  ...       5.58         4.75   \n",
       "..       ...          ...         ...      ...  ...        ...          ...   \n",
       "796      0.0   241.346074  209.514632      0.0  ...       0.86         0.03   \n",
       "797      0.0    76.274254  158.092375      0.0  ...       2.41         2.41   \n",
       "798      0.0   229.733128   70.137655      0.0  ...       0.20         0.08   \n",
       "799      0.0   230.510419  134.423657      0.0  ...       0.20         0.08   \n",
       "800      0.0  3891.882752   12.109871      0.0  ...       0.20         0.08   \n",
       "\n",
       "     agehiPEGASE  minchi2PEGASE  Notes  delta_t  is_peak  branch_type  \\\n",
       "0            NaN            NaN    NaN      0.1     True           BL   \n",
       "1           1.39           0.14    NaN      0.1     True           SS   \n",
       "2           1.39           0.14    NaN      0.1     True           SS   \n",
       "3            NaN            NaN    NaN      0.1     True           BL   \n",
       "4           9.70           6.98    NaN      0.1     True          NaN   \n",
       "..           ...            ...    ...      ...      ...          ...   \n",
       "796         4.07           8.78    NaN      6.7     True           CL   \n",
       "797         2.72          61.46    NaN      6.8     True           SS   \n",
       "798         0.64           5.96    NaN      7.0     True          NaN   \n",
       "799         0.64           5.96    NaN      7.0     True          NaN   \n",
       "800         0.64           5.96    NaN      7.0     True          NaN   \n",
       "\n",
       "       arcmin        kpc  \n",
       "0         NaN        NaN  \n",
       "1    0.034500  43.077351  \n",
       "2    0.034500  43.077351  \n",
       "3         NaN        NaN  \n",
       "4    0.049833  62.012352  \n",
       "..        ...        ...  \n",
       "796  0.012000  15.057214  \n",
       "797  0.027500  34.389803  \n",
       "798  0.029333  36.667727  \n",
       "799  0.029333  36.667727  \n",
       "800  0.029333  36.667727  \n",
       "\n",
       "[801 rows x 161 columns]"
      ]
     },
     "execution_count": 4,
     "metadata": {},
     "output_type": "execute_result"
    }
   ],
   "source": [
    "sdss_combined = pd.read_csv('../results/sdss_combined.csv')\n",
    "sdss_combined\n"
   ]
  },
  {
   "cell_type": "code",
   "execution_count": null,
   "metadata": {},
   "outputs": [],
   "source": [
    "branch_outliers = [10449, 16021, 1371, 6773, 7147, 16099, 16281, 18375, 18697, 21502]\n",
    "redshift_outliers = [16280, 3901, 17825, 2330, 1580, 15369, 13072, 5737, 5994, 16287,\n",
    "                     6422, 6933, 16333]\n",
    "hostmass_outliers = [16280, 3901, 2330, 1580, 15369, 6422, 13072, 16333]\n",
    "sfr_outliers = [1580, 1253, 20350, 16280, 16333]"
   ]
  },
  {
   "cell_type": "code",
   "execution_count": null,
   "metadata": {},
   "outputs": [],
   "source": [
    "def remove_outliers(outliers, df):\n",
    "    \"\"\"removes outliers from a dataframe\n",
    "\n",
    "    Args:\n",
    "        outliers (list): list of int describing object IDs that are outliers\n",
    "        df (df): dataframe the outliers are to be removed from\n",
    "\n",
    "    Returns:\n",
    "        df (df): inputted dataframe without outliers\n",
    "    \"\"\"\n",
    "    for outlier in outliers:\n",
    "        for obj in df['obj_id']:\n",
    "            if obj == outlier:\n",
    "                #breakpoint()\n",
    "                i = df.loc[df['obj_id'] == obj].index[0]\n",
    "                df = df.drop(i)\n",
    "            else:\n",
    "                continue\n",
    "    return df"
   ]
  },
  {
   "cell_type": "code",
   "execution_count": null,
   "metadata": {
    "scrolled": false
   },
   "outputs": [],
   "source": [
    "no_branch_out = remove_outliers(branch_outliers, sdss_combined)\n",
    "no_zCMB_out = remove_outliers(redshift_outliers, sdss_combined)\n",
    "no_mass_out = remove_outliers(hostmass_outliers, sdss_combined)\n",
    "no_sfr_out = remove_outliers(sfr_outliers, sdss_combined)\n",
    "\n",
    "no_out = remove_outliers(branch_outliers, sdss_combined)\n",
    "no_out = remove_outliers(redshift_outliers, no_out)\n",
    "no_out = remove_outliers(hostmass_outliers, no_out)\n",
    "no_out = remove_outliers(sfr_outliers, no_out)"
   ]
  },
  {
   "cell_type": "markdown",
   "metadata": {},
   "source": [
    "### creating indexed dataframes of binned data by median"
   ]
  },
  {
   "cell_type": "code",
   "execution_count": null,
   "metadata": {},
   "outputs": [],
   "source": [
    "def feat_hist(df):\n",
    "    ''' breaks up a df by feature\n",
    "    \n",
    "    Args:\n",
    "        df:    (df) df we want to divide\n",
    "    \n",
    "    Returns: \n",
    "        hist_list:   (list) list of data frames for individual features\n",
    "    '''\n",
    "    \n",
    "    hist_list = []\n",
    "    for i in range(1,9):\n",
    "        new_hist = df[df['feat_name'] == f'pW{i}']\n",
    "        hist_list.append(new_hist)\n",
    "    return hist_list"
   ]
  },
  {
   "cell_type": "code",
   "execution_count": null,
   "metadata": {},
   "outputs": [],
   "source": [
    "def create_high_low(df):\n",
    "    \"\"\"creates binned high and low data for histograms (binned by median of host gal prop)\n",
    "\n",
    "    Args:\n",
    "        df (df): dataframe of data\n",
    "\n",
    "    Returns:\n",
    "        high_zCMB: (df) high redshift data\n",
    "        low_zCMB: (df) low redshift data\n",
    "        high_logMass: (df) high mass data\n",
    "        low_logMass: (df) low mass data\n",
    "        high_logSSFR: (df) high SFR data\n",
    "        low_logSSFR: (df) low SFR data\n",
    "    \"\"\"\n",
    "    zCMB = df['zCMB'].dropna()\n",
    "    logMass = df['logMassFSPS'].dropna()\n",
    "    logSSFR = df['logSSFRFSPS'].dropna()\n",
    "\n",
    "    med_zCMB = np.median(zCMB)\n",
    "    med_logMass = 10\n",
    "    med_logSSFR = np.median(logSSFR)\n",
    "\n",
    "    high_zCMB = df[df['zCMB'] > med_zCMB]\n",
    "    low_zCMB = df[df['zCMB'] <= med_zCMB]\n",
    "    high_logMass = df[df['logMassFSPS'] > med_logMass]\n",
    "    low_logMass = df[df['logMassFSPS'] <= med_logMass]\n",
    "    high_logSSFR = df[df['logSSFRFSPS'] > med_logSSFR]\n",
    "    low_logSSFR = df[df['logSSFRFSPS'] <= med_logSSFR]\n",
    "    \n",
    "    high_zCMB = feat_hist(high_zCMB)\n",
    "    low_zCMB = feat_hist(low_zCMB)\n",
    "    high_logMass = feat_hist(high_logMass)\n",
    "    low_logMass = feat_hist(low_logMass)\n",
    "    high_logSSFR = feat_hist(high_logSSFR)\n",
    "    low_logSSFR = feat_hist(low_logSSFR)\n",
    "\n",
    "    high_zCMB = high_zCMB[:-1]\n",
    "    low_zCMB = low_zCMB[:-1]\n",
    "    high_logMass = high_logMass[:-1]\n",
    "    low_logMass = low_logMass[:-1]\n",
    "    high_logSSFR = high_logSSFR[:-1]\n",
    "    low_logSSFR = low_logSSFR[:-1]\n",
    "    \n",
    "    return high_zCMB, low_zCMB, high_logMass, low_logMass, high_logSSFR, low_logSSFR"
   ]
  },
  {
   "cell_type": "code",
   "execution_count": null,
   "metadata": {},
   "outputs": [],
   "source": [
    "# all data\n",
    "high_zCMB, low_zCMB, high_logMass, low_logMass, high_logSSFR, low_logSSFR = create_high_low(sdss_combined)\n",
    "# no branch outliers\n",
    "high_zCMB_NB, low_zCMB_NB, high_logMass_NB, low_logMass_NB, high_logSSFR_NB, low_logSSFR_NB = create_high_low(no_branch_out)\n",
    "# no redshift outliers\n",
    "high_zCMB_NR, low_zCMB_NR, high_logMass_NR, low_logMass_NR, high_logSSFR_NR, low_logSSFR_NR = create_high_low(no_zCMB_out)\n",
    "# no hostmass outliers\n",
    "high_zCMB_NM, low_zCMB_NM, high_logMass_NM, low_logMass_NM, high_logSSFR_NM, low_logSSFR_NM = create_high_low(no_mass_out)\n",
    "# no sfr outliers\n",
    "high_zCMB_NS, low_zCMB_NS, high_logMass_NS, low_logMass_NS, high_logSSFR_NS, low_logSSFR_NS = create_high_low(no_sfr_out)\n",
    "# no outliers\n",
    "high_zCMB_no, low_zCMB_no, high_logMass_no, low_logMass_no, high_logSSFR_no, low_logSSFR_no = create_high_low(no_out)\n"
   ]
  },
  {
   "cell_type": "markdown",
   "metadata": {},
   "source": [
    "### plotting functions"
   ]
  },
  {
   "cell_type": "code",
   "execution_count": null,
   "metadata": {},
   "outputs": [],
   "source": [
    "def make_hist(high_data, low_data, p_or_v, title, num_bins):\n",
    "    '''creates histograms of binned high and low data (by median)\n",
    "    and anderson-darling p value\n",
    "    \n",
    "    Args:\n",
    "        high_data: (df) high binned data to plot\n",
    "        low_data:  (df) low binned data to plot\n",
    "        p_or_v:    (string) 'pew' or 'vel'\n",
    "        title:     (string) title of histograms\n",
    "        num_bins:  (int) number of bins\n",
    "    '''\n",
    "    \n",
    "    fig, axes = plt.subplots(4, 2, figsize=(15,20))\n",
    "    fig.suptitle(title, size = 20)\n",
    "    \n",
    "    for i, j, ax in zip(high_data, low_data, axes.flatten()):\n",
    "        anderson = stats.anderson_ksamp([i[p_or_v], j[p_or_v]]).significance_level\n",
    "        feat_alias = feature_alias[j.feat_name.iloc[0]]\n",
    "        \n",
    "        ax.hist(i[p_or_v], label = f'high ({len(i)})', bins = num_bins)\n",
    "        ax.hist(j[p_or_v], histtype='step', hatch='//', linewidth=2, label = f'low ({len(j)})', bins = num_bins)\n",
    "        ax.set_xlabel(p_or_v)\n",
    "        ax.set_ylabel('number of supernovae')\n",
    "        ax.set_title(f'{feat_alias} (p = {anderson:.3f})', loc = 'left')\n",
    "        ax.legend()\n",
    "\n",
    "    plt.show()"
   ]
  },
  {
   "cell_type": "code",
   "execution_count": null,
   "metadata": {},
   "outputs": [],
   "source": [
    "def anderson_df(highdata, lowdata, highdata_no, lowdata_no):\n",
    "    ''' creates dataframe of p values of data with outliers and data without outliers to compare\n",
    "    \n",
    "    Args:\n",
    "        high_data: (df) high binned data with outliers\n",
    "        low_data:  (df) low binned data with outliers\n",
    "        high_data_no: (df) high binned data without outliers\n",
    "        low_data_no:  (df) low binned data without outliers\n",
    "    \n",
    "    Returns: \n",
    "        df: (df) dataframe of p values of data with outliers and data without outliers to compare\n",
    "    '''\n",
    "    p_data = []\n",
    "    p_data_no = []\n",
    "    v_data = []\n",
    "    v_data_no = []\n",
    "    features = ['Ca ii H&K','Si ii λ4130', 'Mg ii, Fe ii','Fe ii, Si ii',\n",
    "                'S ii λ5449, λ5622','Si ii λ5972','Si ii λ6355']\n",
    "    for i, j in zip(highdata, lowdata):\n",
    "        p_anderson = stats.anderson_ksamp([i['pew'], j['pew']]).significance_level\n",
    "        v_anderson = stats.anderson_ksamp([i['vel'], j['vel']]).significance_level\n",
    "        p_data.append(p_anderson)\n",
    "        v_data.append(v_anderson)\n",
    "    for i, j in zip(highdata_no, lowdata_no):\n",
    "        p_anderson = stats.anderson_ksamp([i['pew'], j['pew']]).significance_level\n",
    "        v_anderson = stats.anderson_ksamp([i['vel'], j['vel']]).significance_level\n",
    "        p_data_no.append(p_anderson)\n",
    "        v_data_no.append(v_anderson)\n",
    "    df = pd.DataFrame(list(zip(features, p_data, p_data_no, v_data, v_data_no)),\n",
    "                      columns = ['feature', 'pew_p_val', 'NO_pew_p_val',\n",
    "                                 'vel_p_val', 'NO_vel_p_val'])\n",
    "    return df"
   ]
  },
  {
   "cell_type": "code",
   "execution_count": null,
   "metadata": {},
   "outputs": [],
   "source": [
    "def make_p_plot(df, p_or_v, prop):\n",
    "    '''creates a plot of p values for different cutoffs instead of the median \n",
    "    for each feature\n",
    "    \n",
    "    Args:\n",
    "        df:      (df) sdss_combined\n",
    "        p_or_v:  (string) pew or vel\n",
    "        prop:    (string) name of column of property we're comparing \n",
    "    '''\n",
    "    \n",
    "    cut = []\n",
    "    p = [[], [], [], [], [], [], []]\n",
    "    color_wheel = ['#d3cab9', '#62a9c7', '#102652', '#4e7692', '#151517', 'teal', 'slategrey']\n",
    "    first_q, *_ = df[prop].quantile([0.25])\n",
    "    third_q, *_ = df[prop].quantile([0.75])\n",
    "    myrange = np.arange(first_q, third_q, .0005)\n",
    "    features = ['Ca ii H&K','Si ii λ4130', 'Mg ii, Fe ii','Fe ii, Si ii',\n",
    "                'S ii λ5449, λ5622','Si ii λ5972','Si ii λ6355']\n",
    "    for cutoff in myrange:\n",
    "        high = df[df[prop] > cutoff]\n",
    "        ihigh = feat_hist(high)\n",
    "        ihigh = ihigh[:-1]\n",
    "        low = df[df[prop] < cutoff]\n",
    "        ilow = feat_hist(low)\n",
    "        ilow = ilow[:-1]\n",
    "        count = 0\n",
    "        cut.append(cutoff)\n",
    "        for i, j in zip(ihigh, ilow):\n",
    "            anderson = stats.anderson_ksamp([i[p_or_v], j[p_or_v]]).significance_level\n",
    "            p[count].append(anderson)\n",
    "            count += 1\n",
    "    for a, color, feat in zip(range(0,7), color_wheel, features):\n",
    "        plt.plot(cut, p[a], '-ok', linewidth = 0.75, markersize=3, color = color, label = feat)\n",
    "    plt.title(f'anderson darling p value vs. cutoff for {prop}')\n",
    "    plt.xlabel('cutoff')\n",
    "    plt.ylabel('p value')\n",
    "    plt.legend(loc='center left', bbox_to_anchor=(1, 0.5))\n",
    "    plt.show()"
   ]
  },
  {
   "cell_type": "markdown",
   "metadata": {},
   "source": [
    "# low z high z"
   ]
  },
  {
   "cell_type": "code",
   "execution_count": null,
   "metadata": {},
   "outputs": [],
   "source": [
    "zCMB_p_comparison = anderson_df(high_zCMB, low_zCMB, high_zCMB_no, low_zCMB_no)\n",
    "zCMB_p_comparison"
   ]
  },
  {
   "cell_type": "code",
   "execution_count": null,
   "metadata": {
    "scrolled": true
   },
   "outputs": [],
   "source": [
    "make_hist(high_zCMB, low_zCMB, 'pew', 'pew zCMB', 10)"
   ]
  },
  {
   "cell_type": "code",
   "execution_count": null,
   "metadata": {
    "scrolled": true
   },
   "outputs": [],
   "source": [
    "make_hist(high_zCMB_no, low_zCMB_no, 'pew', 'pew zCMB no outliers', 10)"
   ]
  },
  {
   "cell_type": "code",
   "execution_count": null,
   "metadata": {},
   "outputs": [],
   "source": [
    "make_p_plot(sdss_combined, 'pew', 'zCMB')"
   ]
  },
  {
   "cell_type": "code",
   "execution_count": null,
   "metadata": {
    "scrolled": true
   },
   "outputs": [],
   "source": [
    "make_hist(high_zCMB, low_zCMB, 'vel', 'vel zCMB', 10)"
   ]
  },
  {
   "cell_type": "code",
   "execution_count": null,
   "metadata": {
    "scrolled": true
   },
   "outputs": [],
   "source": [
    "make_hist(high_zCMB_no, low_zCMB_no, 'vel', 'vel zCMB no outliers', 10)"
   ]
  },
  {
   "cell_type": "code",
   "execution_count": null,
   "metadata": {},
   "outputs": [],
   "source": [
    "make_p_plot(sdss_combined, 'vel', 'zCMB')"
   ]
  },
  {
   "cell_type": "markdown",
   "metadata": {},
   "source": [
    "# low mass high mass"
   ]
  },
  {
   "cell_type": "code",
   "execution_count": null,
   "metadata": {},
   "outputs": [],
   "source": [
    "logMass_p_comparison = anderson_df(high_logMass, low_logMass, high_logMass_no, low_logMass_no)\n",
    "logMass_p_comparison"
   ]
  },
  {
   "cell_type": "code",
   "execution_count": null,
   "metadata": {
    "scrolled": true
   },
   "outputs": [],
   "source": [
    "make_hist(high_logMass, low_logMass, 'pew', 'pew logMass', 10)"
   ]
  },
  {
   "cell_type": "code",
   "execution_count": null,
   "metadata": {
    "scrolled": true
   },
   "outputs": [],
   "source": [
    "make_hist(high_logMass_no, low_logMass_no, 'pew', 'pew logMass no outliers', 10)"
   ]
  },
  {
   "cell_type": "code",
   "execution_count": null,
   "metadata": {
    "scrolled": false
   },
   "outputs": [],
   "source": [
    "make_p_plot(sdss_combined, 'pew', 'logMassFSPS')"
   ]
  },
  {
   "cell_type": "code",
   "execution_count": null,
   "metadata": {
    "scrolled": true
   },
   "outputs": [],
   "source": [
    "make_hist(high_logMass, low_logMass, 'vel', 'vel logMass', 10)"
   ]
  },
  {
   "cell_type": "code",
   "execution_count": null,
   "metadata": {
    "scrolled": true
   },
   "outputs": [],
   "source": [
    "make_hist(high_logMass_no, low_logMass_no, 'vel', 'vel logMass no outliers', 10)"
   ]
  },
  {
   "cell_type": "code",
   "execution_count": null,
   "metadata": {},
   "outputs": [],
   "source": [
    "make_p_plot(sdss_combined, 'vel', 'logMassFSPS')"
   ]
  },
  {
   "cell_type": "markdown",
   "metadata": {},
   "source": [
    "# low SFR high SFR"
   ]
  },
  {
   "cell_type": "code",
   "execution_count": null,
   "metadata": {},
   "outputs": [],
   "source": [
    "SSFR_p_comparison = anderson_df(high_logSSFR, low_logSSFR, high_logSSFR_no, low_logSSFR_no)\n",
    "SSFR_p_comparison"
   ]
  },
  {
   "cell_type": "code",
   "execution_count": null,
   "metadata": {
    "scrolled": true
   },
   "outputs": [],
   "source": [
    "make_hist(high_logSSFR, low_logSSFR, 'pew', 'pew logSSFR', 10)"
   ]
  },
  {
   "cell_type": "code",
   "execution_count": null,
   "metadata": {
    "scrolled": true
   },
   "outputs": [],
   "source": [
    "make_hist(high_logSSFR_no, low_logSSFR_no, 'pew', 'pew logSSFR no outliers', 10)"
   ]
  },
  {
   "cell_type": "code",
   "execution_count": null,
   "metadata": {},
   "outputs": [],
   "source": [
    "make_p_plot(sdss_combined, 'pew', 'logSSFRFSPS')"
   ]
  },
  {
   "cell_type": "code",
   "execution_count": null,
   "metadata": {
    "scrolled": true
   },
   "outputs": [],
   "source": [
    "make_hist(high_logSSFR, low_logSSFR, 'vel', 'vel logSSFR', 10)"
   ]
  },
  {
   "cell_type": "code",
   "execution_count": null,
   "metadata": {
    "scrolled": true
   },
   "outputs": [],
   "source": [
    "make_hist(high_logSSFR_no, low_logSSFR_no, 'vel', 'vel logSSFR no outliers', 10)"
   ]
  },
  {
   "cell_type": "code",
   "execution_count": null,
   "metadata": {},
   "outputs": [],
   "source": [
    "make_p_plot(sdss_combined, 'vel', 'logSSFRFSPS')"
   ]
  },
  {
   "cell_type": "code",
   "execution_count": null,
   "metadata": {},
   "outputs": [],
   "source": []
  }
 ],
 "metadata": {
  "kernelspec": {
   "display_name": "Python 3 (ipykernel)",
   "language": "python",
   "name": "python3"
  },
  "language_info": {
   "codemirror_mode": {
    "name": "ipython",
    "version": 3
   },
   "file_extension": ".py",
   "mimetype": "text/x-python",
   "name": "python",
   "nbconvert_exporter": "python",
   "pygments_lexer": "ipython3",
   "version": "3.7.11"
  }
 },
 "nbformat": 4,
 "nbformat_minor": 2
}
