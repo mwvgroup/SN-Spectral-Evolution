{
 "cells": [
  {
   "cell_type": "code",
   "execution_count": null,
   "metadata": {},
   "outputs": [],
   "source": [
    "import numpy as np\n",
    "import matplotlib.pyplot as plt\n",
    "import pandas as pd"
   ]
  },
  {
   "cell_type": "code",
   "execution_count": null,
   "metadata": {},
   "outputs": [],
   "source": [
    "ella = pd.read_csv('ella_csp.csv')\n",
    "ella"
   ]
  },
  {
   "cell_type": "code",
   "execution_count": null,
   "metadata": {},
   "outputs": [],
   "source": [
    "emily = pd.read_csv('emily_csp.csv')\n",
    "emily"
   ]
  },
  {
   "cell_type": "code",
   "execution_count": null,
   "metadata": {},
   "outputs": [],
   "source": [
    "#can join the table on multiple values\n",
    "ella_2 = ella.set_index(['obj_id', 'time', 'feat_name'])\n",
    "#do this with my results and emily and anishs w inner join\n",
    "emily_2 = emily.set_index(['obj_id', 'time', 'feat_name'])\n",
    "combined = ella_2.join(emily_2, lsuffix = \"ella\", rsuffix = 'emily')\n",
    "#might want to use dataframe.dropna which will drop rows w nans, can also make it only drop rows w nans in a certain col\n",
    "#subset = [list of column names you care about]\n",
    "final = combined.dropna(subset = ['pewella', 'pewemily'])\n",
    "ella_measure = final['pewella']\n",
    "emily_measure = final['pewemily']\n",
    "combined"
   ]
  },
  {
   "cell_type": "code",
   "execution_count": null,
   "metadata": {},
   "outputs": [],
   "source": [
    "#this graph plots all features which is why it looks so funky\n",
    "x = np.arange(0,500)\n",
    "y = np.arange(0,500)\n",
    "plt.scatter(ella_measure, emily_measure, alpha = .4)\n",
    "plt.xlabel(\"Ella's Measurements\")\n",
    "plt.ylabel(\"Emily's Measurements\")\n",
    "plt.title(\"Emily vs. Ella PEW Measurements\")\n",
    "plt.axis('square')\n",
    "plt.plot(x, y, 'black', linestyle = '--')\n",
    "plt.xlim(xmin=0)\n",
    "plt.ylim(ymin=0)"
   ]
  },
  {
   "cell_type": "code",
   "execution_count": null,
   "metadata": {},
   "outputs": [],
   "source": []
  },
  {
   "cell_type": "code",
   "execution_count": null,
   "metadata": {},
   "outputs": [],
   "source": [
    "ella_3 = ella.set_index(['obj_id', 'time', 'feat_name'])\n",
    "#do this with my results and emily and anishs w inner join\n",
    "emily_3 = emily.set_index(['obj_id', 'time', 'feat_name'])\n",
    "combined2 = ella_3.join(emily_3, lsuffix = \"ella\", rsuffix = 'emily')\n",
    "combined2"
   ]
  },
  {
   "cell_type": "code",
   "execution_count": null,
   "metadata": {},
   "outputs": [],
   "source": [
    "ids = ella['obj_id'] + emily['obj_id']\n",
    "ids"
   ]
  },
  {
   "cell_type": "code",
   "execution_count": null,
   "metadata": {},
   "outputs": [],
   "source": [
    "ella = pd.DataFrame(ella)\n",
    "emily = pd.DataFrame(emily)"
   ]
  },
  {
   "cell_type": "code",
   "execution_count": null,
   "metadata": {},
   "outputs": [],
   "source": [
    "#i am trying to create two lists of the unique object ids and the unique feature names so that i can edit each table to only\n",
    "#have rows with the same obj_id and feat_name. i think that the only issue with this code is the method i am using\n",
    "#to make the lists of only shared ids and feat names"
   ]
  },
  {
   "cell_type": "code",
   "execution_count": null,
   "metadata": {},
   "outputs": [],
   "source": [
    "names = pd.concat([ella['obj_id'], emily['obj_id']])\n",
    "names"
   ]
  },
  {
   "cell_type": "code",
   "execution_count": null,
   "metadata": {},
   "outputs": [],
   "source": [
    "feats = pd.concat([ella['feat_name'], emily['feat_name']], keys = ['x', 'y'])\n",
    "feats"
   ]
  },
  {
   "cell_type": "code",
   "execution_count": null,
   "metadata": {},
   "outputs": [],
   "source": [
    "name_filter = ella.loc[ella['obj_id'].isin(names)]\n",
    "feat_filter = name_filter.loc[name_filter['feat_name'].isin(feats)]\n",
    "feat_filter"
   ]
  },
  {
   "cell_type": "code",
   "execution_count": null,
   "metadata": {},
   "outputs": [],
   "source": [
    "em_name_filter = emily.loc[emily['obj_id'].isin(names)]\n",
    "em_feat_filter = em_name_filter.loc[em_name_filter['feat_name'].isin(feats)]\n",
    "em_feat_filter"
   ]
  },
  {
   "cell_type": "code",
   "execution_count": null,
   "metadata": {},
   "outputs": [],
   "source": [
    "em_pew = em_feat_filter['pew']\n",
    "el_pew = feat_filter['pew']\n",
    "el_pew\n"
   ]
  },
  {
   "cell_type": "code",
   "execution_count": null,
   "metadata": {},
   "outputs": [],
   "source": [
    "#im pretty sure the lists i used above didnt actually take out repeats so im gonna try another way to create the lists\n",
    "names = pd.merge(ella['obj_id'], emily['obj_id'], how = 'inner')\n",
    "names\n",
    "#obviously that didnt work because the list has 2300 rows"
   ]
  },
  {
   "cell_type": "code",
   "execution_count": null,
   "metadata": {
    "jupyter": {
     "outputs_hidden": true
    }
   },
   "outputs": [],
   "source": [
    "#trying another way to create the lists\n",
    "pd.merge(ella, emily, indicator = True)"
   ]
  },
  {
   "cell_type": "code",
   "execution_count": null,
   "metadata": {},
   "outputs": [],
   "source": [
    "#another way\n",
    "ella_ids = pd.Series(ella['obj_id'])\n",
    "emily_ids = pd.Series(emily['obj_id'])"
   ]
  },
  {
   "cell_type": "code",
   "execution_count": null,
   "metadata": {},
   "outputs": [],
   "source": [
    "pd.merge(ella_ids, emily_ids, indicator = True)"
   ]
  },
  {
   "cell_type": "code",
   "execution_count": null,
   "metadata": {
    "jupyter": {
     "outputs_hidden": true
    }
   },
   "outputs": [],
   "source": [
    "#trying to use the loc message but i get a key error\n",
    "new_em = emily_ids.loc[ella_ids]"
   ]
  },
  {
   "cell_type": "code",
   "execution_count": null,
   "metadata": {},
   "outputs": [],
   "source": [
    "#here i am trying to create the list of just the ids shared by both with for loops\n",
    "obj_data = []\n",
    "for obj_id in range(len(emily_ids)):\n",
    "    if not emily_ids[obj_id] in ella_ids:\n",
    "        obj_data = obj_data\n",
    "    obj_data = obj_data + [emily_ids[obj_id]]\n",
    "obj_data\n",
    "len(obj_data)"
   ]
  },
  {
   "cell_type": "code",
   "execution_count": null,
   "metadata": {},
   "outputs": [],
   "source": [
    "#assuming that this list is correct im going to try to do the same thing for feat name\n",
    "ella_names = pd.Series(ella['feat_name'])\n",
    "emily_names = pd.Series(emily['feat_name'])\n",
    "obj_names = []\n",
    "for obj_name in range(len(emily_names)):\n",
    "    if not emily_names[obj_name] in ella_names:\n",
    "        obj_names = obj_names\n",
    "    obj_names = obj_names + [emily_names[obj_name]]\n",
    "obj_names\n",
    "len(obj_names)"
   ]
  },
  {
   "cell_type": "code",
   "execution_count": null,
   "metadata": {},
   "outputs": [],
   "source": [
    "#hopefully both of these lists are doing what i want them to, im going to try to edit the tables now\n",
    "name_filter2 = ella.loc[ella['obj_id'].isin(obj_data)]\n",
    "feat_filter2 = name_filter2.loc[name_filter2['feat_name'].isin(obj_names)]\n",
    "feat_filter2"
   ]
  },
  {
   "cell_type": "code",
   "execution_count": null,
   "metadata": {},
   "outputs": [],
   "source": [
    "em_name_filter2 = emily.loc[emily['obj_id'].isin(obj_data)]\n",
    "em_feat_filter2 = name_filter2.loc[name_filter2['feat_name'].isin(obj_names)]\n",
    "em_feat_filter2\n",
    "#both of these tables are the same.... i dont know why that happened"
   ]
  },
  {
   "cell_type": "code",
   "execution_count": null,
   "metadata": {},
   "outputs": [],
   "source": []
  }
 ],
 "metadata": {
  "kernelspec": {
   "display_name": "Python 3",
   "language": "python",
   "name": "python3"
  },
  "language_info": {
   "codemirror_mode": {
    "name": "ipython",
    "version": 3
   },
   "file_extension": ".py",
   "mimetype": "text/x-python",
   "name": "python",
   "nbconvert_exporter": "python",
   "pygments_lexer": "ipython3",
   "version": "3.8.3"
  }
 },
 "nbformat": 4,
 "nbformat_minor": 4
}
