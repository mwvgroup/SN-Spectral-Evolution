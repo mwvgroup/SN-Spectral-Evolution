{
 "cells": [
  {
   "cell_type": "code",
   "execution_count": 1,
   "metadata": {},
   "outputs": [],
   "source": [
    "import pandas as pd\n",
    "import matplotlib.pyplot as plt\n",
    "import numpy as np\n",
    "import sndata\n",
    "from sndata.sdss import Sako18Spec\n",
    "sako = Sako18Spec()"
   ]
  },
  {
   "cell_type": "code",
   "execution_count": 2,
   "metadata": {},
   "outputs": [],
   "source": [
    "sako.download_module_data()"
   ]
  },
  {
   "cell_type": "code",
   "execution_count": 3,
   "metadata": {},
   "outputs": [
    {
     "data": {
      "text/html": [
       "<div>\n",
       "<style scoped>\n",
       "    .dataframe tbody tr th:only-of-type {\n",
       "        vertical-align: middle;\n",
       "    }\n",
       "\n",
       "    .dataframe tbody tr th {\n",
       "        vertical-align: top;\n",
       "    }\n",
       "\n",
       "    .dataframe thead th {\n",
       "        text-align: right;\n",
       "    }\n",
       "</style>\n",
       "<table border=\"1\" class=\"dataframe\">\n",
       "  <thead>\n",
       "    <tr style=\"text-align: right;\">\n",
       "      <th></th>\n",
       "      <th>obj_id</th>\n",
       "      <th>time</th>\n",
       "      <th>feat_name</th>\n",
       "      <th>feat_start</th>\n",
       "      <th>feat_end</th>\n",
       "      <th>vel</th>\n",
       "      <th>vel_err</th>\n",
       "      <th>vel_samperr</th>\n",
       "      <th>pew</th>\n",
       "      <th>pew_err</th>\n",
       "      <th>pew_samperr</th>\n",
       "      <th>area</th>\n",
       "      <th>area_err</th>\n",
       "      <th>area_samperr</th>\n",
       "      <th>spec_flag</th>\n",
       "      <th>feat_flag</th>\n",
       "      <th>notes</th>\n",
       "    </tr>\n",
       "  </thead>\n",
       "  <tbody>\n",
       "    <tr>\n",
       "      <td>0</td>\n",
       "      <td>739</td>\n",
       "      <td>2453622.5</td>\n",
       "      <td>pW1</td>\n",
       "      <td>3671.822467</td>\n",
       "      <td>3919.173035</td>\n",
       "      <td>11423.931678</td>\n",
       "      <td>0.0</td>\n",
       "      <td>133.032825</td>\n",
       "      <td>58.548298</td>\n",
       "      <td>0.0</td>\n",
       "      <td>3.181248</td>\n",
       "      <td>3.360168e-15</td>\n",
       "      <td>0.0</td>\n",
       "      <td>2.452360e-16</td>\n",
       "      <td>0</td>\n",
       "      <td>0</td>\n",
       "      <td>NaN</td>\n",
       "    </tr>\n",
       "    <tr>\n",
       "      <td>1</td>\n",
       "      <td>739</td>\n",
       "      <td>2453622.5</td>\n",
       "      <td>pW3</td>\n",
       "      <td>3919.173035</td>\n",
       "      <td>4613.067992</td>\n",
       "      <td>NaN</td>\n",
       "      <td>0.0</td>\n",
       "      <td>NaN</td>\n",
       "      <td>142.670444</td>\n",
       "      <td>0.0</td>\n",
       "      <td>11.190827</td>\n",
       "      <td>1.231454e-14</td>\n",
       "      <td>0.0</td>\n",
       "      <td>1.070385e-15</td>\n",
       "      <td>0</td>\n",
       "      <td>0</td>\n",
       "      <td>NaN</td>\n",
       "    </tr>\n",
       "    <tr>\n",
       "      <td>2</td>\n",
       "      <td>739</td>\n",
       "      <td>2453622.5</td>\n",
       "      <td>pW4</td>\n",
       "      <td>4613.067992</td>\n",
       "      <td>5302.585063</td>\n",
       "      <td>14126.441955</td>\n",
       "      <td>0.0</td>\n",
       "      <td>215.218064</td>\n",
       "      <td>159.769980</td>\n",
       "      <td>0.0</td>\n",
       "      <td>3.780944</td>\n",
       "      <td>1.593680e-14</td>\n",
       "      <td>0.0</td>\n",
       "      <td>5.054982e-16</td>\n",
       "      <td>0</td>\n",
       "      <td>0</td>\n",
       "      <td>NaN</td>\n",
       "    </tr>\n",
       "    <tr>\n",
       "      <td>3</td>\n",
       "      <td>739</td>\n",
       "      <td>2453622.5</td>\n",
       "      <td>pW5</td>\n",
       "      <td>5302.585063</td>\n",
       "      <td>5554.313517</td>\n",
       "      <td>4696.353615</td>\n",
       "      <td>0.0</td>\n",
       "      <td>751.312627</td>\n",
       "      <td>9.621969</td>\n",
       "      <td>0.0</td>\n",
       "      <td>2.929338</td>\n",
       "      <td>8.345654e-16</td>\n",
       "      <td>0.0</td>\n",
       "      <td>2.614292e-16</td>\n",
       "      <td>0</td>\n",
       "      <td>0</td>\n",
       "      <td>NaN</td>\n",
       "    </tr>\n",
       "    <tr>\n",
       "      <td>4</td>\n",
       "      <td>739</td>\n",
       "      <td>2453622.5</td>\n",
       "      <td>pW6</td>\n",
       "      <td>5554.313517</td>\n",
       "      <td>5847.631891</td>\n",
       "      <td>14164.882385</td>\n",
       "      <td>0.0</td>\n",
       "      <td>217.532693</td>\n",
       "      <td>26.798596</td>\n",
       "      <td>0.0</td>\n",
       "      <td>2.899821</td>\n",
       "      <td>2.198474e-15</td>\n",
       "      <td>0.0</td>\n",
       "      <td>2.623130e-16</td>\n",
       "      <td>0</td>\n",
       "      <td>0</td>\n",
       "      <td>NaN</td>\n",
       "    </tr>\n",
       "  </tbody>\n",
       "</table>\n",
       "</div>"
      ],
      "text/plain": [
       "   obj_id       time feat_name   feat_start     feat_end           vel  \\\n",
       "0     739  2453622.5       pW1  3671.822467  3919.173035  11423.931678   \n",
       "1     739  2453622.5       pW3  3919.173035  4613.067992           NaN   \n",
       "2     739  2453622.5       pW4  4613.067992  5302.585063  14126.441955   \n",
       "3     739  2453622.5       pW5  5302.585063  5554.313517   4696.353615   \n",
       "4     739  2453622.5       pW6  5554.313517  5847.631891  14164.882385   \n",
       "\n",
       "   vel_err  vel_samperr         pew  pew_err  pew_samperr          area  \\\n",
       "0      0.0   133.032825   58.548298      0.0     3.181248  3.360168e-15   \n",
       "1      0.0          NaN  142.670444      0.0    11.190827  1.231454e-14   \n",
       "2      0.0   215.218064  159.769980      0.0     3.780944  1.593680e-14   \n",
       "3      0.0   751.312627    9.621969      0.0     2.929338  8.345654e-16   \n",
       "4      0.0   217.532693   26.798596      0.0     2.899821  2.198474e-15   \n",
       "\n",
       "   area_err  area_samperr  spec_flag  feat_flag  notes  \n",
       "0       0.0  2.452360e-16          0          0    NaN  \n",
       "1       0.0  1.070385e-15          0          0    NaN  \n",
       "2       0.0  5.054982e-16          0          0    NaN  \n",
       "3       0.0  2.614292e-16          0          0    NaN  \n",
       "4       0.0  2.623130e-16          0          0    NaN  "
      ]
     },
     "execution_count": 3,
     "metadata": {},
     "output_type": "execute_result"
    }
   ],
   "source": [
    "data = pd.read_csv('~/Desktop/Research/SN-Spectral-Evolution/results/final_sdss.csv')\n",
    "data.head()"
   ]
  },
  {
   "cell_type": "code",
   "execution_count": 4,
   "metadata": {
    "collapsed": true,
    "jupyter": {
     "outputs_hidden": true
    }
   },
   "outputs": [
    {
     "data": {
      "text/html": [
       "<i>Table length=10258</i>\n",
       "<table id=\"table103574987856\" class=\"table-striped table-bordered table-condensed\">\n",
       "<thead><tr><th>CID</th><th>RA</th><th>DEC</th><th>Nsearchepoch</th><th>IAUName</th><th>Classification</th><th>Peakrmag</th><th>MJDatPeakrmag</th><th>NepochSNR5</th><th>nSNspec</th><th>nGALspec</th><th>zspecHelio</th><th>zspecerrHelio</th><th>objIDHost</th></tr></thead>\n",
       "<thead><tr><th>str21</th><th>float64</th><th>float64</th><th>int64</th><th>str6</th><th>str8</th><th>float64</th><th>float64</th><th>int64</th><th>int64</th><th>int64</th><th>float64</th><th>float64</th><th>int64</th></tr></thead>\n",
       "<tr><td>679</td><td>327.434978</td><td>0.657569</td><td>3</td><td>2005eh</td><td>Unknown</td><td>21.8</td><td>53699.2</td><td>1</td><td>0</td><td>0</td><td>0.124957</td><td>1.7e-05</td><td>1237656238472888902</td></tr>\n",
       "<tr><td>680</td><td>327.555405</td><td>0.842584</td><td>21</td><td>--</td><td>Variable</td><td>21.6</td><td>53685.1</td><td>1</td><td>0</td><td>0</td><td>--</td><td>--</td><td>1237678617403654778</td></tr>\n",
       "<tr><td>682</td><td>331.23947</td><td>0.845158</td><td>2</td><td>--</td><td>Unknown</td><td>21.8</td><td>53656.2</td><td>0</td><td>0</td><td>0</td><td>0.048551</td><td>2.2e-05</td><td>1237678617405227407</td></tr>\n",
       "<tr><td>685</td><td>337.823273</td><td>-0.882037</td><td>14</td><td>--</td><td>pSNII</td><td>21.7</td><td>53656.2</td><td>10</td><td>0</td><td>0</td><td>--</td><td>--</td><td>1237656906345349717</td></tr>\n",
       "<tr><td>688</td><td>343.171604</td><td>-0.962902</td><td>4</td><td>--</td><td>Unknown</td><td>21.4</td><td>53616.3</td><td>5</td><td>0</td><td>0</td><td>0.067866</td><td>1e-05</td><td>1237656906347708594</td></tr>\n",
       "<tr><td>689</td><td>345.314592</td><td>-0.866253</td><td>15</td><td>--</td><td>Variable</td><td>21.3</td><td>53680.2</td><td>15</td><td>0</td><td>0</td><td>--</td><td>--</td><td>1237656906348626518</td></tr>\n",
       "<tr><td>691</td><td>329.729408</td><td>-0.498538</td><td>9</td><td>--</td><td>Unknown</td><td>20.3</td><td>53616.2</td><td>9</td><td>0</td><td>0</td><td>0.130903</td><td>2.1e-05</td><td>1237663542608986381</td></tr>\n",
       "<tr><td>692</td><td>351.071097</td><td>-0.945665</td><td>18</td><td>--</td><td>AGN</td><td>21.2</td><td>53663.2</td><td>15</td><td>0</td><td>0</td><td>0.197275</td><td>3e-05</td><td>1237656906351182046</td></tr>\n",
       "<tr><td>694</td><td>330.154633</td><td>-0.623472</td><td>22</td><td>--</td><td>Unknown</td><td>19.7</td><td>53627.2</td><td>28</td><td>0</td><td>0</td><td>0.127493</td><td>1.7e-05</td><td>1237663542609183155</td></tr>\n",
       "<tr><td>695</td><td>352.963374</td><td>-0.963772</td><td>3</td><td>--</td><td>Variable</td><td>22.7</td><td>53637.3</td><td>0</td><td>0</td><td>0</td><td>0.058267</td><td>9e-06</td><td>1237656906351968456</td></tr>\n",
       "<tr><td>...</td><td>...</td><td>...</td><td>...</td><td>...</td><td>...</td><td>...</td><td>...</td><td>...</td><td>...</td><td>...</td><td>...</td><td>...</td><td>...</td></tr>\n",
       "<tr><td>22182</td><td>320.710709</td><td>0.421637</td><td>2</td><td>2007sm</td><td>SNIa</td><td>20.0</td><td>54433.1</td><td>2</td><td>2</td><td>0</td><td>0.072</td><td>0.005</td><td>--</td></tr>\n",
       "<tr><td>22247</td><td>336.002298</td><td>0.758643</td><td>2</td><td>--</td><td>pSNII</td><td>22.3</td><td>54425.2</td><td>0</td><td>0</td><td>0</td><td>--</td><td>--</td><td>1237663544222352338</td></tr>\n",
       "<tr><td>22248</td><td>336.29071</td><td>0.624113</td><td>3</td><td>--</td><td>Unknown</td><td>20.9</td><td>54431.2</td><td>3</td><td>0</td><td>0</td><td>0.439078</td><td>7e-05</td><td>1237663479796924684</td></tr>\n",
       "<tr><td>22253</td><td>342.956482</td><td>1.106149</td><td>2</td><td>--</td><td>Unknown</td><td>21.1</td><td>54433.2</td><td>2</td><td>0</td><td>0</td><td>--</td><td>--</td><td>--</td></tr>\n",
       "<tr><td>22255</td><td>30.695993</td><td>-0.986579</td><td>2</td><td>--</td><td>Unknown</td><td>20.6</td><td>54433.3</td><td>2</td><td>0</td><td>0</td><td>0.12116</td><td>2.9e-05</td><td>1237657069549977708</td></tr>\n",
       "<tr><td>22256</td><td>46.432743</td><td>-0.986572</td><td>3</td><td>--</td><td>Unknown</td><td>23.6</td><td>54388.5</td><td>0</td><td>0</td><td>0</td><td>0.000105</td><td>1.9e-05</td><td>1237666299480178771</td></tr>\n",
       "<tr><td>22257</td><td>49.655952</td><td>-0.968649</td><td>2</td><td>--</td><td>Unknown</td><td>21.5</td><td>54433.4</td><td>2</td><td>0</td><td>0</td><td>--</td><td>--</td><td>--</td></tr>\n",
       "<tr><td>22258</td><td>331.259428</td><td>-0.503611</td><td>2</td><td>--</td><td>Unknown</td><td>20.7</td><td>54433.2</td><td>2</td><td>0</td><td>0</td><td>--</td><td>--</td><td>1237663542609642556</td></tr>\n",
       "<tr><td>22282</td><td>26.21842</td><td>1.229893</td><td>3</td><td>--</td><td>Unknown</td><td>21.5</td><td>54406.3</td><td>1</td><td>0</td><td>0</td><td>0.059162</td><td>2.1e-05</td><td>1237678617429278863</td></tr>\n",
       "<tr><td>22284</td><td>333.518412</td><td>-0.213183</td><td>2</td><td>2007sn</td><td>SNIa</td><td>20.9</td><td>54433.2</td><td>1</td><td>1</td><td>0</td><td>0.133</td><td>0.005</td><td>1237663478722003391</td></tr>\n",
       "</table>"
      ],
      "text/plain": [
       "<Table length=10258>\n",
       " CID      RA        DEC    ... zspecHelio zspecerrHelio      objIDHost     \n",
       "str21  float64    float64  ...  float64      float64           int64       \n",
       "----- ---------- --------- ... ---------- ------------- -------------------\n",
       "  679 327.434978  0.657569 ...   0.124957       1.7e-05 1237656238472888902\n",
       "  680 327.555405  0.842584 ...         --            -- 1237678617403654778\n",
       "  682  331.23947  0.845158 ...   0.048551       2.2e-05 1237678617405227407\n",
       "  685 337.823273 -0.882037 ...         --            -- 1237656906345349717\n",
       "  688 343.171604 -0.962902 ...   0.067866         1e-05 1237656906347708594\n",
       "  689 345.314592 -0.866253 ...         --            -- 1237656906348626518\n",
       "  691 329.729408 -0.498538 ...   0.130903       2.1e-05 1237663542608986381\n",
       "  692 351.071097 -0.945665 ...   0.197275         3e-05 1237656906351182046\n",
       "  694 330.154633 -0.623472 ...   0.127493       1.7e-05 1237663542609183155\n",
       "  695 352.963374 -0.963772 ...   0.058267         9e-06 1237656906351968456\n",
       "  ...        ...       ... ...        ...           ...                 ...\n",
       "22182 320.710709  0.421637 ...      0.072         0.005                  --\n",
       "22247 336.002298  0.758643 ...         --            -- 1237663544222352338\n",
       "22248  336.29071  0.624113 ...   0.439078         7e-05 1237663479796924684\n",
       "22253 342.956482  1.106149 ...         --            --                  --\n",
       "22255  30.695993 -0.986579 ...    0.12116       2.9e-05 1237657069549977708\n",
       "22256  46.432743 -0.986572 ...   0.000105       1.9e-05 1237666299480178771\n",
       "22257  49.655952 -0.968649 ...         --            --                  --\n",
       "22258 331.259428 -0.503611 ...         --            -- 1237663542609642556\n",
       "22282   26.21842  1.229893 ...   0.059162       2.1e-05 1237678617429278863\n",
       "22284 333.518412 -0.213183 ...      0.133         0.005 1237663478722003391"
      ]
     },
     "execution_count": 4,
     "metadata": {},
     "output_type": "execute_result"
    }
   ],
   "source": [
    "sako.load_table(2)"
   ]
  },
  {
   "cell_type": "code",
   "execution_count": 7,
   "metadata": {},
   "outputs": [
    {
     "data": {
      "text/html": [
       "<i>Table length=1359</i>\n",
       "<table id=\"table103612420624\" class=\"table-striped table-bordered table-condensed\">\n",
       "<thead><tr><th>CID</th><th>SID</th><th>Telescope</th><th>Files</th><th>Date</th><th>Type</th><th>zSN</th><th>zGal</th></tr></thead>\n",
       "<thead><tr><th>str21</th><th>str21</th><th>str8</th><th>str6</th><th>str10</th><th>str6</th><th>float64</th><th>float64</th></tr></thead>\n",
       "<tr><td>701</td><td>2795</td><td>APO</td><td>Gal</td><td>2008-09-02</td><td>Gal</td><td>--</td><td>0.206</td></tr>\n",
       "<tr><td>703</td><td>1963</td><td>NTT</td><td>Gal</td><td>2007-09-21</td><td>Gal</td><td>--</td><td>0.2987</td></tr>\n",
       "<tr><td>722</td><td>58</td><td>APO</td><td>SN,Gal</td><td>2005-09-09</td><td>Ia</td><td>0.087</td><td>0.0859</td></tr>\n",
       "<tr><td>739</td><td>59</td><td>APO</td><td>SN,Gal</td><td>2005-09-09</td><td>Ia</td><td>0.105</td><td>0.1071</td></tr>\n",
       "<tr><td>744</td><td>60</td><td>APO</td><td>SN,Gal</td><td>2005-09-08</td><td>Ia</td><td>0.123</td><td>0.1278</td></tr>\n",
       "<tr><td>762</td><td>61</td><td>APO</td><td>SN,Gal</td><td>2005-09-09</td><td>Ia</td><td>0.189</td><td>0.1908</td></tr>\n",
       "<tr><td>774</td><td>62</td><td>APO</td><td>SN,Gal</td><td>2005-09-09</td><td>Ia</td><td>0.09</td><td>0.0937</td></tr>\n",
       "<tr><td>774</td><td>577</td><td>MDM</td><td>SN</td><td>2005-09-17</td><td>Gal</td><td>--</td><td>0.0933</td></tr>\n",
       "<tr><td>779</td><td>592</td><td>HET</td><td>Gal</td><td>2005-12-29</td><td>Gal</td><td>--</td><td>0.2377</td></tr>\n",
       "<tr><td>841</td><td>2757</td><td>HET</td><td>Gal</td><td>2008-01-06</td><td>Gal</td><td>--</td><td>0.2991</td></tr>\n",
       "<tr><td>...</td><td>...</td><td>...</td><td>...</td><td>...</td><td>...</td><td>...</td><td>...</td></tr>\n",
       "<tr><td>21839</td><td>2716</td><td>NTT</td><td>SN</td><td>2007-12-08</td><td>Ia</td><td>0.089</td><td>0.0935</td></tr>\n",
       "<tr><td>21858</td><td>2999</td><td>APO</td><td>Gal</td><td>2008-10-30</td><td>Gal</td><td>--</td><td>0.2656</td></tr>\n",
       "<tr><td>21861</td><td>2723</td><td>NTT</td><td>SN</td><td>2007-12-07</td><td>Ia</td><td>0.188</td><td>--</td></tr>\n",
       "<tr><td>21898</td><td>2656</td><td>MDM</td><td>SN</td><td>2007-11-25</td><td>Ic</td><td>0.038</td><td>0.0383</td></tr>\n",
       "<tr><td>21898</td><td>2704</td><td>NTT</td><td>SN</td><td>2007-12-07</td><td>Ib</td><td>0.038</td><td>0.0384</td></tr>\n",
       "<tr><td>22073</td><td>2673</td><td>HET</td><td>SN</td><td>2007-12-09</td><td>IIn</td><td>0.235</td><td>0.2311</td></tr>\n",
       "<tr><td>22075</td><td>2661</td><td>MDM</td><td>SN</td><td>2007-11-25</td><td>Ia</td><td>0.117</td><td>0.1278</td></tr>\n",
       "<tr><td>22182</td><td>2690</td><td>NTT</td><td>SN</td><td>2007-12-10</td><td>Ia</td><td>0.076</td><td>--</td></tr>\n",
       "<tr><td>22182</td><td>2699</td><td>WHT</td><td>SN</td><td>2007-12-03</td><td>Ia</td><td>0.072</td><td>--</td></tr>\n",
       "<tr><td>22284</td><td>2735</td><td>NTT</td><td>SN</td><td>2007-12-08</td><td>Ia</td><td>0.136</td><td>--</td></tr>\n",
       "</table>"
      ],
      "text/plain": [
       "<Table length=1359>\n",
       " CID   SID  Telescope Files     Date    Type   zSN     zGal \n",
       "str21 str21    str8    str6    str10    str6 float64 float64\n",
       "----- ----- --------- ------ ---------- ---- ------- -------\n",
       "  701  2795       APO    Gal 2008-09-02  Gal      --   0.206\n",
       "  703  1963       NTT    Gal 2007-09-21  Gal      --  0.2987\n",
       "  722    58       APO SN,Gal 2005-09-09   Ia   0.087  0.0859\n",
       "  739    59       APO SN,Gal 2005-09-09   Ia   0.105  0.1071\n",
       "  744    60       APO SN,Gal 2005-09-08   Ia   0.123  0.1278\n",
       "  762    61       APO SN,Gal 2005-09-09   Ia   0.189  0.1908\n",
       "  774    62       APO SN,Gal 2005-09-09   Ia    0.09  0.0937\n",
       "  774   577       MDM     SN 2005-09-17  Gal      --  0.0933\n",
       "  779   592       HET    Gal 2005-12-29  Gal      --  0.2377\n",
       "  841  2757       HET    Gal 2008-01-06  Gal      --  0.2991\n",
       "  ...   ...       ...    ...        ...  ...     ...     ...\n",
       "21839  2716       NTT     SN 2007-12-08   Ia   0.089  0.0935\n",
       "21858  2999       APO    Gal 2008-10-30  Gal      --  0.2656\n",
       "21861  2723       NTT     SN 2007-12-07   Ia   0.188      --\n",
       "21898  2656       MDM     SN 2007-11-25   Ic   0.038  0.0383\n",
       "21898  2704       NTT     SN 2007-12-07   Ib   0.038  0.0384\n",
       "22073  2673       HET     SN 2007-12-09  IIn   0.235  0.2311\n",
       "22075  2661       MDM     SN 2007-11-25   Ia   0.117  0.1278\n",
       "22182  2690       NTT     SN 2007-12-10   Ia   0.076      --\n",
       "22182  2699       WHT     SN 2007-12-03   Ia   0.072      --\n",
       "22284  2735       NTT     SN 2007-12-08   Ia   0.136      --"
      ]
     },
     "execution_count": 7,
     "metadata": {},
     "output_type": "execute_result"
    }
   ],
   "source": [
    "table9 = sako.load_table(9)\n",
    "table9"
   ]
  },
  {
   "cell_type": "code",
   "execution_count": 40,
   "metadata": {},
   "outputs": [
    {
     "name": "stdout",
     "output_type": "stream",
     "text": [
      "set()\n"
     ]
    }
   ],
   "source": [
    "redshift = table9['zSN']\n",
    "ids = list(table9['CID'])\n",
    "ids_ours = list(data['obj_id'])\n",
    "print(intersection(ids, ids_ours))"
   ]
  },
  {
   "cell_type": "code",
   "execution_count": 24,
   "metadata": {},
   "outputs": [],
   "source": [
    "def intersection(lst1, lst2): \n",
    "    '''\n",
    "    return intersection of two lists\n",
    "    \n",
    "    args\n",
    "    lst1 - first list to be compared\n",
    "    lst2 - second list to be compared\n",
    "    \n",
    "    returns\n",
    "    (set(lst1) & set(lst2)) - intersection of both lists'''\n",
    "    return (set(lst1) & set(lst2))"
   ]
  },
  {
   "cell_type": "code",
   "execution_count": 25,
   "metadata": {},
   "outputs": [
    {
     "name": "stdout",
     "output_type": "stream",
     "text": [
      "set()\n"
     ]
    }
   ],
   "source": [
    "print(intersection(data['obj_id'], table9['CID']))"
   ]
  },
  {
   "cell_type": "code",
   "execution_count": 21,
   "metadata": {},
   "outputs": [],
   "source": [
    "id_list = []\n",
    "#print(table9['CID'])\n",
    "#print(data['obj_id'])\n",
    "for i in data['obj_id']:\n",
    "    for j in table9['CID']:\n",
    "        if i == j:\n",
    "            print(i)"
   ]
  },
  {
   "cell_type": "code",
   "execution_count": 31,
   "metadata": {},
   "outputs": [
    {
     "data": {
      "text/plain": [
       "set()"
      ]
     },
     "execution_count": 31,
     "metadata": {},
     "output_type": "execute_result"
    }
   ],
   "source": [
    "group6 = data[data['feat_name']=='pW6']\n",
    "group6\n",
    "redshift_narrowed = intersection(table9['CID'], group6['obj_id'])\n",
    "redshift_narrowed"
   ]
  },
  {
   "cell_type": "code",
   "execution_count": null,
   "metadata": {},
   "outputs": [],
   "source": []
  }
 ],
 "metadata": {
  "kernelspec": {
   "display_name": "Python 3",
   "language": "python",
   "name": "python3"
  },
  "language_info": {
   "codemirror_mode": {
    "name": "ipython",
    "version": 3
   },
   "file_extension": ".py",
   "mimetype": "text/x-python",
   "name": "python",
   "nbconvert_exporter": "python",
   "pygments_lexer": "ipython3",
   "version": "3.7.4"
  }
 },
 "nbformat": 4,
 "nbformat_minor": 4
}
